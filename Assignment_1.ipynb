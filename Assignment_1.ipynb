{
  "nbformat": 4,
  "nbformat_minor": 0,
  "metadata": {
    "colab": {
      "provenance": [],
      "authorship_tag": "ABX9TyNFFnFBQH6gAictu6zAyb25",
      "include_colab_link": true
    },
    "kernelspec": {
      "name": "python3",
      "display_name": "Python 3"
    },
    "language_info": {
      "name": "python"
    },
    "widgets": {
      "application/vnd.jupyter.widget-state+json": {
        "09c2cf9f422c429d8974d14229a2bf3a": {
          "model_module": "@jupyter-widgets/controls",
          "model_name": "VBoxModel",
          "model_module_version": "1.5.0",
          "state": {
            "_dom_classes": [],
            "_model_module": "@jupyter-widgets/controls",
            "_model_module_version": "1.5.0",
            "_model_name": "VBoxModel",
            "_view_count": null,
            "_view_module": "@jupyter-widgets/controls",
            "_view_module_version": "1.5.0",
            "_view_name": "VBoxView",
            "box_style": "",
            "children": [
              "IPY_MODEL_5c8fbf33e9984cf5a1fdaedb91794cbd",
              "IPY_MODEL_d336e2a0bc344dd68c45c58c02aca43b"
            ],
            "layout": "IPY_MODEL_b92b5adcbdbc4c009177071eb28c6020"
          }
        },
        "5c8fbf33e9984cf5a1fdaedb91794cbd": {
          "model_module": "@jupyter-widgets/controls",
          "model_name": "LabelModel",
          "model_module_version": "1.5.0",
          "state": {
            "_dom_classes": [],
            "_model_module": "@jupyter-widgets/controls",
            "_model_module_version": "1.5.0",
            "_model_name": "LabelModel",
            "_view_count": null,
            "_view_module": "@jupyter-widgets/controls",
            "_view_module_version": "1.5.0",
            "_view_name": "LabelView",
            "description": "",
            "description_tooltip": null,
            "layout": "IPY_MODEL_342320d8eeac4554a4dabb0f4a4001a9",
            "placeholder": "​",
            "style": "IPY_MODEL_f6b8f0fb5b57416d9e31869606b75409",
            "value": "0.012 MB of 0.012 MB uploaded\r"
          }
        },
        "d336e2a0bc344dd68c45c58c02aca43b": {
          "model_module": "@jupyter-widgets/controls",
          "model_name": "FloatProgressModel",
          "model_module_version": "1.5.0",
          "state": {
            "_dom_classes": [],
            "_model_module": "@jupyter-widgets/controls",
            "_model_module_version": "1.5.0",
            "_model_name": "FloatProgressModel",
            "_view_count": null,
            "_view_module": "@jupyter-widgets/controls",
            "_view_module_version": "1.5.0",
            "_view_name": "ProgressView",
            "bar_style": "",
            "description": "",
            "description_tooltip": null,
            "layout": "IPY_MODEL_fcb936c933e542d99de9f03bac1dc53e",
            "max": 1,
            "min": 0,
            "orientation": "horizontal",
            "style": "IPY_MODEL_ed1bf68a705642f8bf1c32f953bfaa11",
            "value": 1
          }
        },
        "b92b5adcbdbc4c009177071eb28c6020": {
          "model_module": "@jupyter-widgets/base",
          "model_name": "LayoutModel",
          "model_module_version": "1.2.0",
          "state": {
            "_model_module": "@jupyter-widgets/base",
            "_model_module_version": "1.2.0",
            "_model_name": "LayoutModel",
            "_view_count": null,
            "_view_module": "@jupyter-widgets/base",
            "_view_module_version": "1.2.0",
            "_view_name": "LayoutView",
            "align_content": null,
            "align_items": null,
            "align_self": null,
            "border": null,
            "bottom": null,
            "display": null,
            "flex": null,
            "flex_flow": null,
            "grid_area": null,
            "grid_auto_columns": null,
            "grid_auto_flow": null,
            "grid_auto_rows": null,
            "grid_column": null,
            "grid_gap": null,
            "grid_row": null,
            "grid_template_areas": null,
            "grid_template_columns": null,
            "grid_template_rows": null,
            "height": null,
            "justify_content": null,
            "justify_items": null,
            "left": null,
            "margin": null,
            "max_height": null,
            "max_width": null,
            "min_height": null,
            "min_width": null,
            "object_fit": null,
            "object_position": null,
            "order": null,
            "overflow": null,
            "overflow_x": null,
            "overflow_y": null,
            "padding": null,
            "right": null,
            "top": null,
            "visibility": null,
            "width": null
          }
        },
        "342320d8eeac4554a4dabb0f4a4001a9": {
          "model_module": "@jupyter-widgets/base",
          "model_name": "LayoutModel",
          "model_module_version": "1.2.0",
          "state": {
            "_model_module": "@jupyter-widgets/base",
            "_model_module_version": "1.2.0",
            "_model_name": "LayoutModel",
            "_view_count": null,
            "_view_module": "@jupyter-widgets/base",
            "_view_module_version": "1.2.0",
            "_view_name": "LayoutView",
            "align_content": null,
            "align_items": null,
            "align_self": null,
            "border": null,
            "bottom": null,
            "display": null,
            "flex": null,
            "flex_flow": null,
            "grid_area": null,
            "grid_auto_columns": null,
            "grid_auto_flow": null,
            "grid_auto_rows": null,
            "grid_column": null,
            "grid_gap": null,
            "grid_row": null,
            "grid_template_areas": null,
            "grid_template_columns": null,
            "grid_template_rows": null,
            "height": null,
            "justify_content": null,
            "justify_items": null,
            "left": null,
            "margin": null,
            "max_height": null,
            "max_width": null,
            "min_height": null,
            "min_width": null,
            "object_fit": null,
            "object_position": null,
            "order": null,
            "overflow": null,
            "overflow_x": null,
            "overflow_y": null,
            "padding": null,
            "right": null,
            "top": null,
            "visibility": null,
            "width": null
          }
        },
        "f6b8f0fb5b57416d9e31869606b75409": {
          "model_module": "@jupyter-widgets/controls",
          "model_name": "DescriptionStyleModel",
          "model_module_version": "1.5.0",
          "state": {
            "_model_module": "@jupyter-widgets/controls",
            "_model_module_version": "1.5.0",
            "_model_name": "DescriptionStyleModel",
            "_view_count": null,
            "_view_module": "@jupyter-widgets/base",
            "_view_module_version": "1.2.0",
            "_view_name": "StyleView",
            "description_width": ""
          }
        },
        "fcb936c933e542d99de9f03bac1dc53e": {
          "model_module": "@jupyter-widgets/base",
          "model_name": "LayoutModel",
          "model_module_version": "1.2.0",
          "state": {
            "_model_module": "@jupyter-widgets/base",
            "_model_module_version": "1.2.0",
            "_model_name": "LayoutModel",
            "_view_count": null,
            "_view_module": "@jupyter-widgets/base",
            "_view_module_version": "1.2.0",
            "_view_name": "LayoutView",
            "align_content": null,
            "align_items": null,
            "align_self": null,
            "border": null,
            "bottom": null,
            "display": null,
            "flex": null,
            "flex_flow": null,
            "grid_area": null,
            "grid_auto_columns": null,
            "grid_auto_flow": null,
            "grid_auto_rows": null,
            "grid_column": null,
            "grid_gap": null,
            "grid_row": null,
            "grid_template_areas": null,
            "grid_template_columns": null,
            "grid_template_rows": null,
            "height": null,
            "justify_content": null,
            "justify_items": null,
            "left": null,
            "margin": null,
            "max_height": null,
            "max_width": null,
            "min_height": null,
            "min_width": null,
            "object_fit": null,
            "object_position": null,
            "order": null,
            "overflow": null,
            "overflow_x": null,
            "overflow_y": null,
            "padding": null,
            "right": null,
            "top": null,
            "visibility": null,
            "width": null
          }
        },
        "ed1bf68a705642f8bf1c32f953bfaa11": {
          "model_module": "@jupyter-widgets/controls",
          "model_name": "ProgressStyleModel",
          "model_module_version": "1.5.0",
          "state": {
            "_model_module": "@jupyter-widgets/controls",
            "_model_module_version": "1.5.0",
            "_model_name": "ProgressStyleModel",
            "_view_count": null,
            "_view_module": "@jupyter-widgets/base",
            "_view_module_version": "1.2.0",
            "_view_name": "StyleView",
            "bar_color": null,
            "description_width": ""
          }
        },
        "ea38df68cb5448bf9b6affec686e26c2": {
          "model_module": "@jupyter-widgets/controls",
          "model_name": "VBoxModel",
          "model_module_version": "1.5.0",
          "state": {
            "_dom_classes": [],
            "_model_module": "@jupyter-widgets/controls",
            "_model_module_version": "1.5.0",
            "_model_name": "VBoxModel",
            "_view_count": null,
            "_view_module": "@jupyter-widgets/controls",
            "_view_module_version": "1.5.0",
            "_view_name": "VBoxView",
            "box_style": "",
            "children": [
              "IPY_MODEL_36fdd1af8549432cab98bab99f13d021",
              "IPY_MODEL_d1bcaed10b574b088da4e0013eedd8c1"
            ],
            "layout": "IPY_MODEL_c95e232244d344119fe6d06bdc7dc8d1"
          }
        },
        "36fdd1af8549432cab98bab99f13d021": {
          "model_module": "@jupyter-widgets/controls",
          "model_name": "LabelModel",
          "model_module_version": "1.5.0",
          "state": {
            "_dom_classes": [],
            "_model_module": "@jupyter-widgets/controls",
            "_model_module_version": "1.5.0",
            "_model_name": "LabelModel",
            "_view_count": null,
            "_view_module": "@jupyter-widgets/controls",
            "_view_module_version": "1.5.0",
            "_view_name": "LabelView",
            "description": "",
            "description_tooltip": null,
            "layout": "IPY_MODEL_2aaf3af967314caf8c21d924aa57f96c",
            "placeholder": "​",
            "style": "IPY_MODEL_9e87fae3f175434a9c7415c4693df061",
            "value": "0.011 MB of 0.011 MB uploaded\r"
          }
        },
        "d1bcaed10b574b088da4e0013eedd8c1": {
          "model_module": "@jupyter-widgets/controls",
          "model_name": "FloatProgressModel",
          "model_module_version": "1.5.0",
          "state": {
            "_dom_classes": [],
            "_model_module": "@jupyter-widgets/controls",
            "_model_module_version": "1.5.0",
            "_model_name": "FloatProgressModel",
            "_view_count": null,
            "_view_module": "@jupyter-widgets/controls",
            "_view_module_version": "1.5.0",
            "_view_name": "ProgressView",
            "bar_style": "",
            "description": "",
            "description_tooltip": null,
            "layout": "IPY_MODEL_2a9df9da473748a1a311983e61f19e55",
            "max": 1,
            "min": 0,
            "orientation": "horizontal",
            "style": "IPY_MODEL_f9886b9583be42c68174e72870058269",
            "value": 1
          }
        },
        "c95e232244d344119fe6d06bdc7dc8d1": {
          "model_module": "@jupyter-widgets/base",
          "model_name": "LayoutModel",
          "model_module_version": "1.2.0",
          "state": {
            "_model_module": "@jupyter-widgets/base",
            "_model_module_version": "1.2.0",
            "_model_name": "LayoutModel",
            "_view_count": null,
            "_view_module": "@jupyter-widgets/base",
            "_view_module_version": "1.2.0",
            "_view_name": "LayoutView",
            "align_content": null,
            "align_items": null,
            "align_self": null,
            "border": null,
            "bottom": null,
            "display": null,
            "flex": null,
            "flex_flow": null,
            "grid_area": null,
            "grid_auto_columns": null,
            "grid_auto_flow": null,
            "grid_auto_rows": null,
            "grid_column": null,
            "grid_gap": null,
            "grid_row": null,
            "grid_template_areas": null,
            "grid_template_columns": null,
            "grid_template_rows": null,
            "height": null,
            "justify_content": null,
            "justify_items": null,
            "left": null,
            "margin": null,
            "max_height": null,
            "max_width": null,
            "min_height": null,
            "min_width": null,
            "object_fit": null,
            "object_position": null,
            "order": null,
            "overflow": null,
            "overflow_x": null,
            "overflow_y": null,
            "padding": null,
            "right": null,
            "top": null,
            "visibility": null,
            "width": null
          }
        },
        "2aaf3af967314caf8c21d924aa57f96c": {
          "model_module": "@jupyter-widgets/base",
          "model_name": "LayoutModel",
          "model_module_version": "1.2.0",
          "state": {
            "_model_module": "@jupyter-widgets/base",
            "_model_module_version": "1.2.0",
            "_model_name": "LayoutModel",
            "_view_count": null,
            "_view_module": "@jupyter-widgets/base",
            "_view_module_version": "1.2.0",
            "_view_name": "LayoutView",
            "align_content": null,
            "align_items": null,
            "align_self": null,
            "border": null,
            "bottom": null,
            "display": null,
            "flex": null,
            "flex_flow": null,
            "grid_area": null,
            "grid_auto_columns": null,
            "grid_auto_flow": null,
            "grid_auto_rows": null,
            "grid_column": null,
            "grid_gap": null,
            "grid_row": null,
            "grid_template_areas": null,
            "grid_template_columns": null,
            "grid_template_rows": null,
            "height": null,
            "justify_content": null,
            "justify_items": null,
            "left": null,
            "margin": null,
            "max_height": null,
            "max_width": null,
            "min_height": null,
            "min_width": null,
            "object_fit": null,
            "object_position": null,
            "order": null,
            "overflow": null,
            "overflow_x": null,
            "overflow_y": null,
            "padding": null,
            "right": null,
            "top": null,
            "visibility": null,
            "width": null
          }
        },
        "9e87fae3f175434a9c7415c4693df061": {
          "model_module": "@jupyter-widgets/controls",
          "model_name": "DescriptionStyleModel",
          "model_module_version": "1.5.0",
          "state": {
            "_model_module": "@jupyter-widgets/controls",
            "_model_module_version": "1.5.0",
            "_model_name": "DescriptionStyleModel",
            "_view_count": null,
            "_view_module": "@jupyter-widgets/base",
            "_view_module_version": "1.2.0",
            "_view_name": "StyleView",
            "description_width": ""
          }
        },
        "2a9df9da473748a1a311983e61f19e55": {
          "model_module": "@jupyter-widgets/base",
          "model_name": "LayoutModel",
          "model_module_version": "1.2.0",
          "state": {
            "_model_module": "@jupyter-widgets/base",
            "_model_module_version": "1.2.0",
            "_model_name": "LayoutModel",
            "_view_count": null,
            "_view_module": "@jupyter-widgets/base",
            "_view_module_version": "1.2.0",
            "_view_name": "LayoutView",
            "align_content": null,
            "align_items": null,
            "align_self": null,
            "border": null,
            "bottom": null,
            "display": null,
            "flex": null,
            "flex_flow": null,
            "grid_area": null,
            "grid_auto_columns": null,
            "grid_auto_flow": null,
            "grid_auto_rows": null,
            "grid_column": null,
            "grid_gap": null,
            "grid_row": null,
            "grid_template_areas": null,
            "grid_template_columns": null,
            "grid_template_rows": null,
            "height": null,
            "justify_content": null,
            "justify_items": null,
            "left": null,
            "margin": null,
            "max_height": null,
            "max_width": null,
            "min_height": null,
            "min_width": null,
            "object_fit": null,
            "object_position": null,
            "order": null,
            "overflow": null,
            "overflow_x": null,
            "overflow_y": null,
            "padding": null,
            "right": null,
            "top": null,
            "visibility": null,
            "width": null
          }
        },
        "f9886b9583be42c68174e72870058269": {
          "model_module": "@jupyter-widgets/controls",
          "model_name": "ProgressStyleModel",
          "model_module_version": "1.5.0",
          "state": {
            "_model_module": "@jupyter-widgets/controls",
            "_model_module_version": "1.5.0",
            "_model_name": "ProgressStyleModel",
            "_view_count": null,
            "_view_module": "@jupyter-widgets/base",
            "_view_module_version": "1.2.0",
            "_view_name": "StyleView",
            "bar_color": null,
            "description_width": ""
          }
        },
        "199ed0357d474132a60097abe8ebc0d3": {
          "model_module": "@jupyter-widgets/controls",
          "model_name": "VBoxModel",
          "model_module_version": "1.5.0",
          "state": {
            "_dom_classes": [],
            "_model_module": "@jupyter-widgets/controls",
            "_model_module_version": "1.5.0",
            "_model_name": "VBoxModel",
            "_view_count": null,
            "_view_module": "@jupyter-widgets/controls",
            "_view_module_version": "1.5.0",
            "_view_name": "VBoxView",
            "box_style": "",
            "children": [
              "IPY_MODEL_97660a66c7284836957622ece7418ff7",
              "IPY_MODEL_99b171d985504dbd9ea585889ce1b79d"
            ],
            "layout": "IPY_MODEL_d6a36e3b06a54ca48f7f08067b3c40b4"
          }
        },
        "97660a66c7284836957622ece7418ff7": {
          "model_module": "@jupyter-widgets/controls",
          "model_name": "LabelModel",
          "model_module_version": "1.5.0",
          "state": {
            "_dom_classes": [],
            "_model_module": "@jupyter-widgets/controls",
            "_model_module_version": "1.5.0",
            "_model_name": "LabelModel",
            "_view_count": null,
            "_view_module": "@jupyter-widgets/controls",
            "_view_module_version": "1.5.0",
            "_view_name": "LabelView",
            "description": "",
            "description_tooltip": null,
            "layout": "IPY_MODEL_388a13f6253f4bd6b63ab8ae01e41fed",
            "placeholder": "​",
            "style": "IPY_MODEL_c42bcac58a4b4704b86284840b08313f",
            "value": "0.012 MB of 0.012 MB uploaded\r"
          }
        },
        "99b171d985504dbd9ea585889ce1b79d": {
          "model_module": "@jupyter-widgets/controls",
          "model_name": "FloatProgressModel",
          "model_module_version": "1.5.0",
          "state": {
            "_dom_classes": [],
            "_model_module": "@jupyter-widgets/controls",
            "_model_module_version": "1.5.0",
            "_model_name": "FloatProgressModel",
            "_view_count": null,
            "_view_module": "@jupyter-widgets/controls",
            "_view_module_version": "1.5.0",
            "_view_name": "ProgressView",
            "bar_style": "",
            "description": "",
            "description_tooltip": null,
            "layout": "IPY_MODEL_4e278892f4c34647b81d36cb7ddf5d37",
            "max": 1,
            "min": 0,
            "orientation": "horizontal",
            "style": "IPY_MODEL_7eaf11fef02d4dca8c770d6e60b3e8ef",
            "value": 1
          }
        },
        "d6a36e3b06a54ca48f7f08067b3c40b4": {
          "model_module": "@jupyter-widgets/base",
          "model_name": "LayoutModel",
          "model_module_version": "1.2.0",
          "state": {
            "_model_module": "@jupyter-widgets/base",
            "_model_module_version": "1.2.0",
            "_model_name": "LayoutModel",
            "_view_count": null,
            "_view_module": "@jupyter-widgets/base",
            "_view_module_version": "1.2.0",
            "_view_name": "LayoutView",
            "align_content": null,
            "align_items": null,
            "align_self": null,
            "border": null,
            "bottom": null,
            "display": null,
            "flex": null,
            "flex_flow": null,
            "grid_area": null,
            "grid_auto_columns": null,
            "grid_auto_flow": null,
            "grid_auto_rows": null,
            "grid_column": null,
            "grid_gap": null,
            "grid_row": null,
            "grid_template_areas": null,
            "grid_template_columns": null,
            "grid_template_rows": null,
            "height": null,
            "justify_content": null,
            "justify_items": null,
            "left": null,
            "margin": null,
            "max_height": null,
            "max_width": null,
            "min_height": null,
            "min_width": null,
            "object_fit": null,
            "object_position": null,
            "order": null,
            "overflow": null,
            "overflow_x": null,
            "overflow_y": null,
            "padding": null,
            "right": null,
            "top": null,
            "visibility": null,
            "width": null
          }
        },
        "388a13f6253f4bd6b63ab8ae01e41fed": {
          "model_module": "@jupyter-widgets/base",
          "model_name": "LayoutModel",
          "model_module_version": "1.2.0",
          "state": {
            "_model_module": "@jupyter-widgets/base",
            "_model_module_version": "1.2.0",
            "_model_name": "LayoutModel",
            "_view_count": null,
            "_view_module": "@jupyter-widgets/base",
            "_view_module_version": "1.2.0",
            "_view_name": "LayoutView",
            "align_content": null,
            "align_items": null,
            "align_self": null,
            "border": null,
            "bottom": null,
            "display": null,
            "flex": null,
            "flex_flow": null,
            "grid_area": null,
            "grid_auto_columns": null,
            "grid_auto_flow": null,
            "grid_auto_rows": null,
            "grid_column": null,
            "grid_gap": null,
            "grid_row": null,
            "grid_template_areas": null,
            "grid_template_columns": null,
            "grid_template_rows": null,
            "height": null,
            "justify_content": null,
            "justify_items": null,
            "left": null,
            "margin": null,
            "max_height": null,
            "max_width": null,
            "min_height": null,
            "min_width": null,
            "object_fit": null,
            "object_position": null,
            "order": null,
            "overflow": null,
            "overflow_x": null,
            "overflow_y": null,
            "padding": null,
            "right": null,
            "top": null,
            "visibility": null,
            "width": null
          }
        },
        "c42bcac58a4b4704b86284840b08313f": {
          "model_module": "@jupyter-widgets/controls",
          "model_name": "DescriptionStyleModel",
          "model_module_version": "1.5.0",
          "state": {
            "_model_module": "@jupyter-widgets/controls",
            "_model_module_version": "1.5.0",
            "_model_name": "DescriptionStyleModel",
            "_view_count": null,
            "_view_module": "@jupyter-widgets/base",
            "_view_module_version": "1.2.0",
            "_view_name": "StyleView",
            "description_width": ""
          }
        },
        "4e278892f4c34647b81d36cb7ddf5d37": {
          "model_module": "@jupyter-widgets/base",
          "model_name": "LayoutModel",
          "model_module_version": "1.2.0",
          "state": {
            "_model_module": "@jupyter-widgets/base",
            "_model_module_version": "1.2.0",
            "_model_name": "LayoutModel",
            "_view_count": null,
            "_view_module": "@jupyter-widgets/base",
            "_view_module_version": "1.2.0",
            "_view_name": "LayoutView",
            "align_content": null,
            "align_items": null,
            "align_self": null,
            "border": null,
            "bottom": null,
            "display": null,
            "flex": null,
            "flex_flow": null,
            "grid_area": null,
            "grid_auto_columns": null,
            "grid_auto_flow": null,
            "grid_auto_rows": null,
            "grid_column": null,
            "grid_gap": null,
            "grid_row": null,
            "grid_template_areas": null,
            "grid_template_columns": null,
            "grid_template_rows": null,
            "height": null,
            "justify_content": null,
            "justify_items": null,
            "left": null,
            "margin": null,
            "max_height": null,
            "max_width": null,
            "min_height": null,
            "min_width": null,
            "object_fit": null,
            "object_position": null,
            "order": null,
            "overflow": null,
            "overflow_x": null,
            "overflow_y": null,
            "padding": null,
            "right": null,
            "top": null,
            "visibility": null,
            "width": null
          }
        },
        "7eaf11fef02d4dca8c770d6e60b3e8ef": {
          "model_module": "@jupyter-widgets/controls",
          "model_name": "ProgressStyleModel",
          "model_module_version": "1.5.0",
          "state": {
            "_model_module": "@jupyter-widgets/controls",
            "_model_module_version": "1.5.0",
            "_model_name": "ProgressStyleModel",
            "_view_count": null,
            "_view_module": "@jupyter-widgets/base",
            "_view_module_version": "1.2.0",
            "_view_name": "StyleView",
            "bar_color": null,
            "description_width": ""
          }
        },
        "f76acbbe677249cab376dae526482e7c": {
          "model_module": "@jupyter-widgets/controls",
          "model_name": "VBoxModel",
          "model_module_version": "1.5.0",
          "state": {
            "_dom_classes": [],
            "_model_module": "@jupyter-widgets/controls",
            "_model_module_version": "1.5.0",
            "_model_name": "VBoxModel",
            "_view_count": null,
            "_view_module": "@jupyter-widgets/controls",
            "_view_module_version": "1.5.0",
            "_view_name": "VBoxView",
            "box_style": "",
            "children": [
              "IPY_MODEL_033cd7886b25494682fcb48c718ac4b4",
              "IPY_MODEL_5fa9dde4b1e44d92ba5bc55dcd83650d"
            ],
            "layout": "IPY_MODEL_4490abe7499f46359170e7b3c0de5b52"
          }
        },
        "033cd7886b25494682fcb48c718ac4b4": {
          "model_module": "@jupyter-widgets/controls",
          "model_name": "LabelModel",
          "model_module_version": "1.5.0",
          "state": {
            "_dom_classes": [],
            "_model_module": "@jupyter-widgets/controls",
            "_model_module_version": "1.5.0",
            "_model_name": "LabelModel",
            "_view_count": null,
            "_view_module": "@jupyter-widgets/controls",
            "_view_module_version": "1.5.0",
            "_view_name": "LabelView",
            "description": "",
            "description_tooltip": null,
            "layout": "IPY_MODEL_f71a832714d64e87a62aedd17ed0b7e6",
            "placeholder": "​",
            "style": "IPY_MODEL_6d28651210af43848cced69894f6c23e",
            "value": "0.012 MB of 0.012 MB uploaded\r"
          }
        },
        "5fa9dde4b1e44d92ba5bc55dcd83650d": {
          "model_module": "@jupyter-widgets/controls",
          "model_name": "FloatProgressModel",
          "model_module_version": "1.5.0",
          "state": {
            "_dom_classes": [],
            "_model_module": "@jupyter-widgets/controls",
            "_model_module_version": "1.5.0",
            "_model_name": "FloatProgressModel",
            "_view_count": null,
            "_view_module": "@jupyter-widgets/controls",
            "_view_module_version": "1.5.0",
            "_view_name": "ProgressView",
            "bar_style": "",
            "description": "",
            "description_tooltip": null,
            "layout": "IPY_MODEL_f9a55abae5f5405eb9c6e211694004ad",
            "max": 1,
            "min": 0,
            "orientation": "horizontal",
            "style": "IPY_MODEL_5f34c47a2beb462186a142ab842f13df",
            "value": 1
          }
        },
        "4490abe7499f46359170e7b3c0de5b52": {
          "model_module": "@jupyter-widgets/base",
          "model_name": "LayoutModel",
          "model_module_version": "1.2.0",
          "state": {
            "_model_module": "@jupyter-widgets/base",
            "_model_module_version": "1.2.0",
            "_model_name": "LayoutModel",
            "_view_count": null,
            "_view_module": "@jupyter-widgets/base",
            "_view_module_version": "1.2.0",
            "_view_name": "LayoutView",
            "align_content": null,
            "align_items": null,
            "align_self": null,
            "border": null,
            "bottom": null,
            "display": null,
            "flex": null,
            "flex_flow": null,
            "grid_area": null,
            "grid_auto_columns": null,
            "grid_auto_flow": null,
            "grid_auto_rows": null,
            "grid_column": null,
            "grid_gap": null,
            "grid_row": null,
            "grid_template_areas": null,
            "grid_template_columns": null,
            "grid_template_rows": null,
            "height": null,
            "justify_content": null,
            "justify_items": null,
            "left": null,
            "margin": null,
            "max_height": null,
            "max_width": null,
            "min_height": null,
            "min_width": null,
            "object_fit": null,
            "object_position": null,
            "order": null,
            "overflow": null,
            "overflow_x": null,
            "overflow_y": null,
            "padding": null,
            "right": null,
            "top": null,
            "visibility": null,
            "width": null
          }
        },
        "f71a832714d64e87a62aedd17ed0b7e6": {
          "model_module": "@jupyter-widgets/base",
          "model_name": "LayoutModel",
          "model_module_version": "1.2.0",
          "state": {
            "_model_module": "@jupyter-widgets/base",
            "_model_module_version": "1.2.0",
            "_model_name": "LayoutModel",
            "_view_count": null,
            "_view_module": "@jupyter-widgets/base",
            "_view_module_version": "1.2.0",
            "_view_name": "LayoutView",
            "align_content": null,
            "align_items": null,
            "align_self": null,
            "border": null,
            "bottom": null,
            "display": null,
            "flex": null,
            "flex_flow": null,
            "grid_area": null,
            "grid_auto_columns": null,
            "grid_auto_flow": null,
            "grid_auto_rows": null,
            "grid_column": null,
            "grid_gap": null,
            "grid_row": null,
            "grid_template_areas": null,
            "grid_template_columns": null,
            "grid_template_rows": null,
            "height": null,
            "justify_content": null,
            "justify_items": null,
            "left": null,
            "margin": null,
            "max_height": null,
            "max_width": null,
            "min_height": null,
            "min_width": null,
            "object_fit": null,
            "object_position": null,
            "order": null,
            "overflow": null,
            "overflow_x": null,
            "overflow_y": null,
            "padding": null,
            "right": null,
            "top": null,
            "visibility": null,
            "width": null
          }
        },
        "6d28651210af43848cced69894f6c23e": {
          "model_module": "@jupyter-widgets/controls",
          "model_name": "DescriptionStyleModel",
          "model_module_version": "1.5.0",
          "state": {
            "_model_module": "@jupyter-widgets/controls",
            "_model_module_version": "1.5.0",
            "_model_name": "DescriptionStyleModel",
            "_view_count": null,
            "_view_module": "@jupyter-widgets/base",
            "_view_module_version": "1.2.0",
            "_view_name": "StyleView",
            "description_width": ""
          }
        },
        "f9a55abae5f5405eb9c6e211694004ad": {
          "model_module": "@jupyter-widgets/base",
          "model_name": "LayoutModel",
          "model_module_version": "1.2.0",
          "state": {
            "_model_module": "@jupyter-widgets/base",
            "_model_module_version": "1.2.0",
            "_model_name": "LayoutModel",
            "_view_count": null,
            "_view_module": "@jupyter-widgets/base",
            "_view_module_version": "1.2.0",
            "_view_name": "LayoutView",
            "align_content": null,
            "align_items": null,
            "align_self": null,
            "border": null,
            "bottom": null,
            "display": null,
            "flex": null,
            "flex_flow": null,
            "grid_area": null,
            "grid_auto_columns": null,
            "grid_auto_flow": null,
            "grid_auto_rows": null,
            "grid_column": null,
            "grid_gap": null,
            "grid_row": null,
            "grid_template_areas": null,
            "grid_template_columns": null,
            "grid_template_rows": null,
            "height": null,
            "justify_content": null,
            "justify_items": null,
            "left": null,
            "margin": null,
            "max_height": null,
            "max_width": null,
            "min_height": null,
            "min_width": null,
            "object_fit": null,
            "object_position": null,
            "order": null,
            "overflow": null,
            "overflow_x": null,
            "overflow_y": null,
            "padding": null,
            "right": null,
            "top": null,
            "visibility": null,
            "width": null
          }
        },
        "5f34c47a2beb462186a142ab842f13df": {
          "model_module": "@jupyter-widgets/controls",
          "model_name": "ProgressStyleModel",
          "model_module_version": "1.5.0",
          "state": {
            "_model_module": "@jupyter-widgets/controls",
            "_model_module_version": "1.5.0",
            "_model_name": "ProgressStyleModel",
            "_view_count": null,
            "_view_module": "@jupyter-widgets/base",
            "_view_module_version": "1.2.0",
            "_view_name": "StyleView",
            "bar_color": null,
            "description_width": ""
          }
        },
        "01219947d83b4dfbadd0c87a668d355a": {
          "model_module": "@jupyter-widgets/controls",
          "model_name": "VBoxModel",
          "model_module_version": "1.5.0",
          "state": {
            "_dom_classes": [],
            "_model_module": "@jupyter-widgets/controls",
            "_model_module_version": "1.5.0",
            "_model_name": "VBoxModel",
            "_view_count": null,
            "_view_module": "@jupyter-widgets/controls",
            "_view_module_version": "1.5.0",
            "_view_name": "VBoxView",
            "box_style": "",
            "children": [
              "IPY_MODEL_79c2ed441d164082adfa2ebd23549240",
              "IPY_MODEL_044f16292e9f41dcac200e20757d6b86"
            ],
            "layout": "IPY_MODEL_788fdfca9ee94621b1e867276ef7f3c2"
          }
        },
        "79c2ed441d164082adfa2ebd23549240": {
          "model_module": "@jupyter-widgets/controls",
          "model_name": "LabelModel",
          "model_module_version": "1.5.0",
          "state": {
            "_dom_classes": [],
            "_model_module": "@jupyter-widgets/controls",
            "_model_module_version": "1.5.0",
            "_model_name": "LabelModel",
            "_view_count": null,
            "_view_module": "@jupyter-widgets/controls",
            "_view_module_version": "1.5.0",
            "_view_name": "LabelView",
            "description": "",
            "description_tooltip": null,
            "layout": "IPY_MODEL_6beea98f4c8c4373be7595dbd2ff1975",
            "placeholder": "​",
            "style": "IPY_MODEL_46c894fbc6494cc29a46af62281dff7b",
            "value": "0.012 MB of 0.012 MB uploaded\r"
          }
        },
        "044f16292e9f41dcac200e20757d6b86": {
          "model_module": "@jupyter-widgets/controls",
          "model_name": "FloatProgressModel",
          "model_module_version": "1.5.0",
          "state": {
            "_dom_classes": [],
            "_model_module": "@jupyter-widgets/controls",
            "_model_module_version": "1.5.0",
            "_model_name": "FloatProgressModel",
            "_view_count": null,
            "_view_module": "@jupyter-widgets/controls",
            "_view_module_version": "1.5.0",
            "_view_name": "ProgressView",
            "bar_style": "",
            "description": "",
            "description_tooltip": null,
            "layout": "IPY_MODEL_cabb2904db324a379569a99bf08f7861",
            "max": 1,
            "min": 0,
            "orientation": "horizontal",
            "style": "IPY_MODEL_cdc94cab878c4d378057b7c631623a27",
            "value": 1
          }
        },
        "788fdfca9ee94621b1e867276ef7f3c2": {
          "model_module": "@jupyter-widgets/base",
          "model_name": "LayoutModel",
          "model_module_version": "1.2.0",
          "state": {
            "_model_module": "@jupyter-widgets/base",
            "_model_module_version": "1.2.0",
            "_model_name": "LayoutModel",
            "_view_count": null,
            "_view_module": "@jupyter-widgets/base",
            "_view_module_version": "1.2.0",
            "_view_name": "LayoutView",
            "align_content": null,
            "align_items": null,
            "align_self": null,
            "border": null,
            "bottom": null,
            "display": null,
            "flex": null,
            "flex_flow": null,
            "grid_area": null,
            "grid_auto_columns": null,
            "grid_auto_flow": null,
            "grid_auto_rows": null,
            "grid_column": null,
            "grid_gap": null,
            "grid_row": null,
            "grid_template_areas": null,
            "grid_template_columns": null,
            "grid_template_rows": null,
            "height": null,
            "justify_content": null,
            "justify_items": null,
            "left": null,
            "margin": null,
            "max_height": null,
            "max_width": null,
            "min_height": null,
            "min_width": null,
            "object_fit": null,
            "object_position": null,
            "order": null,
            "overflow": null,
            "overflow_x": null,
            "overflow_y": null,
            "padding": null,
            "right": null,
            "top": null,
            "visibility": null,
            "width": null
          }
        },
        "6beea98f4c8c4373be7595dbd2ff1975": {
          "model_module": "@jupyter-widgets/base",
          "model_name": "LayoutModel",
          "model_module_version": "1.2.0",
          "state": {
            "_model_module": "@jupyter-widgets/base",
            "_model_module_version": "1.2.0",
            "_model_name": "LayoutModel",
            "_view_count": null,
            "_view_module": "@jupyter-widgets/base",
            "_view_module_version": "1.2.0",
            "_view_name": "LayoutView",
            "align_content": null,
            "align_items": null,
            "align_self": null,
            "border": null,
            "bottom": null,
            "display": null,
            "flex": null,
            "flex_flow": null,
            "grid_area": null,
            "grid_auto_columns": null,
            "grid_auto_flow": null,
            "grid_auto_rows": null,
            "grid_column": null,
            "grid_gap": null,
            "grid_row": null,
            "grid_template_areas": null,
            "grid_template_columns": null,
            "grid_template_rows": null,
            "height": null,
            "justify_content": null,
            "justify_items": null,
            "left": null,
            "margin": null,
            "max_height": null,
            "max_width": null,
            "min_height": null,
            "min_width": null,
            "object_fit": null,
            "object_position": null,
            "order": null,
            "overflow": null,
            "overflow_x": null,
            "overflow_y": null,
            "padding": null,
            "right": null,
            "top": null,
            "visibility": null,
            "width": null
          }
        },
        "46c894fbc6494cc29a46af62281dff7b": {
          "model_module": "@jupyter-widgets/controls",
          "model_name": "DescriptionStyleModel",
          "model_module_version": "1.5.0",
          "state": {
            "_model_module": "@jupyter-widgets/controls",
            "_model_module_version": "1.5.0",
            "_model_name": "DescriptionStyleModel",
            "_view_count": null,
            "_view_module": "@jupyter-widgets/base",
            "_view_module_version": "1.2.0",
            "_view_name": "StyleView",
            "description_width": ""
          }
        },
        "cabb2904db324a379569a99bf08f7861": {
          "model_module": "@jupyter-widgets/base",
          "model_name": "LayoutModel",
          "model_module_version": "1.2.0",
          "state": {
            "_model_module": "@jupyter-widgets/base",
            "_model_module_version": "1.2.0",
            "_model_name": "LayoutModel",
            "_view_count": null,
            "_view_module": "@jupyter-widgets/base",
            "_view_module_version": "1.2.0",
            "_view_name": "LayoutView",
            "align_content": null,
            "align_items": null,
            "align_self": null,
            "border": null,
            "bottom": null,
            "display": null,
            "flex": null,
            "flex_flow": null,
            "grid_area": null,
            "grid_auto_columns": null,
            "grid_auto_flow": null,
            "grid_auto_rows": null,
            "grid_column": null,
            "grid_gap": null,
            "grid_row": null,
            "grid_template_areas": null,
            "grid_template_columns": null,
            "grid_template_rows": null,
            "height": null,
            "justify_content": null,
            "justify_items": null,
            "left": null,
            "margin": null,
            "max_height": null,
            "max_width": null,
            "min_height": null,
            "min_width": null,
            "object_fit": null,
            "object_position": null,
            "order": null,
            "overflow": null,
            "overflow_x": null,
            "overflow_y": null,
            "padding": null,
            "right": null,
            "top": null,
            "visibility": null,
            "width": null
          }
        },
        "cdc94cab878c4d378057b7c631623a27": {
          "model_module": "@jupyter-widgets/controls",
          "model_name": "ProgressStyleModel",
          "model_module_version": "1.5.0",
          "state": {
            "_model_module": "@jupyter-widgets/controls",
            "_model_module_version": "1.5.0",
            "_model_name": "ProgressStyleModel",
            "_view_count": null,
            "_view_module": "@jupyter-widgets/base",
            "_view_module_version": "1.2.0",
            "_view_name": "StyleView",
            "bar_color": null,
            "description_width": ""
          }
        },
        "deac75b5b61842dfbf1859df1fea98a4": {
          "model_module": "@jupyter-widgets/controls",
          "model_name": "VBoxModel",
          "model_module_version": "1.5.0",
          "state": {
            "_dom_classes": [],
            "_model_module": "@jupyter-widgets/controls",
            "_model_module_version": "1.5.0",
            "_model_name": "VBoxModel",
            "_view_count": null,
            "_view_module": "@jupyter-widgets/controls",
            "_view_module_version": "1.5.0",
            "_view_name": "VBoxView",
            "box_style": "",
            "children": [
              "IPY_MODEL_9c89f6f77b4242539354e6e675783bcd",
              "IPY_MODEL_266c5fc75c3a4d648f3a7be166f3b75d"
            ],
            "layout": "IPY_MODEL_0307d9d3e25f4b588978e8ebe74c4a00"
          }
        },
        "9c89f6f77b4242539354e6e675783bcd": {
          "model_module": "@jupyter-widgets/controls",
          "model_name": "LabelModel",
          "model_module_version": "1.5.0",
          "state": {
            "_dom_classes": [],
            "_model_module": "@jupyter-widgets/controls",
            "_model_module_version": "1.5.0",
            "_model_name": "LabelModel",
            "_view_count": null,
            "_view_module": "@jupyter-widgets/controls",
            "_view_module_version": "1.5.0",
            "_view_name": "LabelView",
            "description": "",
            "description_tooltip": null,
            "layout": "IPY_MODEL_218810f6d5d842d6bbcb19ea5bbb46db",
            "placeholder": "​",
            "style": "IPY_MODEL_c5d723d5cc6f4aa787d0c1c25bada78a",
            "value": "0.012 MB of 0.012 MB uploaded\r"
          }
        },
        "266c5fc75c3a4d648f3a7be166f3b75d": {
          "model_module": "@jupyter-widgets/controls",
          "model_name": "FloatProgressModel",
          "model_module_version": "1.5.0",
          "state": {
            "_dom_classes": [],
            "_model_module": "@jupyter-widgets/controls",
            "_model_module_version": "1.5.0",
            "_model_name": "FloatProgressModel",
            "_view_count": null,
            "_view_module": "@jupyter-widgets/controls",
            "_view_module_version": "1.5.0",
            "_view_name": "ProgressView",
            "bar_style": "",
            "description": "",
            "description_tooltip": null,
            "layout": "IPY_MODEL_48f8edb200e64b8c8c6dd00976a51451",
            "max": 1,
            "min": 0,
            "orientation": "horizontal",
            "style": "IPY_MODEL_30815a43952241f9a1354ebd669b3a89",
            "value": 1
          }
        },
        "0307d9d3e25f4b588978e8ebe74c4a00": {
          "model_module": "@jupyter-widgets/base",
          "model_name": "LayoutModel",
          "model_module_version": "1.2.0",
          "state": {
            "_model_module": "@jupyter-widgets/base",
            "_model_module_version": "1.2.0",
            "_model_name": "LayoutModel",
            "_view_count": null,
            "_view_module": "@jupyter-widgets/base",
            "_view_module_version": "1.2.0",
            "_view_name": "LayoutView",
            "align_content": null,
            "align_items": null,
            "align_self": null,
            "border": null,
            "bottom": null,
            "display": null,
            "flex": null,
            "flex_flow": null,
            "grid_area": null,
            "grid_auto_columns": null,
            "grid_auto_flow": null,
            "grid_auto_rows": null,
            "grid_column": null,
            "grid_gap": null,
            "grid_row": null,
            "grid_template_areas": null,
            "grid_template_columns": null,
            "grid_template_rows": null,
            "height": null,
            "justify_content": null,
            "justify_items": null,
            "left": null,
            "margin": null,
            "max_height": null,
            "max_width": null,
            "min_height": null,
            "min_width": null,
            "object_fit": null,
            "object_position": null,
            "order": null,
            "overflow": null,
            "overflow_x": null,
            "overflow_y": null,
            "padding": null,
            "right": null,
            "top": null,
            "visibility": null,
            "width": null
          }
        },
        "218810f6d5d842d6bbcb19ea5bbb46db": {
          "model_module": "@jupyter-widgets/base",
          "model_name": "LayoutModel",
          "model_module_version": "1.2.0",
          "state": {
            "_model_module": "@jupyter-widgets/base",
            "_model_module_version": "1.2.0",
            "_model_name": "LayoutModel",
            "_view_count": null,
            "_view_module": "@jupyter-widgets/base",
            "_view_module_version": "1.2.0",
            "_view_name": "LayoutView",
            "align_content": null,
            "align_items": null,
            "align_self": null,
            "border": null,
            "bottom": null,
            "display": null,
            "flex": null,
            "flex_flow": null,
            "grid_area": null,
            "grid_auto_columns": null,
            "grid_auto_flow": null,
            "grid_auto_rows": null,
            "grid_column": null,
            "grid_gap": null,
            "grid_row": null,
            "grid_template_areas": null,
            "grid_template_columns": null,
            "grid_template_rows": null,
            "height": null,
            "justify_content": null,
            "justify_items": null,
            "left": null,
            "margin": null,
            "max_height": null,
            "max_width": null,
            "min_height": null,
            "min_width": null,
            "object_fit": null,
            "object_position": null,
            "order": null,
            "overflow": null,
            "overflow_x": null,
            "overflow_y": null,
            "padding": null,
            "right": null,
            "top": null,
            "visibility": null,
            "width": null
          }
        },
        "c5d723d5cc6f4aa787d0c1c25bada78a": {
          "model_module": "@jupyter-widgets/controls",
          "model_name": "DescriptionStyleModel",
          "model_module_version": "1.5.0",
          "state": {
            "_model_module": "@jupyter-widgets/controls",
            "_model_module_version": "1.5.0",
            "_model_name": "DescriptionStyleModel",
            "_view_count": null,
            "_view_module": "@jupyter-widgets/base",
            "_view_module_version": "1.2.0",
            "_view_name": "StyleView",
            "description_width": ""
          }
        },
        "48f8edb200e64b8c8c6dd00976a51451": {
          "model_module": "@jupyter-widgets/base",
          "model_name": "LayoutModel",
          "model_module_version": "1.2.0",
          "state": {
            "_model_module": "@jupyter-widgets/base",
            "_model_module_version": "1.2.0",
            "_model_name": "LayoutModel",
            "_view_count": null,
            "_view_module": "@jupyter-widgets/base",
            "_view_module_version": "1.2.0",
            "_view_name": "LayoutView",
            "align_content": null,
            "align_items": null,
            "align_self": null,
            "border": null,
            "bottom": null,
            "display": null,
            "flex": null,
            "flex_flow": null,
            "grid_area": null,
            "grid_auto_columns": null,
            "grid_auto_flow": null,
            "grid_auto_rows": null,
            "grid_column": null,
            "grid_gap": null,
            "grid_row": null,
            "grid_template_areas": null,
            "grid_template_columns": null,
            "grid_template_rows": null,
            "height": null,
            "justify_content": null,
            "justify_items": null,
            "left": null,
            "margin": null,
            "max_height": null,
            "max_width": null,
            "min_height": null,
            "min_width": null,
            "object_fit": null,
            "object_position": null,
            "order": null,
            "overflow": null,
            "overflow_x": null,
            "overflow_y": null,
            "padding": null,
            "right": null,
            "top": null,
            "visibility": null,
            "width": null
          }
        },
        "30815a43952241f9a1354ebd669b3a89": {
          "model_module": "@jupyter-widgets/controls",
          "model_name": "ProgressStyleModel",
          "model_module_version": "1.5.0",
          "state": {
            "_model_module": "@jupyter-widgets/controls",
            "_model_module_version": "1.5.0",
            "_model_name": "ProgressStyleModel",
            "_view_count": null,
            "_view_module": "@jupyter-widgets/base",
            "_view_module_version": "1.2.0",
            "_view_name": "StyleView",
            "bar_color": null,
            "description_width": ""
          }
        },
        "d553fb322aee4dc09259ab8a2ccfbe8e": {
          "model_module": "@jupyter-widgets/controls",
          "model_name": "VBoxModel",
          "model_module_version": "1.5.0",
          "state": {
            "_dom_classes": [],
            "_model_module": "@jupyter-widgets/controls",
            "_model_module_version": "1.5.0",
            "_model_name": "VBoxModel",
            "_view_count": null,
            "_view_module": "@jupyter-widgets/controls",
            "_view_module_version": "1.5.0",
            "_view_name": "VBoxView",
            "box_style": "",
            "children": [
              "IPY_MODEL_c1934337aa7c4420987a31914afc30bc",
              "IPY_MODEL_fabfe17474e9494b945c54d92167affe"
            ],
            "layout": "IPY_MODEL_a0f5697294b34b698d82223976710810"
          }
        },
        "c1934337aa7c4420987a31914afc30bc": {
          "model_module": "@jupyter-widgets/controls",
          "model_name": "LabelModel",
          "model_module_version": "1.5.0",
          "state": {
            "_dom_classes": [],
            "_model_module": "@jupyter-widgets/controls",
            "_model_module_version": "1.5.0",
            "_model_name": "LabelModel",
            "_view_count": null,
            "_view_module": "@jupyter-widgets/controls",
            "_view_module_version": "1.5.0",
            "_view_name": "LabelView",
            "description": "",
            "description_tooltip": null,
            "layout": "IPY_MODEL_f1947475b5f44d2da09f4068b08e905f",
            "placeholder": "​",
            "style": "IPY_MODEL_9acdb00b0f2644ccb7887d69c2ff91e8",
            "value": "0.012 MB of 0.012 MB uploaded\r"
          }
        },
        "fabfe17474e9494b945c54d92167affe": {
          "model_module": "@jupyter-widgets/controls",
          "model_name": "FloatProgressModel",
          "model_module_version": "1.5.0",
          "state": {
            "_dom_classes": [],
            "_model_module": "@jupyter-widgets/controls",
            "_model_module_version": "1.5.0",
            "_model_name": "FloatProgressModel",
            "_view_count": null,
            "_view_module": "@jupyter-widgets/controls",
            "_view_module_version": "1.5.0",
            "_view_name": "ProgressView",
            "bar_style": "",
            "description": "",
            "description_tooltip": null,
            "layout": "IPY_MODEL_370328200bc84660ae652ce2d28b3c56",
            "max": 1,
            "min": 0,
            "orientation": "horizontal",
            "style": "IPY_MODEL_57b4142352c347bab018feec48ff99e0",
            "value": 1
          }
        },
        "a0f5697294b34b698d82223976710810": {
          "model_module": "@jupyter-widgets/base",
          "model_name": "LayoutModel",
          "model_module_version": "1.2.0",
          "state": {
            "_model_module": "@jupyter-widgets/base",
            "_model_module_version": "1.2.0",
            "_model_name": "LayoutModel",
            "_view_count": null,
            "_view_module": "@jupyter-widgets/base",
            "_view_module_version": "1.2.0",
            "_view_name": "LayoutView",
            "align_content": null,
            "align_items": null,
            "align_self": null,
            "border": null,
            "bottom": null,
            "display": null,
            "flex": null,
            "flex_flow": null,
            "grid_area": null,
            "grid_auto_columns": null,
            "grid_auto_flow": null,
            "grid_auto_rows": null,
            "grid_column": null,
            "grid_gap": null,
            "grid_row": null,
            "grid_template_areas": null,
            "grid_template_columns": null,
            "grid_template_rows": null,
            "height": null,
            "justify_content": null,
            "justify_items": null,
            "left": null,
            "margin": null,
            "max_height": null,
            "max_width": null,
            "min_height": null,
            "min_width": null,
            "object_fit": null,
            "object_position": null,
            "order": null,
            "overflow": null,
            "overflow_x": null,
            "overflow_y": null,
            "padding": null,
            "right": null,
            "top": null,
            "visibility": null,
            "width": null
          }
        },
        "f1947475b5f44d2da09f4068b08e905f": {
          "model_module": "@jupyter-widgets/base",
          "model_name": "LayoutModel",
          "model_module_version": "1.2.0",
          "state": {
            "_model_module": "@jupyter-widgets/base",
            "_model_module_version": "1.2.0",
            "_model_name": "LayoutModel",
            "_view_count": null,
            "_view_module": "@jupyter-widgets/base",
            "_view_module_version": "1.2.0",
            "_view_name": "LayoutView",
            "align_content": null,
            "align_items": null,
            "align_self": null,
            "border": null,
            "bottom": null,
            "display": null,
            "flex": null,
            "flex_flow": null,
            "grid_area": null,
            "grid_auto_columns": null,
            "grid_auto_flow": null,
            "grid_auto_rows": null,
            "grid_column": null,
            "grid_gap": null,
            "grid_row": null,
            "grid_template_areas": null,
            "grid_template_columns": null,
            "grid_template_rows": null,
            "height": null,
            "justify_content": null,
            "justify_items": null,
            "left": null,
            "margin": null,
            "max_height": null,
            "max_width": null,
            "min_height": null,
            "min_width": null,
            "object_fit": null,
            "object_position": null,
            "order": null,
            "overflow": null,
            "overflow_x": null,
            "overflow_y": null,
            "padding": null,
            "right": null,
            "top": null,
            "visibility": null,
            "width": null
          }
        },
        "9acdb00b0f2644ccb7887d69c2ff91e8": {
          "model_module": "@jupyter-widgets/controls",
          "model_name": "DescriptionStyleModel",
          "model_module_version": "1.5.0",
          "state": {
            "_model_module": "@jupyter-widgets/controls",
            "_model_module_version": "1.5.0",
            "_model_name": "DescriptionStyleModel",
            "_view_count": null,
            "_view_module": "@jupyter-widgets/base",
            "_view_module_version": "1.2.0",
            "_view_name": "StyleView",
            "description_width": ""
          }
        },
        "370328200bc84660ae652ce2d28b3c56": {
          "model_module": "@jupyter-widgets/base",
          "model_name": "LayoutModel",
          "model_module_version": "1.2.0",
          "state": {
            "_model_module": "@jupyter-widgets/base",
            "_model_module_version": "1.2.0",
            "_model_name": "LayoutModel",
            "_view_count": null,
            "_view_module": "@jupyter-widgets/base",
            "_view_module_version": "1.2.0",
            "_view_name": "LayoutView",
            "align_content": null,
            "align_items": null,
            "align_self": null,
            "border": null,
            "bottom": null,
            "display": null,
            "flex": null,
            "flex_flow": null,
            "grid_area": null,
            "grid_auto_columns": null,
            "grid_auto_flow": null,
            "grid_auto_rows": null,
            "grid_column": null,
            "grid_gap": null,
            "grid_row": null,
            "grid_template_areas": null,
            "grid_template_columns": null,
            "grid_template_rows": null,
            "height": null,
            "justify_content": null,
            "justify_items": null,
            "left": null,
            "margin": null,
            "max_height": null,
            "max_width": null,
            "min_height": null,
            "min_width": null,
            "object_fit": null,
            "object_position": null,
            "order": null,
            "overflow": null,
            "overflow_x": null,
            "overflow_y": null,
            "padding": null,
            "right": null,
            "top": null,
            "visibility": null,
            "width": null
          }
        },
        "57b4142352c347bab018feec48ff99e0": {
          "model_module": "@jupyter-widgets/controls",
          "model_name": "ProgressStyleModel",
          "model_module_version": "1.5.0",
          "state": {
            "_model_module": "@jupyter-widgets/controls",
            "_model_module_version": "1.5.0",
            "_model_name": "ProgressStyleModel",
            "_view_count": null,
            "_view_module": "@jupyter-widgets/base",
            "_view_module_version": "1.2.0",
            "_view_name": "StyleView",
            "bar_color": null,
            "description_width": ""
          }
        },
        "a5452317fb9d48f5a7cb80a7761c4699": {
          "model_module": "@jupyter-widgets/controls",
          "model_name": "VBoxModel",
          "model_module_version": "1.5.0",
          "state": {
            "_dom_classes": [],
            "_model_module": "@jupyter-widgets/controls",
            "_model_module_version": "1.5.0",
            "_model_name": "VBoxModel",
            "_view_count": null,
            "_view_module": "@jupyter-widgets/controls",
            "_view_module_version": "1.5.0",
            "_view_name": "VBoxView",
            "box_style": "",
            "children": [
              "IPY_MODEL_1e026c42cec14dfbadf6f9bba766c583",
              "IPY_MODEL_7b1fa005ad9e4889acf2bfd60823d4b3"
            ],
            "layout": "IPY_MODEL_3bdf7b80cf25431f9db80f8b6e63938a"
          }
        },
        "1e026c42cec14dfbadf6f9bba766c583": {
          "model_module": "@jupyter-widgets/controls",
          "model_name": "LabelModel",
          "model_module_version": "1.5.0",
          "state": {
            "_dom_classes": [],
            "_model_module": "@jupyter-widgets/controls",
            "_model_module_version": "1.5.0",
            "_model_name": "LabelModel",
            "_view_count": null,
            "_view_module": "@jupyter-widgets/controls",
            "_view_module_version": "1.5.0",
            "_view_name": "LabelView",
            "description": "",
            "description_tooltip": null,
            "layout": "IPY_MODEL_d3dca5126c7c4def8ca374bc5beb18d6",
            "placeholder": "​",
            "style": "IPY_MODEL_a14ea05d8260438f8ad411f9a517ffc2",
            "value": "0.011 MB of 0.011 MB uploaded\r"
          }
        },
        "7b1fa005ad9e4889acf2bfd60823d4b3": {
          "model_module": "@jupyter-widgets/controls",
          "model_name": "FloatProgressModel",
          "model_module_version": "1.5.0",
          "state": {
            "_dom_classes": [],
            "_model_module": "@jupyter-widgets/controls",
            "_model_module_version": "1.5.0",
            "_model_name": "FloatProgressModel",
            "_view_count": null,
            "_view_module": "@jupyter-widgets/controls",
            "_view_module_version": "1.5.0",
            "_view_name": "ProgressView",
            "bar_style": "",
            "description": "",
            "description_tooltip": null,
            "layout": "IPY_MODEL_ce8d48cb13cf4837b4786fcdaacb4b2b",
            "max": 1,
            "min": 0,
            "orientation": "horizontal",
            "style": "IPY_MODEL_9e0e2e34653e4d2b8d178f6a48c12f2c",
            "value": 1
          }
        },
        "3bdf7b80cf25431f9db80f8b6e63938a": {
          "model_module": "@jupyter-widgets/base",
          "model_name": "LayoutModel",
          "model_module_version": "1.2.0",
          "state": {
            "_model_module": "@jupyter-widgets/base",
            "_model_module_version": "1.2.0",
            "_model_name": "LayoutModel",
            "_view_count": null,
            "_view_module": "@jupyter-widgets/base",
            "_view_module_version": "1.2.0",
            "_view_name": "LayoutView",
            "align_content": null,
            "align_items": null,
            "align_self": null,
            "border": null,
            "bottom": null,
            "display": null,
            "flex": null,
            "flex_flow": null,
            "grid_area": null,
            "grid_auto_columns": null,
            "grid_auto_flow": null,
            "grid_auto_rows": null,
            "grid_column": null,
            "grid_gap": null,
            "grid_row": null,
            "grid_template_areas": null,
            "grid_template_columns": null,
            "grid_template_rows": null,
            "height": null,
            "justify_content": null,
            "justify_items": null,
            "left": null,
            "margin": null,
            "max_height": null,
            "max_width": null,
            "min_height": null,
            "min_width": null,
            "object_fit": null,
            "object_position": null,
            "order": null,
            "overflow": null,
            "overflow_x": null,
            "overflow_y": null,
            "padding": null,
            "right": null,
            "top": null,
            "visibility": null,
            "width": null
          }
        },
        "d3dca5126c7c4def8ca374bc5beb18d6": {
          "model_module": "@jupyter-widgets/base",
          "model_name": "LayoutModel",
          "model_module_version": "1.2.0",
          "state": {
            "_model_module": "@jupyter-widgets/base",
            "_model_module_version": "1.2.0",
            "_model_name": "LayoutModel",
            "_view_count": null,
            "_view_module": "@jupyter-widgets/base",
            "_view_module_version": "1.2.0",
            "_view_name": "LayoutView",
            "align_content": null,
            "align_items": null,
            "align_self": null,
            "border": null,
            "bottom": null,
            "display": null,
            "flex": null,
            "flex_flow": null,
            "grid_area": null,
            "grid_auto_columns": null,
            "grid_auto_flow": null,
            "grid_auto_rows": null,
            "grid_column": null,
            "grid_gap": null,
            "grid_row": null,
            "grid_template_areas": null,
            "grid_template_columns": null,
            "grid_template_rows": null,
            "height": null,
            "justify_content": null,
            "justify_items": null,
            "left": null,
            "margin": null,
            "max_height": null,
            "max_width": null,
            "min_height": null,
            "min_width": null,
            "object_fit": null,
            "object_position": null,
            "order": null,
            "overflow": null,
            "overflow_x": null,
            "overflow_y": null,
            "padding": null,
            "right": null,
            "top": null,
            "visibility": null,
            "width": null
          }
        },
        "a14ea05d8260438f8ad411f9a517ffc2": {
          "model_module": "@jupyter-widgets/controls",
          "model_name": "DescriptionStyleModel",
          "model_module_version": "1.5.0",
          "state": {
            "_model_module": "@jupyter-widgets/controls",
            "_model_module_version": "1.5.0",
            "_model_name": "DescriptionStyleModel",
            "_view_count": null,
            "_view_module": "@jupyter-widgets/base",
            "_view_module_version": "1.2.0",
            "_view_name": "StyleView",
            "description_width": ""
          }
        },
        "ce8d48cb13cf4837b4786fcdaacb4b2b": {
          "model_module": "@jupyter-widgets/base",
          "model_name": "LayoutModel",
          "model_module_version": "1.2.0",
          "state": {
            "_model_module": "@jupyter-widgets/base",
            "_model_module_version": "1.2.0",
            "_model_name": "LayoutModel",
            "_view_count": null,
            "_view_module": "@jupyter-widgets/base",
            "_view_module_version": "1.2.0",
            "_view_name": "LayoutView",
            "align_content": null,
            "align_items": null,
            "align_self": null,
            "border": null,
            "bottom": null,
            "display": null,
            "flex": null,
            "flex_flow": null,
            "grid_area": null,
            "grid_auto_columns": null,
            "grid_auto_flow": null,
            "grid_auto_rows": null,
            "grid_column": null,
            "grid_gap": null,
            "grid_row": null,
            "grid_template_areas": null,
            "grid_template_columns": null,
            "grid_template_rows": null,
            "height": null,
            "justify_content": null,
            "justify_items": null,
            "left": null,
            "margin": null,
            "max_height": null,
            "max_width": null,
            "min_height": null,
            "min_width": null,
            "object_fit": null,
            "object_position": null,
            "order": null,
            "overflow": null,
            "overflow_x": null,
            "overflow_y": null,
            "padding": null,
            "right": null,
            "top": null,
            "visibility": null,
            "width": null
          }
        },
        "9e0e2e34653e4d2b8d178f6a48c12f2c": {
          "model_module": "@jupyter-widgets/controls",
          "model_name": "ProgressStyleModel",
          "model_module_version": "1.5.0",
          "state": {
            "_model_module": "@jupyter-widgets/controls",
            "_model_module_version": "1.5.0",
            "_model_name": "ProgressStyleModel",
            "_view_count": null,
            "_view_module": "@jupyter-widgets/base",
            "_view_module_version": "1.2.0",
            "_view_name": "StyleView",
            "bar_color": null,
            "description_width": ""
          }
        },
        "c76e070551e54ed4adc8f35f29c3487c": {
          "model_module": "@jupyter-widgets/controls",
          "model_name": "VBoxModel",
          "model_module_version": "1.5.0",
          "state": {
            "_dom_classes": [],
            "_model_module": "@jupyter-widgets/controls",
            "_model_module_version": "1.5.0",
            "_model_name": "VBoxModel",
            "_view_count": null,
            "_view_module": "@jupyter-widgets/controls",
            "_view_module_version": "1.5.0",
            "_view_name": "VBoxView",
            "box_style": "",
            "children": [
              "IPY_MODEL_ed25b7636af04020aa71c14440b4184c",
              "IPY_MODEL_075c671333a142d4b6865acee99b85fa"
            ],
            "layout": "IPY_MODEL_dc2cd66b7496439a94431fd597547457"
          }
        },
        "ed25b7636af04020aa71c14440b4184c": {
          "model_module": "@jupyter-widgets/controls",
          "model_name": "LabelModel",
          "model_module_version": "1.5.0",
          "state": {
            "_dom_classes": [],
            "_model_module": "@jupyter-widgets/controls",
            "_model_module_version": "1.5.0",
            "_model_name": "LabelModel",
            "_view_count": null,
            "_view_module": "@jupyter-widgets/controls",
            "_view_module_version": "1.5.0",
            "_view_name": "LabelView",
            "description": "",
            "description_tooltip": null,
            "layout": "IPY_MODEL_56ff67aa5fd54189a3d4707d41a284c7",
            "placeholder": "​",
            "style": "IPY_MODEL_ec55b1228a0847728e35ee3cac681ee9",
            "value": "0.011 MB of 0.011 MB uploaded\r"
          }
        },
        "075c671333a142d4b6865acee99b85fa": {
          "model_module": "@jupyter-widgets/controls",
          "model_name": "FloatProgressModel",
          "model_module_version": "1.5.0",
          "state": {
            "_dom_classes": [],
            "_model_module": "@jupyter-widgets/controls",
            "_model_module_version": "1.5.0",
            "_model_name": "FloatProgressModel",
            "_view_count": null,
            "_view_module": "@jupyter-widgets/controls",
            "_view_module_version": "1.5.0",
            "_view_name": "ProgressView",
            "bar_style": "",
            "description": "",
            "description_tooltip": null,
            "layout": "IPY_MODEL_32344cb4b21f42dd9b94e4990f925ea2",
            "max": 1,
            "min": 0,
            "orientation": "horizontal",
            "style": "IPY_MODEL_817241b2281d4b42a216f53c2e74b7ea",
            "value": 1
          }
        },
        "dc2cd66b7496439a94431fd597547457": {
          "model_module": "@jupyter-widgets/base",
          "model_name": "LayoutModel",
          "model_module_version": "1.2.0",
          "state": {
            "_model_module": "@jupyter-widgets/base",
            "_model_module_version": "1.2.0",
            "_model_name": "LayoutModel",
            "_view_count": null,
            "_view_module": "@jupyter-widgets/base",
            "_view_module_version": "1.2.0",
            "_view_name": "LayoutView",
            "align_content": null,
            "align_items": null,
            "align_self": null,
            "border": null,
            "bottom": null,
            "display": null,
            "flex": null,
            "flex_flow": null,
            "grid_area": null,
            "grid_auto_columns": null,
            "grid_auto_flow": null,
            "grid_auto_rows": null,
            "grid_column": null,
            "grid_gap": null,
            "grid_row": null,
            "grid_template_areas": null,
            "grid_template_columns": null,
            "grid_template_rows": null,
            "height": null,
            "justify_content": null,
            "justify_items": null,
            "left": null,
            "margin": null,
            "max_height": null,
            "max_width": null,
            "min_height": null,
            "min_width": null,
            "object_fit": null,
            "object_position": null,
            "order": null,
            "overflow": null,
            "overflow_x": null,
            "overflow_y": null,
            "padding": null,
            "right": null,
            "top": null,
            "visibility": null,
            "width": null
          }
        },
        "56ff67aa5fd54189a3d4707d41a284c7": {
          "model_module": "@jupyter-widgets/base",
          "model_name": "LayoutModel",
          "model_module_version": "1.2.0",
          "state": {
            "_model_module": "@jupyter-widgets/base",
            "_model_module_version": "1.2.0",
            "_model_name": "LayoutModel",
            "_view_count": null,
            "_view_module": "@jupyter-widgets/base",
            "_view_module_version": "1.2.0",
            "_view_name": "LayoutView",
            "align_content": null,
            "align_items": null,
            "align_self": null,
            "border": null,
            "bottom": null,
            "display": null,
            "flex": null,
            "flex_flow": null,
            "grid_area": null,
            "grid_auto_columns": null,
            "grid_auto_flow": null,
            "grid_auto_rows": null,
            "grid_column": null,
            "grid_gap": null,
            "grid_row": null,
            "grid_template_areas": null,
            "grid_template_columns": null,
            "grid_template_rows": null,
            "height": null,
            "justify_content": null,
            "justify_items": null,
            "left": null,
            "margin": null,
            "max_height": null,
            "max_width": null,
            "min_height": null,
            "min_width": null,
            "object_fit": null,
            "object_position": null,
            "order": null,
            "overflow": null,
            "overflow_x": null,
            "overflow_y": null,
            "padding": null,
            "right": null,
            "top": null,
            "visibility": null,
            "width": null
          }
        },
        "ec55b1228a0847728e35ee3cac681ee9": {
          "model_module": "@jupyter-widgets/controls",
          "model_name": "DescriptionStyleModel",
          "model_module_version": "1.5.0",
          "state": {
            "_model_module": "@jupyter-widgets/controls",
            "_model_module_version": "1.5.0",
            "_model_name": "DescriptionStyleModel",
            "_view_count": null,
            "_view_module": "@jupyter-widgets/base",
            "_view_module_version": "1.2.0",
            "_view_name": "StyleView",
            "description_width": ""
          }
        },
        "32344cb4b21f42dd9b94e4990f925ea2": {
          "model_module": "@jupyter-widgets/base",
          "model_name": "LayoutModel",
          "model_module_version": "1.2.0",
          "state": {
            "_model_module": "@jupyter-widgets/base",
            "_model_module_version": "1.2.0",
            "_model_name": "LayoutModel",
            "_view_count": null,
            "_view_module": "@jupyter-widgets/base",
            "_view_module_version": "1.2.0",
            "_view_name": "LayoutView",
            "align_content": null,
            "align_items": null,
            "align_self": null,
            "border": null,
            "bottom": null,
            "display": null,
            "flex": null,
            "flex_flow": null,
            "grid_area": null,
            "grid_auto_columns": null,
            "grid_auto_flow": null,
            "grid_auto_rows": null,
            "grid_column": null,
            "grid_gap": null,
            "grid_row": null,
            "grid_template_areas": null,
            "grid_template_columns": null,
            "grid_template_rows": null,
            "height": null,
            "justify_content": null,
            "justify_items": null,
            "left": null,
            "margin": null,
            "max_height": null,
            "max_width": null,
            "min_height": null,
            "min_width": null,
            "object_fit": null,
            "object_position": null,
            "order": null,
            "overflow": null,
            "overflow_x": null,
            "overflow_y": null,
            "padding": null,
            "right": null,
            "top": null,
            "visibility": null,
            "width": null
          }
        },
        "817241b2281d4b42a216f53c2e74b7ea": {
          "model_module": "@jupyter-widgets/controls",
          "model_name": "ProgressStyleModel",
          "model_module_version": "1.5.0",
          "state": {
            "_model_module": "@jupyter-widgets/controls",
            "_model_module_version": "1.5.0",
            "_model_name": "ProgressStyleModel",
            "_view_count": null,
            "_view_module": "@jupyter-widgets/base",
            "_view_module_version": "1.2.0",
            "_view_name": "StyleView",
            "bar_color": null,
            "description_width": ""
          }
        },
        "93491020d03447df84c0d14fa84521be": {
          "model_module": "@jupyter-widgets/controls",
          "model_name": "VBoxModel",
          "model_module_version": "1.5.0",
          "state": {
            "_dom_classes": [],
            "_model_module": "@jupyter-widgets/controls",
            "_model_module_version": "1.5.0",
            "_model_name": "VBoxModel",
            "_view_count": null,
            "_view_module": "@jupyter-widgets/controls",
            "_view_module_version": "1.5.0",
            "_view_name": "VBoxView",
            "box_style": "",
            "children": [
              "IPY_MODEL_92bf0f41a1d34a4cb963e56f202caf1b",
              "IPY_MODEL_3048a941785141d59ccc5a38d3e5a63d"
            ],
            "layout": "IPY_MODEL_682d0eafbc13462f8aa9334727fca1ad"
          }
        },
        "92bf0f41a1d34a4cb963e56f202caf1b": {
          "model_module": "@jupyter-widgets/controls",
          "model_name": "LabelModel",
          "model_module_version": "1.5.0",
          "state": {
            "_dom_classes": [],
            "_model_module": "@jupyter-widgets/controls",
            "_model_module_version": "1.5.0",
            "_model_name": "LabelModel",
            "_view_count": null,
            "_view_module": "@jupyter-widgets/controls",
            "_view_module_version": "1.5.0",
            "_view_name": "LabelView",
            "description": "",
            "description_tooltip": null,
            "layout": "IPY_MODEL_1fbdf31045604224a35a9e016dcb9bc8",
            "placeholder": "​",
            "style": "IPY_MODEL_3142b48b303f434eb5784c3618c137ec",
            "value": "0.011 MB of 0.011 MB uploaded\r"
          }
        },
        "3048a941785141d59ccc5a38d3e5a63d": {
          "model_module": "@jupyter-widgets/controls",
          "model_name": "FloatProgressModel",
          "model_module_version": "1.5.0",
          "state": {
            "_dom_classes": [],
            "_model_module": "@jupyter-widgets/controls",
            "_model_module_version": "1.5.0",
            "_model_name": "FloatProgressModel",
            "_view_count": null,
            "_view_module": "@jupyter-widgets/controls",
            "_view_module_version": "1.5.0",
            "_view_name": "ProgressView",
            "bar_style": "",
            "description": "",
            "description_tooltip": null,
            "layout": "IPY_MODEL_49163a823b16408384d62efd16f0c000",
            "max": 1,
            "min": 0,
            "orientation": "horizontal",
            "style": "IPY_MODEL_93027b6c0b1846ce98478cbbe887c53a",
            "value": 1
          }
        },
        "682d0eafbc13462f8aa9334727fca1ad": {
          "model_module": "@jupyter-widgets/base",
          "model_name": "LayoutModel",
          "model_module_version": "1.2.0",
          "state": {
            "_model_module": "@jupyter-widgets/base",
            "_model_module_version": "1.2.0",
            "_model_name": "LayoutModel",
            "_view_count": null,
            "_view_module": "@jupyter-widgets/base",
            "_view_module_version": "1.2.0",
            "_view_name": "LayoutView",
            "align_content": null,
            "align_items": null,
            "align_self": null,
            "border": null,
            "bottom": null,
            "display": null,
            "flex": null,
            "flex_flow": null,
            "grid_area": null,
            "grid_auto_columns": null,
            "grid_auto_flow": null,
            "grid_auto_rows": null,
            "grid_column": null,
            "grid_gap": null,
            "grid_row": null,
            "grid_template_areas": null,
            "grid_template_columns": null,
            "grid_template_rows": null,
            "height": null,
            "justify_content": null,
            "justify_items": null,
            "left": null,
            "margin": null,
            "max_height": null,
            "max_width": null,
            "min_height": null,
            "min_width": null,
            "object_fit": null,
            "object_position": null,
            "order": null,
            "overflow": null,
            "overflow_x": null,
            "overflow_y": null,
            "padding": null,
            "right": null,
            "top": null,
            "visibility": null,
            "width": null
          }
        },
        "1fbdf31045604224a35a9e016dcb9bc8": {
          "model_module": "@jupyter-widgets/base",
          "model_name": "LayoutModel",
          "model_module_version": "1.2.0",
          "state": {
            "_model_module": "@jupyter-widgets/base",
            "_model_module_version": "1.2.0",
            "_model_name": "LayoutModel",
            "_view_count": null,
            "_view_module": "@jupyter-widgets/base",
            "_view_module_version": "1.2.0",
            "_view_name": "LayoutView",
            "align_content": null,
            "align_items": null,
            "align_self": null,
            "border": null,
            "bottom": null,
            "display": null,
            "flex": null,
            "flex_flow": null,
            "grid_area": null,
            "grid_auto_columns": null,
            "grid_auto_flow": null,
            "grid_auto_rows": null,
            "grid_column": null,
            "grid_gap": null,
            "grid_row": null,
            "grid_template_areas": null,
            "grid_template_columns": null,
            "grid_template_rows": null,
            "height": null,
            "justify_content": null,
            "justify_items": null,
            "left": null,
            "margin": null,
            "max_height": null,
            "max_width": null,
            "min_height": null,
            "min_width": null,
            "object_fit": null,
            "object_position": null,
            "order": null,
            "overflow": null,
            "overflow_x": null,
            "overflow_y": null,
            "padding": null,
            "right": null,
            "top": null,
            "visibility": null,
            "width": null
          }
        },
        "3142b48b303f434eb5784c3618c137ec": {
          "model_module": "@jupyter-widgets/controls",
          "model_name": "DescriptionStyleModel",
          "model_module_version": "1.5.0",
          "state": {
            "_model_module": "@jupyter-widgets/controls",
            "_model_module_version": "1.5.0",
            "_model_name": "DescriptionStyleModel",
            "_view_count": null,
            "_view_module": "@jupyter-widgets/base",
            "_view_module_version": "1.2.0",
            "_view_name": "StyleView",
            "description_width": ""
          }
        },
        "49163a823b16408384d62efd16f0c000": {
          "model_module": "@jupyter-widgets/base",
          "model_name": "LayoutModel",
          "model_module_version": "1.2.0",
          "state": {
            "_model_module": "@jupyter-widgets/base",
            "_model_module_version": "1.2.0",
            "_model_name": "LayoutModel",
            "_view_count": null,
            "_view_module": "@jupyter-widgets/base",
            "_view_module_version": "1.2.0",
            "_view_name": "LayoutView",
            "align_content": null,
            "align_items": null,
            "align_self": null,
            "border": null,
            "bottom": null,
            "display": null,
            "flex": null,
            "flex_flow": null,
            "grid_area": null,
            "grid_auto_columns": null,
            "grid_auto_flow": null,
            "grid_auto_rows": null,
            "grid_column": null,
            "grid_gap": null,
            "grid_row": null,
            "grid_template_areas": null,
            "grid_template_columns": null,
            "grid_template_rows": null,
            "height": null,
            "justify_content": null,
            "justify_items": null,
            "left": null,
            "margin": null,
            "max_height": null,
            "max_width": null,
            "min_height": null,
            "min_width": null,
            "object_fit": null,
            "object_position": null,
            "order": null,
            "overflow": null,
            "overflow_x": null,
            "overflow_y": null,
            "padding": null,
            "right": null,
            "top": null,
            "visibility": null,
            "width": null
          }
        },
        "93027b6c0b1846ce98478cbbe887c53a": {
          "model_module": "@jupyter-widgets/controls",
          "model_name": "ProgressStyleModel",
          "model_module_version": "1.5.0",
          "state": {
            "_model_module": "@jupyter-widgets/controls",
            "_model_module_version": "1.5.0",
            "_model_name": "ProgressStyleModel",
            "_view_count": null,
            "_view_module": "@jupyter-widgets/base",
            "_view_module_version": "1.2.0",
            "_view_name": "StyleView",
            "bar_color": null,
            "description_width": ""
          }
        }
      }
    }
  },
  "cells": [
    {
      "cell_type": "markdown",
      "metadata": {
        "id": "view-in-github",
        "colab_type": "text"
      },
      "source": [
        "<a href=\"https://colab.research.google.com/github/AdiY2j/CS6910_Assignment1/blob/main/Assignment_1.ipynb\" target=\"_parent\"><img src=\"https://colab.research.google.com/assets/colab-badge.svg\" alt=\"Open In Colab\"/></a>"
      ]
    },
    {
      "cell_type": "code",
      "source": [
        "!pip install wandb"
      ],
      "metadata": {
        "colab": {
          "base_uri": "https://localhost:8080/"
        },
        "id": "lwJql0O4_eme",
        "outputId": "42ce5772-bc01-4c32-e221-f9b39dd698b4"
      },
      "execution_count": 114,
      "outputs": [
        {
          "output_type": "stream",
          "name": "stdout",
          "text": [
            "Requirement already satisfied: wandb in /usr/local/lib/python3.10/dist-packages (0.16.4)\n",
            "Requirement already satisfied: Click!=8.0.0,>=7.1 in /usr/local/lib/python3.10/dist-packages (from wandb) (8.1.7)\n",
            "Requirement already satisfied: GitPython!=3.1.29,>=1.0.0 in /usr/local/lib/python3.10/dist-packages (from wandb) (3.1.42)\n",
            "Requirement already satisfied: requests<3,>=2.0.0 in /usr/local/lib/python3.10/dist-packages (from wandb) (2.31.0)\n",
            "Requirement already satisfied: psutil>=5.0.0 in /usr/local/lib/python3.10/dist-packages (from wandb) (5.9.5)\n",
            "Requirement already satisfied: sentry-sdk>=1.0.0 in /usr/local/lib/python3.10/dist-packages (from wandb) (1.42.0)\n",
            "Requirement already satisfied: docker-pycreds>=0.4.0 in /usr/local/lib/python3.10/dist-packages (from wandb) (0.4.0)\n",
            "Requirement already satisfied: PyYAML in /usr/local/lib/python3.10/dist-packages (from wandb) (6.0.1)\n",
            "Requirement already satisfied: setproctitle in /usr/local/lib/python3.10/dist-packages (from wandb) (1.3.3)\n",
            "Requirement already satisfied: setuptools in /usr/local/lib/python3.10/dist-packages (from wandb) (67.7.2)\n",
            "Requirement already satisfied: appdirs>=1.4.3 in /usr/local/lib/python3.10/dist-packages (from wandb) (1.4.4)\n",
            "Requirement already satisfied: protobuf!=4.21.0,<5,>=3.19.0 in /usr/local/lib/python3.10/dist-packages (from wandb) (3.20.3)\n",
            "Requirement already satisfied: six>=1.4.0 in /usr/local/lib/python3.10/dist-packages (from docker-pycreds>=0.4.0->wandb) (1.16.0)\n",
            "Requirement already satisfied: gitdb<5,>=4.0.1 in /usr/local/lib/python3.10/dist-packages (from GitPython!=3.1.29,>=1.0.0->wandb) (4.0.11)\n",
            "Requirement already satisfied: charset-normalizer<4,>=2 in /usr/local/lib/python3.10/dist-packages (from requests<3,>=2.0.0->wandb) (3.3.2)\n",
            "Requirement already satisfied: idna<4,>=2.5 in /usr/local/lib/python3.10/dist-packages (from requests<3,>=2.0.0->wandb) (3.6)\n",
            "Requirement already satisfied: urllib3<3,>=1.21.1 in /usr/local/lib/python3.10/dist-packages (from requests<3,>=2.0.0->wandb) (2.0.7)\n",
            "Requirement already satisfied: certifi>=2017.4.17 in /usr/local/lib/python3.10/dist-packages (from requests<3,>=2.0.0->wandb) (2024.2.2)\n",
            "Requirement already satisfied: smmap<6,>=3.0.1 in /usr/local/lib/python3.10/dist-packages (from gitdb<5,>=4.0.1->GitPython!=3.1.29,>=1.0.0->wandb) (5.0.1)\n"
          ]
        }
      ]
    },
    {
      "cell_type": "code",
      "execution_count": 115,
      "metadata": {
        "id": "QlElmkE4z3ZY"
      },
      "outputs": [],
      "source": [
        "import wandb\n",
        "import numpy as np\n",
        "import pandas as pd\n",
        "import matplotlib.pyplot as plt\n",
        "from sklearn.model_selection import train_test_split\n",
        "np.set_printoptions(suppress=True)\n",
        "from keras.datasets import fashion_mnist\n",
        "from keras.datasets import mnist"
      ]
    },
    {
      "cell_type": "code",
      "source": [
        "wandb.login(key='')"
      ],
      "metadata": {
        "colab": {
          "base_uri": "https://localhost:8080/"
        },
        "id": "p-5Nx5yo_raC",
        "outputId": "69a2ff3b-079a-4c4c-a5ef-69f8b27b9db4"
      },
      "execution_count": 116,
      "outputs": [
        {
          "output_type": "stream",
          "name": "stderr",
          "text": [
            "\u001b[34m\u001b[1mwandb\u001b[0m: \u001b[33mWARNING\u001b[0m If you're specifying your api key in code, ensure this code is not shared publicly.\n",
            "\u001b[34m\u001b[1mwandb\u001b[0m: \u001b[33mWARNING\u001b[0m Consider setting the WANDB_API_KEY environment variable, or running `wandb login` from the command line.\n",
            "\u001b[34m\u001b[1mwandb\u001b[0m: Appending key for api.wandb.ai to your netrc file: /root/.netrc\n"
          ]
        },
        {
          "output_type": "execute_result",
          "data": {
            "text/plain": [
              "True"
            ]
          },
          "metadata": {},
          "execution_count": 116
        }
      ]
    },
    {
      "cell_type": "markdown",
      "source": [
        "Q1] Download the fashion-MNIST dataset and plot 1 sample image for each class"
      ],
      "metadata": {
        "id": "OYUqUj3iRTYj"
      }
    },
    {
      "cell_type": "code",
      "source": [
        "(X_train, y_train), (X_test, y_test) = fashion_mnist.load_data()"
      ],
      "metadata": {
        "id": "fwLNvqZW0cW5"
      },
      "execution_count": 117,
      "outputs": []
    },
    {
      "cell_type": "code",
      "source": [
        "X_train.shape[0]"
      ],
      "metadata": {
        "colab": {
          "base_uri": "https://localhost:8080/"
        },
        "id": "7eSnExR20eCH",
        "outputId": "222abf33-785e-47d1-b885-49e585ee1edb"
      },
      "execution_count": 118,
      "outputs": [
        {
          "output_type": "execute_result",
          "data": {
            "text/plain": [
              "60000"
            ]
          },
          "metadata": {},
          "execution_count": 118
        }
      ]
    },
    {
      "cell_type": "code",
      "source": [
        "#wandb.init(project = 'DL_Assignment_1', entity = 'cs23m009')\n",
        "class_labels = [\"T-shirt/top\", \"Trouser\", \"Pullover\", \"Dress\", \"Coat\",\n",
        "               \"Sandal\", \"Shirt\", \"Sneaker\", \"Bag\", \"Ankle boot\"]\n",
        "\n",
        "images = []\n",
        "labels = []\n",
        "# Function to plot one sample image for each class\n",
        "def plot_data(x, y, class_labels):\n",
        "    plt.figure(figsize=(10, 6))\n",
        "\n",
        "    for i in range(len(class_labels)):\n",
        "        id = np.where(y == i)[0][0]\n",
        "        image = x[id]\n",
        "        plt.subplot(2, 5, i+1)\n",
        "        plt.axis('off')\n",
        "        plt.imshow(image, cmap='gray')\n",
        "        plt.title(class_labels[i])\n",
        "        images.append(image)\n",
        "        labels.append(class_labels[i])\n",
        "\n",
        "    plt.tight_layout()\n",
        "    plt.show()\n",
        "\n",
        "plot_data(X_train, y_train, class_labels)\n",
        "# wandb.log({\"Question 1 \" : [wandb.Image(image , caption = f\"Label: {label}\") for image, label in zip(images, labels)]})\n",
        "# wandb.finish()"
      ],
      "metadata": {
        "colab": {
          "base_uri": "https://localhost:8080/",
          "height": 506
        },
        "id": "L9VaxTP10f_U",
        "outputId": "284342c0-5a8e-4743-ad87-ca1d66609798"
      },
      "execution_count": 119,
      "outputs": [
        {
          "output_type": "display_data",
          "data": {
            "text/plain": [
              "<Figure size 1000x600 with 10 Axes>"
            ],
            "image/png": "[encoded data removed]"
          },
          "metadata": {}
        }
      ]
    },
    {
      "cell_type": "code",
      "source": [
        "X_train, X_val, y_train, y_val = train_test_split(X_train, y_train, test_size=0.1, random_state=42)"
      ],
      "metadata": {
        "id": "6Z6ZHN75lmZ9"
      },
      "execution_count": 120,
      "outputs": []
    },
    {
      "cell_type": "code",
      "source": [
        "X_train = np.array(X_train)\n",
        "X_val = np.array(X_val)\n",
        "X_test = np.array(X_test)\n",
        "# Reshape input feature from 28*28 to 784*1\n",
        "X_train = X_train.reshape(X_train.shape[0], -1) / 255.0\n",
        "X_val = X_val.reshape(X_val.shape[0], -1) / 255.0\n",
        "X_test = X_test.reshape(X_test.shape[0], -1) / 255.0"
      ],
      "metadata": {
        "id": "Sq6Wuivb0jUF"
      },
      "execution_count": 121,
      "outputs": []
    },
    {
      "cell_type": "code",
      "source": [
        "X_train.shape"
      ],
      "metadata": {
        "colab": {
          "base_uri": "https://localhost:8080/"
        },
        "id": "mr13Zqallzqi",
        "outputId": "4ae2fd6f-ffbd-4d7e-8625-c8212d09ba88"
      },
      "execution_count": 122,
      "outputs": [
        {
          "output_type": "execute_result",
          "data": {
            "text/plain": [
              "(54000, 784)"
            ]
          },
          "metadata": {},
          "execution_count": 122
        }
      ]
    },
    {
      "cell_type": "code",
      "source": [
        "X_val.shape"
      ],
      "metadata": {
        "colab": {
          "base_uri": "https://localhost:8080/"
        },
        "id": "dmAOEWR1l19Q",
        "outputId": "e678963b-64e7-4ee6-a5e0-d34756c8c32d"
      },
      "execution_count": 123,
      "outputs": [
        {
          "output_type": "execute_result",
          "data": {
            "text/plain": [
              "(6000, 784)"
            ]
          },
          "metadata": {},
          "execution_count": 123
        }
      ]
    },
    {
      "cell_type": "code",
      "source": [
        "def initializeParam(layers, activation, weight_init = \"random\"):\n",
        "  params = {}\n",
        "  for i in range(1, len(layers)):\n",
        "    if weight_init == \"Xavier\" or activation == \"relu\":\n",
        "      params['W' + str(i)] = np.random.randn(layers[i], layers[i-1]) * np.sqrt(2/float(layers[i-1]))\n",
        "    elif weight_init == \"random\":\n",
        "      params['W' + str(i)] = np.random.randn(layers[i], layers[i-1])\n",
        "\n",
        "    params['b' + str(i)] = np.zeros((layers[i], 1))\n",
        "  return params"
      ],
      "metadata": {
        "id": "bKJ3xai1aYXV"
      },
      "execution_count": 124,
      "outputs": []
    },
    {
      "cell_type": "code",
      "source": [
        "def sigmoid(x):\n",
        "  return 1 / (1 + np.exp(-x))\n",
        "\n",
        "def relu(x):\n",
        "  return np.maximum(0, x)\n",
        "\n",
        "def tanh(x):\n",
        "  return np.tanh(x)\n",
        "\n",
        "def sigmoid_dev(x):\n",
        "  return x * (1 - x)\n",
        "\n",
        "def relu_dev(x):\n",
        "  return np.where(x > 0, 1, 0)\n",
        "\n",
        "def tanh_dev(x):\n",
        "  return 1 - x**2\n",
        "\n",
        "def softmax(x):\n",
        "  x = np.clip(x, -700, 700)\n",
        "  return np.exp(x) / np.sum(np.exp(x), axis = 0)"
      ],
      "metadata": {
        "id": "slQYgcxklU9m"
      },
      "execution_count": 125,
      "outputs": []
    },
    {
      "cell_type": "markdown",
      "source": [
        "Q2] Implement a feedforward neural network which takes images from the fashion-mnist data as input and outputs a probability distribution over the 10 classes."
      ],
      "metadata": {
        "id": "famxVfCgRZJI"
      }
    },
    {
      "cell_type": "code",
      "source": [
        "def forward_prop(X, layers, params, activation):\n",
        "  func = {}\n",
        "  func['h0'] = X\n",
        "  func['a0'] = X\n",
        "  output = []\n",
        "  for i in range(1, len(layers)):\n",
        "    a = np.dot(params['W' + str(i)], func['h' + str(i-1)].T) + params['b' + str(i)]\n",
        "\n",
        "    #print(params['W' + str(i)].shape, func['h' + str(i-1)].T.shape, params['b' + str(i)].shape, a.shape)\n",
        "\n",
        "    if(i == len(layers) - 1) :\n",
        "      h = softmax(a)\n",
        "      output = h\n",
        "    else :\n",
        "      if activation == \"sigmoid\" :\n",
        "        h = sigmoid(a)\n",
        "      elif activation == \"relu\" :\n",
        "        h = relu(a)\n",
        "      elif activation == \"tanh\" :\n",
        "        h = tanh(a)\n",
        "\n",
        "    func['a' + str(i)] = a.T\n",
        "    func['h' + str(i)] = h.T\n",
        "\n",
        "  return output, func"
      ],
      "metadata": {
        "id": "nHnaRGXmaldB"
      },
      "execution_count": 126,
      "outputs": []
    },
    {
      "cell_type": "markdown",
      "source": [
        "Q3] Implement the backpropagation algorithm with support for the following optimisation functions"
      ],
      "metadata": {
        "id": "2CygYuCPRmwS"
      }
    },
    {
      "cell_type": "code",
      "source": [
        "def back_prop(func, params, y, pred_y, L, loss_func, activation):\n",
        "  m = y.size\n",
        "  gradients = {}\n",
        "  if loss_func == \"cross_entropy\" :\n",
        "    dL_a = pred_y - y.T\n",
        "  elif loss_func == \"squared_loss\" :\n",
        "    dL_a = 2*(pred_y - y.T) * pred_y\n",
        "\n",
        "  h_prev = func['h'+str(L)]\n",
        "  act_dev = sigmoid_dev\n",
        "\n",
        "  if activation == \"sigmoid\":\n",
        "    act_dev = sigmoid_dev\n",
        "  elif activation == \"relu\":\n",
        "    act_dev = relu_dev\n",
        "  elif activation == \"tanh\":\n",
        "    act_dev = tanh_dev\n",
        "\n",
        "  for k in range(L, -1, -1):\n",
        "    dL_W = np.dot(dL_a, h_prev)\n",
        "    dL_b = np.sum(dL_a, axis=1, keepdims=True)\n",
        "\n",
        "    #print(dL_W.shape, dL_b.shape)\n",
        "\n",
        "    dL_h = np.dot(params['W'+str(k+1)].T,  dL_a)\n",
        "    dL_a = dL_h * act_dev(h_prev).T  #sigmoid (h_prev * (1- h_prev)).T\n",
        "\n",
        "    gradients['dW' + str(k+1)] = dL_W\n",
        "    gradients['db' + str(k+1)] = dL_b\n",
        "    if(k-1 > -1):\n",
        "      h_prev = func['h' + str(k-1)]\n",
        "\n",
        "\n",
        "  return gradients"
      ],
      "metadata": {
        "id": "CYo3ItR8anj4"
      },
      "execution_count": 127,
      "outputs": []
    },
    {
      "cell_type": "code",
      "source": [
        "def sgd(params, gradients, eta, L, decay):\n",
        "  for i in range(1, L):\n",
        "    params['W' + str(i)] -=  eta * (gradients['dW' + str(i)] + decay * params['W' + str(i)])\n",
        "    params['b' + str(i)] -=  eta * (gradients['db' + str(i)] + decay * params['b' + str(i)])"
      ],
      "metadata": {
        "id": "O7TojLIr8rbI"
      },
      "execution_count": 128,
      "outputs": []
    },
    {
      "cell_type": "code",
      "source": [
        "def mgd(params, gradients, history, max_epochs, momentum, eta, L, decay):\n",
        "  for key in params.keys():\n",
        "    if key not in history:\n",
        "      history[key] = np.zeros_like(params[key])\n",
        "    history[key] = momentum * history[key] + eta * (gradients['d' + key] + decay * params[key])\n",
        "    params[key] -= history[key]\n"
      ],
      "metadata": {
        "id": "mOkCfoGwbP7t"
      },
      "execution_count": 129,
      "outputs": []
    },
    {
      "cell_type": "code",
      "source": [
        "def nag(params, gradients, history, max_epochs, momentum, eta, L, decay):\n",
        "  for i in range(1, L):\n",
        "    history['W' + str(i)] = momentum * history['W' + str(i)] + eta * (gradients['dW' + str(i)] + decay * params['W' + str(i)])\n",
        "    history['b' + str(i)] = momentum * history['b' + str(i)] + eta * (gradients['db' + str(i)] + decay * params['b' + str(i)])\n",
        "\n",
        "    params['W' + str(i)] -= history['W' + str(i)]\n",
        "    params['b' + str(i)] -= history['b' + str(i)]"
      ],
      "metadata": {
        "id": "Rl39rznMu9pj"
      },
      "execution_count": 130,
      "outputs": []
    },
    {
      "cell_type": "code",
      "source": [
        "def rmsprop(params, gradients, history, max_epochs, beta, eta, eps, L, decay):\n",
        "  for key in params.keys():\n",
        "    if key not in history:\n",
        "      history[key] = np.zeros_like(params[key])\n",
        "\n",
        "  for i in range(1, L):\n",
        "    history['W' + str(i)] = beta * history['W' + str(i)] + (1 - beta) * gradients['dW' + str(i)]**2\n",
        "    history['b' + str(i)] = beta * history['b' + str(i)] + (1 - beta) * gradients['db' + str(i)]**2\n",
        "\n",
        "    params['W' + str(i)] -= (eta * gradients['dW' + str(i)]/(np.sqrt(history['W' + str(i)]) + eps)) + (eta * decay * params['W' + str(i)])\n",
        "    params['b' + str(i)] -= (eta * gradients['db' + str(i)]/(np.sqrt(history['b' + str(i)]) + eps)) + (eta * decay * params['b' + str(i)])"
      ],
      "metadata": {
        "id": "3E5GmGOGu9f4"
      },
      "execution_count": 131,
      "outputs": []
    },
    {
      "cell_type": "code",
      "source": [
        "def adam(params, gradients, history, moment, max_epochs, beta1, beta2, eta, eps, L, t, decay):\n",
        "  for key in params.keys():\n",
        "    if key not in history:\n",
        "      history[key] = np.zeros_like(params[key])\n",
        "    if key not in moment:\n",
        "      moment[key] = np.zeros_like(params[key])\n",
        "\n",
        "  for i in range(1, L):\n",
        "    moment['W'+str(i)] = beta1 * moment['W'+str(i)] + (1-beta1) * gradients['dW'+str(i)]\n",
        "    moment['b'+str(i)] = beta1 * moment['b'+str(i)] + (1-beta1) * gradients['db'+str(i)]\n",
        "    history['W'+str(i)] = beta2 * history['W'+str(i)] + (1-beta2) * gradients['dW'+str(i)]**2\n",
        "    history['b'+str(i)] = beta2 * history['b'+str(i)] + (1-beta2) * gradients['db'+str(i)]**2\n",
        "\n",
        "    m_w_hat = moment['W'+str(i)]/(1 - (beta1 ** t))\n",
        "    m_b_hat = moment['b'+str(i)]/(1 - (beta1 ** t))\n",
        "    v_w_hat = history['W'+str(i)]/(1 - (beta2 ** t))\n",
        "    v_b_hat = history['b'+str(i)]/(1 - (beta2 ** t))\n",
        "\n",
        "    params['W'+str(i)] -= eta * m_w_hat/(np.sqrt(v_w_hat) + eps) + (eta * decay * params['W' + str(i)])\n",
        "    params['b'+str(i)] -= eta * m_b_hat/(np.sqrt(v_b_hat) + eps) + (eta * decay * params['b' + str(i)])\n"
      ],
      "metadata": {
        "id": "vM2haUEIbPyZ"
      },
      "execution_count": 132,
      "outputs": []
    },
    {
      "cell_type": "code",
      "source": [
        "def nadam(params, gradients, history, moment, max_epochs, beta1, beta2, eta, eps, L, t, decay):\n",
        "  for key in params.keys():\n",
        "    if key not in history:\n",
        "      history[key] = np.zeros_like(params[key])\n",
        "    if key not in moment:\n",
        "      moment[key] = np.zeros_like(params[key])\n",
        "\n",
        "  for i in range(1, L):\n",
        "    moment['W'+str(i)] = beta1 * moment['W'+str(i)] + (1-beta1) * gradients['dW'+str(i)]\n",
        "    moment['b'+str(i)] = beta1 * moment['b'+str(i)] + (1-beta1) * gradients['db'+str(i)]\n",
        "    history['W'+str(i)] = beta2 * history['W'+str(i)] + (1-beta2) * gradients['dW'+str(i)]**2\n",
        "    history['b'+str(i)] = beta2 * history['b'+str(i)] + (1-beta2) * gradients['db'+str(i)]**2\n",
        "\n",
        "    m_w_hat = moment['W'+str(i)]/(1 - (beta1 ** t))\n",
        "    m_b_hat = moment['b'+str(i)]/(1 - (beta1 ** t))\n",
        "    v_w_hat = history['W'+str(i)]/(1 - (beta2 ** t))\n",
        "    v_b_hat = history['b'+str(i)]/(1 - (beta2 ** t))\n",
        "\n",
        "    params['W'+str(i)] -= (eta/np.sqrt(v_w_hat + eps)) * (beta1 * m_w_hat + (1-beta1) * gradients['dW'+str(i)] / (1 - beta1**t)) + (eta * decay * params['W' + str(i)])\n",
        "    params['b'+str(i)] -= (eta/np.sqrt(v_b_hat + eps)) * (beta1 * m_b_hat + (1-beta1) * gradients['db'+str(i)] / (1 - beta1**t)) + (eta * decay * params['b' + str(i)])"
      ],
      "metadata": {
        "id": "90gT7xwLvHT9"
      },
      "execution_count": 133,
      "outputs": []
    },
    {
      "cell_type": "code",
      "source": [],
      "metadata": {
        "id": "mwc_qDJPvNjC"
      },
      "execution_count": 133,
      "outputs": []
    },
    {
      "cell_type": "code",
      "source": [
        "def compute_loss(y, y_pred, loss, epsilon=1e-10):\n",
        "  if loss == \"squared_loss\":\n",
        "    return np.sum((y - y_pred)**2)/y.shape[0]\n",
        "  elif loss == \"cross_entropy\":\n",
        "    return -np.sum(np.multiply(y, np.log(y_pred + epsilon)))/y.shape[0]"
      ],
      "metadata": {
        "id": "cSrJgxKlHgBA"
      },
      "execution_count": 134,
      "outputs": []
    },
    {
      "cell_type": "code",
      "source": [
        "def loss_dev(y, y_pred, loss):\n",
        "  if loss == \"cross_entropy\":\n",
        "    return -y/y_pred\n",
        "  elif loss == \"squared_loss\":\n",
        "    return y_pred - y"
      ],
      "metadata": {
        "id": "DfTysQpkHfzD"
      },
      "execution_count": 135,
      "outputs": []
    },
    {
      "cell_type": "code",
      "source": [
        "def get_prediction(output):\n",
        "  return np.argmax(output, axis=0)\n",
        "\n",
        "def get_accuracy(prediction, Y):\n",
        "  #print(prediction, Y)\n",
        "  return np.sum(prediction == Y)/Y.size\n",
        "\n",
        "def cal_confusion(prediction, Y):\n",
        "  count = 0\n",
        "  confusion_mat = np.zeros((10, 10))\n",
        "  for i in range(len(prediction)):\n",
        "    confusion_mat[prediction[i]][Y[i]] += 1\n",
        "  print(confusion_mat)"
      ],
      "metadata": {
        "id": "JpLT8UJ0HmJO"
      },
      "execution_count": 136,
      "outputs": []
    },
    {
      "cell_type": "code",
      "source": [
        "def lookahead(params, history, momentum):\n",
        "  for key in params.keys():\n",
        "    if key not in history:\n",
        "      history[key] = np.zeros_like(params[key])\n",
        "    else :\n",
        "      history[key] = momentum * history[key]\n",
        "    params[key] -= history[key]"
      ],
      "metadata": {
        "id": "2I5GFtyMHyvL"
      },
      "execution_count": 137,
      "outputs": []
    },
    {
      "cell_type": "code",
      "source": [
        "sweep_config = {\n",
        "    'method' : 'bayes',\n",
        "    'metric' : {\n",
        "        'name' : 'val_accuracy',\n",
        "        'goal' : 'maximize'\n",
        "    },\n",
        "    'parameters' : {\n",
        "        'epochs' : {\n",
        "            'values' : [5, 10]\n",
        "        },\n",
        "        'batch_size' : {\n",
        "            'values' : [16, 32, 64]\n",
        "        },\n",
        "        'learning_rate': {\n",
        "            'values' : [1e-3, 5e-3, 1e-4]\n",
        "        },\n",
        "        'hidden_layers' : {\n",
        "            'values' : [3, 4, 5]\n",
        "        },\n",
        "        'hidden_layer_size' :  {\n",
        "            'values' : [32, 64, 128]\n",
        "        },\n",
        "        'weight_init' : {\n",
        "            'values' : ['random', 'Xavier']\n",
        "        },\n",
        "        'weight_decay' : {\n",
        "            'values' : [0, 0.005]\n",
        "        },\n",
        "        'optimizer' : {\n",
        "            'values' : ['adam', 'nadam']\n",
        "        },\n",
        "        'activation' : {\n",
        "            'values' : ['sigmoid', 'relu', 'tanh']\n",
        "        }\n",
        "    }\n",
        "}"
      ],
      "metadata": {
        "id": "Uyr7qEgr_H-E"
      },
      "execution_count": 140,
      "outputs": []
    },
    {
      "cell_type": "code",
      "source": [
        "sweep_id = wandb.sweep(sweep=sweep_config, project='DL_Assignment_1', entity = \"cs23m009\")"
      ],
      "metadata": {
        "colab": {
          "base_uri": "https://localhost:8080/"
        },
        "id": "zmHbJRpJ_M9a",
        "outputId": "b76c1018-e1f5-4ae6-f4a2-bfe2fb2ec5a5"
      },
      "execution_count": 141,
      "outputs": [
        {
          "output_type": "stream",
          "name": "stdout",
          "text": [
            "Create sweep with ID: 78792jrn\n",
            "Sweep URL: https://wandb.ai/cs23m009/DL_Assignment_1/sweeps/78792jrn\n"
          ]
        }
      ]
    },
    {
      "cell_type": "code",
      "source": [
        "def main():\n",
        "  with wandb.init() as run:\n",
        "    run_name = 'o_{}_a_{}_lr_{}_hl{}_bs{}_w_{}'.format(wandb.config.optimizer, wandb.config.activation, wandb.config.learning_rate, str(wandb.config.hidden_layer_size) + \"_\" + str(wandb.config.hidden_layers), wandb.config.batch_size, wandb.config.weight_init)\n",
        "    wandb.run.name = run_name\n",
        "    train(X_train, y_train, wandb.config[\"hidden_layer_size\"], wandb.config[\"hidden_layers\"], \"cross_entropy\", wandb.config[\"activation\"], wandb.config[\"weight_init\"], wandb.config[\"learning_rate\"], wandb.config[\"epochs\"], wandb.config[\"batch_size\"], wandb.config[\"optimizer\"], wandb.config[\"weight_decay\"])\n",
        "\n",
        "wandb.agent(sweep_id, function = main, count = 5)\n",
        "wandb.finish()"
      ],
      "metadata": {
        "colab": {
          "base_uri": "https://localhost:8080/",
          "height": 1000,
          "referenced_widgets": [
            "09c2cf9f422c429d8974d14229a2bf3a",
            "5c8fbf33e9984cf5a1fdaedb91794cbd",
            "d336e2a0bc344dd68c45c58c02aca43b",
            "b92b5adcbdbc4c009177071eb28c6020",
            "342320d8eeac4554a4dabb0f4a4001a9",
            "f6b8f0fb5b57416d9e31869606b75409",
            "fcb936c933e542d99de9f03bac1dc53e",
            "ed1bf68a705642f8bf1c32f953bfaa11",
            "ea38df68cb5448bf9b6affec686e26c2",
            "36fdd1af8549432cab98bab99f13d021",
            "d1bcaed10b574b088da4e0013eedd8c1",
            "c95e232244d344119fe6d06bdc7dc8d1",
            "2aaf3af967314caf8c21d924aa57f96c",
            "9e87fae3f175434a9c7415c4693df061",
            "2a9df9da473748a1a311983e61f19e55",
            "f9886b9583be42c68174e72870058269",
            "199ed0357d474132a60097abe8ebc0d3",
            "97660a66c7284836957622ece7418ff7",
            "99b171d985504dbd9ea585889ce1b79d",
            "d6a36e3b06a54ca48f7f08067b3c40b4",
            "388a13f6253f4bd6b63ab8ae01e41fed",
            "c42bcac58a4b4704b86284840b08313f",
            "4e278892f4c34647b81d36cb7ddf5d37",
            "7eaf11fef02d4dca8c770d6e60b3e8ef",
            "f76acbbe677249cab376dae526482e7c",
            "033cd7886b25494682fcb48c718ac4b4",
            "5fa9dde4b1e44d92ba5bc55dcd83650d",
            "4490abe7499f46359170e7b3c0de5b52",
            "f71a832714d64e87a62aedd17ed0b7e6",
            "6d28651210af43848cced69894f6c23e",
            "f9a55abae5f5405eb9c6e211694004ad",
            "5f34c47a2beb462186a142ab842f13df",
            "01219947d83b4dfbadd0c87a668d355a",
            "79c2ed441d164082adfa2ebd23549240",
            "044f16292e9f41dcac200e20757d6b86",
            "788fdfca9ee94621b1e867276ef7f3c2",
            "6beea98f4c8c4373be7595dbd2ff1975",
            "46c894fbc6494cc29a46af62281dff7b",
            "cabb2904db324a379569a99bf08f7861",
            "cdc94cab878c4d378057b7c631623a27"
          ]
        },
        "id": "1U0korHe_PWR",
        "outputId": "d55bbe84-fade-46eb-b1c1-0664b30a85a3"
      },
      "execution_count": 142,
      "outputs": [
        {
          "output_type": "stream",
          "name": "stderr",
          "text": [
            "\u001b[34m\u001b[1mwandb\u001b[0m: Agent Starting Run: a8wa9gxa with config:\n",
            "\u001b[34m\u001b[1mwandb\u001b[0m: \tactivation: relu\n",
            "\u001b[34m\u001b[1mwandb\u001b[0m: \tbatch_size: 32\n",
            "\u001b[34m\u001b[1mwandb\u001b[0m: \tepochs: 10\n",
            "\u001b[34m\u001b[1mwandb\u001b[0m: \thidden_layer_size: 64\n",
            "\u001b[34m\u001b[1mwandb\u001b[0m: \thidden_layers: 3\n",
            "\u001b[34m\u001b[1mwandb\u001b[0m: \tlearning_rate: 0.005\n",
            "\u001b[34m\u001b[1mwandb\u001b[0m: \toptimizer: nadam\n",
            "\u001b[34m\u001b[1mwandb\u001b[0m: \tweight_decay: 0\n",
            "\u001b[34m\u001b[1mwandb\u001b[0m: \tweight_init: random\n"
          ]
        },
        {
          "output_type": "display_data",
          "data": {
            "text/plain": [
              "<IPython.core.display.HTML object>"
            ],
            "text/html": [
              "Tracking run with wandb version 0.16.4"
            ]
          },
          "metadata": {}
        },
        {
          "output_type": "display_data",
          "data": {
            "text/plain": [
              "<IPython.core.display.HTML object>"
            ],
            "text/html": [
              "Run data is saved locally in <code>/content/wandb/run-20240314_182537-a8wa9gxa</code>"
            ]
          },
          "metadata": {}
        },
        {
          "output_type": "display_data",
          "data": {
            "text/plain": [
              "<IPython.core.display.HTML object>"
            ],
            "text/html": [
              "Syncing run <strong><a href='https://wandb.ai/cs23m009/DL_Assignment_1/runs/a8wa9gxa' target=\"_blank\">resilient-sweep-1</a></strong> to <a href='https://wandb.ai/cs23m009/DL_Assignment_1' target=\"_blank\">Weights & Biases</a> (<a href='https://wandb.me/run' target=\"_blank\">docs</a>)<br/>Sweep page: <a href='https://wandb.ai/cs23m009/DL_Assignment_1/sweeps/78792jrn' target=\"_blank\">https://wandb.ai/cs23m009/DL_Assignment_1/sweeps/78792jrn</a>"
            ]
          },
          "metadata": {}
        },
        {
          "output_type": "display_data",
          "data": {
            "text/plain": [
              "<IPython.core.display.HTML object>"
            ],
            "text/html": [
              " View project at <a href='https://wandb.ai/cs23m009/DL_Assignment_1' target=\"_blank\">https://wandb.ai/cs23m009/DL_Assignment_1</a>"
            ]
          },
          "metadata": {}
        },
        {
          "output_type": "display_data",
          "data": {
            "text/plain": [
              "<IPython.core.display.HTML object>"
            ],
            "text/html": [
              " View sweep at <a href='https://wandb.ai/cs23m009/DL_Assignment_1/sweeps/78792jrn' target=\"_blank\">https://wandb.ai/cs23m009/DL_Assignment_1/sweeps/78792jrn</a>"
            ]
          },
          "metadata": {}
        },
        {
          "output_type": "display_data",
          "data": {
            "text/plain": [
              "<IPython.core.display.HTML object>"
            ],
            "text/html": [
              " View run at <a href='https://wandb.ai/cs23m009/DL_Assignment_1/runs/a8wa9gxa' target=\"_blank\">https://wandb.ai/cs23m009/DL_Assignment_1/runs/a8wa9gxa</a>"
            ]
          },
          "metadata": {}
        },
        {
          "output_type": "stream",
          "name": "stdout",
          "text": [
            "Epoch 1, Train Loss: 0.39248938673006734, Train Accuracy: 0.8568333333333333, Val Loss: 0.4110817736156954, Val Accuracy: 0.8486666666666667\n",
            "Epoch 2, Train Loss: 0.35577751340959096, Train Accuracy: 0.8693518518518518, Val Loss: 0.3850086978171923, Val Accuracy: 0.8586666666666667\n",
            "Epoch 3, Train Loss: 0.33364804552933985, Train Accuracy: 0.8780555555555556, Val Loss: 0.37199505969031604, Val Accuracy: 0.8651666666666666\n",
            "Epoch 4, Train Loss: 0.32569301352089397, Train Accuracy: 0.8807777777777778, Val Loss: 0.3755049358004328, Val Accuracy: 0.8673333333333333\n",
            "Epoch 5, Train Loss: 0.3221471394594881, Train Accuracy: 0.8816666666666667, Val Loss: 0.38048843189651355, Val Accuracy: 0.8648333333333333\n",
            "Epoch 6, Train Loss: 0.3053559874495084, Train Accuracy: 0.8868333333333334, Val Loss: 0.37198660961187535, Val Accuracy: 0.8693333333333333\n",
            "Epoch 7, Train Loss: 0.29762577970185744, Train Accuracy: 0.8892037037037037, Val Loss: 0.36946173596167764, Val Accuracy: 0.8725\n",
            "Epoch 8, Train Loss: 0.2923336094403623, Train Accuracy: 0.8908888888888888, Val Loss: 0.3736971305546191, Val Accuracy: 0.8726666666666667\n",
            "Epoch 9, Train Loss: 0.28799864468415715, Train Accuracy: 0.8923148148148148, Val Loss: 0.37674920266970824, Val Accuracy: 0.8728333333333333\n",
            "Epoch 10, Train Loss: 0.28308987459364604, Train Accuracy: 0.8932222222222223, Val Loss: 0.38007893014468386, Val Accuracy: 0.8738333333333334\n"
          ]
        },
        {
          "output_type": "display_data",
          "data": {
            "text/plain": [
              "VBox(children=(Label(value='0.001 MB of 0.012 MB uploaded\\r'), FloatProgress(value=0.08480255285201437, max=1.…"
            ],
            "application/vnd.jupyter.widget-view+json": {
              "version_major": 2,
              "version_minor": 0,
              "model_id": "09c2cf9f422c429d8974d14229a2bf3a"
            }
          },
          "metadata": {}
        },
        {
          "output_type": "display_data",
          "data": {
            "text/plain": [
              "<IPython.core.display.HTML object>"
            ],
            "text/html": [
              "<style>\n",
              "    table.wandb td:nth-child(1) { padding: 0 10px; text-align: left ; width: auto;} td:nth-child(2) {text-align: left ; width: 100%}\n",
              "    .wandb-row { display: flex; flex-direction: row; flex-wrap: wrap; justify-content: flex-start; width: 100% }\n",
              "    .wandb-col { display: flex; flex-direction: column; flex-basis: 100%; flex: 1; padding: 10px; }\n",
              "    </style>\n",
              "<div class=\"wandb-row\"><div class=\"wandb-col\"><h3>Run history:</h3><br/><table class=\"wandb\"><tr><td>epoch</td><td>▁▂▃▃▄▅▆▆▇█</td></tr><tr><td>train_accuracy</td><td>▁▃▅▆▆▇▇███</td></tr><tr><td>train_loss</td><td>█▆▄▄▃▂▂▂▁▁</td></tr><tr><td>val_accuracy</td><td>▁▄▆▆▅▇████</td></tr><tr><td>val_loss</td><td>█▄▁▂▃▁▁▂▂▃</td></tr></table><br/></div><div class=\"wandb-col\"><h3>Run summary:</h3><br/><table class=\"wandb\"><tr><td>epoch</td><td>10</td></tr><tr><td>train_accuracy</td><td>0.89322</td></tr><tr><td>train_loss</td><td>0.28309</td></tr><tr><td>val_accuracy</td><td>0.87383</td></tr><tr><td>val_loss</td><td>0.38008</td></tr></table><br/></div></div>"
            ]
          },
          "metadata": {}
        },
        {
          "output_type": "display_data",
          "data": {
            "text/plain": [
              "<IPython.core.display.HTML object>"
            ],
            "text/html": [
              " View run <strong style=\"color:#cdcd00\">resilient-sweep-1</strong> at: <a href='https://wandb.ai/cs23m009/DL_Assignment_1/runs/a8wa9gxa' target=\"_blank\">https://wandb.ai/cs23m009/DL_Assignment_1/runs/a8wa9gxa</a><br/>Synced 5 W&B file(s), 0 media file(s), 0 artifact file(s) and 0 other file(s)"
            ]
          },
          "metadata": {}
        },
        {
          "output_type": "display_data",
          "data": {
            "text/plain": [
              "<IPython.core.display.HTML object>"
            ],
            "text/html": [
              "Find logs at: <code>./wandb/run-20240314_182537-a8wa9gxa/logs</code>"
            ]
          },
          "metadata": {}
        },
        {
          "output_type": "stream",
          "name": "stderr",
          "text": [
            "\u001b[34m\u001b[1mwandb\u001b[0m: Agent Starting Run: r5um4ahv with config:\n",
            "\u001b[34m\u001b[1mwandb\u001b[0m: \tactivation: sigmoid\n",
            "\u001b[34m\u001b[1mwandb\u001b[0m: \tbatch_size: 32\n",
            "\u001b[34m\u001b[1mwandb\u001b[0m: \tepochs: 5\n",
            "\u001b[34m\u001b[1mwandb\u001b[0m: \thidden_layer_size: 64\n",
            "\u001b[34m\u001b[1mwandb\u001b[0m: \thidden_layers: 4\n",
            "\u001b[34m\u001b[1mwandb\u001b[0m: \tlearning_rate: 0.0001\n",
            "\u001b[34m\u001b[1mwandb\u001b[0m: \toptimizer: adam\n",
            "\u001b[34m\u001b[1mwandb\u001b[0m: \tweight_decay: 0\n",
            "\u001b[34m\u001b[1mwandb\u001b[0m: \tweight_init: Xavier\n"
          ]
        },
        {
          "output_type": "display_data",
          "data": {
            "text/plain": [
              "<IPython.core.display.HTML object>"
            ],
            "text/html": [
              "Tracking run with wandb version 0.16.4"
            ]
          },
          "metadata": {}
        },
        {
          "output_type": "display_data",
          "data": {
            "text/plain": [
              "<IPython.core.display.HTML object>"
            ],
            "text/html": [
              "Run data is saved locally in <code>/content/wandb/run-20240314_182723-r5um4ahv</code>"
            ]
          },
          "metadata": {}
        },
        {
          "output_type": "display_data",
          "data": {
            "text/plain": [
              "<IPython.core.display.HTML object>"
            ],
            "text/html": [
              "Syncing run <strong><a href='https://wandb.ai/cs23m009/DL_Assignment_1/runs/r5um4ahv' target=\"_blank\">rich-sweep-2</a></strong> to <a href='https://wandb.ai/cs23m009/DL_Assignment_1' target=\"_blank\">Weights & Biases</a> (<a href='https://wandb.me/run' target=\"_blank\">docs</a>)<br/>Sweep page: <a href='https://wandb.ai/cs23m009/DL_Assignment_1/sweeps/78792jrn' target=\"_blank\">https://wandb.ai/cs23m009/DL_Assignment_1/sweeps/78792jrn</a>"
            ]
          },
          "metadata": {}
        },
        {
          "output_type": "display_data",
          "data": {
            "text/plain": [
              "<IPython.core.display.HTML object>"
            ],
            "text/html": [
              " View project at <a href='https://wandb.ai/cs23m009/DL_Assignment_1' target=\"_blank\">https://wandb.ai/cs23m009/DL_Assignment_1</a>"
            ]
          },
          "metadata": {}
        },
        {
          "output_type": "display_data",
          "data": {
            "text/plain": [
              "<IPython.core.display.HTML object>"
            ],
            "text/html": [
              " View sweep at <a href='https://wandb.ai/cs23m009/DL_Assignment_1/sweeps/78792jrn' target=\"_blank\">https://wandb.ai/cs23m009/DL_Assignment_1/sweeps/78792jrn</a>"
            ]
          },
          "metadata": {}
        },
        {
          "output_type": "display_data",
          "data": {
            "text/plain": [
              "<IPython.core.display.HTML object>"
            ],
            "text/html": [
              " View run at <a href='https://wandb.ai/cs23m009/DL_Assignment_1/runs/r5um4ahv' target=\"_blank\">https://wandb.ai/cs23m009/DL_Assignment_1/runs/r5um4ahv</a>"
            ]
          },
          "metadata": {}
        },
        {
          "output_type": "stream",
          "name": "stdout",
          "text": [
            "Epoch 1, Train Loss: 1.8628810158771707, Train Accuracy: 0.42498148148148146, Val Loss: 1.869494244319937, Val Accuracy: 0.4191666666666667\n",
            "Epoch 2, Train Loss: 1.640403296781281, Train Accuracy: 0.44857407407407407, Val Loss: 1.6473921915644338, Val Accuracy: 0.43566666666666665\n",
            "Epoch 3, Train Loss: 1.4790164961829826, Train Accuracy: 0.5314074074074074, Val Loss: 1.486012499898796, Val Accuracy: 0.52\n",
            "Epoch 4, Train Loss: 1.3582191121577607, Train Accuracy: 0.5445, Val Loss: 1.3651669481149904, Val Accuracy: 0.5363333333333333\n",
            "Epoch 5, Train Loss: 1.2718575037398567, Train Accuracy: 0.5638333333333333, Val Loss: 1.2789420240273652, Val Accuracy: 0.5568333333333333\n"
          ]
        },
        {
          "output_type": "display_data",
          "data": {
            "text/plain": [
              "VBox(children=(Label(value='0.001 MB of 0.001 MB uploaded\\r'), FloatProgress(value=1.0, max=1.0)))"
            ],
            "application/vnd.jupyter.widget-view+json": {
              "version_major": 2,
              "version_minor": 0,
              "model_id": "ea38df68cb5448bf9b6affec686e26c2"
            }
          },
          "metadata": {}
        },
        {
          "output_type": "display_data",
          "data": {
            "text/plain": [
              "<IPython.core.display.HTML object>"
            ],
            "text/html": [
              "<style>\n",
              "    table.wandb td:nth-child(1) { padding: 0 10px; text-align: left ; width: auto;} td:nth-child(2) {text-align: left ; width: 100%}\n",
              "    .wandb-row { display: flex; flex-direction: row; flex-wrap: wrap; justify-content: flex-start; width: 100% }\n",
              "    .wandb-col { display: flex; flex-direction: column; flex-basis: 100%; flex: 1; padding: 10px; }\n",
              "    </style>\n",
              "<div class=\"wandb-row\"><div class=\"wandb-col\"><h3>Run history:</h3><br/><table class=\"wandb\"><tr><td>epoch</td><td>▁▃▅▆█</td></tr><tr><td>train_accuracy</td><td>▁▂▆▇█</td></tr><tr><td>train_loss</td><td>█▅▃▂▁</td></tr><tr><td>val_accuracy</td><td>▁▂▆▇█</td></tr><tr><td>val_loss</td><td>█▅▃▂▁</td></tr></table><br/></div><div class=\"wandb-col\"><h3>Run summary:</h3><br/><table class=\"wandb\"><tr><td>epoch</td><td>5</td></tr><tr><td>train_accuracy</td><td>0.56383</td></tr><tr><td>train_loss</td><td>1.27186</td></tr><tr><td>val_accuracy</td><td>0.55683</td></tr><tr><td>val_loss</td><td>1.27894</td></tr></table><br/></div></div>"
            ]
          },
          "metadata": {}
        },
        {
          "output_type": "display_data",
          "data": {
            "text/plain": [
              "<IPython.core.display.HTML object>"
            ],
            "text/html": [
              " View run <strong style=\"color:#cdcd00\">rich-sweep-2</strong> at: <a href='https://wandb.ai/cs23m009/DL_Assignment_1/runs/r5um4ahv' target=\"_blank\">https://wandb.ai/cs23m009/DL_Assignment_1/runs/r5um4ahv</a><br/>Synced 5 W&B file(s), 0 media file(s), 0 artifact file(s) and 0 other file(s)"
            ]
          },
          "metadata": {}
        },
        {
          "output_type": "display_data",
          "data": {
            "text/plain": [
              "<IPython.core.display.HTML object>"
            ],
            "text/html": [
              "Find logs at: <code>./wandb/run-20240314_182723-r5um4ahv/logs</code>"
            ]
          },
          "metadata": {}
        },
        {
          "output_type": "stream",
          "name": "stderr",
          "text": [
            "\u001b[34m\u001b[1mwandb\u001b[0m: Sweep Agent: Waiting for job.\n",
            "\u001b[34m\u001b[1mwandb\u001b[0m: Job received.\n",
            "\u001b[34m\u001b[1mwandb\u001b[0m: Agent Starting Run: vhfkd7ts with config:\n",
            "\u001b[34m\u001b[1mwandb\u001b[0m: \tactivation: tanh\n",
            "\u001b[34m\u001b[1mwandb\u001b[0m: \tbatch_size: 16\n",
            "\u001b[34m\u001b[1mwandb\u001b[0m: \tepochs: 10\n",
            "\u001b[34m\u001b[1mwandb\u001b[0m: \thidden_layer_size: 32\n",
            "\u001b[34m\u001b[1mwandb\u001b[0m: \thidden_layers: 3\n",
            "\u001b[34m\u001b[1mwandb\u001b[0m: \tlearning_rate: 0.001\n",
            "\u001b[34m\u001b[1mwandb\u001b[0m: \toptimizer: adam\n",
            "\u001b[34m\u001b[1mwandb\u001b[0m: \tweight_decay: 0\n",
            "\u001b[34m\u001b[1mwandb\u001b[0m: \tweight_init: random\n"
          ]
        },
        {
          "output_type": "display_data",
          "data": {
            "text/plain": [
              "<IPython.core.display.HTML object>"
            ],
            "text/html": [
              "Tracking run with wandb version 0.16.4"
            ]
          },
          "metadata": {}
        },
        {
          "output_type": "display_data",
          "data": {
            "text/plain": [
              "<IPython.core.display.HTML object>"
            ],
            "text/html": [
              "Run data is saved locally in <code>/content/wandb/run-20240314_182816-vhfkd7ts</code>"
            ]
          },
          "metadata": {}
        },
        {
          "output_type": "display_data",
          "data": {
            "text/plain": [
              "<IPython.core.display.HTML object>"
            ],
            "text/html": [
              "Syncing run <strong><a href='https://wandb.ai/cs23m009/DL_Assignment_1/runs/vhfkd7ts' target=\"_blank\">cosmic-sweep-3</a></strong> to <a href='https://wandb.ai/cs23m009/DL_Assignment_1' target=\"_blank\">Weights & Biases</a> (<a href='https://wandb.me/run' target=\"_blank\">docs</a>)<br/>Sweep page: <a href='https://wandb.ai/cs23m009/DL_Assignment_1/sweeps/78792jrn' target=\"_blank\">https://wandb.ai/cs23m009/DL_Assignment_1/sweeps/78792jrn</a>"
            ]
          },
          "metadata": {}
        },
        {
          "output_type": "display_data",
          "data": {
            "text/plain": [
              "<IPython.core.display.HTML object>"
            ],
            "text/html": [
              " View project at <a href='https://wandb.ai/cs23m009/DL_Assignment_1' target=\"_blank\">https://wandb.ai/cs23m009/DL_Assignment_1</a>"
            ]
          },
          "metadata": {}
        },
        {
          "output_type": "display_data",
          "data": {
            "text/plain": [
              "<IPython.core.display.HTML object>"
            ],
            "text/html": [
              " View sweep at <a href='https://wandb.ai/cs23m009/DL_Assignment_1/sweeps/78792jrn' target=\"_blank\">https://wandb.ai/cs23m009/DL_Assignment_1/sweeps/78792jrn</a>"
            ]
          },
          "metadata": {}
        },
        {
          "output_type": "display_data",
          "data": {
            "text/plain": [
              "<IPython.core.display.HTML object>"
            ],
            "text/html": [
              " View run at <a href='https://wandb.ai/cs23m009/DL_Assignment_1/runs/vhfkd7ts' target=\"_blank\">https://wandb.ai/cs23m009/DL_Assignment_1/runs/vhfkd7ts</a>"
            ]
          },
          "metadata": {}
        },
        {
          "output_type": "stream",
          "name": "stdout",
          "text": [
            "Epoch 1, Train Loss: 1.2318372454272775, Train Accuracy: 0.5785555555555556, Val Loss: 1.2556567572950774, Val Accuracy: 0.566\n",
            "Epoch 2, Train Loss: 1.0356240199007662, Train Accuracy: 0.6395185185185185, Val Loss: 1.060330275717122, Val Accuracy: 0.6271666666666667\n",
            "Epoch 3, Train Loss: 0.9443207941634009, Train Accuracy: 0.6714814814814815, Val Loss: 0.9799802174597502, Val Accuracy: 0.6575\n",
            "Epoch 4, Train Loss: 0.8840295941827739, Train Accuracy: 0.6866296296296296, Val Loss: 0.9247177609052831, Val Accuracy: 0.6753333333333333\n",
            "Epoch 5, Train Loss: 0.8453127339251846, Train Accuracy: 0.7004259259259259, Val Loss: 0.8877933725264718, Val Accuracy: 0.6873333333333334\n",
            "Epoch 6, Train Loss: 0.8126619317376935, Train Accuracy: 0.7085925925925926, Val Loss: 0.8458676302195619, Val Accuracy: 0.6985\n",
            "Epoch 7, Train Loss: 0.7886887844962032, Train Accuracy: 0.7157962962962963, Val Loss: 0.8226190815513507, Val Accuracy: 0.7075\n",
            "Epoch 8, Train Loss: 0.769157264572942, Train Accuracy: 0.7212407407407407, Val Loss: 0.8035860163548265, Val Accuracy: 0.71\n",
            "Epoch 9, Train Loss: 0.7531020317265094, Train Accuracy: 0.7277407407407407, Val Loss: 0.7846351487424406, Val Accuracy: 0.718\n",
            "Epoch 10, Train Loss: 0.7348261883884273, Train Accuracy: 0.7335925925925926, Val Loss: 0.766566824552476, Val Accuracy: 0.7255\n"
          ]
        },
        {
          "output_type": "display_data",
          "data": {
            "text/plain": [
              "VBox(children=(Label(value='0.001 MB of 0.001 MB uploaded\\r'), FloatProgress(value=1.0, max=1.0)))"
            ],
            "application/vnd.jupyter.widget-view+json": {
              "version_major": 2,
              "version_minor": 0,
              "model_id": "199ed0357d474132a60097abe8ebc0d3"
            }
          },
          "metadata": {}
        },
        {
          "output_type": "display_data",
          "data": {
            "text/plain": [
              "<IPython.core.display.HTML object>"
            ],
            "text/html": [
              "<style>\n",
              "    table.wandb td:nth-child(1) { padding: 0 10px; text-align: left ; width: auto;} td:nth-child(2) {text-align: left ; width: 100%}\n",
              "    .wandb-row { display: flex; flex-direction: row; flex-wrap: wrap; justify-content: flex-start; width: 100% }\n",
              "    .wandb-col { display: flex; flex-direction: column; flex-basis: 100%; flex: 1; padding: 10px; }\n",
              "    </style>\n",
              "<div class=\"wandb-row\"><div class=\"wandb-col\"><h3>Run history:</h3><br/><table class=\"wandb\"><tr><td>epoch</td><td>▁▂▃▃▄▅▆▆▇█</td></tr><tr><td>train_accuracy</td><td>▁▄▅▆▇▇▇▇██</td></tr><tr><td>train_loss</td><td>█▅▄▃▃▂▂▁▁▁</td></tr><tr><td>val_accuracy</td><td>▁▄▅▆▆▇▇▇██</td></tr><tr><td>val_loss</td><td>█▅▄▃▃▂▂▂▁▁</td></tr></table><br/></div><div class=\"wandb-col\"><h3>Run summary:</h3><br/><table class=\"wandb\"><tr><td>epoch</td><td>10</td></tr><tr><td>train_accuracy</td><td>0.73359</td></tr><tr><td>train_loss</td><td>0.73483</td></tr><tr><td>val_accuracy</td><td>0.7255</td></tr><tr><td>val_loss</td><td>0.76657</td></tr></table><br/></div></div>"
            ]
          },
          "metadata": {}
        },
        {
          "output_type": "display_data",
          "data": {
            "text/plain": [
              "<IPython.core.display.HTML object>"
            ],
            "text/html": [
              " View run <strong style=\"color:#cdcd00\">cosmic-sweep-3</strong> at: <a href='https://wandb.ai/cs23m009/DL_Assignment_1/runs/vhfkd7ts' target=\"_blank\">https://wandb.ai/cs23m009/DL_Assignment_1/runs/vhfkd7ts</a><br/>Synced 5 W&B file(s), 0 media file(s), 0 artifact file(s) and 0 other file(s)"
            ]
          },
          "metadata": {}
        },
        {
          "output_type": "display_data",
          "data": {
            "text/plain": [
              "<IPython.core.display.HTML object>"
            ],
            "text/html": [
              "Find logs at: <code>./wandb/run-20240314_182816-vhfkd7ts/logs</code>"
            ]
          },
          "metadata": {}
        },
        {
          "output_type": "stream",
          "name": "stderr",
          "text": [
            "\u001b[34m\u001b[1mwandb\u001b[0m: Agent Starting Run: g3g86v0k with config:\n",
            "\u001b[34m\u001b[1mwandb\u001b[0m: \tactivation: tanh\n",
            "\u001b[34m\u001b[1mwandb\u001b[0m: \tbatch_size: 32\n",
            "\u001b[34m\u001b[1mwandb\u001b[0m: \tepochs: 10\n",
            "\u001b[34m\u001b[1mwandb\u001b[0m: \thidden_layer_size: 64\n",
            "\u001b[34m\u001b[1mwandb\u001b[0m: \thidden_layers: 3\n",
            "\u001b[34m\u001b[1mwandb\u001b[0m: \tlearning_rate: 0.0001\n",
            "\u001b[34m\u001b[1mwandb\u001b[0m: \toptimizer: nadam\n",
            "\u001b[34m\u001b[1mwandb\u001b[0m: \tweight_decay: 0\n",
            "\u001b[34m\u001b[1mwandb\u001b[0m: \tweight_init: Xavier\n"
          ]
        },
        {
          "output_type": "display_data",
          "data": {
            "text/plain": [
              "<IPython.core.display.HTML object>"
            ],
            "text/html": [
              "Tracking run with wandb version 0.16.4"
            ]
          },
          "metadata": {}
        },
        {
          "output_type": "display_data",
          "data": {
            "text/plain": [
              "<IPython.core.display.HTML object>"
            ],
            "text/html": [
              "Run data is saved locally in <code>/content/wandb/run-20240314_182930-g3g86v0k</code>"
            ]
          },
          "metadata": {}
        },
        {
          "output_type": "display_data",
          "data": {
            "text/plain": [
              "<IPython.core.display.HTML object>"
            ],
            "text/html": [
              "Syncing run <strong><a href='https://wandb.ai/cs23m009/DL_Assignment_1/runs/g3g86v0k' target=\"_blank\">charmed-sweep-4</a></strong> to <a href='https://wandb.ai/cs23m009/DL_Assignment_1' target=\"_blank\">Weights & Biases</a> (<a href='https://wandb.me/run' target=\"_blank\">docs</a>)<br/>Sweep page: <a href='https://wandb.ai/cs23m009/DL_Assignment_1/sweeps/78792jrn' target=\"_blank\">https://wandb.ai/cs23m009/DL_Assignment_1/sweeps/78792jrn</a>"
            ]
          },
          "metadata": {}
        },
        {
          "output_type": "display_data",
          "data": {
            "text/plain": [
              "<IPython.core.display.HTML object>"
            ],
            "text/html": [
              " View project at <a href='https://wandb.ai/cs23m009/DL_Assignment_1' target=\"_blank\">https://wandb.ai/cs23m009/DL_Assignment_1</a>"
            ]
          },
          "metadata": {}
        },
        {
          "output_type": "display_data",
          "data": {
            "text/plain": [
              "<IPython.core.display.HTML object>"
            ],
            "text/html": [
              " View sweep at <a href='https://wandb.ai/cs23m009/DL_Assignment_1/sweeps/78792jrn' target=\"_blank\">https://wandb.ai/cs23m009/DL_Assignment_1/sweeps/78792jrn</a>"
            ]
          },
          "metadata": {}
        },
        {
          "output_type": "display_data",
          "data": {
            "text/plain": [
              "<IPython.core.display.HTML object>"
            ],
            "text/html": [
              " View run at <a href='https://wandb.ai/cs23m009/DL_Assignment_1/runs/g3g86v0k' target=\"_blank\">https://wandb.ai/cs23m009/DL_Assignment_1/runs/g3g86v0k</a>"
            ]
          },
          "metadata": {}
        },
        {
          "output_type": "stream",
          "name": "stdout",
          "text": [
            "Epoch 1, Train Loss: 0.5678692321746799, Train Accuracy: 0.814037037037037, Val Loss: 0.5752081941417382, Val Accuracy: 0.8093333333333333\n",
            "Epoch 2, Train Loss: 0.5030197585480195, Train Accuracy: 0.8296481481481481, Val Loss: 0.5091396155937664, Val Accuracy: 0.8215\n",
            "Epoch 3, Train Loss: 0.4714501046256315, Train Accuracy: 0.8384814814814815, Val Loss: 0.4769792998205416, Val Accuracy: 0.8291666666666667\n",
            "Epoch 4, Train Loss: 0.4512093954621938, Train Accuracy: 0.844037037037037, Val Loss: 0.45648667707800905, Val Accuracy: 0.8335\n",
            "Epoch 5, Train Loss: 0.4365001026429779, Train Accuracy: 0.8488148148148148, Val Loss: 0.44173798791019986, Val Accuracy: 0.8396666666666667\n",
            "Epoch 6, Train Loss: 0.4250007167717964, Train Accuracy: 0.8522962962962963, Val Loss: 0.43035039316652757, Val Accuracy: 0.8448333333333333\n",
            "Epoch 7, Train Loss: 0.4155709683734728, Train Accuracy: 0.8553333333333333, Val Loss: 0.42114610113236, Val Accuracy: 0.8486666666666667\n",
            "Epoch 8, Train Loss: 0.40757588564972086, Train Accuracy: 0.8574814814814815, Val Loss: 0.413464435017197, Val Accuracy: 0.8483333333333334\n",
            "Epoch 9, Train Loss: 0.40062892084861057, Train Accuracy: 0.8596851851851852, Val Loss: 0.4069004817498919, Val Accuracy: 0.852\n",
            "Epoch 10, Train Loss: 0.39447834193519327, Train Accuracy: 0.8613703703703703, Val Loss: 0.4011890836608919, Val Accuracy: 0.8531666666666666\n"
          ]
        },
        {
          "output_type": "display_data",
          "data": {
            "text/plain": [
              "VBox(children=(Label(value='0.001 MB of 0.012 MB uploaded\\r'), FloatProgress(value=0.08504680374429954, max=1.…"
            ],
            "application/vnd.jupyter.widget-view+json": {
              "version_major": 2,
              "version_minor": 0,
              "model_id": "f76acbbe677249cab376dae526482e7c"
            }
          },
          "metadata": {}
        },
        {
          "output_type": "display_data",
          "data": {
            "text/plain": [
              "<IPython.core.display.HTML object>"
            ],
            "text/html": [
              "<style>\n",
              "    table.wandb td:nth-child(1) { padding: 0 10px; text-align: left ; width: auto;} td:nth-child(2) {text-align: left ; width: 100%}\n",
              "    .wandb-row { display: flex; flex-direction: row; flex-wrap: wrap; justify-content: flex-start; width: 100% }\n",
              "    .wandb-col { display: flex; flex-direction: column; flex-basis: 100%; flex: 1; padding: 10px; }\n",
              "    </style>\n",
              "<div class=\"wandb-row\"><div class=\"wandb-col\"><h3>Run history:</h3><br/><table class=\"wandb\"><tr><td>epoch</td><td>▁▂▃▃▄▅▆▆▇█</td></tr><tr><td>train_accuracy</td><td>▁▃▅▅▆▇▇▇██</td></tr><tr><td>train_loss</td><td>█▅▄▃▃▂▂▂▁▁</td></tr><tr><td>val_accuracy</td><td>▁▃▄▅▆▇▇▇██</td></tr><tr><td>val_loss</td><td>█▅▄▃▃▂▂▁▁▁</td></tr></table><br/></div><div class=\"wandb-col\"><h3>Run summary:</h3><br/><table class=\"wandb\"><tr><td>epoch</td><td>10</td></tr><tr><td>train_accuracy</td><td>0.86137</td></tr><tr><td>train_loss</td><td>0.39448</td></tr><tr><td>val_accuracy</td><td>0.85317</td></tr><tr><td>val_loss</td><td>0.40119</td></tr></table><br/></div></div>"
            ]
          },
          "metadata": {}
        },
        {
          "output_type": "display_data",
          "data": {
            "text/plain": [
              "<IPython.core.display.HTML object>"
            ],
            "text/html": [
              " View run <strong style=\"color:#cdcd00\">charmed-sweep-4</strong> at: <a href='https://wandb.ai/cs23m009/DL_Assignment_1/runs/g3g86v0k' target=\"_blank\">https://wandb.ai/cs23m009/DL_Assignment_1/runs/g3g86v0k</a><br/>Synced 5 W&B file(s), 0 media file(s), 0 artifact file(s) and 0 other file(s)"
            ]
          },
          "metadata": {}
        },
        {
          "output_type": "display_data",
          "data": {
            "text/plain": [
              "<IPython.core.display.HTML object>"
            ],
            "text/html": [
              "Find logs at: <code>./wandb/run-20240314_182930-g3g86v0k/logs</code>"
            ]
          },
          "metadata": {}
        },
        {
          "output_type": "stream",
          "name": "stderr",
          "text": [
            "\u001b[34m\u001b[1mwandb\u001b[0m: Sweep Agent: Waiting for job.\n",
            "\u001b[34m\u001b[1mwandb\u001b[0m: Job received.\n",
            "\u001b[34m\u001b[1mwandb\u001b[0m: Agent Starting Run: 4o7cc4qa with config:\n",
            "\u001b[34m\u001b[1mwandb\u001b[0m: \tactivation: tanh\n",
            "\u001b[34m\u001b[1mwandb\u001b[0m: \tbatch_size: 64\n",
            "\u001b[34m\u001b[1mwandb\u001b[0m: \tepochs: 10\n",
            "\u001b[34m\u001b[1mwandb\u001b[0m: \thidden_layer_size: 64\n",
            "\u001b[34m\u001b[1mwandb\u001b[0m: \thidden_layers: 3\n",
            "\u001b[34m\u001b[1mwandb\u001b[0m: \tlearning_rate: 0.005\n",
            "\u001b[34m\u001b[1mwandb\u001b[0m: \toptimizer: nadam\n",
            "\u001b[34m\u001b[1mwandb\u001b[0m: \tweight_decay: 0.005\n",
            "\u001b[34m\u001b[1mwandb\u001b[0m: \tweight_init: random\n"
          ]
        },
        {
          "output_type": "display_data",
          "data": {
            "text/plain": [
              "<IPython.core.display.HTML object>"
            ],
            "text/html": [
              "Tracking run with wandb version 0.16.4"
            ]
          },
          "metadata": {}
        },
        {
          "output_type": "display_data",
          "data": {
            "text/plain": [
              "<IPython.core.display.HTML object>"
            ],
            "text/html": [
              "Run data is saved locally in <code>/content/wandb/run-20240314_183106-4o7cc4qa</code>"
            ]
          },
          "metadata": {}
        },
        {
          "output_type": "display_data",
          "data": {
            "text/plain": [
              "<IPython.core.display.HTML object>"
            ],
            "text/html": [
              "Syncing run <strong><a href='https://wandb.ai/cs23m009/DL_Assignment_1/runs/4o7cc4qa' target=\"_blank\">different-sweep-5</a></strong> to <a href='https://wandb.ai/cs23m009/DL_Assignment_1' target=\"_blank\">Weights & Biases</a> (<a href='https://wandb.me/run' target=\"_blank\">docs</a>)<br/>Sweep page: <a href='https://wandb.ai/cs23m009/DL_Assignment_1/sweeps/78792jrn' target=\"_blank\">https://wandb.ai/cs23m009/DL_Assignment_1/sweeps/78792jrn</a>"
            ]
          },
          "metadata": {}
        },
        {
          "output_type": "display_data",
          "data": {
            "text/plain": [
              "<IPython.core.display.HTML object>"
            ],
            "text/html": [
              " View project at <a href='https://wandb.ai/cs23m009/DL_Assignment_1' target=\"_blank\">https://wandb.ai/cs23m009/DL_Assignment_1</a>"
            ]
          },
          "metadata": {}
        },
        {
          "output_type": "display_data",
          "data": {
            "text/plain": [
              "<IPython.core.display.HTML object>"
            ],
            "text/html": [
              " View sweep at <a href='https://wandb.ai/cs23m009/DL_Assignment_1/sweeps/78792jrn' target=\"_blank\">https://wandb.ai/cs23m009/DL_Assignment_1/sweeps/78792jrn</a>"
            ]
          },
          "metadata": {}
        },
        {
          "output_type": "display_data",
          "data": {
            "text/plain": [
              "<IPython.core.display.HTML object>"
            ],
            "text/html": [
              " View run at <a href='https://wandb.ai/cs23m009/DL_Assignment_1/runs/4o7cc4qa' target=\"_blank\">https://wandb.ai/cs23m009/DL_Assignment_1/runs/4o7cc4qa</a>"
            ]
          },
          "metadata": {}
        },
        {
          "output_type": "stream",
          "name": "stdout",
          "text": [
            "Epoch 1, Train Loss: 0.8889764323005703, Train Accuracy: 0.6673518518518519, Val Loss: 0.9306375844613065, Val Accuracy: 0.65\n",
            "Epoch 2, Train Loss: 0.7705836983464163, Train Accuracy: 0.7008888888888889, Val Loss: 0.8191729178359947, Val Accuracy: 0.6853333333333333\n",
            "Epoch 3, Train Loss: 0.7177630832822605, Train Accuracy: 0.7216296296296296, Val Loss: 0.7646430006039511, Val Accuracy: 0.7055\n",
            "Epoch 4, Train Loss: 0.680781603554085, Train Accuracy: 0.7358148148148148, Val Loss: 0.7265009140524346, Val Accuracy: 0.7203333333333334\n",
            "Epoch 5, Train Loss: 0.646262596528213, Train Accuracy: 0.7505185185185185, Val Loss: 0.6910594183445177, Val Accuracy: 0.7351666666666666\n",
            "Epoch 6, Train Loss: 0.6184811183053591, Train Accuracy: 0.7622407407407408, Val Loss: 0.6633893243019188, Val Accuracy: 0.7455\n",
            "Epoch 7, Train Loss: 0.5950515349478475, Train Accuracy: 0.7715925925925926, Val Loss: 0.6476297772445292, Val Accuracy: 0.7551666666666667\n",
            "Epoch 8, Train Loss: 0.5769495831105869, Train Accuracy: 0.7785185185185185, Val Loss: 0.6277622075505916, Val Accuracy: 0.7593333333333333\n",
            "Epoch 9, Train Loss: 0.5632038616028879, Train Accuracy: 0.7837962962962963, Val Loss: 0.6131111872237585, Val Accuracy: 0.7638333333333334\n",
            "Epoch 10, Train Loss: 0.543424156285084, Train Accuracy: 0.7900555555555555, Val Loss: 0.5972215024080526, Val Accuracy: 0.7695\n"
          ]
        },
        {
          "output_type": "display_data",
          "data": {
            "text/plain": [
              "VBox(children=(Label(value='0.001 MB of 0.001 MB uploaded\\r'), FloatProgress(value=1.0, max=1.0)))"
            ],
            "application/vnd.jupyter.widget-view+json": {
              "version_major": 2,
              "version_minor": 0,
              "model_id": "01219947d83b4dfbadd0c87a668d355a"
            }
          },
          "metadata": {}
        },
        {
          "output_type": "display_data",
          "data": {
            "text/plain": [
              "<IPython.core.display.HTML object>"
            ],
            "text/html": [
              "<style>\n",
              "    table.wandb td:nth-child(1) { padding: 0 10px; text-align: left ; width: auto;} td:nth-child(2) {text-align: left ; width: 100%}\n",
              "    .wandb-row { display: flex; flex-direction: row; flex-wrap: wrap; justify-content: flex-start; width: 100% }\n",
              "    .wandb-col { display: flex; flex-direction: column; flex-basis: 100%; flex: 1; padding: 10px; }\n",
              "    </style>\n",
              "<div class=\"wandb-row\"><div class=\"wandb-col\"><h3>Run history:</h3><br/><table class=\"wandb\"><tr><td>epoch</td><td>▁▂▃▃▄▅▆▆▇█</td></tr><tr><td>train_accuracy</td><td>▁▃▄▅▆▆▇▇██</td></tr><tr><td>train_loss</td><td>█▆▅▄▃▃▂▂▁▁</td></tr><tr><td>val_accuracy</td><td>▁▃▄▅▆▇▇▇██</td></tr><tr><td>val_loss</td><td>█▆▅▄▃▂▂▂▁▁</td></tr></table><br/></div><div class=\"wandb-col\"><h3>Run summary:</h3><br/><table class=\"wandb\"><tr><td>epoch</td><td>10</td></tr><tr><td>train_accuracy</td><td>0.79006</td></tr><tr><td>train_loss</td><td>0.54342</td></tr><tr><td>val_accuracy</td><td>0.7695</td></tr><tr><td>val_loss</td><td>0.59722</td></tr></table><br/></div></div>"
            ]
          },
          "metadata": {}
        },
        {
          "output_type": "display_data",
          "data": {
            "text/plain": [
              "<IPython.core.display.HTML object>"
            ],
            "text/html": [
              " View run <strong style=\"color:#cdcd00\">different-sweep-5</strong> at: <a href='https://wandb.ai/cs23m009/DL_Assignment_1/runs/4o7cc4qa' target=\"_blank\">https://wandb.ai/cs23m009/DL_Assignment_1/runs/4o7cc4qa</a><br/>Synced 5 W&B file(s), 0 media file(s), 0 artifact file(s) and 0 other file(s)"
            ]
          },
          "metadata": {}
        },
        {
          "output_type": "display_data",
          "data": {
            "text/plain": [
              "<IPython.core.display.HTML object>"
            ],
            "text/html": [
              "Find logs at: <code>./wandb/run-20240314_183106-4o7cc4qa/logs</code>"
            ]
          },
          "metadata": {}
        }
      ]
    },
    {
      "cell_type": "code",
      "source": [
        "def train(X_train, y_train, hidden_layer_size, no_layers, loss_func, activation_func, wt_init, learning_rate, epochs, batch_size, optimizer, weight_decay):\n",
        "  input_neurons = X_train.shape[1]\n",
        "  hidden_neurons = hidden_layer_size #wandb.config[\"hidden_layer_size\"]\n",
        "  num_layers = no_layers #wandb.config[\"hidden_layers\"]\n",
        "  hidden_layer = [hidden_neurons] * num_layers\n",
        "  output_neurons = 10\n",
        "  layers = [input_neurons] + hidden_layer + [output_neurons]\n",
        "  y_train_onehot = np.eye(10)[y_train]\n",
        "  y_val_onehot = np.eye(10)[y_val]\n",
        "  loss_function = loss_func #\"cross_entropy\"\n",
        "  activation = activation_func #wandb.config[\"activation\"]\n",
        "  weight_init = wt_init #wandb.config[\"weight_init\"]\n",
        "\n",
        "  params = initializeParam(layers, activation, weight_init)\n",
        "  eta = learning_rate #wandb.config[\"learning_rate\"]\n",
        "  max_epochs = epochs #wandb.config[\"epochs\"]\n",
        "  momentum = 0.5\n",
        "  beta = 0.9\n",
        "  beta1 = 0.9\n",
        "  beta2 = 0.999\n",
        "  eps = 0.000001\n",
        "  batch_size= batch_size #wandb.config[\"batch_size\"]\n",
        "  optimizer = optimizer #wandb.config[\"optimizer\"]\n",
        "  decay = weight_decay #wandb.config[\"weight_decay\"]\n",
        "  final_res = []\n",
        "  history = {}\n",
        "  moment = {}\n",
        "\n",
        "  for epoch in range(max_epochs):\n",
        "    for i in range(0, X_train.shape[0], batch_size):\n",
        "      X_batch = X_train[i : i + batch_size]\n",
        "      y_batch = y_train_onehot[i : i + batch_size]\n",
        "\n",
        "      output, func = forward_prop(X_batch, layers, params, activation)\n",
        "      if(optimizer == \"nesterov\"):\n",
        "        lookahead(params, history, momentum)\n",
        "      gradients = back_prop(func, params, y_batch, output, len(hidden_layer), loss_function, activation)\n",
        "      match optimizer:\n",
        "        case \"sgd\":\n",
        "          sgd(params, gradients, eta, len(hidden_layer)+2, decay)\n",
        "        case \"momentum\":\n",
        "          mgd(params, gradients, history, max_epochs, momentum, eta, len(hidden_layer)+2, decay)\n",
        "        case \"nesterov\":\n",
        "          nag(params, gradients, history, max_epochs, momentum, eta, len(hidden_layer)+2, decay)\n",
        "        case \"rmsprop\":\n",
        "          rmsprop(params, gradients, history, max_epochs, beta, eta, eps, len(hidden_layer)+2, decay)\n",
        "        case \"adam\":\n",
        "          adam(params, gradients, history, moment, max_epochs, beta1, beta2, eta, eps, len(hidden_layer)+2, epoch+1, decay)\n",
        "        case \"nadam\":\n",
        "          nadam(params, gradients, history, moment, max_epochs, beta1, beta2, eta, eps, len(hidden_layer)+2, epoch+1, decay)\n",
        "        case default:\n",
        "          sgd(params, gradients, eta, len(hidden_layer)+2, decay)\n",
        "\n",
        "    y_predict, func = forward_prop(X_train, layers, params, activation)\n",
        "    train_loss = compute_loss(y_train_onehot, y_predict.T, loss_function)\n",
        "    train_accuracy = get_accuracy(get_prediction(y_predict), y_train)\n",
        "\n",
        "    y_val_predict, _ = forward_prop(X_val, layers, params, activation)\n",
        "    val_loss = compute_loss(y_val_onehot, y_val_predict.T, loss_function)\n",
        "    val_accuracy = get_accuracy(get_prediction(y_val_predict), y_val)\n",
        "\n",
        "    #final_res = get_prediction(y_predict)\n",
        "    print(f'Epoch {epoch+1}, Train Loss: {train_loss}, Train Accuracy: {train_accuracy}, Val Loss: {val_loss}, Val Accuracy: {val_accuracy}')\n",
        "    wandb.log({'train_loss': train_loss, 'train_accuracy': train_accuracy, 'val_loss' : val_loss, 'val_accuracy' : val_accuracy, 'epoch': epoch+1})"
      ],
      "metadata": {
        "id": "canGjBNbz4hM"
      },
      "execution_count": 138,
      "outputs": []
    },
    {
      "cell_type": "markdown",
      "source": [
        "Q7] For the best model identified above, report the accuracy on the test set of fashion_mnist and plot the confusion matrix"
      ],
      "metadata": {
        "id": "iogGp8MLSElr"
      }
    },
    {
      "cell_type": "code",
      "source": [
        "def confusion_matrix(X_test, y_test, hidden_layer_size, hidden_layers, loss_func, activation_func, wt_init, learning_rate, epochs, batch, opt_func, wt_decay):\n",
        "  #wandb.init(project = 'DL_Assignment_1', entity = 'cs23m009')\n",
        "  input_neurons = X_test.shape[1]\n",
        "  hidden_neurons = hidden_layer_size\n",
        "  num_layers = hidden_layers\n",
        "  hidden_layer = [hidden_neurons] * num_layers\n",
        "  output_neurons = 10\n",
        "  layers = [input_neurons] + hidden_layer + [output_neurons]\n",
        "  y_test_onehot = np.eye(10)[y_test]\n",
        "  loss_function = loss_func\n",
        "  activation = activation_func\n",
        "  weight_init = wt_init\n",
        "\n",
        "  params = initializeParam(layers, activation, weight_init)\n",
        "  eta = learning_rate\n",
        "  max_epochs = epochs\n",
        "  momentum = 0.5\n",
        "  beta = 0.9\n",
        "  beta1 = 0.9\n",
        "  beta2 = 0.999\n",
        "  eps = 0.000001\n",
        "  batch_size= batch\n",
        "  optimizer = opt_func\n",
        "  decay = wt_decay\n",
        "  final_res = []\n",
        "  history = {}\n",
        "  moment = {}\n",
        "  print(layers)\n",
        "\n",
        "  for epoch in range(epochs):\n",
        "    for i in range(0, X_train.shape[0], batch_size):\n",
        "      X_batch = X_test[i : i + batch_size]\n",
        "      y_batch = y_test_onehot[i : i + batch_size]\n",
        "\n",
        "      output, func = forward_prop(X_batch, layers, params, activation)\n",
        "      if(optimizer == \"nesterov\"):\n",
        "        lookahead(params, history, momentum)\n",
        "      gradients = back_prop(func, params, y_batch, output, len(hidden_layer), loss_function, activation)\n",
        "      match optimizer:\n",
        "        case \"sgd\":\n",
        "          sgd(params, gradients, eta, len(hidden_layer)+2, decay)\n",
        "        case \"momentum\":\n",
        "          mgd(params, gradients, history, max_epochs, momentum, eta, len(hidden_layer)+2, decay)\n",
        "        case \"nesterov\":\n",
        "          nag(params, gradients, history, max_epochs, momentum, eta, len(hidden_layer)+2, decay)\n",
        "        case \"rmsprop\":\n",
        "          rmsprop(params, gradients, history, max_epochs, beta, eta, eps, len(hidden_layer)+2, decay)\n",
        "        case \"adam\":\n",
        "          adam(params, gradients, history, moment, max_epochs, beta1, beta2, eta, eps, len(hidden_layer)+2, epoch+1, decay)\n",
        "        case \"nadam\":\n",
        "          nadam(params, gradients, history, moment, max_epochs, beta1, beta2, eta, eps, len(hidden_layer)+2, epoch+1, decay)\n",
        "        case default:\n",
        "          sgd(params, gradients, eta, len(hidden_layer)+2, decay)\n",
        "\n",
        "  y_predict, func = forward_prop(X_test, layers, params, activation)\n",
        "  test_loss = compute_loss(y_test_onehot, y_predict.T, loss_function)\n",
        "  test_accuracy = get_accuracy(get_prediction(y_predict), y_test)\n",
        "  cal_confusion(get_prediction(y_predict), y_test)\n",
        "  #wandb.log({\"Confusion Matrix \" : wandb.sklearn.plot_confusion_matrix(y_test, get_prediction(y_predict), class_labels)})\n",
        "  print(test_accuracy, test_loss)\n",
        "  #wandb.finish()"
      ],
      "metadata": {
        "id": "JnSx49re0I-9"
      },
      "execution_count": 139,
      "outputs": []
    },
    {
      "cell_type": "code",
      "source": [
        "confusion_matrix(X_test, y_test, 128, 5, \"cross_entropy\", \"tanh\", \"Xavier\", 0.001, 10, 64, \"nadam\", 0)"
      ],
      "metadata": {
        "colab": {
          "base_uri": "https://localhost:8080/"
        },
        "id": "DCl43p1_dqBp",
        "outputId": "7f7bcbb5-7859-457b-f354-0035d252bd45"
      },
      "execution_count": 144,
      "outputs": [
        {
          "output_type": "stream",
          "name": "stdout",
          "text": [
            "[784, 128, 128, 128, 10]\n",
            "[[859.   2.  11.  48.   0.   1.  95.   0.   2.   0.]\n",
            " [  0. 978.   0.   7.   0.   0.   0.   0.   1.   0.]\n",
            " [  6.   0. 630.  15.  18.   0.  40.   0.   0.   0.]\n",
            " [  4.  13.   3. 778.   2.   0.   3.   0.   1.   0.]\n",
            " [  5.   4. 319.  92. 964.   0. 190.   0.   4.   0.]\n",
            " [  0.   0.   0.   0.   0. 993.   0.  38.   1.   3.]\n",
            " [120.   2.  36.  59.  16.   0. 666.   0.   2.   0.]\n",
            " [  0.   0.   0.   0.   0.   2.   0. 941.   1.  27.]\n",
            " [  6.   1.   1.   1.   0.   1.   6.   3. 988.   1.]\n",
            " [  0.   0.   0.   0.   0.   3.   0.  18.   0. 969.]]\n",
            "0.8766 0.32912227793799054\n"
          ]
        }
      ]
    },
    {
      "cell_type": "markdown",
      "source": [
        "Q8]  Compare the cross entropy loss with the squared error loss."
      ],
      "metadata": {
        "id": "hUZ3F4hKSOZb"
      }
    },
    {
      "cell_type": "code",
      "source": [
        "wandb.init(project=\"DL_Assignment_1\", entity = \"cs23m009\")\n",
        "train(X_train, y_train, 128, 5, \"cross_entropy\", \"relu\", \"Xavier\", 0.001, 10, 64, \"nadam\", 0)\n",
        "wandb.finish()"
      ],
      "metadata": {
        "colab": {
          "base_uri": "https://localhost:8080/",
          "height": 531,
          "referenced_widgets": [
            "deac75b5b61842dfbf1859df1fea98a4",
            "9c89f6f77b4242539354e6e675783bcd",
            "266c5fc75c3a4d648f3a7be166f3b75d",
            "0307d9d3e25f4b588978e8ebe74c4a00",
            "218810f6d5d842d6bbcb19ea5bbb46db",
            "c5d723d5cc6f4aa787d0c1c25bada78a",
            "48f8edb200e64b8c8c6dd00976a51451",
            "30815a43952241f9a1354ebd669b3a89"
          ]
        },
        "id": "hkPgaIh1kb5G",
        "outputId": "29ade2cd-9e55-4603-d496-7fa3e9aa676f"
      },
      "execution_count": 30,
      "outputs": [
        {
          "output_type": "display_data",
          "data": {
            "text/plain": [
              "<IPython.core.display.HTML object>"
            ],
            "text/html": [
              "Tracking run with wandb version 0.16.4"
            ]
          },
          "metadata": {}
        },
        {
          "output_type": "display_data",
          "data": {
            "text/plain": [
              "<IPython.core.display.HTML object>"
            ],
            "text/html": [
              "Run data is saved locally in <code>/content/wandb/run-20240314_133144-c6op9afz</code>"
            ]
          },
          "metadata": {}
        },
        {
          "output_type": "display_data",
          "data": {
            "text/plain": [
              "<IPython.core.display.HTML object>"
            ],
            "text/html": [
              "Syncing run <strong><a href='https://wandb.ai/cs23m009/DL_Assignment_1/runs/c6op9afz' target=\"_blank\">spiced-square-557</a></strong> to <a href='https://wandb.ai/cs23m009/DL_Assignment_1' target=\"_blank\">Weights & Biases</a> (<a href='https://wandb.me/run' target=\"_blank\">docs</a>)<br/>"
            ]
          },
          "metadata": {}
        },
        {
          "output_type": "display_data",
          "data": {
            "text/plain": [
              "<IPython.core.display.HTML object>"
            ],
            "text/html": [
              " View project at <a href='https://wandb.ai/cs23m009/DL_Assignment_1' target=\"_blank\">https://wandb.ai/cs23m009/DL_Assignment_1</a>"
            ]
          },
          "metadata": {}
        },
        {
          "output_type": "display_data",
          "data": {
            "text/plain": [
              "<IPython.core.display.HTML object>"
            ],
            "text/html": [
              " View run at <a href='https://wandb.ai/cs23m009/DL_Assignment_1/runs/c6op9afz' target=\"_blank\">https://wandb.ai/cs23m009/DL_Assignment_1/runs/c6op9afz</a>"
            ]
          },
          "metadata": {}
        },
        {
          "output_type": "stream",
          "name": "stdout",
          "text": [
            "Epoch 1, Train Loss: 0.34968013850677326, Train Accuracy: 0.8732037037037037, Val Loss: 0.3649177274042961, Val Accuracy: 0.8661666666666666\n",
            "Epoch 2, Train Loss: 0.31067664135627326, Train Accuracy: 0.8878703703703704, Val Loss: 0.33827613279826496, Val Accuracy: 0.8765\n",
            "Epoch 3, Train Loss: 0.2872877015473446, Train Accuracy: 0.8946111111111111, Val Loss: 0.3244909549754149, Val Accuracy: 0.8808333333333334\n",
            "Epoch 4, Train Loss: 0.27171171959065976, Train Accuracy: 0.9002407407407408, Val Loss: 0.3171516898726329, Val Accuracy: 0.884\n",
            "Epoch 5, Train Loss: 0.25998473068617367, Train Accuracy: 0.9036851851851851, Val Loss: 0.3128222839706389, Val Accuracy: 0.8848333333333334\n",
            "Epoch 6, Train Loss: 0.2501839163377341, Train Accuracy: 0.9068888888888889, Val Loss: 0.3099716089255395, Val Accuracy: 0.8863333333333333\n",
            "Epoch 7, Train Loss: 0.24147246603875538, Train Accuracy: 0.9100185185185186, Val Loss: 0.30796182789306137, Val Accuracy: 0.8888333333333334\n",
            "Epoch 8, Train Loss: 0.23352667882816266, Train Accuracy: 0.913425925925926, Val Loss: 0.3065199316673488, Val Accuracy: 0.8886666666666667\n",
            "Epoch 9, Train Loss: 0.2262020827138688, Train Accuracy: 0.9157962962962963, Val Loss: 0.30554248612205964, Val Accuracy: 0.89\n",
            "Epoch 10, Train Loss: 0.21934819859053897, Train Accuracy: 0.9184074074074075, Val Loss: 0.30495848207279397, Val Accuracy: 0.8915\n"
          ]
        },
        {
          "output_type": "display_data",
          "data": {
            "text/plain": [
              "VBox(children=(Label(value='0.001 MB of 0.012 MB uploaded\\r'), FloatProgress(value=0.10828446353349303, max=1.…"
            ],
            "application/vnd.jupyter.widget-view+json": {
              "version_major": 2,
              "version_minor": 0,
              "model_id": "deac75b5b61842dfbf1859df1fea98a4"
            }
          },
          "metadata": {}
        },
        {
          "output_type": "display_data",
          "data": {
            "text/plain": [
              "<IPython.core.display.HTML object>"
            ],
            "text/html": [
              "<style>\n",
              "    table.wandb td:nth-child(1) { padding: 0 10px; text-align: left ; width: auto;} td:nth-child(2) {text-align: left ; width: 100%}\n",
              "    .wandb-row { display: flex; flex-direction: row; flex-wrap: wrap; justify-content: flex-start; width: 100% }\n",
              "    .wandb-col { display: flex; flex-direction: column; flex-basis: 100%; flex: 1; padding: 10px; }\n",
              "    </style>\n",
              "<div class=\"wandb-row\"><div class=\"wandb-col\"><h3>Run history:</h3><br/><table class=\"wandb\"><tr><td>epoch</td><td>▁▂▃▃▄▅▆▆▇█</td></tr><tr><td>train_accuracy</td><td>▁▃▄▅▆▆▇▇██</td></tr><tr><td>train_loss</td><td>█▆▅▄▃▃▂▂▁▁</td></tr><tr><td>val_accuracy</td><td>▁▄▅▆▆▇▇▇██</td></tr><tr><td>val_loss</td><td>█▅▃▂▂▂▁▁▁▁</td></tr></table><br/></div><div class=\"wandb-col\"><h3>Run summary:</h3><br/><table class=\"wandb\"><tr><td>epoch</td><td>10</td></tr><tr><td>train_accuracy</td><td>0.91841</td></tr><tr><td>train_loss</td><td>0.21935</td></tr><tr><td>val_accuracy</td><td>0.8915</td></tr><tr><td>val_loss</td><td>0.30496</td></tr></table><br/></div></div>"
            ]
          },
          "metadata": {}
        },
        {
          "output_type": "display_data",
          "data": {
            "text/plain": [
              "<IPython.core.display.HTML object>"
            ],
            "text/html": [
              " View run <strong style=\"color:#cdcd00\">spiced-square-557</strong> at: <a href='https://wandb.ai/cs23m009/DL_Assignment_1/runs/c6op9afz' target=\"_blank\">https://wandb.ai/cs23m009/DL_Assignment_1/runs/c6op9afz</a><br/>Synced 5 W&B file(s), 0 media file(s), 0 artifact file(s) and 0 other file(s)"
            ]
          },
          "metadata": {}
        },
        {
          "output_type": "display_data",
          "data": {
            "text/plain": [
              "<IPython.core.display.HTML object>"
            ],
            "text/html": [
              "Find logs at: <code>./wandb/run-20240314_133144-c6op9afz/logs</code>"
            ]
          },
          "metadata": {}
        }
      ]
    },
    {
      "cell_type": "code",
      "source": [
        "wandb.init(project=\"DL_Assignment_1\", entity = \"cs23m009\")\n",
        "train(X_train, y_train, 128, 5, \"squared_loss\", \"relu\", \"Xavier\", 0.001, 10, 64, \"nadam\", 0)\n",
        "wandb.finish()"
      ],
      "metadata": {
        "colab": {
          "base_uri": "https://localhost:8080/",
          "height": 531,
          "referenced_widgets": [
            "d553fb322aee4dc09259ab8a2ccfbe8e",
            "c1934337aa7c4420987a31914afc30bc",
            "fabfe17474e9494b945c54d92167affe",
            "a0f5697294b34b698d82223976710810",
            "f1947475b5f44d2da09f4068b08e905f",
            "9acdb00b0f2644ccb7887d69c2ff91e8",
            "370328200bc84660ae652ce2d28b3c56",
            "57b4142352c347bab018feec48ff99e0"
          ]
        },
        "id": "UWS_8dOorX-7",
        "outputId": "bdf2b858-9018-4d1f-a894-78887c51b099"
      },
      "execution_count": 31,
      "outputs": [
        {
          "output_type": "display_data",
          "data": {
            "text/plain": [
              "<IPython.core.display.HTML object>"
            ],
            "text/html": [
              "Tracking run with wandb version 0.16.4"
            ]
          },
          "metadata": {}
        },
        {
          "output_type": "display_data",
          "data": {
            "text/plain": [
              "<IPython.core.display.HTML object>"
            ],
            "text/html": [
              "Run data is saved locally in <code>/content/wandb/run-20240314_133423-4iixb1k0</code>"
            ]
          },
          "metadata": {}
        },
        {
          "output_type": "display_data",
          "data": {
            "text/plain": [
              "<IPython.core.display.HTML object>"
            ],
            "text/html": [
              "Syncing run <strong><a href='https://wandb.ai/cs23m009/DL_Assignment_1/runs/4iixb1k0' target=\"_blank\">lemon-brownie-558</a></strong> to <a href='https://wandb.ai/cs23m009/DL_Assignment_1' target=\"_blank\">Weights & Biases</a> (<a href='https://wandb.me/run' target=\"_blank\">docs</a>)<br/>"
            ]
          },
          "metadata": {}
        },
        {
          "output_type": "display_data",
          "data": {
            "text/plain": [
              "<IPython.core.display.HTML object>"
            ],
            "text/html": [
              " View project at <a href='https://wandb.ai/cs23m009/DL_Assignment_1' target=\"_blank\">https://wandb.ai/cs23m009/DL_Assignment_1</a>"
            ]
          },
          "metadata": {}
        },
        {
          "output_type": "display_data",
          "data": {
            "text/plain": [
              "<IPython.core.display.HTML object>"
            ],
            "text/html": [
              " View run at <a href='https://wandb.ai/cs23m009/DL_Assignment_1/runs/4iixb1k0' target=\"_blank\">https://wandb.ai/cs23m009/DL_Assignment_1/runs/4iixb1k0</a>"
            ]
          },
          "metadata": {}
        },
        {
          "output_type": "stream",
          "name": "stdout",
          "text": [
            "Epoch 1, Train Loss: 0.1895317258766944, Train Accuracy: 0.8666666666666667, Val Loss: 0.19878711410672123, Val Accuracy: 0.86\n",
            "Epoch 2, Train Loss: 0.17288250203127786, Train Accuracy: 0.8789444444444444, Val Loss: 0.18566190840892216, Val Accuracy: 0.8701666666666666\n",
            "Epoch 3, Train Loss: 0.16351088934973743, Train Accuracy: 0.8866296296296297, Val Loss: 0.1800351287787599, Val Accuracy: 0.8758333333333334\n",
            "Epoch 4, Train Loss: 0.15594158674453087, Train Accuracy: 0.8918148148148148, Val Loss: 0.17587407286795598, Val Accuracy: 0.879\n",
            "Epoch 5, Train Loss: 0.14956173774431802, Train Accuracy: 0.895537037037037, Val Loss: 0.1729058948017992, Val Accuracy: 0.8806666666666667\n",
            "Epoch 6, Train Loss: 0.1443877835207228, Train Accuracy: 0.8989074074074074, Val Loss: 0.1710983423283844, Val Accuracy: 0.8801666666666667\n",
            "Epoch 7, Train Loss: 0.14028989477774356, Train Accuracy: 0.901425925925926, Val Loss: 0.16994347107136776, Val Accuracy: 0.8838333333333334\n",
            "Epoch 8, Train Loss: 0.13718788331504586, Train Accuracy: 0.9027777777777778, Val Loss: 0.1692811996897643, Val Accuracy: 0.8835\n",
            "Epoch 9, Train Loss: 0.1348009735196726, Train Accuracy: 0.9042777777777777, Val Loss: 0.16889245504940276, Val Accuracy: 0.8851666666666667\n",
            "Epoch 10, Train Loss: 0.13277906356732783, Train Accuracy: 0.9055925925925926, Val Loss: 0.16855962941624425, Val Accuracy: 0.8853333333333333\n"
          ]
        },
        {
          "output_type": "display_data",
          "data": {
            "text/plain": [
              "VBox(children=(Label(value='0.001 MB of 0.001 MB uploaded\\r'), FloatProgress(value=1.0, max=1.0)))"
            ],
            "application/vnd.jupyter.widget-view+json": {
              "version_major": 2,
              "version_minor": 0,
              "model_id": "d553fb322aee4dc09259ab8a2ccfbe8e"
            }
          },
          "metadata": {}
        },
        {
          "output_type": "display_data",
          "data": {
            "text/plain": [
              "<IPython.core.display.HTML object>"
            ],
            "text/html": [
              "<style>\n",
              "    table.wandb td:nth-child(1) { padding: 0 10px; text-align: left ; width: auto;} td:nth-child(2) {text-align: left ; width: 100%}\n",
              "    .wandb-row { display: flex; flex-direction: row; flex-wrap: wrap; justify-content: flex-start; width: 100% }\n",
              "    .wandb-col { display: flex; flex-direction: column; flex-basis: 100%; flex: 1; padding: 10px; }\n",
              "    </style>\n",
              "<div class=\"wandb-row\"><div class=\"wandb-col\"><h3>Run history:</h3><br/><table class=\"wandb\"><tr><td>epoch</td><td>▁▂▃▃▄▅▆▆▇█</td></tr><tr><td>train_accuracy</td><td>▁▃▅▆▆▇▇▇██</td></tr><tr><td>train_loss</td><td>█▆▅▄▃▂▂▂▁▁</td></tr><tr><td>val_accuracy</td><td>▁▄▅▆▇▇█▇██</td></tr><tr><td>val_loss</td><td>█▅▄▃▂▂▁▁▁▁</td></tr></table><br/></div><div class=\"wandb-col\"><h3>Run summary:</h3><br/><table class=\"wandb\"><tr><td>epoch</td><td>10</td></tr><tr><td>train_accuracy</td><td>0.90559</td></tr><tr><td>train_loss</td><td>0.13278</td></tr><tr><td>val_accuracy</td><td>0.88533</td></tr><tr><td>val_loss</td><td>0.16856</td></tr></table><br/></div></div>"
            ]
          },
          "metadata": {}
        },
        {
          "output_type": "display_data",
          "data": {
            "text/plain": [
              "<IPython.core.display.HTML object>"
            ],
            "text/html": [
              " View run <strong style=\"color:#cdcd00\">lemon-brownie-558</strong> at: <a href='https://wandb.ai/cs23m009/DL_Assignment_1/runs/4iixb1k0' target=\"_blank\">https://wandb.ai/cs23m009/DL_Assignment_1/runs/4iixb1k0</a><br/>Synced 5 W&B file(s), 0 media file(s), 0 artifact file(s) and 0 other file(s)"
            ]
          },
          "metadata": {}
        },
        {
          "output_type": "display_data",
          "data": {
            "text/plain": [
              "<IPython.core.display.HTML object>"
            ],
            "text/html": [
              "Find logs at: <code>./wandb/run-20240314_133423-4iixb1k0/logs</code>"
            ]
          },
          "metadata": {}
        }
      ]
    },
    {
      "cell_type": "code",
      "source": [],
      "metadata": {
        "id": "H-dl2iThrYeL"
      },
      "execution_count": 51,
      "outputs": []
    },
    {
      "cell_type": "markdown",
      "source": [
        "Q10] Check for MNIST Data (before running make sure to load data above)"
      ],
      "metadata": {
        "id": "JAV7muQSMA34"
      }
    },
    {
      "cell_type": "code",
      "source": [
        "wandb.init(project=\"DL_Assignment_1\", entity = \"cs23m009\")\n",
        "train(X_train, y_train, 128, 3, \"cross_entropy\", \"tanh\", \"Xavier\", 0.001, 5, 64, \"nadam\", 0)\n",
        "wandb.finish()"
      ],
      "metadata": {
        "colab": {
          "base_uri": "https://localhost:8080/",
          "height": 444,
          "referenced_widgets": [
            "a5452317fb9d48f5a7cb80a7761c4699",
            "1e026c42cec14dfbadf6f9bba766c583",
            "7b1fa005ad9e4889acf2bfd60823d4b3",
            "3bdf7b80cf25431f9db80f8b6e63938a",
            "d3dca5126c7c4def8ca374bc5beb18d6",
            "a14ea05d8260438f8ad411f9a517ffc2",
            "ce8d48cb13cf4837b4786fcdaacb4b2b",
            "9e0e2e34653e4d2b8d178f6a48c12f2c"
          ]
        },
        "id": "DV-ASVU-xkVd",
        "outputId": "5f2fa598-8469-4439-b983-82f5a884ad49"
      },
      "execution_count": 111,
      "outputs": [
        {
          "output_type": "display_data",
          "data": {
            "text/plain": [
              "<IPython.core.display.HTML object>"
            ],
            "text/html": [
              "Tracking run with wandb version 0.16.4"
            ]
          },
          "metadata": {}
        },
        {
          "output_type": "display_data",
          "data": {
            "text/plain": [
              "<IPython.core.display.HTML object>"
            ],
            "text/html": [
              "Run data is saved locally in <code>/content/wandb/run-20240314_175732-7hgpst9q</code>"
            ]
          },
          "metadata": {}
        },
        {
          "output_type": "display_data",
          "data": {
            "text/plain": [
              "<IPython.core.display.HTML object>"
            ],
            "text/html": [
              "Syncing run <strong><a href='https://wandb.ai/cs23m009/DL_Assignment_1/runs/7hgpst9q' target=\"_blank\">cinnamon-flan-570</a></strong> to <a href='https://wandb.ai/cs23m009/DL_Assignment_1' target=\"_blank\">Weights & Biases</a> (<a href='https://wandb.me/run' target=\"_blank\">docs</a>)<br/>"
            ]
          },
          "metadata": {}
        },
        {
          "output_type": "display_data",
          "data": {
            "text/plain": [
              "<IPython.core.display.HTML object>"
            ],
            "text/html": [
              " View project at <a href='https://wandb.ai/cs23m009/DL_Assignment_1' target=\"_blank\">https://wandb.ai/cs23m009/DL_Assignment_1</a>"
            ]
          },
          "metadata": {}
        },
        {
          "output_type": "display_data",
          "data": {
            "text/plain": [
              "<IPython.core.display.HTML object>"
            ],
            "text/html": [
              " View run at <a href='https://wandb.ai/cs23m009/DL_Assignment_1/runs/7hgpst9q' target=\"_blank\">https://wandb.ai/cs23m009/DL_Assignment_1/runs/7hgpst9q</a>"
            ]
          },
          "metadata": {}
        },
        {
          "output_type": "stream",
          "name": "stdout",
          "text": [
            "Epoch 1, Train Loss: 0.14378545374288945, Train Accuracy: 0.9586851851851852, Val Loss: 0.15298401406180698, Val Accuracy: 0.9531666666666667\n",
            "Epoch 2, Train Loss: 0.10628864412125563, Train Accuracy: 0.9696851851851852, Val Loss: 0.1227309313094423, Val Accuracy: 0.9636666666666667\n",
            "Epoch 3, Train Loss: 0.08673899171103037, Train Accuracy: 0.9752037037037037, Val Loss: 0.10851279848895878, Val Accuracy: 0.9688333333333333\n",
            "Epoch 4, Train Loss: 0.07318289494347716, Train Accuracy: 0.9793518518518518, Val Loss: 0.09911559888299047, Val Accuracy: 0.9713333333333334\n",
            "Epoch 5, Train Loss: 0.06270504213860892, Train Accuracy: 0.9829074074074075, Val Loss: 0.09215187625632895, Val Accuracy: 0.9721666666666666\n"
          ]
        },
        {
          "output_type": "display_data",
          "data": {
            "text/plain": [
              "VBox(children=(Label(value='0.001 MB of 0.001 MB uploaded\\r'), FloatProgress(value=1.0, max=1.0)))"
            ],
            "application/vnd.jupyter.widget-view+json": {
              "version_major": 2,
              "version_minor": 0,
              "model_id": "a5452317fb9d48f5a7cb80a7761c4699"
            }
          },
          "metadata": {}
        },
        {
          "output_type": "display_data",
          "data": {
            "text/plain": [
              "<IPython.core.display.HTML object>"
            ],
            "text/html": [
              "<style>\n",
              "    table.wandb td:nth-child(1) { padding: 0 10px; text-align: left ; width: auto;} td:nth-child(2) {text-align: left ; width: 100%}\n",
              "    .wandb-row { display: flex; flex-direction: row; flex-wrap: wrap; justify-content: flex-start; width: 100% }\n",
              "    .wandb-col { display: flex; flex-direction: column; flex-basis: 100%; flex: 1; padding: 10px; }\n",
              "    </style>\n",
              "<div class=\"wandb-row\"><div class=\"wandb-col\"><h3>Run history:</h3><br/><table class=\"wandb\"><tr><td>epoch</td><td>▁▃▅▆█</td></tr><tr><td>train_accuracy</td><td>▁▄▆▇█</td></tr><tr><td>train_loss</td><td>█▅▃▂▁</td></tr><tr><td>val_accuracy</td><td>▁▅▇██</td></tr><tr><td>val_loss</td><td>█▅▃▂▁</td></tr></table><br/></div><div class=\"wandb-col\"><h3>Run summary:</h3><br/><table class=\"wandb\"><tr><td>epoch</td><td>5</td></tr><tr><td>train_accuracy</td><td>0.98291</td></tr><tr><td>train_loss</td><td>0.06271</td></tr><tr><td>val_accuracy</td><td>0.97217</td></tr><tr><td>val_loss</td><td>0.09215</td></tr></table><br/></div></div>"
            ]
          },
          "metadata": {}
        },
        {
          "output_type": "display_data",
          "data": {
            "text/plain": [
              "<IPython.core.display.HTML object>"
            ],
            "text/html": [
              " View run <strong style=\"color:#cdcd00\">cinnamon-flan-570</strong> at: <a href='https://wandb.ai/cs23m009/DL_Assignment_1/runs/7hgpst9q' target=\"_blank\">https://wandb.ai/cs23m009/DL_Assignment_1/runs/7hgpst9q</a><br/>Synced 5 W&B file(s), 0 media file(s), 0 artifact file(s) and 0 other file(s)"
            ]
          },
          "metadata": {}
        },
        {
          "output_type": "display_data",
          "data": {
            "text/plain": [
              "<IPython.core.display.HTML object>"
            ],
            "text/html": [
              "Find logs at: <code>./wandb/run-20240314_175732-7hgpst9q/logs</code>"
            ]
          },
          "metadata": {}
        }
      ]
    },
    {
      "cell_type": "code",
      "source": [
        "wandb.init(project=\"DL_Assignment_1\", entity = \"cs23m009\")\n",
        "train(X_train, y_train, 128, 3, \"cross_entropy\", \"relu\", \"Xavier\", 0.001, 5, 32, \"adam\", 0)\n",
        "wandb.finish()"
      ],
      "metadata": {
        "colab": {
          "base_uri": "https://localhost:8080/",
          "height": 444,
          "referenced_widgets": [
            "c76e070551e54ed4adc8f35f29c3487c",
            "ed25b7636af04020aa71c14440b4184c",
            "075c671333a142d4b6865acee99b85fa",
            "dc2cd66b7496439a94431fd597547457",
            "56ff67aa5fd54189a3d4707d41a284c7",
            "ec55b1228a0847728e35ee3cac681ee9",
            "32344cb4b21f42dd9b94e4990f925ea2",
            "817241b2281d4b42a216f53c2e74b7ea"
          ]
        },
        "id": "WH6YxL4Py8to",
        "outputId": "dc5cece5-4801-4f0d-b309-3faba143efe7"
      },
      "execution_count": 112,
      "outputs": [
        {
          "output_type": "display_data",
          "data": {
            "text/plain": [
              "<IPython.core.display.HTML object>"
            ],
            "text/html": [
              "Tracking run with wandb version 0.16.4"
            ]
          },
          "metadata": {}
        },
        {
          "output_type": "display_data",
          "data": {
            "text/plain": [
              "<IPython.core.display.HTML object>"
            ],
            "text/html": [
              "Run data is saved locally in <code>/content/wandb/run-20240314_175847-e7y7gisd</code>"
            ]
          },
          "metadata": {}
        },
        {
          "output_type": "display_data",
          "data": {
            "text/plain": [
              "<IPython.core.display.HTML object>"
            ],
            "text/html": [
              "Syncing run <strong><a href='https://wandb.ai/cs23m009/DL_Assignment_1/runs/e7y7gisd' target=\"_blank\">banana-cream-pie-571</a></strong> to <a href='https://wandb.ai/cs23m009/DL_Assignment_1' target=\"_blank\">Weights & Biases</a> (<a href='https://wandb.me/run' target=\"_blank\">docs</a>)<br/>"
            ]
          },
          "metadata": {}
        },
        {
          "output_type": "display_data",
          "data": {
            "text/plain": [
              "<IPython.core.display.HTML object>"
            ],
            "text/html": [
              " View project at <a href='https://wandb.ai/cs23m009/DL_Assignment_1' target=\"_blank\">https://wandb.ai/cs23m009/DL_Assignment_1</a>"
            ]
          },
          "metadata": {}
        },
        {
          "output_type": "display_data",
          "data": {
            "text/plain": [
              "<IPython.core.display.HTML object>"
            ],
            "text/html": [
              " View run at <a href='https://wandb.ai/cs23m009/DL_Assignment_1/runs/e7y7gisd' target=\"_blank\">https://wandb.ai/cs23m009/DL_Assignment_1/runs/e7y7gisd</a>"
            ]
          },
          "metadata": {}
        },
        {
          "output_type": "stream",
          "name": "stdout",
          "text": [
            "Epoch 1, Train Loss: 0.11264834960997817, Train Accuracy: 0.967037037037037, Val Loss: 0.12752529181748368, Val Accuracy: 0.963\n",
            "Epoch 2, Train Loss: 0.07365138736743455, Train Accuracy: 0.9782222222222222, Val Loss: 0.09582821148187111, Val Accuracy: 0.9716666666666667\n",
            "Epoch 3, Train Loss: 0.055162541943479144, Train Accuracy: 0.9837962962962963, Val Loss: 0.08435685712372423, Val Accuracy: 0.9755\n",
            "Epoch 4, Train Loss: 0.04262825148690485, Train Accuracy: 0.9878333333333333, Val Loss: 0.0783274239585031, Val Accuracy: 0.9773333333333334\n",
            "Epoch 5, Train Loss: 0.03429634228898798, Train Accuracy: 0.9902962962962963, Val Loss: 0.07570144724755246, Val Accuracy: 0.9765\n"
          ]
        },
        {
          "output_type": "display_data",
          "data": {
            "text/plain": [
              "VBox(children=(Label(value='0.011 MB of 0.011 MB uploaded\\r'), FloatProgress(value=1.0, max=1.0)))"
            ],
            "application/vnd.jupyter.widget-view+json": {
              "version_major": 2,
              "version_minor": 0,
              "model_id": "c76e070551e54ed4adc8f35f29c3487c"
            }
          },
          "metadata": {}
        },
        {
          "output_type": "display_data",
          "data": {
            "text/plain": [
              "<IPython.core.display.HTML object>"
            ],
            "text/html": [
              "<style>\n",
              "    table.wandb td:nth-child(1) { padding: 0 10px; text-align: left ; width: auto;} td:nth-child(2) {text-align: left ; width: 100%}\n",
              "    .wandb-row { display: flex; flex-direction: row; flex-wrap: wrap; justify-content: flex-start; width: 100% }\n",
              "    .wandb-col { display: flex; flex-direction: column; flex-basis: 100%; flex: 1; padding: 10px; }\n",
              "    </style>\n",
              "<div class=\"wandb-row\"><div class=\"wandb-col\"><h3>Run history:</h3><br/><table class=\"wandb\"><tr><td>epoch</td><td>▁▃▅▆█</td></tr><tr><td>train_accuracy</td><td>▁▄▆▇█</td></tr><tr><td>train_loss</td><td>█▅▃▂▁</td></tr><tr><td>val_accuracy</td><td>▁▅▇██</td></tr><tr><td>val_loss</td><td>█▄▂▁▁</td></tr></table><br/></div><div class=\"wandb-col\"><h3>Run summary:</h3><br/><table class=\"wandb\"><tr><td>epoch</td><td>5</td></tr><tr><td>train_accuracy</td><td>0.9903</td></tr><tr><td>train_loss</td><td>0.0343</td></tr><tr><td>val_accuracy</td><td>0.9765</td></tr><tr><td>val_loss</td><td>0.0757</td></tr></table><br/></div></div>"
            ]
          },
          "metadata": {}
        },
        {
          "output_type": "display_data",
          "data": {
            "text/plain": [
              "<IPython.core.display.HTML object>"
            ],
            "text/html": [
              " View run <strong style=\"color:#cdcd00\">banana-cream-pie-571</strong> at: <a href='https://wandb.ai/cs23m009/DL_Assignment_1/runs/e7y7gisd' target=\"_blank\">https://wandb.ai/cs23m009/DL_Assignment_1/runs/e7y7gisd</a><br/>Synced 5 W&B file(s), 0 media file(s), 0 artifact file(s) and 0 other file(s)"
            ]
          },
          "metadata": {}
        },
        {
          "output_type": "display_data",
          "data": {
            "text/plain": [
              "<IPython.core.display.HTML object>"
            ],
            "text/html": [
              "Find logs at: <code>./wandb/run-20240314_175847-e7y7gisd/logs</code>"
            ]
          },
          "metadata": {}
        }
      ]
    },
    {
      "cell_type": "code",
      "source": [
        "wandb.init(project=\"DL_Assignment_1\", entity = \"cs23m009\")\n",
        "train(X_train, y_train, 128, 3, \"cross_entropy\", \"sigmoid\", \"Xavier\", 0.005, 5, 32, \"adam\", 0)\n",
        "wandb.finish()"
      ],
      "metadata": {
        "colab": {
          "base_uri": "https://localhost:8080/",
          "height": 444,
          "referenced_widgets": [
            "93491020d03447df84c0d14fa84521be",
            "92bf0f41a1d34a4cb963e56f202caf1b",
            "3048a941785141d59ccc5a38d3e5a63d",
            "682d0eafbc13462f8aa9334727fca1ad",
            "1fbdf31045604224a35a9e016dcb9bc8",
            "3142b48b303f434eb5784c3618c137ec",
            "49163a823b16408384d62efd16f0c000",
            "93027b6c0b1846ce98478cbbe887c53a"
          ]
        },
        "id": "2LlnFC8gADpk",
        "outputId": "31922ed4-46a7-4493-8ca4-3ec58589eef0"
      },
      "execution_count": 113,
      "outputs": [
        {
          "output_type": "display_data",
          "data": {
            "text/plain": [
              "<IPython.core.display.HTML object>"
            ],
            "text/html": [
              "Tracking run with wandb version 0.16.4"
            ]
          },
          "metadata": {}
        },
        {
          "output_type": "display_data",
          "data": {
            "text/plain": [
              "<IPython.core.display.HTML object>"
            ],
            "text/html": [
              "Run data is saved locally in <code>/content/wandb/run-20240314_175957-l4q3mjhw</code>"
            ]
          },
          "metadata": {}
        },
        {
          "output_type": "display_data",
          "data": {
            "text/plain": [
              "<IPython.core.display.HTML object>"
            ],
            "text/html": [
              "Syncing run <strong><a href='https://wandb.ai/cs23m009/DL_Assignment_1/runs/l4q3mjhw' target=\"_blank\">banana-cream-cake-572</a></strong> to <a href='https://wandb.ai/cs23m009/DL_Assignment_1' target=\"_blank\">Weights & Biases</a> (<a href='https://wandb.me/run' target=\"_blank\">docs</a>)<br/>"
            ]
          },
          "metadata": {}
        },
        {
          "output_type": "display_data",
          "data": {
            "text/plain": [
              "<IPython.core.display.HTML object>"
            ],
            "text/html": [
              " View project at <a href='https://wandb.ai/cs23m009/DL_Assignment_1' target=\"_blank\">https://wandb.ai/cs23m009/DL_Assignment_1</a>"
            ]
          },
          "metadata": {}
        },
        {
          "output_type": "display_data",
          "data": {
            "text/plain": [
              "<IPython.core.display.HTML object>"
            ],
            "text/html": [
              " View run at <a href='https://wandb.ai/cs23m009/DL_Assignment_1/runs/l4q3mjhw' target=\"_blank\">https://wandb.ai/cs23m009/DL_Assignment_1/runs/l4q3mjhw</a>"
            ]
          },
          "metadata": {}
        },
        {
          "output_type": "stream",
          "name": "stdout",
          "text": [
            "Epoch 1, Train Loss: 0.12310219230150632, Train Accuracy: 0.9629814814814814, Val Loss: 0.13468645345661764, Val Accuracy: 0.9591666666666666\n",
            "Epoch 2, Train Loss: 0.08295747920065205, Train Accuracy: 0.9749629629629629, Val Loss: 0.10421318320977355, Val Accuracy: 0.9673333333333334\n",
            "Epoch 3, Train Loss: 0.06277356900364672, Train Accuracy: 0.9810185185185185, Val Loss: 0.09255504370851347, Val Accuracy: 0.9713333333333334\n",
            "Epoch 4, Train Loss: 0.04897462987790104, Train Accuracy: 0.9851666666666666, Val Loss: 0.08659464226986714, Val Accuracy: 0.9733333333333334\n",
            "Epoch 5, Train Loss: 0.036642927444670306, Train Accuracy: 0.9891296296296296, Val Loss: 0.0815424229500368, Val Accuracy: 0.9753333333333334\n"
          ]
        },
        {
          "output_type": "display_data",
          "data": {
            "text/plain": [
              "VBox(children=(Label(value='0.001 MB of 0.001 MB uploaded\\r'), FloatProgress(value=1.0, max=1.0)))"
            ],
            "application/vnd.jupyter.widget-view+json": {
              "version_major": 2,
              "version_minor": 0,
              "model_id": "93491020d03447df84c0d14fa84521be"
            }
          },
          "metadata": {}
        },
        {
          "output_type": "display_data",
          "data": {
            "text/plain": [
              "<IPython.core.display.HTML object>"
            ],
            "text/html": [
              "<style>\n",
              "    table.wandb td:nth-child(1) { padding: 0 10px; text-align: left ; width: auto;} td:nth-child(2) {text-align: left ; width: 100%}\n",
              "    .wandb-row { display: flex; flex-direction: row; flex-wrap: wrap; justify-content: flex-start; width: 100% }\n",
              "    .wandb-col { display: flex; flex-direction: column; flex-basis: 100%; flex: 1; padding: 10px; }\n",
              "    </style>\n",
              "<div class=\"wandb-row\"><div class=\"wandb-col\"><h3>Run history:</h3><br/><table class=\"wandb\"><tr><td>epoch</td><td>▁▃▅▆█</td></tr><tr><td>train_accuracy</td><td>▁▄▆▇█</td></tr><tr><td>train_loss</td><td>█▅▃▂▁</td></tr><tr><td>val_accuracy</td><td>▁▅▆▇█</td></tr><tr><td>val_loss</td><td>█▄▂▂▁</td></tr></table><br/></div><div class=\"wandb-col\"><h3>Run summary:</h3><br/><table class=\"wandb\"><tr><td>epoch</td><td>5</td></tr><tr><td>train_accuracy</td><td>0.98913</td></tr><tr><td>train_loss</td><td>0.03664</td></tr><tr><td>val_accuracy</td><td>0.97533</td></tr><tr><td>val_loss</td><td>0.08154</td></tr></table><br/></div></div>"
            ]
          },
          "metadata": {}
        },
        {
          "output_type": "display_data",
          "data": {
            "text/plain": [
              "<IPython.core.display.HTML object>"
            ],
            "text/html": [
              " View run <strong style=\"color:#cdcd00\">banana-cream-cake-572</strong> at: <a href='https://wandb.ai/cs23m009/DL_Assignment_1/runs/l4q3mjhw' target=\"_blank\">https://wandb.ai/cs23m009/DL_Assignment_1/runs/l4q3mjhw</a><br/>Synced 5 W&B file(s), 0 media file(s), 0 artifact file(s) and 0 other file(s)"
            ]
          },
          "metadata": {}
        },
        {
          "output_type": "display_data",
          "data": {
            "text/plain": [
              "<IPython.core.display.HTML object>"
            ],
            "text/html": [
              "Find logs at: <code>./wandb/run-20240314_175957-l4q3mjhw/logs</code>"
            ]
          },
          "metadata": {}
        }
      ]
    },
    {
      "cell_type": "code",
      "source": [],
      "metadata": {
        "id": "GDwjbT-ZFL_t"
      },
      "execution_count": null,
      "outputs": []
    }
  ]
}
