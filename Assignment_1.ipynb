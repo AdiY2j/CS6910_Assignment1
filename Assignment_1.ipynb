{
  "nbformat": 4,
  "nbformat_minor": 0,
  "metadata": {
    "colab": {
      "provenance": [],
      "authorship_tag": "ABX9TyMj6M096P+3xxUDmOgR2P9h",
      "include_colab_link": true
    },
    "kernelspec": {
      "name": "python3",
      "display_name": "Python 3"
    },
    "language_info": {
      "name": "python"
    }
  },
  "cells": [
    {
      "cell_type": "markdown",
      "metadata": {
        "id": "view-in-github",
        "colab_type": "text"
      },
      "source": [
        "<a href=\"https://colab.research.google.com/github/AdiY2j/CS6910_Assignment1/blob/main/Assignment_1.ipynb\" target=\"_parent\"><img src=\"https://colab.research.google.com/assets/colab-badge.svg\" alt=\"Open In Colab\"/></a>"
      ]
    },
    {
      "cell_type": "code",
      "execution_count": 3,
      "metadata": {
        "id": "QlElmkE4z3ZY"
      },
      "outputs": [],
      "source": [
        "import numpy as np\n",
        "import pandas as pd\n",
        "import matplotlib.pyplot as plt\n",
        "from sklearn.model_selection import train_test_split\n",
        "np.set_printoptions(suppress=True)\n",
        "from keras.datasets import fashion_mnist"
      ]
    },
    {
      "cell_type": "code",
      "source": [
        "(X_train, y_train), (X_test, y_test) = fashion_mnist.load_data()"
      ],
      "metadata": {
        "colab": {
          "base_uri": "https://localhost:8080/"
        },
        "id": "fwLNvqZW0cW5",
        "outputId": "ffca08ca-c112-4d91-b02e-65d2faeeeca3"
      },
      "execution_count": 4,
      "outputs": [
        {
          "output_type": "stream",
          "name": "stdout",
          "text": [
            "Downloading data from https://storage.googleapis.com/tensorflow/tf-keras-datasets/train-labels-idx1-ubyte.gz\n",
            "29515/29515 [==============================] - 0s 0us/step\n",
            "Downloading data from https://storage.googleapis.com/tensorflow/tf-keras-datasets/train-images-idx3-ubyte.gz\n",
            "26421880/26421880 [==============================] - 0s 0us/step\n",
            "Downloading data from https://storage.googleapis.com/tensorflow/tf-keras-datasets/t10k-labels-idx1-ubyte.gz\n",
            "5148/5148 [==============================] - 0s 0us/step\n",
            "Downloading data from https://storage.googleapis.com/tensorflow/tf-keras-datasets/t10k-images-idx3-ubyte.gz\n",
            "4422102/4422102 [==============================] - 0s 0us/step\n"
          ]
        }
      ]
    },
    {
      "cell_type": "code",
      "source": [
        "X_train.shape[0]"
      ],
      "metadata": {
        "colab": {
          "base_uri": "https://localhost:8080/"
        },
        "id": "7eSnExR20eCH",
        "outputId": "9a04128d-b271-4257-d672-dbc38885a76f"
      },
      "execution_count": 5,
      "outputs": [
        {
          "output_type": "execute_result",
          "data": {
            "text/plain": [
              "60000"
            ]
          },
          "metadata": {},
          "execution_count": 5
        }
      ]
    },
    {
      "cell_type": "code",
      "source": [
        "class_labels = [\"T-shirt/top\", \"Trouser\", \"Pullover\", \"Dress\", \"Coat\",\n",
        "               \"Sandal\", \"Shirt\", \"Sneaker\", \"Bag\", \"Ankle boot\"]\n",
        "\n",
        "# Function to plot one sample image for each class\n",
        "def plot_data(x, y, class_labels):\n",
        "    plt.figure(figsize=(14, 14))\n",
        "\n",
        "    for i in range(len(class_labels)):\n",
        "        id = np.where(y == i)[0][0]\n",
        "        image = x[id]\n",
        "        plt.subplot(1, 10, i+1)\n",
        "        plt.axis('off')\n",
        "        plt.imshow(image, cmap='gray')\n",
        "        plt.title(class_labels[i])\n",
        "\n",
        "    plt.show()\n",
        "\n",
        "plot_data(X_train, y_train, class_labels)"
      ],
      "metadata": {
        "colab": {
          "base_uri": "https://localhost:8080/",
          "height": 151
        },
        "id": "L9VaxTP10f_U",
        "outputId": "2b22e03b-46c9-43a1-bdd9-858482ed1aa2"
      },
      "execution_count": 6,
      "outputs": [
        {
          "output_type": "display_data",
          "data": {
            "text/plain": [
              "<Figure size 1400x1400 with 10 Axes>"
            ],
            "image/png": "[encoded data removed]"
          },
          "metadata": {}
        }
      ]
    },
    {
      "cell_type": "code",
      "source": [
        "X_train, X_val, y_train, y_val = train_test_split(X_train, y_train, test_size=0.1, random_state=42)"
      ],
      "metadata": {
        "id": "6Z6ZHN75lmZ9"
      },
      "execution_count": 7,
      "outputs": []
    },
    {
      "cell_type": "code",
      "source": [
        "X_train = np.array(X_train)\n",
        "X_val = np.array(X_val)\n",
        "X_test = np.array(X_test)\n",
        "# Reshape input feature from 28*28 to 784*1\n",
        "X_train = X_train.reshape(X_train.shape[0], -1) / 255.0\n",
        "X_val = X_val.reshape(X_val.shape[0], -1) / 255.0\n",
        "X_test = X_test.reshape(X_test.shape[0], -1) / 255.0"
      ],
      "metadata": {
        "id": "Sq6Wuivb0jUF"
      },
      "execution_count": 8,
      "outputs": []
    },
    {
      "cell_type": "code",
      "source": [
        "X_train.shape"
      ],
      "metadata": {
        "colab": {
          "base_uri": "https://localhost:8080/"
        },
        "id": "mr13Zqallzqi",
        "outputId": "6357d494-bfc3-4f43-d83e-a4110d2b165a"
      },
      "execution_count": 9,
      "outputs": [
        {
          "output_type": "execute_result",
          "data": {
            "text/plain": [
              "(54000, 784)"
            ]
          },
          "metadata": {},
          "execution_count": 9
        }
      ]
    },
    {
      "cell_type": "code",
      "source": [
        "X_val.shape"
      ],
      "metadata": {
        "colab": {
          "base_uri": "https://localhost:8080/"
        },
        "id": "dmAOEWR1l19Q",
        "outputId": "6a84df48-a430-4984-ade0-1d724084c4fa"
      },
      "execution_count": 10,
      "outputs": [
        {
          "output_type": "execute_result",
          "data": {
            "text/plain": [
              "(6000, 784)"
            ]
          },
          "metadata": {},
          "execution_count": 10
        }
      ]
    },
    {
      "cell_type": "code",
      "source": [
        "def initializeParam(layers):\n",
        "  params = {}\n",
        "  for i in range(1, len(layers)):\n",
        "    params['W' + str(i)] = np.random.randn(layers[i], layers[i-1]) * np.sqrt(2/float(layers[i-1]))\n",
        "    params['b' + str(i)] = np.zeros((layers[i], 1))\n",
        "  return params"
      ],
      "metadata": {
        "id": "bKJ3xai1aYXV"
      },
      "execution_count": 11,
      "outputs": []
    },
    {
      "cell_type": "code",
      "source": [
        "def sigmoid(x):\n",
        "  return 1 / (1 + np.exp(-x))\n",
        "\n",
        "def relu(x):\n",
        "  return np.maximum(0, x)\n",
        "\n",
        "def tanh(x):\n",
        "  return np.tanh(x)\n",
        "\n",
        "def sigmoid_dev(x):\n",
        "  return x * (1 - x)\n",
        "\n",
        "def relu_dev(x):\n",
        "  return np.where(x > 0, 1, 0)\n",
        "\n",
        "def tanh_dev(x):\n",
        "  return 1 - x**2\n",
        "\n",
        "def softmax(x):\n",
        "  return np.exp(x - np.max(x)) / np.sum(np.exp(x - np.max(x)), axis=0)"
      ],
      "metadata": {
        "id": "slQYgcxklU9m"
      },
      "execution_count": 12,
      "outputs": []
    },
    {
      "cell_type": "code",
      "source": [
        "def forward_prop(X, layers, params, activation):\n",
        "  func = {}\n",
        "  func['h0'] = X\n",
        "  func['a0'] = X\n",
        "  output = []\n",
        "  for i in range(1, len(layers)):\n",
        "    a = np.dot(params['W' + str(i)], func['h' + str(i-1)].T) + params['b' + str(i)]\n",
        "\n",
        "    #print(params['W' + str(i)].shape, func['h' + str(i-1)].T.shape, params['b' + str(i)].shape, a.shape)\n",
        "\n",
        "    if(i == len(layers) - 1) :\n",
        "      h = softmax(a)\n",
        "      output = h\n",
        "    else :\n",
        "      if activation == \"sigmoid\" :\n",
        "        h = sigmoid(a)\n",
        "      elif activation == \"relu\" :\n",
        "        h = relu(a)\n",
        "      elif activation == \"tanh\" :\n",
        "        h = tanh(a)\n",
        "\n",
        "    func['a' + str(i)] = a.T\n",
        "    func['h' + str(i)] = h.T\n",
        "\n",
        "  return output, func"
      ],
      "metadata": {
        "id": "nHnaRGXmaldB"
      },
      "execution_count": 13,
      "outputs": []
    },
    {
      "cell_type": "code",
      "source": [],
      "metadata": {
        "id": "CYo3ItR8anj4"
      },
      "execution_count": null,
      "outputs": []
    }
  ]
}