{
  "nbformat": 4,
  "nbformat_minor": 0,
  "metadata": {
    "colab": {
      "provenance": [],
      "authorship_tag": "ABX9TyOcDK5naaTuIQ4JpykDfhlO",
      "include_colab_link": true
    },
    "kernelspec": {
      "name": "python3",
      "display_name": "Python 3"
    },
    "language_info": {
      "name": "python"
    },
    "widgets": {
      "application/vnd.jupyter.widget-state+json": {
        "74220a2389654a86ac45097a151f7d68": {
          "model_module": "@jupyter-widgets/controls",
          "model_name": "VBoxModel",
          "model_module_version": "1.5.0",
          "state": {
            "_dom_classes": [],
            "_model_module": "@jupyter-widgets/controls",
            "_model_module_version": "1.5.0",
            "_model_name": "VBoxModel",
            "_view_count": null,
            "_view_module": "@jupyter-widgets/controls",
            "_view_module_version": "1.5.0",
            "_view_name": "VBoxView",
            "box_style": "",
            "children": [
              "IPY_MODEL_f18df1c73b26477595e14ffcf9ffdb15",
              "IPY_MODEL_b887b80bdce449a1ae0b58c7280fc09c"
            ],
            "layout": "IPY_MODEL_8b78d9c7ff514430a4ed040e92991492"
          }
        },
        "f18df1c73b26477595e14ffcf9ffdb15": {
          "model_module": "@jupyter-widgets/controls",
          "model_name": "LabelModel",
          "model_module_version": "1.5.0",
          "state": {
            "_dom_classes": [],
            "_model_module": "@jupyter-widgets/controls",
            "_model_module_version": "1.5.0",
            "_model_name": "LabelModel",
            "_view_count": null,
            "_view_module": "@jupyter-widgets/controls",
            "_view_module_version": "1.5.0",
            "_view_name": "LabelView",
            "description": "",
            "description_tooltip": null,
            "layout": "IPY_MODEL_43d1794956fc4bf9b2db1c6aaacf858c",
            "placeholder": "​",
            "style": "IPY_MODEL_7eac38482e644192bd6798a0df9b5b67",
            "value": "0.012 MB of 0.012 MB uploaded\r"
          }
        },
        "b887b80bdce449a1ae0b58c7280fc09c": {
          "model_module": "@jupyter-widgets/controls",
          "model_name": "FloatProgressModel",
          "model_module_version": "1.5.0",
          "state": {
            "_dom_classes": [],
            "_model_module": "@jupyter-widgets/controls",
            "_model_module_version": "1.5.0",
            "_model_name": "FloatProgressModel",
            "_view_count": null,
            "_view_module": "@jupyter-widgets/controls",
            "_view_module_version": "1.5.0",
            "_view_name": "ProgressView",
            "bar_style": "",
            "description": "",
            "description_tooltip": null,
            "layout": "IPY_MODEL_904aef8ff7a049b28fc2b93173c4896b",
            "max": 1,
            "min": 0,
            "orientation": "horizontal",
            "style": "IPY_MODEL_2f155c8b59724fb2ba81f60d7cd3acfc",
            "value": 1
          }
        },
        "8b78d9c7ff514430a4ed040e92991492": {
          "model_module": "@jupyter-widgets/base",
          "model_name": "LayoutModel",
          "model_module_version": "1.2.0",
          "state": {
            "_model_module": "@jupyter-widgets/base",
            "_model_module_version": "1.2.0",
            "_model_name": "LayoutModel",
            "_view_count": null,
            "_view_module": "@jupyter-widgets/base",
            "_view_module_version": "1.2.0",
            "_view_name": "LayoutView",
            "align_content": null,
            "align_items": null,
            "align_self": null,
            "border": null,
            "bottom": null,
            "display": null,
            "flex": null,
            "flex_flow": null,
            "grid_area": null,
            "grid_auto_columns": null,
            "grid_auto_flow": null,
            "grid_auto_rows": null,
            "grid_column": null,
            "grid_gap": null,
            "grid_row": null,
            "grid_template_areas": null,
            "grid_template_columns": null,
            "grid_template_rows": null,
            "height": null,
            "justify_content": null,
            "justify_items": null,
            "left": null,
            "margin": null,
            "max_height": null,
            "max_width": null,
            "min_height": null,
            "min_width": null,
            "object_fit": null,
            "object_position": null,
            "order": null,
            "overflow": null,
            "overflow_x": null,
            "overflow_y": null,
            "padding": null,
            "right": null,
            "top": null,
            "visibility": null,
            "width": null
          }
        },
        "43d1794956fc4bf9b2db1c6aaacf858c": {
          "model_module": "@jupyter-widgets/base",
          "model_name": "LayoutModel",
          "model_module_version": "1.2.0",
          "state": {
            "_model_module": "@jupyter-widgets/base",
            "_model_module_version": "1.2.0",
            "_model_name": "LayoutModel",
            "_view_count": null,
            "_view_module": "@jupyter-widgets/base",
            "_view_module_version": "1.2.0",
            "_view_name": "LayoutView",
            "align_content": null,
            "align_items": null,
            "align_self": null,
            "border": null,
            "bottom": null,
            "display": null,
            "flex": null,
            "flex_flow": null,
            "grid_area": null,
            "grid_auto_columns": null,
            "grid_auto_flow": null,
            "grid_auto_rows": null,
            "grid_column": null,
            "grid_gap": null,
            "grid_row": null,
            "grid_template_areas": null,
            "grid_template_columns": null,
            "grid_template_rows": null,
            "height": null,
            "justify_content": null,
            "justify_items": null,
            "left": null,
            "margin": null,
            "max_height": null,
            "max_width": null,
            "min_height": null,
            "min_width": null,
            "object_fit": null,
            "object_position": null,
            "order": null,
            "overflow": null,
            "overflow_x": null,
            "overflow_y": null,
            "padding": null,
            "right": null,
            "top": null,
            "visibility": null,
            "width": null
          }
        },
        "7eac38482e644192bd6798a0df9b5b67": {
          "model_module": "@jupyter-widgets/controls",
          "model_name": "DescriptionStyleModel",
          "model_module_version": "1.5.0",
          "state": {
            "_model_module": "@jupyter-widgets/controls",
            "_model_module_version": "1.5.0",
            "_model_name": "DescriptionStyleModel",
            "_view_count": null,
            "_view_module": "@jupyter-widgets/base",
            "_view_module_version": "1.2.0",
            "_view_name": "StyleView",
            "description_width": ""
          }
        },
        "904aef8ff7a049b28fc2b93173c4896b": {
          "model_module": "@jupyter-widgets/base",
          "model_name": "LayoutModel",
          "model_module_version": "1.2.0",
          "state": {
            "_model_module": "@jupyter-widgets/base",
            "_model_module_version": "1.2.0",
            "_model_name": "LayoutModel",
            "_view_count": null,
            "_view_module": "@jupyter-widgets/base",
            "_view_module_version": "1.2.0",
            "_view_name": "LayoutView",
            "align_content": null,
            "align_items": null,
            "align_self": null,
            "border": null,
            "bottom": null,
            "display": null,
            "flex": null,
            "flex_flow": null,
            "grid_area": null,
            "grid_auto_columns": null,
            "grid_auto_flow": null,
            "grid_auto_rows": null,
            "grid_column": null,
            "grid_gap": null,
            "grid_row": null,
            "grid_template_areas": null,
            "grid_template_columns": null,
            "grid_template_rows": null,
            "height": null,
            "justify_content": null,
            "justify_items": null,
            "left": null,
            "margin": null,
            "max_height": null,
            "max_width": null,
            "min_height": null,
            "min_width": null,
            "object_fit": null,
            "object_position": null,
            "order": null,
            "overflow": null,
            "overflow_x": null,
            "overflow_y": null,
            "padding": null,
            "right": null,
            "top": null,
            "visibility": null,
            "width": null
          }
        },
        "2f155c8b59724fb2ba81f60d7cd3acfc": {
          "model_module": "@jupyter-widgets/controls",
          "model_name": "ProgressStyleModel",
          "model_module_version": "1.5.0",
          "state": {
            "_model_module": "@jupyter-widgets/controls",
            "_model_module_version": "1.5.0",
            "_model_name": "ProgressStyleModel",
            "_view_count": null,
            "_view_module": "@jupyter-widgets/base",
            "_view_module_version": "1.2.0",
            "_view_name": "StyleView",
            "bar_color": null,
            "description_width": ""
          }
        },
        "07f59d879d0b489ba69f8b151b12be1c": {
          "model_module": "@jupyter-widgets/controls",
          "model_name": "VBoxModel",
          "model_module_version": "1.5.0",
          "state": {
            "_dom_classes": [],
            "_model_module": "@jupyter-widgets/controls",
            "_model_module_version": "1.5.0",
            "_model_name": "VBoxModel",
            "_view_count": null,
            "_view_module": "@jupyter-widgets/controls",
            "_view_module_version": "1.5.0",
            "_view_name": "VBoxView",
            "box_style": "",
            "children": [
              "IPY_MODEL_691d02257e7b428da7443ac4402c0b35",
              "IPY_MODEL_4f4129f816504678af9bda3521b7dc50"
            ],
            "layout": "IPY_MODEL_ce34566ce8d14eaca4491cb77893b4ab"
          }
        },
        "691d02257e7b428da7443ac4402c0b35": {
          "model_module": "@jupyter-widgets/controls",
          "model_name": "LabelModel",
          "model_module_version": "1.5.0",
          "state": {
            "_dom_classes": [],
            "_model_module": "@jupyter-widgets/controls",
            "_model_module_version": "1.5.0",
            "_model_name": "LabelModel",
            "_view_count": null,
            "_view_module": "@jupyter-widgets/controls",
            "_view_module_version": "1.5.0",
            "_view_name": "LabelView",
            "description": "",
            "description_tooltip": null,
            "layout": "IPY_MODEL_99fb9b74339e41cb85ea517094893cdc",
            "placeholder": "​",
            "style": "IPY_MODEL_69c3a31d766a49468444cf3cdc126ce6",
            "value": "0.012 MB of 0.012 MB uploaded\r"
          }
        },
        "4f4129f816504678af9bda3521b7dc50": {
          "model_module": "@jupyter-widgets/controls",
          "model_name": "FloatProgressModel",
          "model_module_version": "1.5.0",
          "state": {
            "_dom_classes": [],
            "_model_module": "@jupyter-widgets/controls",
            "_model_module_version": "1.5.0",
            "_model_name": "FloatProgressModel",
            "_view_count": null,
            "_view_module": "@jupyter-widgets/controls",
            "_view_module_version": "1.5.0",
            "_view_name": "ProgressView",
            "bar_style": "",
            "description": "",
            "description_tooltip": null,
            "layout": "IPY_MODEL_63dfd081b38e459b847afbe46b414719",
            "max": 1,
            "min": 0,
            "orientation": "horizontal",
            "style": "IPY_MODEL_cf8b05dd3f744323a09a5c2474c0ea0f",
            "value": 1
          }
        },
        "ce34566ce8d14eaca4491cb77893b4ab": {
          "model_module": "@jupyter-widgets/base",
          "model_name": "LayoutModel",
          "model_module_version": "1.2.0",
          "state": {
            "_model_module": "@jupyter-widgets/base",
            "_model_module_version": "1.2.0",
            "_model_name": "LayoutModel",
            "_view_count": null,
            "_view_module": "@jupyter-widgets/base",
            "_view_module_version": "1.2.0",
            "_view_name": "LayoutView",
            "align_content": null,
            "align_items": null,
            "align_self": null,
            "border": null,
            "bottom": null,
            "display": null,
            "flex": null,
            "flex_flow": null,
            "grid_area": null,
            "grid_auto_columns": null,
            "grid_auto_flow": null,
            "grid_auto_rows": null,
            "grid_column": null,
            "grid_gap": null,
            "grid_row": null,
            "grid_template_areas": null,
            "grid_template_columns": null,
            "grid_template_rows": null,
            "height": null,
            "justify_content": null,
            "justify_items": null,
            "left": null,
            "margin": null,
            "max_height": null,
            "max_width": null,
            "min_height": null,
            "min_width": null,
            "object_fit": null,
            "object_position": null,
            "order": null,
            "overflow": null,
            "overflow_x": null,
            "overflow_y": null,
            "padding": null,
            "right": null,
            "top": null,
            "visibility": null,
            "width": null
          }
        },
        "99fb9b74339e41cb85ea517094893cdc": {
          "model_module": "@jupyter-widgets/base",
          "model_name": "LayoutModel",
          "model_module_version": "1.2.0",
          "state": {
            "_model_module": "@jupyter-widgets/base",
            "_model_module_version": "1.2.0",
            "_model_name": "LayoutModel",
            "_view_count": null,
            "_view_module": "@jupyter-widgets/base",
            "_view_module_version": "1.2.0",
            "_view_name": "LayoutView",
            "align_content": null,
            "align_items": null,
            "align_self": null,
            "border": null,
            "bottom": null,
            "display": null,
            "flex": null,
            "flex_flow": null,
            "grid_area": null,
            "grid_auto_columns": null,
            "grid_auto_flow": null,
            "grid_auto_rows": null,
            "grid_column": null,
            "grid_gap": null,
            "grid_row": null,
            "grid_template_areas": null,
            "grid_template_columns": null,
            "grid_template_rows": null,
            "height": null,
            "justify_content": null,
            "justify_items": null,
            "left": null,
            "margin": null,
            "max_height": null,
            "max_width": null,
            "min_height": null,
            "min_width": null,
            "object_fit": null,
            "object_position": null,
            "order": null,
            "overflow": null,
            "overflow_x": null,
            "overflow_y": null,
            "padding": null,
            "right": null,
            "top": null,
            "visibility": null,
            "width": null
          }
        },
        "69c3a31d766a49468444cf3cdc126ce6": {
          "model_module": "@jupyter-widgets/controls",
          "model_name": "DescriptionStyleModel",
          "model_module_version": "1.5.0",
          "state": {
            "_model_module": "@jupyter-widgets/controls",
            "_model_module_version": "1.5.0",
            "_model_name": "DescriptionStyleModel",
            "_view_count": null,
            "_view_module": "@jupyter-widgets/base",
            "_view_module_version": "1.2.0",
            "_view_name": "StyleView",
            "description_width": ""
          }
        },
        "63dfd081b38e459b847afbe46b414719": {
          "model_module": "@jupyter-widgets/base",
          "model_name": "LayoutModel",
          "model_module_version": "1.2.0",
          "state": {
            "_model_module": "@jupyter-widgets/base",
            "_model_module_version": "1.2.0",
            "_model_name": "LayoutModel",
            "_view_count": null,
            "_view_module": "@jupyter-widgets/base",
            "_view_module_version": "1.2.0",
            "_view_name": "LayoutView",
            "align_content": null,
            "align_items": null,
            "align_self": null,
            "border": null,
            "bottom": null,
            "display": null,
            "flex": null,
            "flex_flow": null,
            "grid_area": null,
            "grid_auto_columns": null,
            "grid_auto_flow": null,
            "grid_auto_rows": null,
            "grid_column": null,
            "grid_gap": null,
            "grid_row": null,
            "grid_template_areas": null,
            "grid_template_columns": null,
            "grid_template_rows": null,
            "height": null,
            "justify_content": null,
            "justify_items": null,
            "left": null,
            "margin": null,
            "max_height": null,
            "max_width": null,
            "min_height": null,
            "min_width": null,
            "object_fit": null,
            "object_position": null,
            "order": null,
            "overflow": null,
            "overflow_x": null,
            "overflow_y": null,
            "padding": null,
            "right": null,
            "top": null,
            "visibility": null,
            "width": null
          }
        },
        "cf8b05dd3f744323a09a5c2474c0ea0f": {
          "model_module": "@jupyter-widgets/controls",
          "model_name": "ProgressStyleModel",
          "model_module_version": "1.5.0",
          "state": {
            "_model_module": "@jupyter-widgets/controls",
            "_model_module_version": "1.5.0",
            "_model_name": "ProgressStyleModel",
            "_view_count": null,
            "_view_module": "@jupyter-widgets/base",
            "_view_module_version": "1.2.0",
            "_view_name": "StyleView",
            "bar_color": null,
            "description_width": ""
          }
        },
        "e15b449c3c344a61bac1f3d85f4906d6": {
          "model_module": "@jupyter-widgets/controls",
          "model_name": "VBoxModel",
          "model_module_version": "1.5.0",
          "state": {
            "_dom_classes": [],
            "_model_module": "@jupyter-widgets/controls",
            "_model_module_version": "1.5.0",
            "_model_name": "VBoxModel",
            "_view_count": null,
            "_view_module": "@jupyter-widgets/controls",
            "_view_module_version": "1.5.0",
            "_view_name": "VBoxView",
            "box_style": "",
            "children": [
              "IPY_MODEL_110aa960bae149b89804d71d53c051b6",
              "IPY_MODEL_cbb1967707154836964a4c23d7a398b3"
            ],
            "layout": "IPY_MODEL_c61fd5fe4fe14624897aa9ade6e18b69"
          }
        },
        "110aa960bae149b89804d71d53c051b6": {
          "model_module": "@jupyter-widgets/controls",
          "model_name": "LabelModel",
          "model_module_version": "1.5.0",
          "state": {
            "_dom_classes": [],
            "_model_module": "@jupyter-widgets/controls",
            "_model_module_version": "1.5.0",
            "_model_name": "LabelModel",
            "_view_count": null,
            "_view_module": "@jupyter-widgets/controls",
            "_view_module_version": "1.5.0",
            "_view_name": "LabelView",
            "description": "",
            "description_tooltip": null,
            "layout": "IPY_MODEL_046b99b31b1648658d1f41143ee8b3ad",
            "placeholder": "​",
            "style": "IPY_MODEL_b8b5b8de85584807847f5afcc2ddab9e",
            "value": "0.011 MB of 0.011 MB uploaded\r"
          }
        },
        "cbb1967707154836964a4c23d7a398b3": {
          "model_module": "@jupyter-widgets/controls",
          "model_name": "FloatProgressModel",
          "model_module_version": "1.5.0",
          "state": {
            "_dom_classes": [],
            "_model_module": "@jupyter-widgets/controls",
            "_model_module_version": "1.5.0",
            "_model_name": "FloatProgressModel",
            "_view_count": null,
            "_view_module": "@jupyter-widgets/controls",
            "_view_module_version": "1.5.0",
            "_view_name": "ProgressView",
            "bar_style": "",
            "description": "",
            "description_tooltip": null,
            "layout": "IPY_MODEL_05fdebdc6d9d4c4e9a257ad4372a8cb7",
            "max": 1,
            "min": 0,
            "orientation": "horizontal",
            "style": "IPY_MODEL_4571867ad9c048ddaa06f8a4dbb52efa",
            "value": 1
          }
        },
        "c61fd5fe4fe14624897aa9ade6e18b69": {
          "model_module": "@jupyter-widgets/base",
          "model_name": "LayoutModel",
          "model_module_version": "1.2.0",
          "state": {
            "_model_module": "@jupyter-widgets/base",
            "_model_module_version": "1.2.0",
            "_model_name": "LayoutModel",
            "_view_count": null,
            "_view_module": "@jupyter-widgets/base",
            "_view_module_version": "1.2.0",
            "_view_name": "LayoutView",
            "align_content": null,
            "align_items": null,
            "align_self": null,
            "border": null,
            "bottom": null,
            "display": null,
            "flex": null,
            "flex_flow": null,
            "grid_area": null,
            "grid_auto_columns": null,
            "grid_auto_flow": null,
            "grid_auto_rows": null,
            "grid_column": null,
            "grid_gap": null,
            "grid_row": null,
            "grid_template_areas": null,
            "grid_template_columns": null,
            "grid_template_rows": null,
            "height": null,
            "justify_content": null,
            "justify_items": null,
            "left": null,
            "margin": null,
            "max_height": null,
            "max_width": null,
            "min_height": null,
            "min_width": null,
            "object_fit": null,
            "object_position": null,
            "order": null,
            "overflow": null,
            "overflow_x": null,
            "overflow_y": null,
            "padding": null,
            "right": null,
            "top": null,
            "visibility": null,
            "width": null
          }
        },
        "046b99b31b1648658d1f41143ee8b3ad": {
          "model_module": "@jupyter-widgets/base",
          "model_name": "LayoutModel",
          "model_module_version": "1.2.0",
          "state": {
            "_model_module": "@jupyter-widgets/base",
            "_model_module_version": "1.2.0",
            "_model_name": "LayoutModel",
            "_view_count": null,
            "_view_module": "@jupyter-widgets/base",
            "_view_module_version": "1.2.0",
            "_view_name": "LayoutView",
            "align_content": null,
            "align_items": null,
            "align_self": null,
            "border": null,
            "bottom": null,
            "display": null,
            "flex": null,
            "flex_flow": null,
            "grid_area": null,
            "grid_auto_columns": null,
            "grid_auto_flow": null,
            "grid_auto_rows": null,
            "grid_column": null,
            "grid_gap": null,
            "grid_row": null,
            "grid_template_areas": null,
            "grid_template_columns": null,
            "grid_template_rows": null,
            "height": null,
            "justify_content": null,
            "justify_items": null,
            "left": null,
            "margin": null,
            "max_height": null,
            "max_width": null,
            "min_height": null,
            "min_width": null,
            "object_fit": null,
            "object_position": null,
            "order": null,
            "overflow": null,
            "overflow_x": null,
            "overflow_y": null,
            "padding": null,
            "right": null,
            "top": null,
            "visibility": null,
            "width": null
          }
        },
        "b8b5b8de85584807847f5afcc2ddab9e": {
          "model_module": "@jupyter-widgets/controls",
          "model_name": "DescriptionStyleModel",
          "model_module_version": "1.5.0",
          "state": {
            "_model_module": "@jupyter-widgets/controls",
            "_model_module_version": "1.5.0",
            "_model_name": "DescriptionStyleModel",
            "_view_count": null,
            "_view_module": "@jupyter-widgets/base",
            "_view_module_version": "1.2.0",
            "_view_name": "StyleView",
            "description_width": ""
          }
        },
        "05fdebdc6d9d4c4e9a257ad4372a8cb7": {
          "model_module": "@jupyter-widgets/base",
          "model_name": "LayoutModel",
          "model_module_version": "1.2.0",
          "state": {
            "_model_module": "@jupyter-widgets/base",
            "_model_module_version": "1.2.0",
            "_model_name": "LayoutModel",
            "_view_count": null,
            "_view_module": "@jupyter-widgets/base",
            "_view_module_version": "1.2.0",
            "_view_name": "LayoutView",
            "align_content": null,
            "align_items": null,
            "align_self": null,
            "border": null,
            "bottom": null,
            "display": null,
            "flex": null,
            "flex_flow": null,
            "grid_area": null,
            "grid_auto_columns": null,
            "grid_auto_flow": null,
            "grid_auto_rows": null,
            "grid_column": null,
            "grid_gap": null,
            "grid_row": null,
            "grid_template_areas": null,
            "grid_template_columns": null,
            "grid_template_rows": null,
            "height": null,
            "justify_content": null,
            "justify_items": null,
            "left": null,
            "margin": null,
            "max_height": null,
            "max_width": null,
            "min_height": null,
            "min_width": null,
            "object_fit": null,
            "object_position": null,
            "order": null,
            "overflow": null,
            "overflow_x": null,
            "overflow_y": null,
            "padding": null,
            "right": null,
            "top": null,
            "visibility": null,
            "width": null
          }
        },
        "4571867ad9c048ddaa06f8a4dbb52efa": {
          "model_module": "@jupyter-widgets/controls",
          "model_name": "ProgressStyleModel",
          "model_module_version": "1.5.0",
          "state": {
            "_model_module": "@jupyter-widgets/controls",
            "_model_module_version": "1.5.0",
            "_model_name": "ProgressStyleModel",
            "_view_count": null,
            "_view_module": "@jupyter-widgets/base",
            "_view_module_version": "1.2.0",
            "_view_name": "StyleView",
            "bar_color": null,
            "description_width": ""
          }
        },
        "0d183ef527a142efb942b2817a7f9b9e": {
          "model_module": "@jupyter-widgets/controls",
          "model_name": "VBoxModel",
          "model_module_version": "1.5.0",
          "state": {
            "_dom_classes": [],
            "_model_module": "@jupyter-widgets/controls",
            "_model_module_version": "1.5.0",
            "_model_name": "VBoxModel",
            "_view_count": null,
            "_view_module": "@jupyter-widgets/controls",
            "_view_module_version": "1.5.0",
            "_view_name": "VBoxView",
            "box_style": "",
            "children": [
              "IPY_MODEL_7fec393defc2403cbd7ea0e6b08996f0",
              "IPY_MODEL_6101939451854d609e1bdb72183c8f4b"
            ],
            "layout": "IPY_MODEL_a94f6d83abe14952adf97fbfba3f7806"
          }
        },
        "7fec393defc2403cbd7ea0e6b08996f0": {
          "model_module": "@jupyter-widgets/controls",
          "model_name": "LabelModel",
          "model_module_version": "1.5.0",
          "state": {
            "_dom_classes": [],
            "_model_module": "@jupyter-widgets/controls",
            "_model_module_version": "1.5.0",
            "_model_name": "LabelModel",
            "_view_count": null,
            "_view_module": "@jupyter-widgets/controls",
            "_view_module_version": "1.5.0",
            "_view_name": "LabelView",
            "description": "",
            "description_tooltip": null,
            "layout": "IPY_MODEL_148eec0bd29f43e88ccb1404b7b968ca",
            "placeholder": "​",
            "style": "IPY_MODEL_9deff44ed15f43dbbd932767e856acdc",
            "value": "0.012 MB of 0.012 MB uploaded\r"
          }
        },
        "6101939451854d609e1bdb72183c8f4b": {
          "model_module": "@jupyter-widgets/controls",
          "model_name": "FloatProgressModel",
          "model_module_version": "1.5.0",
          "state": {
            "_dom_classes": [],
            "_model_module": "@jupyter-widgets/controls",
            "_model_module_version": "1.5.0",
            "_model_name": "FloatProgressModel",
            "_view_count": null,
            "_view_module": "@jupyter-widgets/controls",
            "_view_module_version": "1.5.0",
            "_view_name": "ProgressView",
            "bar_style": "",
            "description": "",
            "description_tooltip": null,
            "layout": "IPY_MODEL_535af4018e7c42bd9bc7fc7fcedf0475",
            "max": 1,
            "min": 0,
            "orientation": "horizontal",
            "style": "IPY_MODEL_5f2dd59eef8c4a10b9c0884d0658f6c9",
            "value": 1
          }
        },
        "a94f6d83abe14952adf97fbfba3f7806": {
          "model_module": "@jupyter-widgets/base",
          "model_name": "LayoutModel",
          "model_module_version": "1.2.0",
          "state": {
            "_model_module": "@jupyter-widgets/base",
            "_model_module_version": "1.2.0",
            "_model_name": "LayoutModel",
            "_view_count": null,
            "_view_module": "@jupyter-widgets/base",
            "_view_module_version": "1.2.0",
            "_view_name": "LayoutView",
            "align_content": null,
            "align_items": null,
            "align_self": null,
            "border": null,
            "bottom": null,
            "display": null,
            "flex": null,
            "flex_flow": null,
            "grid_area": null,
            "grid_auto_columns": null,
            "grid_auto_flow": null,
            "grid_auto_rows": null,
            "grid_column": null,
            "grid_gap": null,
            "grid_row": null,
            "grid_template_areas": null,
            "grid_template_columns": null,
            "grid_template_rows": null,
            "height": null,
            "justify_content": null,
            "justify_items": null,
            "left": null,
            "margin": null,
            "max_height": null,
            "max_width": null,
            "min_height": null,
            "min_width": null,
            "object_fit": null,
            "object_position": null,
            "order": null,
            "overflow": null,
            "overflow_x": null,
            "overflow_y": null,
            "padding": null,
            "right": null,
            "top": null,
            "visibility": null,
            "width": null
          }
        },
        "148eec0bd29f43e88ccb1404b7b968ca": {
          "model_module": "@jupyter-widgets/base",
          "model_name": "LayoutModel",
          "model_module_version": "1.2.0",
          "state": {
            "_model_module": "@jupyter-widgets/base",
            "_model_module_version": "1.2.0",
            "_model_name": "LayoutModel",
            "_view_count": null,
            "_view_module": "@jupyter-widgets/base",
            "_view_module_version": "1.2.0",
            "_view_name": "LayoutView",
            "align_content": null,
            "align_items": null,
            "align_self": null,
            "border": null,
            "bottom": null,
            "display": null,
            "flex": null,
            "flex_flow": null,
            "grid_area": null,
            "grid_auto_columns": null,
            "grid_auto_flow": null,
            "grid_auto_rows": null,
            "grid_column": null,
            "grid_gap": null,
            "grid_row": null,
            "grid_template_areas": null,
            "grid_template_columns": null,
            "grid_template_rows": null,
            "height": null,
            "justify_content": null,
            "justify_items": null,
            "left": null,
            "margin": null,
            "max_height": null,
            "max_width": null,
            "min_height": null,
            "min_width": null,
            "object_fit": null,
            "object_position": null,
            "order": null,
            "overflow": null,
            "overflow_x": null,
            "overflow_y": null,
            "padding": null,
            "right": null,
            "top": null,
            "visibility": null,
            "width": null
          }
        },
        "9deff44ed15f43dbbd932767e856acdc": {
          "model_module": "@jupyter-widgets/controls",
          "model_name": "DescriptionStyleModel",
          "model_module_version": "1.5.0",
          "state": {
            "_model_module": "@jupyter-widgets/controls",
            "_model_module_version": "1.5.0",
            "_model_name": "DescriptionStyleModel",
            "_view_count": null,
            "_view_module": "@jupyter-widgets/base",
            "_view_module_version": "1.2.0",
            "_view_name": "StyleView",
            "description_width": ""
          }
        },
        "535af4018e7c42bd9bc7fc7fcedf0475": {
          "model_module": "@jupyter-widgets/base",
          "model_name": "LayoutModel",
          "model_module_version": "1.2.0",
          "state": {
            "_model_module": "@jupyter-widgets/base",
            "_model_module_version": "1.2.0",
            "_model_name": "LayoutModel",
            "_view_count": null,
            "_view_module": "@jupyter-widgets/base",
            "_view_module_version": "1.2.0",
            "_view_name": "LayoutView",
            "align_content": null,
            "align_items": null,
            "align_self": null,
            "border": null,
            "bottom": null,
            "display": null,
            "flex": null,
            "flex_flow": null,
            "grid_area": null,
            "grid_auto_columns": null,
            "grid_auto_flow": null,
            "grid_auto_rows": null,
            "grid_column": null,
            "grid_gap": null,
            "grid_row": null,
            "grid_template_areas": null,
            "grid_template_columns": null,
            "grid_template_rows": null,
            "height": null,
            "justify_content": null,
            "justify_items": null,
            "left": null,
            "margin": null,
            "max_height": null,
            "max_width": null,
            "min_height": null,
            "min_width": null,
            "object_fit": null,
            "object_position": null,
            "order": null,
            "overflow": null,
            "overflow_x": null,
            "overflow_y": null,
            "padding": null,
            "right": null,
            "top": null,
            "visibility": null,
            "width": null
          }
        },
        "5f2dd59eef8c4a10b9c0884d0658f6c9": {
          "model_module": "@jupyter-widgets/controls",
          "model_name": "ProgressStyleModel",
          "model_module_version": "1.5.0",
          "state": {
            "_model_module": "@jupyter-widgets/controls",
            "_model_module_version": "1.5.0",
            "_model_name": "ProgressStyleModel",
            "_view_count": null,
            "_view_module": "@jupyter-widgets/base",
            "_view_module_version": "1.2.0",
            "_view_name": "StyleView",
            "bar_color": null,
            "description_width": ""
          }
        },
        "d3099c0d0ef8477893777e981c35390e": {
          "model_module": "@jupyter-widgets/controls",
          "model_name": "VBoxModel",
          "model_module_version": "1.5.0",
          "state": {
            "_dom_classes": [],
            "_model_module": "@jupyter-widgets/controls",
            "_model_module_version": "1.5.0",
            "_model_name": "VBoxModel",
            "_view_count": null,
            "_view_module": "@jupyter-widgets/controls",
            "_view_module_version": "1.5.0",
            "_view_name": "VBoxView",
            "box_style": "",
            "children": [
              "IPY_MODEL_bf14bfd3e5f6478da11bf81a00ecb0dc",
              "IPY_MODEL_edc9f998bc254b828bc6c034d63b050a"
            ],
            "layout": "IPY_MODEL_e5a2a7fe9ed34a2f879a0e8fa23cce9e"
          }
        },
        "bf14bfd3e5f6478da11bf81a00ecb0dc": {
          "model_module": "@jupyter-widgets/controls",
          "model_name": "LabelModel",
          "model_module_version": "1.5.0",
          "state": {
            "_dom_classes": [],
            "_model_module": "@jupyter-widgets/controls",
            "_model_module_version": "1.5.0",
            "_model_name": "LabelModel",
            "_view_count": null,
            "_view_module": "@jupyter-widgets/controls",
            "_view_module_version": "1.5.0",
            "_view_name": "LabelView",
            "description": "",
            "description_tooltip": null,
            "layout": "IPY_MODEL_bba5b382a24146658df2c0266c1e840f",
            "placeholder": "​",
            "style": "IPY_MODEL_8196fe353d2e40979d0f3f73e5abe882",
            "value": "0.012 MB of 0.012 MB uploaded\r"
          }
        },
        "edc9f998bc254b828bc6c034d63b050a": {
          "model_module": "@jupyter-widgets/controls",
          "model_name": "FloatProgressModel",
          "model_module_version": "1.5.0",
          "state": {
            "_dom_classes": [],
            "_model_module": "@jupyter-widgets/controls",
            "_model_module_version": "1.5.0",
            "_model_name": "FloatProgressModel",
            "_view_count": null,
            "_view_module": "@jupyter-widgets/controls",
            "_view_module_version": "1.5.0",
            "_view_name": "ProgressView",
            "bar_style": "",
            "description": "",
            "description_tooltip": null,
            "layout": "IPY_MODEL_c309be5bbfaf487dad9c596e86519f53",
            "max": 1,
            "min": 0,
            "orientation": "horizontal",
            "style": "IPY_MODEL_acdeb07704c04e0096bc62fb9be00098",
            "value": 1
          }
        },
        "e5a2a7fe9ed34a2f879a0e8fa23cce9e": {
          "model_module": "@jupyter-widgets/base",
          "model_name": "LayoutModel",
          "model_module_version": "1.2.0",
          "state": {
            "_model_module": "@jupyter-widgets/base",
            "_model_module_version": "1.2.0",
            "_model_name": "LayoutModel",
            "_view_count": null,
            "_view_module": "@jupyter-widgets/base",
            "_view_module_version": "1.2.0",
            "_view_name": "LayoutView",
            "align_content": null,
            "align_items": null,
            "align_self": null,
            "border": null,
            "bottom": null,
            "display": null,
            "flex": null,
            "flex_flow": null,
            "grid_area": null,
            "grid_auto_columns": null,
            "grid_auto_flow": null,
            "grid_auto_rows": null,
            "grid_column": null,
            "grid_gap": null,
            "grid_row": null,
            "grid_template_areas": null,
            "grid_template_columns": null,
            "grid_template_rows": null,
            "height": null,
            "justify_content": null,
            "justify_items": null,
            "left": null,
            "margin": null,
            "max_height": null,
            "max_width": null,
            "min_height": null,
            "min_width": null,
            "object_fit": null,
            "object_position": null,
            "order": null,
            "overflow": null,
            "overflow_x": null,
            "overflow_y": null,
            "padding": null,
            "right": null,
            "top": null,
            "visibility": null,
            "width": null
          }
        },
        "bba5b382a24146658df2c0266c1e840f": {
          "model_module": "@jupyter-widgets/base",
          "model_name": "LayoutModel",
          "model_module_version": "1.2.0",
          "state": {
            "_model_module": "@jupyter-widgets/base",
            "_model_module_version": "1.2.0",
            "_model_name": "LayoutModel",
            "_view_count": null,
            "_view_module": "@jupyter-widgets/base",
            "_view_module_version": "1.2.0",
            "_view_name": "LayoutView",
            "align_content": null,
            "align_items": null,
            "align_self": null,
            "border": null,
            "bottom": null,
            "display": null,
            "flex": null,
            "flex_flow": null,
            "grid_area": null,
            "grid_auto_columns": null,
            "grid_auto_flow": null,
            "grid_auto_rows": null,
            "grid_column": null,
            "grid_gap": null,
            "grid_row": null,
            "grid_template_areas": null,
            "grid_template_columns": null,
            "grid_template_rows": null,
            "height": null,
            "justify_content": null,
            "justify_items": null,
            "left": null,
            "margin": null,
            "max_height": null,
            "max_width": null,
            "min_height": null,
            "min_width": null,
            "object_fit": null,
            "object_position": null,
            "order": null,
            "overflow": null,
            "overflow_x": null,
            "overflow_y": null,
            "padding": null,
            "right": null,
            "top": null,
            "visibility": null,
            "width": null
          }
        },
        "8196fe353d2e40979d0f3f73e5abe882": {
          "model_module": "@jupyter-widgets/controls",
          "model_name": "DescriptionStyleModel",
          "model_module_version": "1.5.0",
          "state": {
            "_model_module": "@jupyter-widgets/controls",
            "_model_module_version": "1.5.0",
            "_model_name": "DescriptionStyleModel",
            "_view_count": null,
            "_view_module": "@jupyter-widgets/base",
            "_view_module_version": "1.2.0",
            "_view_name": "StyleView",
            "description_width": ""
          }
        },
        "c309be5bbfaf487dad9c596e86519f53": {
          "model_module": "@jupyter-widgets/base",
          "model_name": "LayoutModel",
          "model_module_version": "1.2.0",
          "state": {
            "_model_module": "@jupyter-widgets/base",
            "_model_module_version": "1.2.0",
            "_model_name": "LayoutModel",
            "_view_count": null,
            "_view_module": "@jupyter-widgets/base",
            "_view_module_version": "1.2.0",
            "_view_name": "LayoutView",
            "align_content": null,
            "align_items": null,
            "align_self": null,
            "border": null,
            "bottom": null,
            "display": null,
            "flex": null,
            "flex_flow": null,
            "grid_area": null,
            "grid_auto_columns": null,
            "grid_auto_flow": null,
            "grid_auto_rows": null,
            "grid_column": null,
            "grid_gap": null,
            "grid_row": null,
            "grid_template_areas": null,
            "grid_template_columns": null,
            "grid_template_rows": null,
            "height": null,
            "justify_content": null,
            "justify_items": null,
            "left": null,
            "margin": null,
            "max_height": null,
            "max_width": null,
            "min_height": null,
            "min_width": null,
            "object_fit": null,
            "object_position": null,
            "order": null,
            "overflow": null,
            "overflow_x": null,
            "overflow_y": null,
            "padding": null,
            "right": null,
            "top": null,
            "visibility": null,
            "width": null
          }
        },
        "acdeb07704c04e0096bc62fb9be00098": {
          "model_module": "@jupyter-widgets/controls",
          "model_name": "ProgressStyleModel",
          "model_module_version": "1.5.0",
          "state": {
            "_model_module": "@jupyter-widgets/controls",
            "_model_module_version": "1.5.0",
            "_model_name": "ProgressStyleModel",
            "_view_count": null,
            "_view_module": "@jupyter-widgets/base",
            "_view_module_version": "1.2.0",
            "_view_name": "StyleView",
            "bar_color": null,
            "description_width": ""
          }
        },
        "17d3a4b3b977453190eec7d1d21abe30": {
          "model_module": "@jupyter-widgets/controls",
          "model_name": "VBoxModel",
          "model_module_version": "1.5.0",
          "state": {
            "_dom_classes": [],
            "_model_module": "@jupyter-widgets/controls",
            "_model_module_version": "1.5.0",
            "_model_name": "VBoxModel",
            "_view_count": null,
            "_view_module": "@jupyter-widgets/controls",
            "_view_module_version": "1.5.0",
            "_view_name": "VBoxView",
            "box_style": "",
            "children": [
              "IPY_MODEL_1884d5e84a654a54b47845f4d7693a8c",
              "IPY_MODEL_eeee323b03104734b7154f74b0368e5d"
            ],
            "layout": "IPY_MODEL_db738057455e490c8aa6db263fc5a4ff"
          }
        },
        "1884d5e84a654a54b47845f4d7693a8c": {
          "model_module": "@jupyter-widgets/controls",
          "model_name": "LabelModel",
          "model_module_version": "1.5.0",
          "state": {
            "_dom_classes": [],
            "_model_module": "@jupyter-widgets/controls",
            "_model_module_version": "1.5.0",
            "_model_name": "LabelModel",
            "_view_count": null,
            "_view_module": "@jupyter-widgets/controls",
            "_view_module_version": "1.5.0",
            "_view_name": "LabelView",
            "description": "",
            "description_tooltip": null,
            "layout": "IPY_MODEL_5e9b25e57153471fa5bf5c8910ddb183",
            "placeholder": "​",
            "style": "IPY_MODEL_01c2dd32effb4fc8997b469f2b791591",
            "value": "0.012 MB of 0.012 MB uploaded\r"
          }
        },
        "eeee323b03104734b7154f74b0368e5d": {
          "model_module": "@jupyter-widgets/controls",
          "model_name": "FloatProgressModel",
          "model_module_version": "1.5.0",
          "state": {
            "_dom_classes": [],
            "_model_module": "@jupyter-widgets/controls",
            "_model_module_version": "1.5.0",
            "_model_name": "FloatProgressModel",
            "_view_count": null,
            "_view_module": "@jupyter-widgets/controls",
            "_view_module_version": "1.5.0",
            "_view_name": "ProgressView",
            "bar_style": "",
            "description": "",
            "description_tooltip": null,
            "layout": "IPY_MODEL_beabb2b552c74e7d83cd9cc3cedde1fd",
            "max": 1,
            "min": 0,
            "orientation": "horizontal",
            "style": "IPY_MODEL_0e660d3984b14ee987b3486afce1f356",
            "value": 1
          }
        },
        "db738057455e490c8aa6db263fc5a4ff": {
          "model_module": "@jupyter-widgets/base",
          "model_name": "LayoutModel",
          "model_module_version": "1.2.0",
          "state": {
            "_model_module": "@jupyter-widgets/base",
            "_model_module_version": "1.2.0",
            "_model_name": "LayoutModel",
            "_view_count": null,
            "_view_module": "@jupyter-widgets/base",
            "_view_module_version": "1.2.0",
            "_view_name": "LayoutView",
            "align_content": null,
            "align_items": null,
            "align_self": null,
            "border": null,
            "bottom": null,
            "display": null,
            "flex": null,
            "flex_flow": null,
            "grid_area": null,
            "grid_auto_columns": null,
            "grid_auto_flow": null,
            "grid_auto_rows": null,
            "grid_column": null,
            "grid_gap": null,
            "grid_row": null,
            "grid_template_areas": null,
            "grid_template_columns": null,
            "grid_template_rows": null,
            "height": null,
            "justify_content": null,
            "justify_items": null,
            "left": null,
            "margin": null,
            "max_height": null,
            "max_width": null,
            "min_height": null,
            "min_width": null,
            "object_fit": null,
            "object_position": null,
            "order": null,
            "overflow": null,
            "overflow_x": null,
            "overflow_y": null,
            "padding": null,
            "right": null,
            "top": null,
            "visibility": null,
            "width": null
          }
        },
        "5e9b25e57153471fa5bf5c8910ddb183": {
          "model_module": "@jupyter-widgets/base",
          "model_name": "LayoutModel",
          "model_module_version": "1.2.0",
          "state": {
            "_model_module": "@jupyter-widgets/base",
            "_model_module_version": "1.2.0",
            "_model_name": "LayoutModel",
            "_view_count": null,
            "_view_module": "@jupyter-widgets/base",
            "_view_module_version": "1.2.0",
            "_view_name": "LayoutView",
            "align_content": null,
            "align_items": null,
            "align_self": null,
            "border": null,
            "bottom": null,
            "display": null,
            "flex": null,
            "flex_flow": null,
            "grid_area": null,
            "grid_auto_columns": null,
            "grid_auto_flow": null,
            "grid_auto_rows": null,
            "grid_column": null,
            "grid_gap": null,
            "grid_row": null,
            "grid_template_areas": null,
            "grid_template_columns": null,
            "grid_template_rows": null,
            "height": null,
            "justify_content": null,
            "justify_items": null,
            "left": null,
            "margin": null,
            "max_height": null,
            "max_width": null,
            "min_height": null,
            "min_width": null,
            "object_fit": null,
            "object_position": null,
            "order": null,
            "overflow": null,
            "overflow_x": null,
            "overflow_y": null,
            "padding": null,
            "right": null,
            "top": null,
            "visibility": null,
            "width": null
          }
        },
        "01c2dd32effb4fc8997b469f2b791591": {
          "model_module": "@jupyter-widgets/controls",
          "model_name": "DescriptionStyleModel",
          "model_module_version": "1.5.0",
          "state": {
            "_model_module": "@jupyter-widgets/controls",
            "_model_module_version": "1.5.0",
            "_model_name": "DescriptionStyleModel",
            "_view_count": null,
            "_view_module": "@jupyter-widgets/base",
            "_view_module_version": "1.2.0",
            "_view_name": "StyleView",
            "description_width": ""
          }
        },
        "beabb2b552c74e7d83cd9cc3cedde1fd": {
          "model_module": "@jupyter-widgets/base",
          "model_name": "LayoutModel",
          "model_module_version": "1.2.0",
          "state": {
            "_model_module": "@jupyter-widgets/base",
            "_model_module_version": "1.2.0",
            "_model_name": "LayoutModel",
            "_view_count": null,
            "_view_module": "@jupyter-widgets/base",
            "_view_module_version": "1.2.0",
            "_view_name": "LayoutView",
            "align_content": null,
            "align_items": null,
            "align_self": null,
            "border": null,
            "bottom": null,
            "display": null,
            "flex": null,
            "flex_flow": null,
            "grid_area": null,
            "grid_auto_columns": null,
            "grid_auto_flow": null,
            "grid_auto_rows": null,
            "grid_column": null,
            "grid_gap": null,
            "grid_row": null,
            "grid_template_areas": null,
            "grid_template_columns": null,
            "grid_template_rows": null,
            "height": null,
            "justify_content": null,
            "justify_items": null,
            "left": null,
            "margin": null,
            "max_height": null,
            "max_width": null,
            "min_height": null,
            "min_width": null,
            "object_fit": null,
            "object_position": null,
            "order": null,
            "overflow": null,
            "overflow_x": null,
            "overflow_y": null,
            "padding": null,
            "right": null,
            "top": null,
            "visibility": null,
            "width": null
          }
        },
        "0e660d3984b14ee987b3486afce1f356": {
          "model_module": "@jupyter-widgets/controls",
          "model_name": "ProgressStyleModel",
          "model_module_version": "1.5.0",
          "state": {
            "_model_module": "@jupyter-widgets/controls",
            "_model_module_version": "1.5.0",
            "_model_name": "ProgressStyleModel",
            "_view_count": null,
            "_view_module": "@jupyter-widgets/base",
            "_view_module_version": "1.2.0",
            "_view_name": "StyleView",
            "bar_color": null,
            "description_width": ""
          }
        },
        "9ff9ce4ec9604021aa4a8f62abe69b79": {
          "model_module": "@jupyter-widgets/controls",
          "model_name": "VBoxModel",
          "model_module_version": "1.5.0",
          "state": {
            "_dom_classes": [],
            "_model_module": "@jupyter-widgets/controls",
            "_model_module_version": "1.5.0",
            "_model_name": "VBoxModel",
            "_view_count": null,
            "_view_module": "@jupyter-widgets/controls",
            "_view_module_version": "1.5.0",
            "_view_name": "VBoxView",
            "box_style": "",
            "children": [
              "IPY_MODEL_6323ac5ac85f405090d9a944737d7144",
              "IPY_MODEL_38cb1f1efcef4859af416c98b9b51cd6"
            ],
            "layout": "IPY_MODEL_87c42b19680a4354b3026f24af867fd7"
          }
        },
        "6323ac5ac85f405090d9a944737d7144": {
          "model_module": "@jupyter-widgets/controls",
          "model_name": "LabelModel",
          "model_module_version": "1.5.0",
          "state": {
            "_dom_classes": [],
            "_model_module": "@jupyter-widgets/controls",
            "_model_module_version": "1.5.0",
            "_model_name": "LabelModel",
            "_view_count": null,
            "_view_module": "@jupyter-widgets/controls",
            "_view_module_version": "1.5.0",
            "_view_name": "LabelView",
            "description": "",
            "description_tooltip": null,
            "layout": "IPY_MODEL_610bd74bb8774fd98817f8c8a0c1c23d",
            "placeholder": "​",
            "style": "IPY_MODEL_220df8eb4e0643349c1459e69305fc1b",
            "value": "0.012 MB of 0.012 MB uploaded\r"
          }
        },
        "38cb1f1efcef4859af416c98b9b51cd6": {
          "model_module": "@jupyter-widgets/controls",
          "model_name": "FloatProgressModel",
          "model_module_version": "1.5.0",
          "state": {
            "_dom_classes": [],
            "_model_module": "@jupyter-widgets/controls",
            "_model_module_version": "1.5.0",
            "_model_name": "FloatProgressModel",
            "_view_count": null,
            "_view_module": "@jupyter-widgets/controls",
            "_view_module_version": "1.5.0",
            "_view_name": "ProgressView",
            "bar_style": "",
            "description": "",
            "description_tooltip": null,
            "layout": "IPY_MODEL_8d31cc4fb5d94ab5ac8bc76531f8488d",
            "max": 1,
            "min": 0,
            "orientation": "horizontal",
            "style": "IPY_MODEL_73ef48c3fcdb4c0cb38bb5b7efc59794",
            "value": 1
          }
        },
        "87c42b19680a4354b3026f24af867fd7": {
          "model_module": "@jupyter-widgets/base",
          "model_name": "LayoutModel",
          "model_module_version": "1.2.0",
          "state": {
            "_model_module": "@jupyter-widgets/base",
            "_model_module_version": "1.2.0",
            "_model_name": "LayoutModel",
            "_view_count": null,
            "_view_module": "@jupyter-widgets/base",
            "_view_module_version": "1.2.0",
            "_view_name": "LayoutView",
            "align_content": null,
            "align_items": null,
            "align_self": null,
            "border": null,
            "bottom": null,
            "display": null,
            "flex": null,
            "flex_flow": null,
            "grid_area": null,
            "grid_auto_columns": null,
            "grid_auto_flow": null,
            "grid_auto_rows": null,
            "grid_column": null,
            "grid_gap": null,
            "grid_row": null,
            "grid_template_areas": null,
            "grid_template_columns": null,
            "grid_template_rows": null,
            "height": null,
            "justify_content": null,
            "justify_items": null,
            "left": null,
            "margin": null,
            "max_height": null,
            "max_width": null,
            "min_height": null,
            "min_width": null,
            "object_fit": null,
            "object_position": null,
            "order": null,
            "overflow": null,
            "overflow_x": null,
            "overflow_y": null,
            "padding": null,
            "right": null,
            "top": null,
            "visibility": null,
            "width": null
          }
        },
        "610bd74bb8774fd98817f8c8a0c1c23d": {
          "model_module": "@jupyter-widgets/base",
          "model_name": "LayoutModel",
          "model_module_version": "1.2.0",
          "state": {
            "_model_module": "@jupyter-widgets/base",
            "_model_module_version": "1.2.0",
            "_model_name": "LayoutModel",
            "_view_count": null,
            "_view_module": "@jupyter-widgets/base",
            "_view_module_version": "1.2.0",
            "_view_name": "LayoutView",
            "align_content": null,
            "align_items": null,
            "align_self": null,
            "border": null,
            "bottom": null,
            "display": null,
            "flex": null,
            "flex_flow": null,
            "grid_area": null,
            "grid_auto_columns": null,
            "grid_auto_flow": null,
            "grid_auto_rows": null,
            "grid_column": null,
            "grid_gap": null,
            "grid_row": null,
            "grid_template_areas": null,
            "grid_template_columns": null,
            "grid_template_rows": null,
            "height": null,
            "justify_content": null,
            "justify_items": null,
            "left": null,
            "margin": null,
            "max_height": null,
            "max_width": null,
            "min_height": null,
            "min_width": null,
            "object_fit": null,
            "object_position": null,
            "order": null,
            "overflow": null,
            "overflow_x": null,
            "overflow_y": null,
            "padding": null,
            "right": null,
            "top": null,
            "visibility": null,
            "width": null
          }
        },
        "220df8eb4e0643349c1459e69305fc1b": {
          "model_module": "@jupyter-widgets/controls",
          "model_name": "DescriptionStyleModel",
          "model_module_version": "1.5.0",
          "state": {
            "_model_module": "@jupyter-widgets/controls",
            "_model_module_version": "1.5.0",
            "_model_name": "DescriptionStyleModel",
            "_view_count": null,
            "_view_module": "@jupyter-widgets/base",
            "_view_module_version": "1.2.0",
            "_view_name": "StyleView",
            "description_width": ""
          }
        },
        "8d31cc4fb5d94ab5ac8bc76531f8488d": {
          "model_module": "@jupyter-widgets/base",
          "model_name": "LayoutModel",
          "model_module_version": "1.2.0",
          "state": {
            "_model_module": "@jupyter-widgets/base",
            "_model_module_version": "1.2.0",
            "_model_name": "LayoutModel",
            "_view_count": null,
            "_view_module": "@jupyter-widgets/base",
            "_view_module_version": "1.2.0",
            "_view_name": "LayoutView",
            "align_content": null,
            "align_items": null,
            "align_self": null,
            "border": null,
            "bottom": null,
            "display": null,
            "flex": null,
            "flex_flow": null,
            "grid_area": null,
            "grid_auto_columns": null,
            "grid_auto_flow": null,
            "grid_auto_rows": null,
            "grid_column": null,
            "grid_gap": null,
            "grid_row": null,
            "grid_template_areas": null,
            "grid_template_columns": null,
            "grid_template_rows": null,
            "height": null,
            "justify_content": null,
            "justify_items": null,
            "left": null,
            "margin": null,
            "max_height": null,
            "max_width": null,
            "min_height": null,
            "min_width": null,
            "object_fit": null,
            "object_position": null,
            "order": null,
            "overflow": null,
            "overflow_x": null,
            "overflow_y": null,
            "padding": null,
            "right": null,
            "top": null,
            "visibility": null,
            "width": null
          }
        },
        "73ef48c3fcdb4c0cb38bb5b7efc59794": {
          "model_module": "@jupyter-widgets/controls",
          "model_name": "ProgressStyleModel",
          "model_module_version": "1.5.0",
          "state": {
            "_model_module": "@jupyter-widgets/controls",
            "_model_module_version": "1.5.0",
            "_model_name": "ProgressStyleModel",
            "_view_count": null,
            "_view_module": "@jupyter-widgets/base",
            "_view_module_version": "1.2.0",
            "_view_name": "StyleView",
            "bar_color": null,
            "description_width": ""
          }
        },
        "2767cedac81b435c983ad4ac7a95880f": {
          "model_module": "@jupyter-widgets/controls",
          "model_name": "VBoxModel",
          "model_module_version": "1.5.0",
          "state": {
            "_dom_classes": [],
            "_model_module": "@jupyter-widgets/controls",
            "_model_module_version": "1.5.0",
            "_model_name": "VBoxModel",
            "_view_count": null,
            "_view_module": "@jupyter-widgets/controls",
            "_view_module_version": "1.5.0",
            "_view_name": "VBoxView",
            "box_style": "",
            "children": [
              "IPY_MODEL_5bfcc866cc834f23bc12860775e0e84c",
              "IPY_MODEL_002bd6c089bb4744963e1783db7d6347"
            ],
            "layout": "IPY_MODEL_8ce51ca8d00a487794fa55c44a738a7a"
          }
        },
        "5bfcc866cc834f23bc12860775e0e84c": {
          "model_module": "@jupyter-widgets/controls",
          "model_name": "LabelModel",
          "model_module_version": "1.5.0",
          "state": {
            "_dom_classes": [],
            "_model_module": "@jupyter-widgets/controls",
            "_model_module_version": "1.5.0",
            "_model_name": "LabelModel",
            "_view_count": null,
            "_view_module": "@jupyter-widgets/controls",
            "_view_module_version": "1.5.0",
            "_view_name": "LabelView",
            "description": "",
            "description_tooltip": null,
            "layout": "IPY_MODEL_7d6449f0cced46ca99981e9ef7084930",
            "placeholder": "​",
            "style": "IPY_MODEL_73460e54b91e40d9a769cb9281005770",
            "value": "0.012 MB of 0.012 MB uploaded\r"
          }
        },
        "002bd6c089bb4744963e1783db7d6347": {
          "model_module": "@jupyter-widgets/controls",
          "model_name": "FloatProgressModel",
          "model_module_version": "1.5.0",
          "state": {
            "_dom_classes": [],
            "_model_module": "@jupyter-widgets/controls",
            "_model_module_version": "1.5.0",
            "_model_name": "FloatProgressModel",
            "_view_count": null,
            "_view_module": "@jupyter-widgets/controls",
            "_view_module_version": "1.5.0",
            "_view_name": "ProgressView",
            "bar_style": "",
            "description": "",
            "description_tooltip": null,
            "layout": "IPY_MODEL_8ff3a66b69c4460a9e5ee5400c2794fb",
            "max": 1,
            "min": 0,
            "orientation": "horizontal",
            "style": "IPY_MODEL_2a10600827c54834b9d92e58fe1e2aa4",
            "value": 1
          }
        },
        "8ce51ca8d00a487794fa55c44a738a7a": {
          "model_module": "@jupyter-widgets/base",
          "model_name": "LayoutModel",
          "model_module_version": "1.2.0",
          "state": {
            "_model_module": "@jupyter-widgets/base",
            "_model_module_version": "1.2.0",
            "_model_name": "LayoutModel",
            "_view_count": null,
            "_view_module": "@jupyter-widgets/base",
            "_view_module_version": "1.2.0",
            "_view_name": "LayoutView",
            "align_content": null,
            "align_items": null,
            "align_self": null,
            "border": null,
            "bottom": null,
            "display": null,
            "flex": null,
            "flex_flow": null,
            "grid_area": null,
            "grid_auto_columns": null,
            "grid_auto_flow": null,
            "grid_auto_rows": null,
            "grid_column": null,
            "grid_gap": null,
            "grid_row": null,
            "grid_template_areas": null,
            "grid_template_columns": null,
            "grid_template_rows": null,
            "height": null,
            "justify_content": null,
            "justify_items": null,
            "left": null,
            "margin": null,
            "max_height": null,
            "max_width": null,
            "min_height": null,
            "min_width": null,
            "object_fit": null,
            "object_position": null,
            "order": null,
            "overflow": null,
            "overflow_x": null,
            "overflow_y": null,
            "padding": null,
            "right": null,
            "top": null,
            "visibility": null,
            "width": null
          }
        },
        "7d6449f0cced46ca99981e9ef7084930": {
          "model_module": "@jupyter-widgets/base",
          "model_name": "LayoutModel",
          "model_module_version": "1.2.0",
          "state": {
            "_model_module": "@jupyter-widgets/base",
            "_model_module_version": "1.2.0",
            "_model_name": "LayoutModel",
            "_view_count": null,
            "_view_module": "@jupyter-widgets/base",
            "_view_module_version": "1.2.0",
            "_view_name": "LayoutView",
            "align_content": null,
            "align_items": null,
            "align_self": null,
            "border": null,
            "bottom": null,
            "display": null,
            "flex": null,
            "flex_flow": null,
            "grid_area": null,
            "grid_auto_columns": null,
            "grid_auto_flow": null,
            "grid_auto_rows": null,
            "grid_column": null,
            "grid_gap": null,
            "grid_row": null,
            "grid_template_areas": null,
            "grid_template_columns": null,
            "grid_template_rows": null,
            "height": null,
            "justify_content": null,
            "justify_items": null,
            "left": null,
            "margin": null,
            "max_height": null,
            "max_width": null,
            "min_height": null,
            "min_width": null,
            "object_fit": null,
            "object_position": null,
            "order": null,
            "overflow": null,
            "overflow_x": null,
            "overflow_y": null,
            "padding": null,
            "right": null,
            "top": null,
            "visibility": null,
            "width": null
          }
        },
        "73460e54b91e40d9a769cb9281005770": {
          "model_module": "@jupyter-widgets/controls",
          "model_name": "DescriptionStyleModel",
          "model_module_version": "1.5.0",
          "state": {
            "_model_module": "@jupyter-widgets/controls",
            "_model_module_version": "1.5.0",
            "_model_name": "DescriptionStyleModel",
            "_view_count": null,
            "_view_module": "@jupyter-widgets/base",
            "_view_module_version": "1.2.0",
            "_view_name": "StyleView",
            "description_width": ""
          }
        },
        "8ff3a66b69c4460a9e5ee5400c2794fb": {
          "model_module": "@jupyter-widgets/base",
          "model_name": "LayoutModel",
          "model_module_version": "1.2.0",
          "state": {
            "_model_module": "@jupyter-widgets/base",
            "_model_module_version": "1.2.0",
            "_model_name": "LayoutModel",
            "_view_count": null,
            "_view_module": "@jupyter-widgets/base",
            "_view_module_version": "1.2.0",
            "_view_name": "LayoutView",
            "align_content": null,
            "align_items": null,
            "align_self": null,
            "border": null,
            "bottom": null,
            "display": null,
            "flex": null,
            "flex_flow": null,
            "grid_area": null,
            "grid_auto_columns": null,
            "grid_auto_flow": null,
            "grid_auto_rows": null,
            "grid_column": null,
            "grid_gap": null,
            "grid_row": null,
            "grid_template_areas": null,
            "grid_template_columns": null,
            "grid_template_rows": null,
            "height": null,
            "justify_content": null,
            "justify_items": null,
            "left": null,
            "margin": null,
            "max_height": null,
            "max_width": null,
            "min_height": null,
            "min_width": null,
            "object_fit": null,
            "object_position": null,
            "order": null,
            "overflow": null,
            "overflow_x": null,
            "overflow_y": null,
            "padding": null,
            "right": null,
            "top": null,
            "visibility": null,
            "width": null
          }
        },
        "2a10600827c54834b9d92e58fe1e2aa4": {
          "model_module": "@jupyter-widgets/controls",
          "model_name": "ProgressStyleModel",
          "model_module_version": "1.5.0",
          "state": {
            "_model_module": "@jupyter-widgets/controls",
            "_model_module_version": "1.5.0",
            "_model_name": "ProgressStyleModel",
            "_view_count": null,
            "_view_module": "@jupyter-widgets/base",
            "_view_module_version": "1.2.0",
            "_view_name": "StyleView",
            "bar_color": null,
            "description_width": ""
          }
        },
        "f694088ac9b94268a6c09b16465c6500": {
          "model_module": "@jupyter-widgets/controls",
          "model_name": "VBoxModel",
          "model_module_version": "1.5.0",
          "state": {
            "_dom_classes": [],
            "_model_module": "@jupyter-widgets/controls",
            "_model_module_version": "1.5.0",
            "_model_name": "VBoxModel",
            "_view_count": null,
            "_view_module": "@jupyter-widgets/controls",
            "_view_module_version": "1.5.0",
            "_view_name": "VBoxView",
            "box_style": "",
            "children": [
              "IPY_MODEL_c76bc421e39941f7b3e9d00a439eab08",
              "IPY_MODEL_7962cea2c83f40758680da30f87c5f86"
            ],
            "layout": "IPY_MODEL_82d22966b0264a36a7af81dac17bacac"
          }
        },
        "c76bc421e39941f7b3e9d00a439eab08": {
          "model_module": "@jupyter-widgets/controls",
          "model_name": "LabelModel",
          "model_module_version": "1.5.0",
          "state": {
            "_dom_classes": [],
            "_model_module": "@jupyter-widgets/controls",
            "_model_module_version": "1.5.0",
            "_model_name": "LabelModel",
            "_view_count": null,
            "_view_module": "@jupyter-widgets/controls",
            "_view_module_version": "1.5.0",
            "_view_name": "LabelView",
            "description": "",
            "description_tooltip": null,
            "layout": "IPY_MODEL_9882be1db45a4766a52d81e14c72c571",
            "placeholder": "​",
            "style": "IPY_MODEL_01d5cc5c4ca644c9af84271f58e987d0",
            "value": "0.012 MB of 0.012 MB uploaded\r"
          }
        },
        "7962cea2c83f40758680da30f87c5f86": {
          "model_module": "@jupyter-widgets/controls",
          "model_name": "FloatProgressModel",
          "model_module_version": "1.5.0",
          "state": {
            "_dom_classes": [],
            "_model_module": "@jupyter-widgets/controls",
            "_model_module_version": "1.5.0",
            "_model_name": "FloatProgressModel",
            "_view_count": null,
            "_view_module": "@jupyter-widgets/controls",
            "_view_module_version": "1.5.0",
            "_view_name": "ProgressView",
            "bar_style": "",
            "description": "",
            "description_tooltip": null,
            "layout": "IPY_MODEL_2f52ba1be77f44ffa5e3bd0a719b5bb5",
            "max": 1,
            "min": 0,
            "orientation": "horizontal",
            "style": "IPY_MODEL_9f9aebfd9e6d4df0ad2b57c8787ef9c4",
            "value": 1
          }
        },
        "82d22966b0264a36a7af81dac17bacac": {
          "model_module": "@jupyter-widgets/base",
          "model_name": "LayoutModel",
          "model_module_version": "1.2.0",
          "state": {
            "_model_module": "@jupyter-widgets/base",
            "_model_module_version": "1.2.0",
            "_model_name": "LayoutModel",
            "_view_count": null,
            "_view_module": "@jupyter-widgets/base",
            "_view_module_version": "1.2.0",
            "_view_name": "LayoutView",
            "align_content": null,
            "align_items": null,
            "align_self": null,
            "border": null,
            "bottom": null,
            "display": null,
            "flex": null,
            "flex_flow": null,
            "grid_area": null,
            "grid_auto_columns": null,
            "grid_auto_flow": null,
            "grid_auto_rows": null,
            "grid_column": null,
            "grid_gap": null,
            "grid_row": null,
            "grid_template_areas": null,
            "grid_template_columns": null,
            "grid_template_rows": null,
            "height": null,
            "justify_content": null,
            "justify_items": null,
            "left": null,
            "margin": null,
            "max_height": null,
            "max_width": null,
            "min_height": null,
            "min_width": null,
            "object_fit": null,
            "object_position": null,
            "order": null,
            "overflow": null,
            "overflow_x": null,
            "overflow_y": null,
            "padding": null,
            "right": null,
            "top": null,
            "visibility": null,
            "width": null
          }
        },
        "9882be1db45a4766a52d81e14c72c571": {
          "model_module": "@jupyter-widgets/base",
          "model_name": "LayoutModel",
          "model_module_version": "1.2.0",
          "state": {
            "_model_module": "@jupyter-widgets/base",
            "_model_module_version": "1.2.0",
            "_model_name": "LayoutModel",
            "_view_count": null,
            "_view_module": "@jupyter-widgets/base",
            "_view_module_version": "1.2.0",
            "_view_name": "LayoutView",
            "align_content": null,
            "align_items": null,
            "align_self": null,
            "border": null,
            "bottom": null,
            "display": null,
            "flex": null,
            "flex_flow": null,
            "grid_area": null,
            "grid_auto_columns": null,
            "grid_auto_flow": null,
            "grid_auto_rows": null,
            "grid_column": null,
            "grid_gap": null,
            "grid_row": null,
            "grid_template_areas": null,
            "grid_template_columns": null,
            "grid_template_rows": null,
            "height": null,
            "justify_content": null,
            "justify_items": null,
            "left": null,
            "margin": null,
            "max_height": null,
            "max_width": null,
            "min_height": null,
            "min_width": null,
            "object_fit": null,
            "object_position": null,
            "order": null,
            "overflow": null,
            "overflow_x": null,
            "overflow_y": null,
            "padding": null,
            "right": null,
            "top": null,
            "visibility": null,
            "width": null
          }
        },
        "01d5cc5c4ca644c9af84271f58e987d0": {
          "model_module": "@jupyter-widgets/controls",
          "model_name": "DescriptionStyleModel",
          "model_module_version": "1.5.0",
          "state": {
            "_model_module": "@jupyter-widgets/controls",
            "_model_module_version": "1.5.0",
            "_model_name": "DescriptionStyleModel",
            "_view_count": null,
            "_view_module": "@jupyter-widgets/base",
            "_view_module_version": "1.2.0",
            "_view_name": "StyleView",
            "description_width": ""
          }
        },
        "2f52ba1be77f44ffa5e3bd0a719b5bb5": {
          "model_module": "@jupyter-widgets/base",
          "model_name": "LayoutModel",
          "model_module_version": "1.2.0",
          "state": {
            "_model_module": "@jupyter-widgets/base",
            "_model_module_version": "1.2.0",
            "_model_name": "LayoutModel",
            "_view_count": null,
            "_view_module": "@jupyter-widgets/base",
            "_view_module_version": "1.2.0",
            "_view_name": "LayoutView",
            "align_content": null,
            "align_items": null,
            "align_self": null,
            "border": null,
            "bottom": null,
            "display": null,
            "flex": null,
            "flex_flow": null,
            "grid_area": null,
            "grid_auto_columns": null,
            "grid_auto_flow": null,
            "grid_auto_rows": null,
            "grid_column": null,
            "grid_gap": null,
            "grid_row": null,
            "grid_template_areas": null,
            "grid_template_columns": null,
            "grid_template_rows": null,
            "height": null,
            "justify_content": null,
            "justify_items": null,
            "left": null,
            "margin": null,
            "max_height": null,
            "max_width": null,
            "min_height": null,
            "min_width": null,
            "object_fit": null,
            "object_position": null,
            "order": null,
            "overflow": null,
            "overflow_x": null,
            "overflow_y": null,
            "padding": null,
            "right": null,
            "top": null,
            "visibility": null,
            "width": null
          }
        },
        "9f9aebfd9e6d4df0ad2b57c8787ef9c4": {
          "model_module": "@jupyter-widgets/controls",
          "model_name": "ProgressStyleModel",
          "model_module_version": "1.5.0",
          "state": {
            "_model_module": "@jupyter-widgets/controls",
            "_model_module_version": "1.5.0",
            "_model_name": "ProgressStyleModel",
            "_view_count": null,
            "_view_module": "@jupyter-widgets/base",
            "_view_module_version": "1.2.0",
            "_view_name": "StyleView",
            "bar_color": null,
            "description_width": ""
          }
        },
        "5eef24d7759b48ac95d842ba603ae351": {
          "model_module": "@jupyter-widgets/controls",
          "model_name": "VBoxModel",
          "model_module_version": "1.5.0",
          "state": {
            "_dom_classes": [],
            "_model_module": "@jupyter-widgets/controls",
            "_model_module_version": "1.5.0",
            "_model_name": "VBoxModel",
            "_view_count": null,
            "_view_module": "@jupyter-widgets/controls",
            "_view_module_version": "1.5.0",
            "_view_name": "VBoxView",
            "box_style": "",
            "children": [
              "IPY_MODEL_3e1a49140e09414cb4ff8ebe8a74bc0e",
              "IPY_MODEL_77efd3e47a264004bb7e6b5ae40efbdd"
            ],
            "layout": "IPY_MODEL_4495bd37fb204d28b1e1be71ee7cc3d6"
          }
        },
        "3e1a49140e09414cb4ff8ebe8a74bc0e": {
          "model_module": "@jupyter-widgets/controls",
          "model_name": "LabelModel",
          "model_module_version": "1.5.0",
          "state": {
            "_dom_classes": [],
            "_model_module": "@jupyter-widgets/controls",
            "_model_module_version": "1.5.0",
            "_model_name": "LabelModel",
            "_view_count": null,
            "_view_module": "@jupyter-widgets/controls",
            "_view_module_version": "1.5.0",
            "_view_name": "LabelView",
            "description": "",
            "description_tooltip": null,
            "layout": "IPY_MODEL_2ed7fd2f718241f7a0371d3b461b453c",
            "placeholder": "​",
            "style": "IPY_MODEL_95834fa4db4a47bebd49daf378d7e95b",
            "value": "0.012 MB of 0.012 MB uploaded\r"
          }
        },
        "77efd3e47a264004bb7e6b5ae40efbdd": {
          "model_module": "@jupyter-widgets/controls",
          "model_name": "FloatProgressModel",
          "model_module_version": "1.5.0",
          "state": {
            "_dom_classes": [],
            "_model_module": "@jupyter-widgets/controls",
            "_model_module_version": "1.5.0",
            "_model_name": "FloatProgressModel",
            "_view_count": null,
            "_view_module": "@jupyter-widgets/controls",
            "_view_module_version": "1.5.0",
            "_view_name": "ProgressView",
            "bar_style": "",
            "description": "",
            "description_tooltip": null,
            "layout": "IPY_MODEL_e9a144deef9341448d08ec4d731e5977",
            "max": 1,
            "min": 0,
            "orientation": "horizontal",
            "style": "IPY_MODEL_ca5d3d9242334fd1a4991ac25248ac74",
            "value": 1
          }
        },
        "4495bd37fb204d28b1e1be71ee7cc3d6": {
          "model_module": "@jupyter-widgets/base",
          "model_name": "LayoutModel",
          "model_module_version": "1.2.0",
          "state": {
            "_model_module": "@jupyter-widgets/base",
            "_model_module_version": "1.2.0",
            "_model_name": "LayoutModel",
            "_view_count": null,
            "_view_module": "@jupyter-widgets/base",
            "_view_module_version": "1.2.0",
            "_view_name": "LayoutView",
            "align_content": null,
            "align_items": null,
            "align_self": null,
            "border": null,
            "bottom": null,
            "display": null,
            "flex": null,
            "flex_flow": null,
            "grid_area": null,
            "grid_auto_columns": null,
            "grid_auto_flow": null,
            "grid_auto_rows": null,
            "grid_column": null,
            "grid_gap": null,
            "grid_row": null,
            "grid_template_areas": null,
            "grid_template_columns": null,
            "grid_template_rows": null,
            "height": null,
            "justify_content": null,
            "justify_items": null,
            "left": null,
            "margin": null,
            "max_height": null,
            "max_width": null,
            "min_height": null,
            "min_width": null,
            "object_fit": null,
            "object_position": null,
            "order": null,
            "overflow": null,
            "overflow_x": null,
            "overflow_y": null,
            "padding": null,
            "right": null,
            "top": null,
            "visibility": null,
            "width": null
          }
        },
        "2ed7fd2f718241f7a0371d3b461b453c": {
          "model_module": "@jupyter-widgets/base",
          "model_name": "LayoutModel",
          "model_module_version": "1.2.0",
          "state": {
            "_model_module": "@jupyter-widgets/base",
            "_model_module_version": "1.2.0",
            "_model_name": "LayoutModel",
            "_view_count": null,
            "_view_module": "@jupyter-widgets/base",
            "_view_module_version": "1.2.0",
            "_view_name": "LayoutView",
            "align_content": null,
            "align_items": null,
            "align_self": null,
            "border": null,
            "bottom": null,
            "display": null,
            "flex": null,
            "flex_flow": null,
            "grid_area": null,
            "grid_auto_columns": null,
            "grid_auto_flow": null,
            "grid_auto_rows": null,
            "grid_column": null,
            "grid_gap": null,
            "grid_row": null,
            "grid_template_areas": null,
            "grid_template_columns": null,
            "grid_template_rows": null,
            "height": null,
            "justify_content": null,
            "justify_items": null,
            "left": null,
            "margin": null,
            "max_height": null,
            "max_width": null,
            "min_height": null,
            "min_width": null,
            "object_fit": null,
            "object_position": null,
            "order": null,
            "overflow": null,
            "overflow_x": null,
            "overflow_y": null,
            "padding": null,
            "right": null,
            "top": null,
            "visibility": null,
            "width": null
          }
        },
        "95834fa4db4a47bebd49daf378d7e95b": {
          "model_module": "@jupyter-widgets/controls",
          "model_name": "DescriptionStyleModel",
          "model_module_version": "1.5.0",
          "state": {
            "_model_module": "@jupyter-widgets/controls",
            "_model_module_version": "1.5.0",
            "_model_name": "DescriptionStyleModel",
            "_view_count": null,
            "_view_module": "@jupyter-widgets/base",
            "_view_module_version": "1.2.0",
            "_view_name": "StyleView",
            "description_width": ""
          }
        },
        "e9a144deef9341448d08ec4d731e5977": {
          "model_module": "@jupyter-widgets/base",
          "model_name": "LayoutModel",
          "model_module_version": "1.2.0",
          "state": {
            "_model_module": "@jupyter-widgets/base",
            "_model_module_version": "1.2.0",
            "_model_name": "LayoutModel",
            "_view_count": null,
            "_view_module": "@jupyter-widgets/base",
            "_view_module_version": "1.2.0",
            "_view_name": "LayoutView",
            "align_content": null,
            "align_items": null,
            "align_self": null,
            "border": null,
            "bottom": null,
            "display": null,
            "flex": null,
            "flex_flow": null,
            "grid_area": null,
            "grid_auto_columns": null,
            "grid_auto_flow": null,
            "grid_auto_rows": null,
            "grid_column": null,
            "grid_gap": null,
            "grid_row": null,
            "grid_template_areas": null,
            "grid_template_columns": null,
            "grid_template_rows": null,
            "height": null,
            "justify_content": null,
            "justify_items": null,
            "left": null,
            "margin": null,
            "max_height": null,
            "max_width": null,
            "min_height": null,
            "min_width": null,
            "object_fit": null,
            "object_position": null,
            "order": null,
            "overflow": null,
            "overflow_x": null,
            "overflow_y": null,
            "padding": null,
            "right": null,
            "top": null,
            "visibility": null,
            "width": null
          }
        },
        "ca5d3d9242334fd1a4991ac25248ac74": {
          "model_module": "@jupyter-widgets/controls",
          "model_name": "ProgressStyleModel",
          "model_module_version": "1.5.0",
          "state": {
            "_model_module": "@jupyter-widgets/controls",
            "_model_module_version": "1.5.0",
            "_model_name": "ProgressStyleModel",
            "_view_count": null,
            "_view_module": "@jupyter-widgets/base",
            "_view_module_version": "1.2.0",
            "_view_name": "StyleView",
            "bar_color": null,
            "description_width": ""
          }
        },
        "dc962feaca054611a680c9753940ee24": {
          "model_module": "@jupyter-widgets/controls",
          "model_name": "VBoxModel",
          "model_module_version": "1.5.0",
          "state": {
            "_dom_classes": [],
            "_model_module": "@jupyter-widgets/controls",
            "_model_module_version": "1.5.0",
            "_model_name": "VBoxModel",
            "_view_count": null,
            "_view_module": "@jupyter-widgets/controls",
            "_view_module_version": "1.5.0",
            "_view_name": "VBoxView",
            "box_style": "",
            "children": [
              "IPY_MODEL_8e1dff1ae9284cebb2fb513124eca7bb",
              "IPY_MODEL_5ff8e64750a1479e9617e040e1eff240"
            ],
            "layout": "IPY_MODEL_1aa55aa79d65415e9c29169339d539ba"
          }
        },
        "8e1dff1ae9284cebb2fb513124eca7bb": {
          "model_module": "@jupyter-widgets/controls",
          "model_name": "LabelModel",
          "model_module_version": "1.5.0",
          "state": {
            "_dom_classes": [],
            "_model_module": "@jupyter-widgets/controls",
            "_model_module_version": "1.5.0",
            "_model_name": "LabelModel",
            "_view_count": null,
            "_view_module": "@jupyter-widgets/controls",
            "_view_module_version": "1.5.0",
            "_view_name": "LabelView",
            "description": "",
            "description_tooltip": null,
            "layout": "IPY_MODEL_874225dc9d6b46ddb1ab56cc5401d71a",
            "placeholder": "​",
            "style": "IPY_MODEL_e8a244c082eb46899cf01f332b33dfa1",
            "value": "0.011 MB of 0.011 MB uploaded\r"
          }
        },
        "5ff8e64750a1479e9617e040e1eff240": {
          "model_module": "@jupyter-widgets/controls",
          "model_name": "FloatProgressModel",
          "model_module_version": "1.5.0",
          "state": {
            "_dom_classes": [],
            "_model_module": "@jupyter-widgets/controls",
            "_model_module_version": "1.5.0",
            "_model_name": "FloatProgressModel",
            "_view_count": null,
            "_view_module": "@jupyter-widgets/controls",
            "_view_module_version": "1.5.0",
            "_view_name": "ProgressView",
            "bar_style": "",
            "description": "",
            "description_tooltip": null,
            "layout": "IPY_MODEL_846cbbe3208e404fb5d51d673f42a10f",
            "max": 1,
            "min": 0,
            "orientation": "horizontal",
            "style": "IPY_MODEL_f4d68fee96784cc8bae7b52ac3204a87",
            "value": 1
          }
        },
        "1aa55aa79d65415e9c29169339d539ba": {
          "model_module": "@jupyter-widgets/base",
          "model_name": "LayoutModel",
          "model_module_version": "1.2.0",
          "state": {
            "_model_module": "@jupyter-widgets/base",
            "_model_module_version": "1.2.0",
            "_model_name": "LayoutModel",
            "_view_count": null,
            "_view_module": "@jupyter-widgets/base",
            "_view_module_version": "1.2.0",
            "_view_name": "LayoutView",
            "align_content": null,
            "align_items": null,
            "align_self": null,
            "border": null,
            "bottom": null,
            "display": null,
            "flex": null,
            "flex_flow": null,
            "grid_area": null,
            "grid_auto_columns": null,
            "grid_auto_flow": null,
            "grid_auto_rows": null,
            "grid_column": null,
            "grid_gap": null,
            "grid_row": null,
            "grid_template_areas": null,
            "grid_template_columns": null,
            "grid_template_rows": null,
            "height": null,
            "justify_content": null,
            "justify_items": null,
            "left": null,
            "margin": null,
            "max_height": null,
            "max_width": null,
            "min_height": null,
            "min_width": null,
            "object_fit": null,
            "object_position": null,
            "order": null,
            "overflow": null,
            "overflow_x": null,
            "overflow_y": null,
            "padding": null,
            "right": null,
            "top": null,
            "visibility": null,
            "width": null
          }
        },
        "874225dc9d6b46ddb1ab56cc5401d71a": {
          "model_module": "@jupyter-widgets/base",
          "model_name": "LayoutModel",
          "model_module_version": "1.2.0",
          "state": {
            "_model_module": "@jupyter-widgets/base",
            "_model_module_version": "1.2.0",
            "_model_name": "LayoutModel",
            "_view_count": null,
            "_view_module": "@jupyter-widgets/base",
            "_view_module_version": "1.2.0",
            "_view_name": "LayoutView",
            "align_content": null,
            "align_items": null,
            "align_self": null,
            "border": null,
            "bottom": null,
            "display": null,
            "flex": null,
            "flex_flow": null,
            "grid_area": null,
            "grid_auto_columns": null,
            "grid_auto_flow": null,
            "grid_auto_rows": null,
            "grid_column": null,
            "grid_gap": null,
            "grid_row": null,
            "grid_template_areas": null,
            "grid_template_columns": null,
            "grid_template_rows": null,
            "height": null,
            "justify_content": null,
            "justify_items": null,
            "left": null,
            "margin": null,
            "max_height": null,
            "max_width": null,
            "min_height": null,
            "min_width": null,
            "object_fit": null,
            "object_position": null,
            "order": null,
            "overflow": null,
            "overflow_x": null,
            "overflow_y": null,
            "padding": null,
            "right": null,
            "top": null,
            "visibility": null,
            "width": null
          }
        },
        "e8a244c082eb46899cf01f332b33dfa1": {
          "model_module": "@jupyter-widgets/controls",
          "model_name": "DescriptionStyleModel",
          "model_module_version": "1.5.0",
          "state": {
            "_model_module": "@jupyter-widgets/controls",
            "_model_module_version": "1.5.0",
            "_model_name": "DescriptionStyleModel",
            "_view_count": null,
            "_view_module": "@jupyter-widgets/base",
            "_view_module_version": "1.2.0",
            "_view_name": "StyleView",
            "description_width": ""
          }
        },
        "846cbbe3208e404fb5d51d673f42a10f": {
          "model_module": "@jupyter-widgets/base",
          "model_name": "LayoutModel",
          "model_module_version": "1.2.0",
          "state": {
            "_model_module": "@jupyter-widgets/base",
            "_model_module_version": "1.2.0",
            "_model_name": "LayoutModel",
            "_view_count": null,
            "_view_module": "@jupyter-widgets/base",
            "_view_module_version": "1.2.0",
            "_view_name": "LayoutView",
            "align_content": null,
            "align_items": null,
            "align_self": null,
            "border": null,
            "bottom": null,
            "display": null,
            "flex": null,
            "flex_flow": null,
            "grid_area": null,
            "grid_auto_columns": null,
            "grid_auto_flow": null,
            "grid_auto_rows": null,
            "grid_column": null,
            "grid_gap": null,
            "grid_row": null,
            "grid_template_areas": null,
            "grid_template_columns": null,
            "grid_template_rows": null,
            "height": null,
            "justify_content": null,
            "justify_items": null,
            "left": null,
            "margin": null,
            "max_height": null,
            "max_width": null,
            "min_height": null,
            "min_width": null,
            "object_fit": null,
            "object_position": null,
            "order": null,
            "overflow": null,
            "overflow_x": null,
            "overflow_y": null,
            "padding": null,
            "right": null,
            "top": null,
            "visibility": null,
            "width": null
          }
        },
        "f4d68fee96784cc8bae7b52ac3204a87": {
          "model_module": "@jupyter-widgets/controls",
          "model_name": "ProgressStyleModel",
          "model_module_version": "1.5.0",
          "state": {
            "_model_module": "@jupyter-widgets/controls",
            "_model_module_version": "1.5.0",
            "_model_name": "ProgressStyleModel",
            "_view_count": null,
            "_view_module": "@jupyter-widgets/base",
            "_view_module_version": "1.2.0",
            "_view_name": "StyleView",
            "bar_color": null,
            "description_width": ""
          }
        },
        "ee614167189c46c9ab13cb6c403a9ddd": {
          "model_module": "@jupyter-widgets/controls",
          "model_name": "VBoxModel",
          "model_module_version": "1.5.0",
          "state": {
            "_dom_classes": [],
            "_model_module": "@jupyter-widgets/controls",
            "_model_module_version": "1.5.0",
            "_model_name": "VBoxModel",
            "_view_count": null,
            "_view_module": "@jupyter-widgets/controls",
            "_view_module_version": "1.5.0",
            "_view_name": "VBoxView",
            "box_style": "",
            "children": [
              "IPY_MODEL_b433eaeb63d64b939558169c8ba8932c",
              "IPY_MODEL_d722cb1e88014dccb0d00cf4e6d54260"
            ],
            "layout": "IPY_MODEL_f3fa40a45193485aa0017e27cb744c43"
          }
        },
        "b433eaeb63d64b939558169c8ba8932c": {
          "model_module": "@jupyter-widgets/controls",
          "model_name": "LabelModel",
          "model_module_version": "1.5.0",
          "state": {
            "_dom_classes": [],
            "_model_module": "@jupyter-widgets/controls",
            "_model_module_version": "1.5.0",
            "_model_name": "LabelModel",
            "_view_count": null,
            "_view_module": "@jupyter-widgets/controls",
            "_view_module_version": "1.5.0",
            "_view_name": "LabelView",
            "description": "",
            "description_tooltip": null,
            "layout": "IPY_MODEL_fee8f07453f9443292bf8c5fe905c7be",
            "placeholder": "​",
            "style": "IPY_MODEL_7ac9385be1664e888be3763570cebdf5",
            "value": "0.017 MB of 0.017 MB uploaded\r"
          }
        },
        "d722cb1e88014dccb0d00cf4e6d54260": {
          "model_module": "@jupyter-widgets/controls",
          "model_name": "FloatProgressModel",
          "model_module_version": "1.5.0",
          "state": {
            "_dom_classes": [],
            "_model_module": "@jupyter-widgets/controls",
            "_model_module_version": "1.5.0",
            "_model_name": "FloatProgressModel",
            "_view_count": null,
            "_view_module": "@jupyter-widgets/controls",
            "_view_module_version": "1.5.0",
            "_view_name": "ProgressView",
            "bar_style": "",
            "description": "",
            "description_tooltip": null,
            "layout": "IPY_MODEL_17b44b0e798c44a192faf2d256df428c",
            "max": 1,
            "min": 0,
            "orientation": "horizontal",
            "style": "IPY_MODEL_b79aa14e3d5d4b1c8bef46d3de97ca89",
            "value": 1
          }
        },
        "f3fa40a45193485aa0017e27cb744c43": {
          "model_module": "@jupyter-widgets/base",
          "model_name": "LayoutModel",
          "model_module_version": "1.2.0",
          "state": {
            "_model_module": "@jupyter-widgets/base",
            "_model_module_version": "1.2.0",
            "_model_name": "LayoutModel",
            "_view_count": null,
            "_view_module": "@jupyter-widgets/base",
            "_view_module_version": "1.2.0",
            "_view_name": "LayoutView",
            "align_content": null,
            "align_items": null,
            "align_self": null,
            "border": null,
            "bottom": null,
            "display": null,
            "flex": null,
            "flex_flow": null,
            "grid_area": null,
            "grid_auto_columns": null,
            "grid_auto_flow": null,
            "grid_auto_rows": null,
            "grid_column": null,
            "grid_gap": null,
            "grid_row": null,
            "grid_template_areas": null,
            "grid_template_columns": null,
            "grid_template_rows": null,
            "height": null,
            "justify_content": null,
            "justify_items": null,
            "left": null,
            "margin": null,
            "max_height": null,
            "max_width": null,
            "min_height": null,
            "min_width": null,
            "object_fit": null,
            "object_position": null,
            "order": null,
            "overflow": null,
            "overflow_x": null,
            "overflow_y": null,
            "padding": null,
            "right": null,
            "top": null,
            "visibility": null,
            "width": null
          }
        },
        "fee8f07453f9443292bf8c5fe905c7be": {
          "model_module": "@jupyter-widgets/base",
          "model_name": "LayoutModel",
          "model_module_version": "1.2.0",
          "state": {
            "_model_module": "@jupyter-widgets/base",
            "_model_module_version": "1.2.0",
            "_model_name": "LayoutModel",
            "_view_count": null,
            "_view_module": "@jupyter-widgets/base",
            "_view_module_version": "1.2.0",
            "_view_name": "LayoutView",
            "align_content": null,
            "align_items": null,
            "align_self": null,
            "border": null,
            "bottom": null,
            "display": null,
            "flex": null,
            "flex_flow": null,
            "grid_area": null,
            "grid_auto_columns": null,
            "grid_auto_flow": null,
            "grid_auto_rows": null,
            "grid_column": null,
            "grid_gap": null,
            "grid_row": null,
            "grid_template_areas": null,
            "grid_template_columns": null,
            "grid_template_rows": null,
            "height": null,
            "justify_content": null,
            "justify_items": null,
            "left": null,
            "margin": null,
            "max_height": null,
            "max_width": null,
            "min_height": null,
            "min_width": null,
            "object_fit": null,
            "object_position": null,
            "order": null,
            "overflow": null,
            "overflow_x": null,
            "overflow_y": null,
            "padding": null,
            "right": null,
            "top": null,
            "visibility": null,
            "width": null
          }
        },
        "7ac9385be1664e888be3763570cebdf5": {
          "model_module": "@jupyter-widgets/controls",
          "model_name": "DescriptionStyleModel",
          "model_module_version": "1.5.0",
          "state": {
            "_model_module": "@jupyter-widgets/controls",
            "_model_module_version": "1.5.0",
            "_model_name": "DescriptionStyleModel",
            "_view_count": null,
            "_view_module": "@jupyter-widgets/base",
            "_view_module_version": "1.2.0",
            "_view_name": "StyleView",
            "description_width": ""
          }
        },
        "17b44b0e798c44a192faf2d256df428c": {
          "model_module": "@jupyter-widgets/base",
          "model_name": "LayoutModel",
          "model_module_version": "1.2.0",
          "state": {
            "_model_module": "@jupyter-widgets/base",
            "_model_module_version": "1.2.0",
            "_model_name": "LayoutModel",
            "_view_count": null,
            "_view_module": "@jupyter-widgets/base",
            "_view_module_version": "1.2.0",
            "_view_name": "LayoutView",
            "align_content": null,
            "align_items": null,
            "align_self": null,
            "border": null,
            "bottom": null,
            "display": null,
            "flex": null,
            "flex_flow": null,
            "grid_area": null,
            "grid_auto_columns": null,
            "grid_auto_flow": null,
            "grid_auto_rows": null,
            "grid_column": null,
            "grid_gap": null,
            "grid_row": null,
            "grid_template_areas": null,
            "grid_template_columns": null,
            "grid_template_rows": null,
            "height": null,
            "justify_content": null,
            "justify_items": null,
            "left": null,
            "margin": null,
            "max_height": null,
            "max_width": null,
            "min_height": null,
            "min_width": null,
            "object_fit": null,
            "object_position": null,
            "order": null,
            "overflow": null,
            "overflow_x": null,
            "overflow_y": null,
            "padding": null,
            "right": null,
            "top": null,
            "visibility": null,
            "width": null
          }
        },
        "b79aa14e3d5d4b1c8bef46d3de97ca89": {
          "model_module": "@jupyter-widgets/controls",
          "model_name": "ProgressStyleModel",
          "model_module_version": "1.5.0",
          "state": {
            "_model_module": "@jupyter-widgets/controls",
            "_model_module_version": "1.5.0",
            "_model_name": "ProgressStyleModel",
            "_view_count": null,
            "_view_module": "@jupyter-widgets/base",
            "_view_module_version": "1.2.0",
            "_view_name": "StyleView",
            "bar_color": null,
            "description_width": ""
          }
        }
      }
    }
  },
  "cells": [
    {
      "cell_type": "markdown",
      "metadata": {
        "id": "view-in-github",
        "colab_type": "text"
      },
      "source": [
        "<a href=\"https://colab.research.google.com/github/AdiY2j/CS6910_Assignment1/blob/main/Assignment_1.ipynb\" target=\"_parent\"><img src=\"https://colab.research.google.com/assets/colab-badge.svg\" alt=\"Open In Colab\"/></a>"
      ]
    },
    {
      "cell_type": "code",
      "source": [
        "!pip install wandb"
      ],
      "metadata": {
        "colab": {
          "base_uri": "https://localhost:8080/"
        },
        "id": "lwJql0O4_eme",
        "outputId": "4af13a5b-5ae2-403c-a419-6a2ca0491328"
      },
      "execution_count": 34,
      "outputs": [
        {
          "output_type": "stream",
          "name": "stdout",
          "text": [
            "Requirement already satisfied: wandb in /usr/local/lib/python3.10/dist-packages (0.16.4)\n",
            "Requirement already satisfied: Click!=8.0.0,>=7.1 in /usr/local/lib/python3.10/dist-packages (from wandb) (8.1.7)\n",
            "Requirement already satisfied: GitPython!=3.1.29,>=1.0.0 in /usr/local/lib/python3.10/dist-packages (from wandb) (3.1.42)\n",
            "Requirement already satisfied: requests<3,>=2.0.0 in /usr/local/lib/python3.10/dist-packages (from wandb) (2.31.0)\n",
            "Requirement already satisfied: psutil>=5.0.0 in /usr/local/lib/python3.10/dist-packages (from wandb) (5.9.5)\n",
            "Requirement already satisfied: sentry-sdk>=1.0.0 in /usr/local/lib/python3.10/dist-packages (from wandb) (1.42.0)\n",
            "Requirement already satisfied: docker-pycreds>=0.4.0 in /usr/local/lib/python3.10/dist-packages (from wandb) (0.4.0)\n",
            "Requirement already satisfied: PyYAML in /usr/local/lib/python3.10/dist-packages (from wandb) (6.0.1)\n",
            "Requirement already satisfied: setproctitle in /usr/local/lib/python3.10/dist-packages (from wandb) (1.3.3)\n",
            "Requirement already satisfied: setuptools in /usr/local/lib/python3.10/dist-packages (from wandb) (67.7.2)\n",
            "Requirement already satisfied: appdirs>=1.4.3 in /usr/local/lib/python3.10/dist-packages (from wandb) (1.4.4)\n",
            "Requirement already satisfied: protobuf!=4.21.0,<5,>=3.19.0 in /usr/local/lib/python3.10/dist-packages (from wandb) (3.20.3)\n",
            "Requirement already satisfied: six>=1.4.0 in /usr/local/lib/python3.10/dist-packages (from docker-pycreds>=0.4.0->wandb) (1.16.0)\n",
            "Requirement already satisfied: gitdb<5,>=4.0.1 in /usr/local/lib/python3.10/dist-packages (from GitPython!=3.1.29,>=1.0.0->wandb) (4.0.11)\n",
            "Requirement already satisfied: charset-normalizer<4,>=2 in /usr/local/lib/python3.10/dist-packages (from requests<3,>=2.0.0->wandb) (3.3.2)\n",
            "Requirement already satisfied: idna<4,>=2.5 in /usr/local/lib/python3.10/dist-packages (from requests<3,>=2.0.0->wandb) (3.6)\n",
            "Requirement already satisfied: urllib3<3,>=1.21.1 in /usr/local/lib/python3.10/dist-packages (from requests<3,>=2.0.0->wandb) (2.0.7)\n",
            "Requirement already satisfied: certifi>=2017.4.17 in /usr/local/lib/python3.10/dist-packages (from requests<3,>=2.0.0->wandb) (2024.2.2)\n",
            "Requirement already satisfied: smmap<6,>=3.0.1 in /usr/local/lib/python3.10/dist-packages (from gitdb<5,>=4.0.1->GitPython!=3.1.29,>=1.0.0->wandb) (5.0.1)\n"
          ]
        }
      ]
    },
    {
      "cell_type": "code",
      "execution_count": 35,
      "metadata": {
        "id": "QlElmkE4z3ZY"
      },
      "outputs": [],
      "source": [
        "import wandb\n",
        "import numpy as np\n",
        "import pandas as pd\n",
        "import matplotlib.pyplot as plt\n",
        "from sklearn.model_selection import train_test_split\n",
        "np.set_printoptions(suppress=True)\n",
        "from keras.datasets import fashion_mnist"
      ]
    },
    {
      "cell_type": "code",
      "source": [
        "wandb.login(key='72a114321dd97dbf11db7b15eb05b2660c2faa94')"
      ],
      "metadata": {
        "colab": {
          "base_uri": "https://localhost:8080/"
        },
        "id": "p-5Nx5yo_raC",
        "outputId": "1d64d444-9d8b-43c2-d8da-8723b0397088"
      },
      "execution_count": 36,
      "outputs": [
        {
          "output_type": "stream",
          "name": "stderr",
          "text": [
            "\u001b[34m\u001b[1mwandb\u001b[0m: \u001b[33mWARNING\u001b[0m If you're specifying your api key in code, ensure this code is not shared publicly.\n",
            "\u001b[34m\u001b[1mwandb\u001b[0m: \u001b[33mWARNING\u001b[0m Consider setting the WANDB_API_KEY environment variable, or running `wandb login` from the command line.\n",
            "\u001b[34m\u001b[1mwandb\u001b[0m: Appending key for api.wandb.ai to your netrc file: /root/.netrc\n"
          ]
        },
        {
          "output_type": "execute_result",
          "data": {
            "text/plain": [
              "True"
            ]
          },
          "metadata": {},
          "execution_count": 36
        }
      ]
    },
    {
      "cell_type": "code",
      "source": [
        "(X_train, y_train), (X_test, y_test) = fashion_mnist.load_data()"
      ],
      "metadata": {
        "id": "fwLNvqZW0cW5"
      },
      "execution_count": 37,
      "outputs": []
    },
    {
      "cell_type": "code",
      "source": [
        "X_train.shape[0]"
      ],
      "metadata": {
        "colab": {
          "base_uri": "https://localhost:8080/"
        },
        "id": "7eSnExR20eCH",
        "outputId": "bcecd1cb-966d-4be6-b1f5-2673846ff492"
      },
      "execution_count": 38,
      "outputs": [
        {
          "output_type": "execute_result",
          "data": {
            "text/plain": [
              "60000"
            ]
          },
          "metadata": {},
          "execution_count": 38
        }
      ]
    },
    {
      "cell_type": "code",
      "source": [
        "#wandb.init(project = 'DL_Assignment_1', entity = 'cs23m009')\n",
        "class_labels = [\"T-shirt/top\", \"Trouser\", \"Pullover\", \"Dress\", \"Coat\",\n",
        "               \"Sandal\", \"Shirt\", \"Sneaker\", \"Bag\", \"Ankle boot\"]\n",
        "\n",
        "images = []\n",
        "labels = []\n",
        "# Function to plot one sample image for each class\n",
        "def plot_data(x, y, class_labels):\n",
        "    plt.figure(figsize=(10, 6))\n",
        "\n",
        "    for i in range(len(class_labels)):\n",
        "        id = np.where(y == i)[0][0]\n",
        "        image = x[id]\n",
        "        plt.subplot(2, 5, i+1)\n",
        "        plt.axis('off')\n",
        "        plt.imshow(image, cmap='gray')\n",
        "        plt.title(class_labels[i])\n",
        "        images.append(image)\n",
        "        labels.append(class_labels[i])\n",
        "\n",
        "    plt.tight_layout()\n",
        "    plt.show()\n",
        "\n",
        "plot_data(X_train, y_train, class_labels)\n",
        "# wandb.log({\"Question 1 \" : [wandb.Image(image , caption = f\"Label: {label}\") for image, label in zip(images, labels)]})\n",
        "# wandb.finish()"
      ],
      "metadata": {
        "colab": {
          "base_uri": "https://localhost:8080/",
          "height": 506
        },
        "id": "L9VaxTP10f_U",
        "outputId": "7b1efda4-f557-4454-8752-0324afba49d5"
      },
      "execution_count": 39,
      "outputs": [
        {
          "output_type": "display_data",
          "data": {
            "text/plain": [
              "<Figure size 1000x600 with 10 Axes>"
            ],
            "image/png": "[encoded data removed]"
          },
          "metadata": {}
        }
      ]
    },
    {
      "cell_type": "code",
      "source": [
        "X_train, X_val, y_train, y_val = train_test_split(X_train, y_train, test_size=0.1, random_state=42)"
      ],
      "metadata": {
        "id": "6Z6ZHN75lmZ9"
      },
      "execution_count": 40,
      "outputs": []
    },
    {
      "cell_type": "code",
      "source": [
        "X_train = np.array(X_train)\n",
        "X_val = np.array(X_val)\n",
        "X_test = np.array(X_test)\n",
        "# Reshape input feature from 28*28 to 784*1\n",
        "X_train = X_train.reshape(X_train.shape[0], -1) / 255.0\n",
        "X_val = X_val.reshape(X_val.shape[0], -1) / 255.0\n",
        "X_test = X_test.reshape(X_test.shape[0], -1) / 255.0"
      ],
      "metadata": {
        "id": "Sq6Wuivb0jUF"
      },
      "execution_count": 41,
      "outputs": []
    },
    {
      "cell_type": "code",
      "source": [
        "X_train.shape"
      ],
      "metadata": {
        "colab": {
          "base_uri": "https://localhost:8080/"
        },
        "id": "mr13Zqallzqi",
        "outputId": "804f27af-a065-4ad5-d085-d6528b41b2c4"
      },
      "execution_count": 42,
      "outputs": [
        {
          "output_type": "execute_result",
          "data": {
            "text/plain": [
              "(54000, 784)"
            ]
          },
          "metadata": {},
          "execution_count": 42
        }
      ]
    },
    {
      "cell_type": "code",
      "source": [
        "X_val.shape"
      ],
      "metadata": {
        "colab": {
          "base_uri": "https://localhost:8080/"
        },
        "id": "dmAOEWR1l19Q",
        "outputId": "a33b4e04-8d7c-4ed0-a96e-5703ab793266"
      },
      "execution_count": 43,
      "outputs": [
        {
          "output_type": "execute_result",
          "data": {
            "text/plain": [
              "(6000, 784)"
            ]
          },
          "metadata": {},
          "execution_count": 43
        }
      ]
    },
    {
      "cell_type": "code",
      "source": [
        "def initializeParam(layers, activation, weight_init = \"random\"):\n",
        "  params = {}\n",
        "  for i in range(1, len(layers)):\n",
        "    if weight_init == \"Xavier\" or activation == \"relu\":\n",
        "      params['W' + str(i)] = np.random.randn(layers[i], layers[i-1]) * np.sqrt(2/float(layers[i-1]))\n",
        "    elif weight_init == \"random\":\n",
        "      params['W' + str(i)] = np.random.randn(layers[i], layers[i-1])\n",
        "\n",
        "    params['b' + str(i)] = np.zeros((layers[i], 1))\n",
        "  return params"
      ],
      "metadata": {
        "id": "bKJ3xai1aYXV"
      },
      "execution_count": 44,
      "outputs": []
    },
    {
      "cell_type": "code",
      "source": [
        "def sigmoid(x):\n",
        "  return 1 / (1 + np.exp(-x))\n",
        "\n",
        "def relu(x):\n",
        "  return np.maximum(0, x)\n",
        "\n",
        "def tanh(x):\n",
        "  return np.tanh(x)\n",
        "\n",
        "def sigmoid_dev(x):\n",
        "  return x * (1 - x)\n",
        "\n",
        "def relu_dev(x):\n",
        "  return np.where(x > 0, 1, 0)\n",
        "\n",
        "def tanh_dev(x):\n",
        "  return 1 - x**2\n",
        "\n",
        "def softmax(x):\n",
        "  x = np.clip(x, -700, 700)\n",
        "  return np.exp(x) / np.sum(np.exp(x), axis = 0)"
      ],
      "metadata": {
        "id": "slQYgcxklU9m"
      },
      "execution_count": 45,
      "outputs": []
    },
    {
      "cell_type": "code",
      "source": [
        "def forward_prop(X, layers, params, activation):\n",
        "  func = {}\n",
        "  func['h0'] = X\n",
        "  func['a0'] = X\n",
        "  output = []\n",
        "  for i in range(1, len(layers)):\n",
        "    a = np.dot(params['W' + str(i)], func['h' + str(i-1)].T) + params['b' + str(i)]\n",
        "\n",
        "    #print(params['W' + str(i)].shape, func['h' + str(i-1)].T.shape, params['b' + str(i)].shape, a.shape)\n",
        "\n",
        "    if(i == len(layers) - 1) :\n",
        "      h = softmax(a)\n",
        "      output = h\n",
        "    else :\n",
        "      if activation == \"sigmoid\" :\n",
        "        h = sigmoid(a)\n",
        "      elif activation == \"relu\" :\n",
        "        h = relu(a)\n",
        "      elif activation == \"tanh\" :\n",
        "        h = tanh(a)\n",
        "\n",
        "    func['a' + str(i)] = a.T\n",
        "    func['h' + str(i)] = h.T\n",
        "\n",
        "  return output, func"
      ],
      "metadata": {
        "id": "nHnaRGXmaldB"
      },
      "execution_count": 46,
      "outputs": []
    },
    {
      "cell_type": "code",
      "source": [
        "def back_prop(func, params, y, pred_y, L, loss_func, activation):\n",
        "  m = y.size\n",
        "  gradients = {}\n",
        "  dL_a = pred_y - y.T\n",
        "  h_prev = func['h'+str(L)]\n",
        "  act_dev = sigmoid_dev\n",
        "\n",
        "  if activation == \"sigmoid\":\n",
        "    act_dev = sigmoid_dev\n",
        "  elif activation == \"relu\":\n",
        "    act_dev = relu_dev\n",
        "  elif activation == \"tanh\":\n",
        "    act_dev = tanh_dev\n",
        "\n",
        "  for k in range(L, -1, -1):\n",
        "    dL_W = np.dot(dL_a, h_prev)\n",
        "    dL_b = np.sum(dL_a, axis=1, keepdims=True)\n",
        "\n",
        "    #print(dL_W.shape, dL_b.shape)\n",
        "\n",
        "    dL_h = np.dot(params['W'+str(k+1)].T,  dL_a)\n",
        "    dL_a = dL_h * act_dev(h_prev).T  #sigmoid (h_prev * (1- h_prev)).T\n",
        "\n",
        "    gradients['dW' + str(k+1)] = dL_W\n",
        "    gradients['db' + str(k+1)] = dL_b\n",
        "    if(k-1 > -1):\n",
        "      h_prev = func['h' + str(k-1)]\n",
        "\n",
        "\n",
        "  return gradients"
      ],
      "metadata": {
        "id": "CYo3ItR8anj4"
      },
      "execution_count": 47,
      "outputs": []
    },
    {
      "cell_type": "code",
      "source": [
        "def sgd(params, gradients, eta, L, decay):\n",
        "  for i in range(1, L):\n",
        "    params['W' + str(i)] -=  eta * (gradients['dW' + str(i)] + decay * params['W' + str(i)])\n",
        "    params['b' + str(i)] -=  eta * (gradients['db' + str(i)] + decay * params['b' + str(i)])"
      ],
      "metadata": {
        "id": "O7TojLIr8rbI"
      },
      "execution_count": 48,
      "outputs": []
    },
    {
      "cell_type": "code",
      "source": [
        "def mgd(params, gradients, history, max_epochs, momentum, eta, L, decay):\n",
        "  for key in params.keys():\n",
        "    if key not in history:\n",
        "      history[key] = np.zeros_like(params[key])\n",
        "    history[key] = momentum * history[key] + eta * (gradients['d' + key] + decay * params[key])\n",
        "    params[key] -= history[key]\n"
      ],
      "metadata": {
        "id": "mOkCfoGwbP7t"
      },
      "execution_count": 49,
      "outputs": []
    },
    {
      "cell_type": "code",
      "source": [
        "def nag(params, gradients, history, max_epochs, momentum, eta, L, decay):\n",
        "  for i in range(1, L):\n",
        "    history['W' + str(i)] = momentum * history['W' + str(i)] + eta * (gradients['dW' + str(i)] + decay * params['W' + str(i)])\n",
        "    history['b' + str(i)] = momentum * history['b' + str(i)] + eta * (gradients['db' + str(i)] + decay * params['b' + str(i)])\n",
        "\n",
        "    params['W' + str(i)] -= history['W' + str(i)]\n",
        "    params['b' + str(i)] -= history['b' + str(i)]"
      ],
      "metadata": {
        "id": "Rl39rznMu9pj"
      },
      "execution_count": 50,
      "outputs": []
    },
    {
      "cell_type": "code",
      "source": [
        "def rmsprop(params, gradients, history, max_epochs, beta, eta, eps, L, decay):\n",
        "  for key in params.keys():\n",
        "    if key not in history:\n",
        "      history[key] = np.zeros_like(params[key])\n",
        "\n",
        "  for i in range(1, L):\n",
        "    history['W' + str(i)] = beta * history['W' + str(i)] + (1 - beta) * gradients['dW' + str(i)]**2\n",
        "    history['b' + str(i)] = beta * history['b' + str(i)] + (1 - beta) * gradients['db' + str(i)]**2\n",
        "\n",
        "    params['W' + str(i)] -= (eta * gradients['dW' + str(i)]/(np.sqrt(history['W' + str(i)]) + eps)) + (eta * decay * params['W' + str(i)])\n",
        "    params['b' + str(i)] -= (eta * gradients['db' + str(i)]/(np.sqrt(history['b' + str(i)]) + eps)) + (eta * decay * params['b' + str(i)])"
      ],
      "metadata": {
        "id": "3E5GmGOGu9f4"
      },
      "execution_count": 51,
      "outputs": []
    },
    {
      "cell_type": "code",
      "source": [
        "def adam(params, gradients, history, moment, max_epochs, beta1, beta2, eta, eps, L, t, decay):\n",
        "  for key in params.keys():\n",
        "    if key not in history:\n",
        "      history[key] = np.zeros_like(params[key])\n",
        "    if key not in moment:\n",
        "      moment[key] = np.zeros_like(params[key])\n",
        "\n",
        "  for i in range(1, L):\n",
        "    moment['W'+str(i)] = beta1 * moment['W'+str(i)] + (1-beta1) * gradients['dW'+str(i)]\n",
        "    moment['b'+str(i)] = beta1 * moment['b'+str(i)] + (1-beta1) * gradients['db'+str(i)]\n",
        "    history['W'+str(i)] = beta2 * history['W'+str(i)] + (1-beta2) * gradients['dW'+str(i)]**2\n",
        "    history['b'+str(i)] = beta2 * history['b'+str(i)] + (1-beta2) * gradients['db'+str(i)]**2\n",
        "\n",
        "    m_w_hat = moment['W'+str(i)]/(1 - (beta1 ** t))\n",
        "    m_b_hat = moment['b'+str(i)]/(1 - (beta1 ** t))\n",
        "    v_w_hat = history['W'+str(i)]/(1 - (beta2 ** t))\n",
        "    v_b_hat = history['b'+str(i)]/(1 - (beta2 ** t))\n",
        "\n",
        "    params['W'+str(i)] -= eta * m_w_hat/(np.sqrt(v_w_hat) + eps) + (eta * decay * params['W' + str(i)])\n",
        "    params['b'+str(i)] -= eta * m_b_hat/(np.sqrt(v_b_hat) + eps) + (eta * decay * params['b' + str(i)])\n"
      ],
      "metadata": {
        "id": "vM2haUEIbPyZ"
      },
      "execution_count": 52,
      "outputs": []
    },
    {
      "cell_type": "code",
      "source": [
        "def nadam(params, gradients, history, moment, max_epochs, beta1, beta2, eta, eps, L, t, decay):\n",
        "  for key in params.keys():\n",
        "    if key not in history:\n",
        "      history[key] = np.zeros_like(params[key])\n",
        "    if key not in moment:\n",
        "      moment[key] = np.zeros_like(params[key])\n",
        "\n",
        "  for i in range(1, L):\n",
        "    moment['W'+str(i)] = beta1 * moment['W'+str(i)] + (1-beta1) * gradients['dW'+str(i)]\n",
        "    moment['b'+str(i)] = beta1 * moment['b'+str(i)] + (1-beta1) * gradients['db'+str(i)]\n",
        "    history['W'+str(i)] = beta2 * history['W'+str(i)] + (1-beta2) * gradients['dW'+str(i)]**2\n",
        "    history['b'+str(i)] = beta2 * history['b'+str(i)] + (1-beta2) * gradients['db'+str(i)]**2\n",
        "\n",
        "    m_w_hat = moment['W'+str(i)]/(1 - (beta1 ** t))\n",
        "    m_b_hat = moment['b'+str(i)]/(1 - (beta1 ** t))\n",
        "    v_w_hat = history['W'+str(i)]/(1 - (beta2 ** t))\n",
        "    v_b_hat = history['b'+str(i)]/(1 - (beta2 ** t))\n",
        "\n",
        "    params['W'+str(i)] -= (eta/np.sqrt(v_w_hat + eps)) * (beta1 * m_w_hat + (1-beta1) * gradients['dW'+str(i)] / (1 - beta1**t)) + (eta * decay * params['W' + str(i)])\n",
        "    params['b'+str(i)] -= (eta/np.sqrt(v_b_hat + eps)) * (beta1 * m_b_hat + (1-beta1) * gradients['db'+str(i)] / (1 - beta1**t)) + (eta * decay * params['b' + str(i)])"
      ],
      "metadata": {
        "id": "90gT7xwLvHT9"
      },
      "execution_count": 53,
      "outputs": []
    },
    {
      "cell_type": "code",
      "source": [],
      "metadata": {
        "id": "mwc_qDJPvNjC"
      },
      "execution_count": 53,
      "outputs": []
    },
    {
      "cell_type": "code",
      "source": [
        "def compute_loss(y, y_pred, loss, epsilon=1e-10):\n",
        "  if loss == \"squared_loss\":\n",
        "    return np.sum((y - y_pred)**2)/y.shape[0]\n",
        "  elif loss == \"cross_entropy\":\n",
        "    return -np.sum(np.multiply(y, np.log(y_pred + epsilon)))/y.shape[0]"
      ],
      "metadata": {
        "id": "cSrJgxKlHgBA"
      },
      "execution_count": 54,
      "outputs": []
    },
    {
      "cell_type": "code",
      "source": [
        "def loss_dev(y, y_pred, loss):\n",
        "  if loss == \"cross_entropy\":\n",
        "    return -y/y_pred\n",
        "  elif loss == \"squared_loss\":\n",
        "    return y_pred - y"
      ],
      "metadata": {
        "id": "DfTysQpkHfzD"
      },
      "execution_count": 55,
      "outputs": []
    },
    {
      "cell_type": "code",
      "source": [
        "def get_prediction(output):\n",
        "  return np.argmax(output, axis=0)\n",
        "\n",
        "def get_accuracy(prediction, Y):\n",
        "  #print(prediction, Y)\n",
        "  return np.sum(prediction == Y)/Y.size\n",
        "\n",
        "def cal_confusion(prediction, Y):\n",
        "  count = 0\n",
        "  confusion_mat = np.zeros((10, 10))\n",
        "  for i in range(len(prediction)):\n",
        "    confusion_mat[prediction[i]][Y[i]] += 1\n",
        "  print(confusion_mat)"
      ],
      "metadata": {
        "id": "JpLT8UJ0HmJO"
      },
      "execution_count": 56,
      "outputs": []
    },
    {
      "cell_type": "code",
      "source": [
        "def lookahead(params, history, momentum):\n",
        "  for key in params.keys():\n",
        "    if key not in history:\n",
        "      history[key] = np.zeros_like(params[key])\n",
        "    else :\n",
        "      history[key] = momentum * history[key]\n",
        "    params[key] -= history[key]"
      ],
      "metadata": {
        "id": "2I5GFtyMHyvL"
      },
      "execution_count": 57,
      "outputs": []
    },
    {
      "cell_type": "code",
      "source": [
        "sweep_config = {\n",
        "    'method' : 'bayes',\n",
        "    'metric' : {\n",
        "        'name' : 'val_accuracy',\n",
        "        'goal' : 'maximize'\n",
        "    },\n",
        "    'parameters' : {\n",
        "        'epochs' : {\n",
        "            'values' : [5, 10]\n",
        "        },\n",
        "        'batch_size' : {\n",
        "            'values' : [16, 32, 64]\n",
        "        },\n",
        "        'learning_rate': {\n",
        "            'values' : [1e-3, 5e-3, 1e-4]\n",
        "        },\n",
        "        'hidden_layers' : {\n",
        "            'values' : [3, 4, 5]\n",
        "        },\n",
        "        'hidden_layer_size' :  {\n",
        "            'values' : [32, 64, 128]\n",
        "        },\n",
        "        'weight_init' : {\n",
        "            'values' : ['random', 'Xavier']\n",
        "        },\n",
        "        'weight_decay' : {\n",
        "            'values' : [0, 0.005]\n",
        "        },\n",
        "        'optimizer' : {\n",
        "            'values' : ['adam', 'nadam']\n",
        "        },\n",
        "        'activation' : {\n",
        "            'values' : ['sigmoid', 'relu', 'tanh']\n",
        "        }\n",
        "    }\n",
        "}"
      ],
      "metadata": {
        "id": "Uyr7qEgr_H-E"
      },
      "execution_count": 58,
      "outputs": []
    },
    {
      "cell_type": "code",
      "source": [
        "sweep_id = wandb.sweep(sweep=sweep_config, project='DL_Assignment_1', entity = \"cs23m009\")"
      ],
      "metadata": {
        "colab": {
          "base_uri": "https://localhost:8080/"
        },
        "id": "zmHbJRpJ_M9a",
        "outputId": "c4a1507f-d141-4d0a-e766-85c98f972d2f"
      },
      "execution_count": 60,
      "outputs": [
        {
          "output_type": "stream",
          "name": "stdout",
          "text": [
            "Create sweep with ID: 1n1jt35c\n",
            "Sweep URL: https://wandb.ai/cs23m009/DL_Assignment_1/sweeps/1n1jt35c\n"
          ]
        }
      ]
    },
    {
      "cell_type": "code",
      "source": [
        "def main():\n",
        "  with wandb.init() as run:\n",
        "    run_name = 'o_{}_a_{}_lr_{}_hl{}_bs{}_w_{}'.format(wandb.config.optimizer, wandb.config.activation, wandb.config.learning_rate, str(wandb.config.hidden_layer_size) + \"_\" + str(wandb.config.hidden_layers), wandb.config.batch_size, wandb.config.weight_init)\n",
        "    wandb.run.name = run_name\n",
        "    train()\n",
        "\n",
        "wandb.agent(sweep_id, function = main, count = 10)\n",
        "wandb.finish()"
      ],
      "metadata": {
        "colab": {
          "base_uri": "https://localhost:8080/",
          "height": 1000,
          "referenced_widgets": [
            "74220a2389654a86ac45097a151f7d68",
            "f18df1c73b26477595e14ffcf9ffdb15",
            "b887b80bdce449a1ae0b58c7280fc09c",
            "8b78d9c7ff514430a4ed040e92991492",
            "43d1794956fc4bf9b2db1c6aaacf858c",
            "7eac38482e644192bd6798a0df9b5b67",
            "904aef8ff7a049b28fc2b93173c4896b",
            "2f155c8b59724fb2ba81f60d7cd3acfc",
            "07f59d879d0b489ba69f8b151b12be1c",
            "691d02257e7b428da7443ac4402c0b35",
            "4f4129f816504678af9bda3521b7dc50",
            "ce34566ce8d14eaca4491cb77893b4ab",
            "99fb9b74339e41cb85ea517094893cdc",
            "69c3a31d766a49468444cf3cdc126ce6",
            "63dfd081b38e459b847afbe46b414719",
            "cf8b05dd3f744323a09a5c2474c0ea0f",
            "e15b449c3c344a61bac1f3d85f4906d6",
            "110aa960bae149b89804d71d53c051b6",
            "cbb1967707154836964a4c23d7a398b3",
            "c61fd5fe4fe14624897aa9ade6e18b69",
            "046b99b31b1648658d1f41143ee8b3ad",
            "b8b5b8de85584807847f5afcc2ddab9e",
            "05fdebdc6d9d4c4e9a257ad4372a8cb7",
            "4571867ad9c048ddaa06f8a4dbb52efa",
            "0d183ef527a142efb942b2817a7f9b9e",
            "7fec393defc2403cbd7ea0e6b08996f0",
            "6101939451854d609e1bdb72183c8f4b",
            "a94f6d83abe14952adf97fbfba3f7806",
            "148eec0bd29f43e88ccb1404b7b968ca",
            "9deff44ed15f43dbbd932767e856acdc",
            "535af4018e7c42bd9bc7fc7fcedf0475",
            "5f2dd59eef8c4a10b9c0884d0658f6c9",
            "d3099c0d0ef8477893777e981c35390e",
            "bf14bfd3e5f6478da11bf81a00ecb0dc",
            "edc9f998bc254b828bc6c034d63b050a",
            "e5a2a7fe9ed34a2f879a0e8fa23cce9e",
            "bba5b382a24146658df2c0266c1e840f",
            "8196fe353d2e40979d0f3f73e5abe882",
            "c309be5bbfaf487dad9c596e86519f53",
            "acdeb07704c04e0096bc62fb9be00098",
            "17d3a4b3b977453190eec7d1d21abe30",
            "1884d5e84a654a54b47845f4d7693a8c",
            "eeee323b03104734b7154f74b0368e5d",
            "db738057455e490c8aa6db263fc5a4ff",
            "5e9b25e57153471fa5bf5c8910ddb183",
            "01c2dd32effb4fc8997b469f2b791591",
            "beabb2b552c74e7d83cd9cc3cedde1fd",
            "0e660d3984b14ee987b3486afce1f356",
            "9ff9ce4ec9604021aa4a8f62abe69b79",
            "6323ac5ac85f405090d9a944737d7144",
            "38cb1f1efcef4859af416c98b9b51cd6",
            "87c42b19680a4354b3026f24af867fd7",
            "610bd74bb8774fd98817f8c8a0c1c23d",
            "220df8eb4e0643349c1459e69305fc1b",
            "8d31cc4fb5d94ab5ac8bc76531f8488d",
            "73ef48c3fcdb4c0cb38bb5b7efc59794",
            "2767cedac81b435c983ad4ac7a95880f",
            "5bfcc866cc834f23bc12860775e0e84c",
            "002bd6c089bb4744963e1783db7d6347",
            "8ce51ca8d00a487794fa55c44a738a7a",
            "7d6449f0cced46ca99981e9ef7084930",
            "73460e54b91e40d9a769cb9281005770",
            "8ff3a66b69c4460a9e5ee5400c2794fb",
            "2a10600827c54834b9d92e58fe1e2aa4",
            "f694088ac9b94268a6c09b16465c6500",
            "c76bc421e39941f7b3e9d00a439eab08",
            "7962cea2c83f40758680da30f87c5f86",
            "82d22966b0264a36a7af81dac17bacac",
            "9882be1db45a4766a52d81e14c72c571",
            "01d5cc5c4ca644c9af84271f58e987d0",
            "2f52ba1be77f44ffa5e3bd0a719b5bb5",
            "9f9aebfd9e6d4df0ad2b57c8787ef9c4",
            "5eef24d7759b48ac95d842ba603ae351",
            "3e1a49140e09414cb4ff8ebe8a74bc0e",
            "77efd3e47a264004bb7e6b5ae40efbdd",
            "4495bd37fb204d28b1e1be71ee7cc3d6",
            "2ed7fd2f718241f7a0371d3b461b453c",
            "95834fa4db4a47bebd49daf378d7e95b",
            "e9a144deef9341448d08ec4d731e5977",
            "ca5d3d9242334fd1a4991ac25248ac74"
          ]
        },
        "id": "1U0korHe_PWR",
        "outputId": "e51fe79d-a3aa-422b-d58c-d4e1a632cfa1"
      },
      "execution_count": 61,
      "outputs": [
        {
          "output_type": "stream",
          "name": "stderr",
          "text": [
            "\u001b[34m\u001b[1mwandb\u001b[0m: Agent Starting Run: hk374glq with config:\n",
            "\u001b[34m\u001b[1mwandb\u001b[0m: \tactivation: sigmoid\n",
            "\u001b[34m\u001b[1mwandb\u001b[0m: \tbatch_size: 64\n",
            "\u001b[34m\u001b[1mwandb\u001b[0m: \tepochs: 10\n",
            "\u001b[34m\u001b[1mwandb\u001b[0m: \thidden_layer_size: 32\n",
            "\u001b[34m\u001b[1mwandb\u001b[0m: \thidden_layers: 5\n",
            "\u001b[34m\u001b[1mwandb\u001b[0m: \tlearning_rate: 0.0001\n",
            "\u001b[34m\u001b[1mwandb\u001b[0m: \toptimizer: adam\n",
            "\u001b[34m\u001b[1mwandb\u001b[0m: \tweight_decay: 0.005\n",
            "\u001b[34m\u001b[1mwandb\u001b[0m: \tweight_init: random\n"
          ]
        },
        {
          "output_type": "display_data",
          "data": {
            "text/plain": [
              "<IPython.core.display.HTML object>"
            ],
            "text/html": [
              "Tracking run with wandb version 0.16.4"
            ]
          },
          "metadata": {}
        },
        {
          "output_type": "display_data",
          "data": {
            "text/plain": [
              "<IPython.core.display.HTML object>"
            ],
            "text/html": [
              "Run data is saved locally in <code>/content/wandb/run-20240313_180655-hk374glq</code>"
            ]
          },
          "metadata": {}
        },
        {
          "output_type": "display_data",
          "data": {
            "text/plain": [
              "<IPython.core.display.HTML object>"
            ],
            "text/html": [
              "Syncing run <strong><a href='https://wandb.ai/cs23m009/DL_Assignment_1/runs/hk374glq' target=\"_blank\">prime-sweep-1</a></strong> to <a href='https://wandb.ai/cs23m009/DL_Assignment_1' target=\"_blank\">Weights & Biases</a> (<a href='https://wandb.me/run' target=\"_blank\">docs</a>)<br/>Sweep page: <a href='https://wandb.ai/cs23m009/DL_Assignment_1/sweeps/1n1jt35c' target=\"_blank\">https://wandb.ai/cs23m009/DL_Assignment_1/sweeps/1n1jt35c</a>"
            ]
          },
          "metadata": {}
        },
        {
          "output_type": "display_data",
          "data": {
            "text/plain": [
              "<IPython.core.display.HTML object>"
            ],
            "text/html": [
              " View project at <a href='https://wandb.ai/cs23m009/DL_Assignment_1' target=\"_blank\">https://wandb.ai/cs23m009/DL_Assignment_1</a>"
            ]
          },
          "metadata": {}
        },
        {
          "output_type": "display_data",
          "data": {
            "text/plain": [
              "<IPython.core.display.HTML object>"
            ],
            "text/html": [
              " View sweep at <a href='https://wandb.ai/cs23m009/DL_Assignment_1/sweeps/1n1jt35c' target=\"_blank\">https://wandb.ai/cs23m009/DL_Assignment_1/sweeps/1n1jt35c</a>"
            ]
          },
          "metadata": {}
        },
        {
          "output_type": "display_data",
          "data": {
            "text/plain": [
              "<IPython.core.display.HTML object>"
            ],
            "text/html": [
              " View run at <a href='https://wandb.ai/cs23m009/DL_Assignment_1/runs/hk374glq' target=\"_blank\">https://wandb.ai/cs23m009/DL_Assignment_1/runs/hk374glq</a>"
            ]
          },
          "metadata": {}
        },
        {
          "output_type": "stream",
          "name": "stdout",
          "text": [
            "Epoch 1, Train Loss: 3.025643434348525, Train Accuracy: 0.17874074074074073, Val Loss: 3.007659642833462, Val Accuracy: 0.17833333333333334\n",
            "Epoch 2, Train Loss: 2.628281038145703, Train Accuracy: 0.19290740740740742, Val Loss: 2.6127077105647514, Val Accuracy: 0.19416666666666665\n",
            "Epoch 3, Train Loss: 2.438635059226785, Train Accuracy: 0.24764814814814815, Val Loss: 2.4258366242474505, Val Accuracy: 0.2565\n",
            "Epoch 4, Train Loss: 2.3035012090631555, Train Accuracy: 0.32425925925925925, Val Loss: 2.2945203904933527, Val Accuracy: 0.3275\n",
            "Epoch 5, Train Loss: 2.187021705326917, Train Accuracy: 0.37466666666666665, Val Loss: 2.181404601687178, Val Accuracy: 0.37933333333333336\n",
            "Epoch 6, Train Loss: 2.0804848659251296, Train Accuracy: 0.4260555555555556, Val Loss: 2.0769932339455415, Val Accuracy: 0.42916666666666664\n",
            "Epoch 7, Train Loss: 1.9806853932791617, Train Accuracy: 0.46996296296296297, Val Loss: 1.978529608535011, Val Accuracy: 0.47583333333333333\n",
            "Epoch 8, Train Loss: 1.887174087570907, Train Accuracy: 0.4943518518518519, Val Loss: 1.8861600310891649, Val Accuracy: 0.4965\n",
            "Epoch 9, Train Loss: 1.8000563329102248, Train Accuracy: 0.5115740740740741, Val Loss: 1.800185717302434, Val Accuracy: 0.5123333333333333\n",
            "Epoch 10, Train Loss: 1.7189608051231322, Train Accuracy: 0.5247962962962963, Val Loss: 1.7203479888467883, Val Accuracy: 0.5238333333333334\n"
          ]
        },
        {
          "output_type": "display_data",
          "data": {
            "text/plain": [
              "VBox(children=(Label(value='0.012 MB of 0.012 MB uploaded\\r'), FloatProgress(value=1.0, max=1.0)))"
            ],
            "application/vnd.jupyter.widget-view+json": {
              "version_major": 2,
              "version_minor": 0,
              "model_id": "74220a2389654a86ac45097a151f7d68"
            }
          },
          "metadata": {}
        },
        {
          "output_type": "display_data",
          "data": {
            "text/plain": [
              "<IPython.core.display.HTML object>"
            ],
            "text/html": [
              "<style>\n",
              "    table.wandb td:nth-child(1) { padding: 0 10px; text-align: left ; width: auto;} td:nth-child(2) {text-align: left ; width: 100%}\n",
              "    .wandb-row { display: flex; flex-direction: row; flex-wrap: wrap; justify-content: flex-start; width: 100% }\n",
              "    .wandb-col { display: flex; flex-direction: column; flex-basis: 100%; flex: 1; padding: 10px; }\n",
              "    </style>\n",
              "<div class=\"wandb-row\"><div class=\"wandb-col\"><h3>Run history:</h3><br/><table class=\"wandb\"><tr><td>epoch</td><td>▁▂▃▃▄▅▆▆▇█</td></tr><tr><td>train_accuracy</td><td>▁▁▂▄▅▆▇▇██</td></tr><tr><td>train_loss</td><td>█▆▅▄▄▃▂▂▁▁</td></tr><tr><td>val_accuracy</td><td>▁▁▃▄▅▆▇▇██</td></tr><tr><td>val_loss</td><td>█▆▅▄▄▃▂▂▁▁</td></tr></table><br/></div><div class=\"wandb-col\"><h3>Run summary:</h3><br/><table class=\"wandb\"><tr><td>epoch</td><td>10</td></tr><tr><td>train_accuracy</td><td>0.5248</td></tr><tr><td>train_loss</td><td>1.71896</td></tr><tr><td>val_accuracy</td><td>0.52383</td></tr><tr><td>val_loss</td><td>1.72035</td></tr></table><br/></div></div>"
            ]
          },
          "metadata": {}
        },
        {
          "output_type": "display_data",
          "data": {
            "text/plain": [
              "<IPython.core.display.HTML object>"
            ],
            "text/html": [
              " View run <strong style=\"color:#cdcd00\">prime-sweep-1</strong> at: <a href='https://wandb.ai/cs23m009/DL_Assignment_1/runs/hk374glq' target=\"_blank\">https://wandb.ai/cs23m009/DL_Assignment_1/runs/hk374glq</a><br/>Synced 5 W&B file(s), 0 media file(s), 0 artifact file(s) and 0 other file(s)"
            ]
          },
          "metadata": {}
        },
        {
          "output_type": "display_data",
          "data": {
            "text/plain": [
              "<IPython.core.display.HTML object>"
            ],
            "text/html": [
              "Find logs at: <code>./wandb/run-20240313_180655-hk374glq/logs</code>"
            ]
          },
          "metadata": {}
        },
        {
          "output_type": "stream",
          "name": "stderr",
          "text": [
            "\u001b[34m\u001b[1mwandb\u001b[0m: Agent Starting Run: 5qqls79p with config:\n",
            "\u001b[34m\u001b[1mwandb\u001b[0m: \tactivation: relu\n",
            "\u001b[34m\u001b[1mwandb\u001b[0m: \tbatch_size: 32\n",
            "\u001b[34m\u001b[1mwandb\u001b[0m: \tepochs: 10\n",
            "\u001b[34m\u001b[1mwandb\u001b[0m: \thidden_layer_size: 64\n",
            "\u001b[34m\u001b[1mwandb\u001b[0m: \thidden_layers: 3\n",
            "\u001b[34m\u001b[1mwandb\u001b[0m: \tlearning_rate: 0.001\n",
            "\u001b[34m\u001b[1mwandb\u001b[0m: \toptimizer: adam\n",
            "\u001b[34m\u001b[1mwandb\u001b[0m: \tweight_decay: 0\n",
            "\u001b[34m\u001b[1mwandb\u001b[0m: \tweight_init: random\n"
          ]
        },
        {
          "output_type": "display_data",
          "data": {
            "text/plain": [
              "<IPython.core.display.HTML object>"
            ],
            "text/html": [
              "Tracking run with wandb version 0.16.4"
            ]
          },
          "metadata": {}
        },
        {
          "output_type": "display_data",
          "data": {
            "text/plain": [
              "<IPython.core.display.HTML object>"
            ],
            "text/html": [
              "Run data is saved locally in <code>/content/wandb/run-20240313_180742-5qqls79p</code>"
            ]
          },
          "metadata": {}
        },
        {
          "output_type": "display_data",
          "data": {
            "text/plain": [
              "<IPython.core.display.HTML object>"
            ],
            "text/html": [
              "Syncing run <strong><a href='https://wandb.ai/cs23m009/DL_Assignment_1/runs/5qqls79p' target=\"_blank\">sparkling-sweep-2</a></strong> to <a href='https://wandb.ai/cs23m009/DL_Assignment_1' target=\"_blank\">Weights & Biases</a> (<a href='https://wandb.me/run' target=\"_blank\">docs</a>)<br/>Sweep page: <a href='https://wandb.ai/cs23m009/DL_Assignment_1/sweeps/1n1jt35c' target=\"_blank\">https://wandb.ai/cs23m009/DL_Assignment_1/sweeps/1n1jt35c</a>"
            ]
          },
          "metadata": {}
        },
        {
          "output_type": "display_data",
          "data": {
            "text/plain": [
              "<IPython.core.display.HTML object>"
            ],
            "text/html": [
              " View project at <a href='https://wandb.ai/cs23m009/DL_Assignment_1' target=\"_blank\">https://wandb.ai/cs23m009/DL_Assignment_1</a>"
            ]
          },
          "metadata": {}
        },
        {
          "output_type": "display_data",
          "data": {
            "text/plain": [
              "<IPython.core.display.HTML object>"
            ],
            "text/html": [
              " View sweep at <a href='https://wandb.ai/cs23m009/DL_Assignment_1/sweeps/1n1jt35c' target=\"_blank\">https://wandb.ai/cs23m009/DL_Assignment_1/sweeps/1n1jt35c</a>"
            ]
          },
          "metadata": {}
        },
        {
          "output_type": "display_data",
          "data": {
            "text/plain": [
              "<IPython.core.display.HTML object>"
            ],
            "text/html": [
              " View run at <a href='https://wandb.ai/cs23m009/DL_Assignment_1/runs/5qqls79p' target=\"_blank\">https://wandb.ai/cs23m009/DL_Assignment_1/runs/5qqls79p</a>"
            ]
          },
          "metadata": {}
        },
        {
          "output_type": "stream",
          "name": "stdout",
          "text": [
            "Epoch 1, Train Loss: 0.39421085127503086, Train Accuracy: 0.8590185185185185, Val Loss: 0.40648828504929085, Val Accuracy: 0.8551666666666666\n",
            "Epoch 2, Train Loss: 0.3535734507927465, Train Accuracy: 0.8722407407407408, Val Loss: 0.37198720876765523, Val Accuracy: 0.8631666666666666\n",
            "Epoch 3, Train Loss: 0.3301353117718414, Train Accuracy: 0.8816851851851852, Val Loss: 0.35618341120824054, Val Accuracy: 0.869\n",
            "Epoch 4, Train Loss: 0.3127896577169423, Train Accuracy: 0.8874074074074074, Val Loss: 0.3463553358265673, Val Accuracy: 0.8733333333333333\n",
            "Epoch 5, Train Loss: 0.3018453952993495, Train Accuracy: 0.8911481481481481, Val Loss: 0.3414171764258092, Val Accuracy: 0.8766666666666667\n",
            "Epoch 6, Train Loss: 0.2923716404637568, Train Accuracy: 0.8946481481481482, Val Loss: 0.33780890963276217, Val Accuracy: 0.8795\n",
            "Epoch 7, Train Loss: 0.28439170087366433, Train Accuracy: 0.8977962962962963, Val Loss: 0.3343081856016978, Val Accuracy: 0.8806666666666667\n",
            "Epoch 8, Train Loss: 0.2773655473717442, Train Accuracy: 0.8995925925925926, Val Loss: 0.3330695913202835, Val Accuracy: 0.8818333333333334\n",
            "Epoch 9, Train Loss: 0.27112325352999245, Train Accuracy: 0.9017962962962963, Val Loss: 0.3317845468642252, Val Accuracy: 0.8833333333333333\n",
            "Epoch 10, Train Loss: 0.2653703623516499, Train Accuracy: 0.9036481481481482, Val Loss: 0.3303975291725475, Val Accuracy: 0.8826666666666667\n"
          ]
        },
        {
          "output_type": "display_data",
          "data": {
            "text/plain": [
              "VBox(children=(Label(value='0.001 MB of 0.001 MB uploaded\\r'), FloatProgress(value=1.0, max=1.0)))"
            ],
            "application/vnd.jupyter.widget-view+json": {
              "version_major": 2,
              "version_minor": 0,
              "model_id": "07f59d879d0b489ba69f8b151b12be1c"
            }
          },
          "metadata": {}
        },
        {
          "output_type": "display_data",
          "data": {
            "text/plain": [
              "<IPython.core.display.HTML object>"
            ],
            "text/html": [
              "<style>\n",
              "    table.wandb td:nth-child(1) { padding: 0 10px; text-align: left ; width: auto;} td:nth-child(2) {text-align: left ; width: 100%}\n",
              "    .wandb-row { display: flex; flex-direction: row; flex-wrap: wrap; justify-content: flex-start; width: 100% }\n",
              "    .wandb-col { display: flex; flex-direction: column; flex-basis: 100%; flex: 1; padding: 10px; }\n",
              "    </style>\n",
              "<div class=\"wandb-row\"><div class=\"wandb-col\"><h3>Run history:</h3><br/><table class=\"wandb\"><tr><td>epoch</td><td>▁▂▃▃▄▅▆▆▇█</td></tr><tr><td>train_accuracy</td><td>▁▃▅▅▆▇▇▇██</td></tr><tr><td>train_loss</td><td>█▆▅▄▃▂▂▂▁▁</td></tr><tr><td>val_accuracy</td><td>▁▃▄▆▆▇▇███</td></tr><tr><td>val_loss</td><td>█▅▃▂▂▂▁▁▁▁</td></tr></table><br/></div><div class=\"wandb-col\"><h3>Run summary:</h3><br/><table class=\"wandb\"><tr><td>epoch</td><td>10</td></tr><tr><td>train_accuracy</td><td>0.90365</td></tr><tr><td>train_loss</td><td>0.26537</td></tr><tr><td>val_accuracy</td><td>0.88267</td></tr><tr><td>val_loss</td><td>0.3304</td></tr></table><br/></div></div>"
            ]
          },
          "metadata": {}
        },
        {
          "output_type": "display_data",
          "data": {
            "text/plain": [
              "<IPython.core.display.HTML object>"
            ],
            "text/html": [
              " View run <strong style=\"color:#cdcd00\">sparkling-sweep-2</strong> at: <a href='https://wandb.ai/cs23m009/DL_Assignment_1/runs/5qqls79p' target=\"_blank\">https://wandb.ai/cs23m009/DL_Assignment_1/runs/5qqls79p</a><br/>Synced 5 W&B file(s), 0 media file(s), 0 artifact file(s) and 0 other file(s)"
            ]
          },
          "metadata": {}
        },
        {
          "output_type": "display_data",
          "data": {
            "text/plain": [
              "<IPython.core.display.HTML object>"
            ],
            "text/html": [
              "Find logs at: <code>./wandb/run-20240313_180742-5qqls79p/logs</code>"
            ]
          },
          "metadata": {}
        },
        {
          "output_type": "stream",
          "name": "stderr",
          "text": [
            "\u001b[34m\u001b[1mwandb\u001b[0m: Agent Starting Run: yr770upw with config:\n",
            "\u001b[34m\u001b[1mwandb\u001b[0m: \tactivation: sigmoid\n",
            "\u001b[34m\u001b[1mwandb\u001b[0m: \tbatch_size: 64\n",
            "\u001b[34m\u001b[1mwandb\u001b[0m: \tepochs: 5\n",
            "\u001b[34m\u001b[1mwandb\u001b[0m: \thidden_layer_size: 64\n",
            "\u001b[34m\u001b[1mwandb\u001b[0m: \thidden_layers: 4\n",
            "\u001b[34m\u001b[1mwandb\u001b[0m: \tlearning_rate: 0.001\n",
            "\u001b[34m\u001b[1mwandb\u001b[0m: \toptimizer: nadam\n",
            "\u001b[34m\u001b[1mwandb\u001b[0m: \tweight_decay: 0\n",
            "\u001b[34m\u001b[1mwandb\u001b[0m: \tweight_init: Xavier\n"
          ]
        },
        {
          "output_type": "display_data",
          "data": {
            "text/plain": [
              "<IPython.core.display.HTML object>"
            ],
            "text/html": [
              "Tracking run with wandb version 0.16.4"
            ]
          },
          "metadata": {}
        },
        {
          "output_type": "display_data",
          "data": {
            "text/plain": [
              "<IPython.core.display.HTML object>"
            ],
            "text/html": [
              "Run data is saved locally in <code>/content/wandb/run-20240313_180903-yr770upw</code>"
            ]
          },
          "metadata": {}
        },
        {
          "output_type": "display_data",
          "data": {
            "text/plain": [
              "<IPython.core.display.HTML object>"
            ],
            "text/html": [
              "Syncing run <strong><a href='https://wandb.ai/cs23m009/DL_Assignment_1/runs/yr770upw' target=\"_blank\">zany-sweep-3</a></strong> to <a href='https://wandb.ai/cs23m009/DL_Assignment_1' target=\"_blank\">Weights & Biases</a> (<a href='https://wandb.me/run' target=\"_blank\">docs</a>)<br/>Sweep page: <a href='https://wandb.ai/cs23m009/DL_Assignment_1/sweeps/1n1jt35c' target=\"_blank\">https://wandb.ai/cs23m009/DL_Assignment_1/sweeps/1n1jt35c</a>"
            ]
          },
          "metadata": {}
        },
        {
          "output_type": "display_data",
          "data": {
            "text/plain": [
              "<IPython.core.display.HTML object>"
            ],
            "text/html": [
              " View project at <a href='https://wandb.ai/cs23m009/DL_Assignment_1' target=\"_blank\">https://wandb.ai/cs23m009/DL_Assignment_1</a>"
            ]
          },
          "metadata": {}
        },
        {
          "output_type": "display_data",
          "data": {
            "text/plain": [
              "<IPython.core.display.HTML object>"
            ],
            "text/html": [
              " View sweep at <a href='https://wandb.ai/cs23m009/DL_Assignment_1/sweeps/1n1jt35c' target=\"_blank\">https://wandb.ai/cs23m009/DL_Assignment_1/sweeps/1n1jt35c</a>"
            ]
          },
          "metadata": {}
        },
        {
          "output_type": "display_data",
          "data": {
            "text/plain": [
              "<IPython.core.display.HTML object>"
            ],
            "text/html": [
              " View run at <a href='https://wandb.ai/cs23m009/DL_Assignment_1/runs/yr770upw' target=\"_blank\">https://wandb.ai/cs23m009/DL_Assignment_1/runs/yr770upw</a>"
            ]
          },
          "metadata": {}
        },
        {
          "output_type": "stream",
          "name": "stdout",
          "text": [
            "Epoch 1, Train Loss: 0.7447579790602206, Train Accuracy: 0.7405925925925926, Val Loss: 0.7519228999857016, Val Accuracy: 0.7335\n",
            "Epoch 2, Train Loss: 0.5671729661294432, Train Accuracy: 0.8135925925925926, Val Loss: 0.5730242102775558, Val Accuracy: 0.8105\n",
            "Epoch 3, Train Loss: 0.4974742523104633, Train Accuracy: 0.832962962962963, Val Loss: 0.503039982102271, Val Accuracy: 0.8258333333333333\n",
            "Epoch 4, Train Loss: 0.46158664271114397, Train Accuracy: 0.8415, Val Loss: 0.4672109229028387, Val Accuracy: 0.8356666666666667\n",
            "Epoch 5, Train Loss: 0.4383959262721367, Train Accuracy: 0.8482777777777778, Val Loss: 0.4446970022180836, Val Accuracy: 0.8423333333333334\n"
          ]
        },
        {
          "output_type": "display_data",
          "data": {
            "text/plain": [
              "VBox(children=(Label(value='0.001 MB of 0.001 MB uploaded\\r'), FloatProgress(value=1.0, max=1.0)))"
            ],
            "application/vnd.jupyter.widget-view+json": {
              "version_major": 2,
              "version_minor": 0,
              "model_id": "e15b449c3c344a61bac1f3d85f4906d6"
            }
          },
          "metadata": {}
        },
        {
          "output_type": "display_data",
          "data": {
            "text/plain": [
              "<IPython.core.display.HTML object>"
            ],
            "text/html": [
              "<style>\n",
              "    table.wandb td:nth-child(1) { padding: 0 10px; text-align: left ; width: auto;} td:nth-child(2) {text-align: left ; width: 100%}\n",
              "    .wandb-row { display: flex; flex-direction: row; flex-wrap: wrap; justify-content: flex-start; width: 100% }\n",
              "    .wandb-col { display: flex; flex-direction: column; flex-basis: 100%; flex: 1; padding: 10px; }\n",
              "    </style>\n",
              "<div class=\"wandb-row\"><div class=\"wandb-col\"><h3>Run history:</h3><br/><table class=\"wandb\"><tr><td>epoch</td><td>▁▃▅▆█</td></tr><tr><td>train_accuracy</td><td>▁▆▇██</td></tr><tr><td>train_loss</td><td>█▄▂▂▁</td></tr><tr><td>val_accuracy</td><td>▁▆▇██</td></tr><tr><td>val_loss</td><td>█▄▂▂▁</td></tr></table><br/></div><div class=\"wandb-col\"><h3>Run summary:</h3><br/><table class=\"wandb\"><tr><td>epoch</td><td>5</td></tr><tr><td>train_accuracy</td><td>0.84828</td></tr><tr><td>train_loss</td><td>0.4384</td></tr><tr><td>val_accuracy</td><td>0.84233</td></tr><tr><td>val_loss</td><td>0.4447</td></tr></table><br/></div></div>"
            ]
          },
          "metadata": {}
        },
        {
          "output_type": "display_data",
          "data": {
            "text/plain": [
              "<IPython.core.display.HTML object>"
            ],
            "text/html": [
              " View run <strong style=\"color:#cdcd00\">zany-sweep-3</strong> at: <a href='https://wandb.ai/cs23m009/DL_Assignment_1/runs/yr770upw' target=\"_blank\">https://wandb.ai/cs23m009/DL_Assignment_1/runs/yr770upw</a><br/>Synced 5 W&B file(s), 0 media file(s), 0 artifact file(s) and 0 other file(s)"
            ]
          },
          "metadata": {}
        },
        {
          "output_type": "display_data",
          "data": {
            "text/plain": [
              "<IPython.core.display.HTML object>"
            ],
            "text/html": [
              "Find logs at: <code>./wandb/run-20240313_180903-yr770upw/logs</code>"
            ]
          },
          "metadata": {}
        },
        {
          "output_type": "stream",
          "name": "stderr",
          "text": [
            "\u001b[34m\u001b[1mwandb\u001b[0m: Agent Starting Run: tbx1y8ad with config:\n",
            "\u001b[34m\u001b[1mwandb\u001b[0m: \tactivation: tanh\n",
            "\u001b[34m\u001b[1mwandb\u001b[0m: \tbatch_size: 32\n",
            "\u001b[34m\u001b[1mwandb\u001b[0m: \tepochs: 10\n",
            "\u001b[34m\u001b[1mwandb\u001b[0m: \thidden_layer_size: 128\n",
            "\u001b[34m\u001b[1mwandb\u001b[0m: \thidden_layers: 4\n",
            "\u001b[34m\u001b[1mwandb\u001b[0m: \tlearning_rate: 0.001\n",
            "\u001b[34m\u001b[1mwandb\u001b[0m: \toptimizer: nadam\n",
            "\u001b[34m\u001b[1mwandb\u001b[0m: \tweight_decay: 0\n",
            "\u001b[34m\u001b[1mwandb\u001b[0m: \tweight_init: Xavier\n"
          ]
        },
        {
          "output_type": "display_data",
          "data": {
            "text/plain": [
              "<IPython.core.display.HTML object>"
            ],
            "text/html": [
              "Tracking run with wandb version 0.16.4"
            ]
          },
          "metadata": {}
        },
        {
          "output_type": "display_data",
          "data": {
            "text/plain": [
              "<IPython.core.display.HTML object>"
            ],
            "text/html": [
              "Run data is saved locally in <code>/content/wandb/run-20240313_180946-tbx1y8ad</code>"
            ]
          },
          "metadata": {}
        },
        {
          "output_type": "display_data",
          "data": {
            "text/plain": [
              "<IPython.core.display.HTML object>"
            ],
            "text/html": [
              "Syncing run <strong><a href='https://wandb.ai/cs23m009/DL_Assignment_1/runs/tbx1y8ad' target=\"_blank\">jolly-sweep-4</a></strong> to <a href='https://wandb.ai/cs23m009/DL_Assignment_1' target=\"_blank\">Weights & Biases</a> (<a href='https://wandb.me/run' target=\"_blank\">docs</a>)<br/>Sweep page: <a href='https://wandb.ai/cs23m009/DL_Assignment_1/sweeps/1n1jt35c' target=\"_blank\">https://wandb.ai/cs23m009/DL_Assignment_1/sweeps/1n1jt35c</a>"
            ]
          },
          "metadata": {}
        },
        {
          "output_type": "display_data",
          "data": {
            "text/plain": [
              "<IPython.core.display.HTML object>"
            ],
            "text/html": [
              " View project at <a href='https://wandb.ai/cs23m009/DL_Assignment_1' target=\"_blank\">https://wandb.ai/cs23m009/DL_Assignment_1</a>"
            ]
          },
          "metadata": {}
        },
        {
          "output_type": "display_data",
          "data": {
            "text/plain": [
              "<IPython.core.display.HTML object>"
            ],
            "text/html": [
              " View sweep at <a href='https://wandb.ai/cs23m009/DL_Assignment_1/sweeps/1n1jt35c' target=\"_blank\">https://wandb.ai/cs23m009/DL_Assignment_1/sweeps/1n1jt35c</a>"
            ]
          },
          "metadata": {}
        },
        {
          "output_type": "display_data",
          "data": {
            "text/plain": [
              "<IPython.core.display.HTML object>"
            ],
            "text/html": [
              " View run at <a href='https://wandb.ai/cs23m009/DL_Assignment_1/runs/tbx1y8ad' target=\"_blank\">https://wandb.ai/cs23m009/DL_Assignment_1/runs/tbx1y8ad</a>"
            ]
          },
          "metadata": {}
        },
        {
          "output_type": "stream",
          "name": "stdout",
          "text": [
            "Epoch 1, Train Loss: 0.35028171759516663, Train Accuracy: 0.8743333333333333, Val Loss: 0.36151372853890756, Val Accuracy: 0.8678333333333333\n",
            "Epoch 2, Train Loss: 0.3162648452895841, Train Accuracy: 0.884425925925926, Val Loss: 0.3397679650180386, Val Accuracy: 0.877\n",
            "Epoch 3, Train Loss: 0.2928416793965215, Train Accuracy: 0.8928703703703704, Val Loss: 0.32695284171846667, Val Accuracy: 0.8823333333333333\n",
            "Epoch 4, Train Loss: 0.27482428885724614, Train Accuracy: 0.8999814814814815, Val Loss: 0.3180480757073922, Val Accuracy: 0.8853333333333333\n",
            "Epoch 5, Train Loss: 0.2611067405496824, Train Accuracy: 0.9045740740740741, Val Loss: 0.31248732649723004, Val Accuracy: 0.8875\n",
            "Epoch 6, Train Loss: 0.24994349449995398, Train Accuracy: 0.9088888888888889, Val Loss: 0.309018287726093, Val Accuracy: 0.889\n",
            "Epoch 7, Train Loss: 0.24036285432091137, Train Accuracy: 0.9121481481481482, Val Loss: 0.30692589229441636, Val Accuracy: 0.8906666666666667\n",
            "Epoch 8, Train Loss: 0.23197503371704056, Train Accuracy: 0.9149814814814815, Val Loss: 0.3058243684527928, Val Accuracy: 0.892\n",
            "Epoch 9, Train Loss: 0.22447250960190754, Train Accuracy: 0.9170555555555555, Val Loss: 0.3053463623966409, Val Accuracy: 0.8926666666666667\n",
            "Epoch 10, Train Loss: 0.21760612262357537, Train Accuracy: 0.9196481481481481, Val Loss: 0.3052510206678967, Val Accuracy: 0.8918333333333334\n"
          ]
        },
        {
          "output_type": "display_data",
          "data": {
            "text/plain": [
              "VBox(children=(Label(value='0.001 MB of 0.001 MB uploaded\\r'), FloatProgress(value=1.0, max=1.0)))"
            ],
            "application/vnd.jupyter.widget-view+json": {
              "version_major": 2,
              "version_minor": 0,
              "model_id": "0d183ef527a142efb942b2817a7f9b9e"
            }
          },
          "metadata": {}
        },
        {
          "output_type": "display_data",
          "data": {
            "text/plain": [
              "<IPython.core.display.HTML object>"
            ],
            "text/html": [
              "<style>\n",
              "    table.wandb td:nth-child(1) { padding: 0 10px; text-align: left ; width: auto;} td:nth-child(2) {text-align: left ; width: 100%}\n",
              "    .wandb-row { display: flex; flex-direction: row; flex-wrap: wrap; justify-content: flex-start; width: 100% }\n",
              "    .wandb-col { display: flex; flex-direction: column; flex-basis: 100%; flex: 1; padding: 10px; }\n",
              "    </style>\n",
              "<div class=\"wandb-row\"><div class=\"wandb-col\"><h3>Run history:</h3><br/><table class=\"wandb\"><tr><td>epoch</td><td>▁▂▃▃▄▅▆▆▇█</td></tr><tr><td>train_accuracy</td><td>▁▃▄▅▆▆▇▇██</td></tr><tr><td>train_loss</td><td>█▆▅▄▃▃▂▂▁▁</td></tr><tr><td>val_accuracy</td><td>▁▄▅▆▇▇▇███</td></tr><tr><td>val_loss</td><td>█▅▄▃▂▁▁▁▁▁</td></tr></table><br/></div><div class=\"wandb-col\"><h3>Run summary:</h3><br/><table class=\"wandb\"><tr><td>epoch</td><td>10</td></tr><tr><td>train_accuracy</td><td>0.91965</td></tr><tr><td>train_loss</td><td>0.21761</td></tr><tr><td>val_accuracy</td><td>0.89183</td></tr><tr><td>val_loss</td><td>0.30525</td></tr></table><br/></div></div>"
            ]
          },
          "metadata": {}
        },
        {
          "output_type": "display_data",
          "data": {
            "text/plain": [
              "<IPython.core.display.HTML object>"
            ],
            "text/html": [
              " View run <strong style=\"color:#cdcd00\">jolly-sweep-4</strong> at: <a href='https://wandb.ai/cs23m009/DL_Assignment_1/runs/tbx1y8ad' target=\"_blank\">https://wandb.ai/cs23m009/DL_Assignment_1/runs/tbx1y8ad</a><br/>Synced 5 W&B file(s), 0 media file(s), 0 artifact file(s) and 0 other file(s)"
            ]
          },
          "metadata": {}
        },
        {
          "output_type": "display_data",
          "data": {
            "text/plain": [
              "<IPython.core.display.HTML object>"
            ],
            "text/html": [
              "Find logs at: <code>./wandb/run-20240313_180946-tbx1y8ad/logs</code>"
            ]
          },
          "metadata": {}
        },
        {
          "output_type": "stream",
          "name": "stderr",
          "text": [
            "\u001b[34m\u001b[1mwandb\u001b[0m: Sweep Agent: Waiting for job.\n",
            "\u001b[34m\u001b[1mwandb\u001b[0m: Job received.\n",
            "\u001b[34m\u001b[1mwandb\u001b[0m: Agent Starting Run: gplzyr4m with config:\n",
            "\u001b[34m\u001b[1mwandb\u001b[0m: \tactivation: tanh\n",
            "\u001b[34m\u001b[1mwandb\u001b[0m: \tbatch_size: 32\n",
            "\u001b[34m\u001b[1mwandb\u001b[0m: \tepochs: 10\n",
            "\u001b[34m\u001b[1mwandb\u001b[0m: \thidden_layer_size: 128\n",
            "\u001b[34m\u001b[1mwandb\u001b[0m: \thidden_layers: 5\n",
            "\u001b[34m\u001b[1mwandb\u001b[0m: \tlearning_rate: 0.001\n",
            "\u001b[34m\u001b[1mwandb\u001b[0m: \toptimizer: nadam\n",
            "\u001b[34m\u001b[1mwandb\u001b[0m: \tweight_decay: 0\n",
            "\u001b[34m\u001b[1mwandb\u001b[0m: \tweight_init: Xavier\n"
          ]
        },
        {
          "output_type": "display_data",
          "data": {
            "text/plain": [
              "<IPython.core.display.HTML object>"
            ],
            "text/html": [
              "Tracking run with wandb version 0.16.4"
            ]
          },
          "metadata": {}
        },
        {
          "output_type": "display_data",
          "data": {
            "text/plain": [
              "<IPython.core.display.HTML object>"
            ],
            "text/html": [
              "Run data is saved locally in <code>/content/wandb/run-20240313_181257-gplzyr4m</code>"
            ]
          },
          "metadata": {}
        },
        {
          "output_type": "display_data",
          "data": {
            "text/plain": [
              "<IPython.core.display.HTML object>"
            ],
            "text/html": [
              "Syncing run <strong><a href='https://wandb.ai/cs23m009/DL_Assignment_1/runs/gplzyr4m' target=\"_blank\">fanciful-sweep-5</a></strong> to <a href='https://wandb.ai/cs23m009/DL_Assignment_1' target=\"_blank\">Weights & Biases</a> (<a href='https://wandb.me/run' target=\"_blank\">docs</a>)<br/>Sweep page: <a href='https://wandb.ai/cs23m009/DL_Assignment_1/sweeps/1n1jt35c' target=\"_blank\">https://wandb.ai/cs23m009/DL_Assignment_1/sweeps/1n1jt35c</a>"
            ]
          },
          "metadata": {}
        },
        {
          "output_type": "display_data",
          "data": {
            "text/plain": [
              "<IPython.core.display.HTML object>"
            ],
            "text/html": [
              " View project at <a href='https://wandb.ai/cs23m009/DL_Assignment_1' target=\"_blank\">https://wandb.ai/cs23m009/DL_Assignment_1</a>"
            ]
          },
          "metadata": {}
        },
        {
          "output_type": "display_data",
          "data": {
            "text/plain": [
              "<IPython.core.display.HTML object>"
            ],
            "text/html": [
              " View sweep at <a href='https://wandb.ai/cs23m009/DL_Assignment_1/sweeps/1n1jt35c' target=\"_blank\">https://wandb.ai/cs23m009/DL_Assignment_1/sweeps/1n1jt35c</a>"
            ]
          },
          "metadata": {}
        },
        {
          "output_type": "display_data",
          "data": {
            "text/plain": [
              "<IPython.core.display.HTML object>"
            ],
            "text/html": [
              " View run at <a href='https://wandb.ai/cs23m009/DL_Assignment_1/runs/gplzyr4m' target=\"_blank\">https://wandb.ai/cs23m009/DL_Assignment_1/runs/gplzyr4m</a>"
            ]
          },
          "metadata": {}
        },
        {
          "output_type": "stream",
          "name": "stdout",
          "text": [
            "Epoch 1, Train Loss: 0.35352396555816756, Train Accuracy: 0.8729629629629629, Val Loss: 0.3672055794985952, Val Accuracy: 0.8638333333333333\n",
            "Epoch 2, Train Loss: 0.32185263035014255, Train Accuracy: 0.8818148148148148, Val Loss: 0.34647670810429104, Val Accuracy: 0.873\n",
            "Epoch 3, Train Loss: 0.2968018712974001, Train Accuracy: 0.8908518518518519, Val Loss: 0.3319839151512537, Val Accuracy: 0.8776666666666667\n",
            "Epoch 4, Train Loss: 0.2769053835068719, Train Accuracy: 0.8975, Val Loss: 0.32200806552033057, Val Accuracy: 0.8813333333333333\n",
            "Epoch 5, Train Loss: 0.26224900288127445, Train Accuracy: 0.9028148148148148, Val Loss: 0.3166388283273173, Val Accuracy: 0.8828333333333334\n",
            "Epoch 6, Train Loss: 0.25069885312205287, Train Accuracy: 0.906537037037037, Val Loss: 0.31373686234536513, Val Accuracy: 0.8845\n",
            "Epoch 7, Train Loss: 0.24097333606391985, Train Accuracy: 0.9101481481481482, Val Loss: 0.31224497483272545, Val Accuracy: 0.887\n",
            "Epoch 8, Train Loss: 0.23254625224518807, Train Accuracy: 0.9132592592592592, Val Loss: 0.31212692153974914, Val Accuracy: 0.8886666666666667\n",
            "Epoch 9, Train Loss: 0.224975405538424, Train Accuracy: 0.916037037037037, Val Loss: 0.3131497344245602, Val Accuracy: 0.8891666666666667\n",
            "Epoch 10, Train Loss: 0.21833973907650234, Train Accuracy: 0.9183888888888889, Val Loss: 0.31520348226785083, Val Accuracy: 0.8898333333333334\n"
          ]
        },
        {
          "output_type": "display_data",
          "data": {
            "text/plain": [
              "VBox(children=(Label(value='0.001 MB of 0.001 MB uploaded\\r'), FloatProgress(value=1.0, max=1.0)))"
            ],
            "application/vnd.jupyter.widget-view+json": {
              "version_major": 2,
              "version_minor": 0,
              "model_id": "d3099c0d0ef8477893777e981c35390e"
            }
          },
          "metadata": {}
        },
        {
          "output_type": "display_data",
          "data": {
            "text/plain": [
              "<IPython.core.display.HTML object>"
            ],
            "text/html": [
              "<style>\n",
              "    table.wandb td:nth-child(1) { padding: 0 10px; text-align: left ; width: auto;} td:nth-child(2) {text-align: left ; width: 100%}\n",
              "    .wandb-row { display: flex; flex-direction: row; flex-wrap: wrap; justify-content: flex-start; width: 100% }\n",
              "    .wandb-col { display: flex; flex-direction: column; flex-basis: 100%; flex: 1; padding: 10px; }\n",
              "    </style>\n",
              "<div class=\"wandb-row\"><div class=\"wandb-col\"><h3>Run history:</h3><br/><table class=\"wandb\"><tr><td>epoch</td><td>▁▂▃▃▄▅▆▆▇█</td></tr><tr><td>train_accuracy</td><td>▁▂▄▅▆▆▇▇██</td></tr><tr><td>train_loss</td><td>█▆▅▄▃▃▂▂▁▁</td></tr><tr><td>val_accuracy</td><td>▁▃▅▆▆▇▇███</td></tr><tr><td>val_loss</td><td>█▅▄▂▂▁▁▁▁▁</td></tr></table><br/></div><div class=\"wandb-col\"><h3>Run summary:</h3><br/><table class=\"wandb\"><tr><td>epoch</td><td>10</td></tr><tr><td>train_accuracy</td><td>0.91839</td></tr><tr><td>train_loss</td><td>0.21834</td></tr><tr><td>val_accuracy</td><td>0.88983</td></tr><tr><td>val_loss</td><td>0.3152</td></tr></table><br/></div></div>"
            ]
          },
          "metadata": {}
        },
        {
          "output_type": "display_data",
          "data": {
            "text/plain": [
              "<IPython.core.display.HTML object>"
            ],
            "text/html": [
              " View run <strong style=\"color:#cdcd00\">fanciful-sweep-5</strong> at: <a href='https://wandb.ai/cs23m009/DL_Assignment_1/runs/gplzyr4m' target=\"_blank\">https://wandb.ai/cs23m009/DL_Assignment_1/runs/gplzyr4m</a><br/>Synced 5 W&B file(s), 0 media file(s), 0 artifact file(s) and 0 other file(s)"
            ]
          },
          "metadata": {}
        },
        {
          "output_type": "display_data",
          "data": {
            "text/plain": [
              "<IPython.core.display.HTML object>"
            ],
            "text/html": [
              "Find logs at: <code>./wandb/run-20240313_181257-gplzyr4m/logs</code>"
            ]
          },
          "metadata": {}
        },
        {
          "output_type": "stream",
          "name": "stderr",
          "text": [
            "\u001b[34m\u001b[1mwandb\u001b[0m: Agent Starting Run: 8vpn7c8j with config:\n",
            "\u001b[34m\u001b[1mwandb\u001b[0m: \tactivation: tanh\n",
            "\u001b[34m\u001b[1mwandb\u001b[0m: \tbatch_size: 16\n",
            "\u001b[34m\u001b[1mwandb\u001b[0m: \tepochs: 10\n",
            "\u001b[34m\u001b[1mwandb\u001b[0m: \thidden_layer_size: 128\n",
            "\u001b[34m\u001b[1mwandb\u001b[0m: \thidden_layers: 4\n",
            "\u001b[34m\u001b[1mwandb\u001b[0m: \tlearning_rate: 0.0001\n",
            "\u001b[34m\u001b[1mwandb\u001b[0m: \toptimizer: nadam\n",
            "\u001b[34m\u001b[1mwandb\u001b[0m: \tweight_decay: 0.005\n",
            "\u001b[34m\u001b[1mwandb\u001b[0m: \tweight_init: Xavier\n"
          ]
        },
        {
          "output_type": "display_data",
          "data": {
            "text/plain": [
              "<IPython.core.display.HTML object>"
            ],
            "text/html": [
              "Tracking run with wandb version 0.16.4"
            ]
          },
          "metadata": {}
        },
        {
          "output_type": "display_data",
          "data": {
            "text/plain": [
              "<IPython.core.display.HTML object>"
            ],
            "text/html": [
              "Run data is saved locally in <code>/content/wandb/run-20240313_181628-8vpn7c8j</code>"
            ]
          },
          "metadata": {}
        },
        {
          "output_type": "display_data",
          "data": {
            "text/plain": [
              "<IPython.core.display.HTML object>"
            ],
            "text/html": [
              "Syncing run <strong><a href='https://wandb.ai/cs23m009/DL_Assignment_1/runs/8vpn7c8j' target=\"_blank\">clear-sweep-6</a></strong> to <a href='https://wandb.ai/cs23m009/DL_Assignment_1' target=\"_blank\">Weights & Biases</a> (<a href='https://wandb.me/run' target=\"_blank\">docs</a>)<br/>Sweep page: <a href='https://wandb.ai/cs23m009/DL_Assignment_1/sweeps/1n1jt35c' target=\"_blank\">https://wandb.ai/cs23m009/DL_Assignment_1/sweeps/1n1jt35c</a>"
            ]
          },
          "metadata": {}
        },
        {
          "output_type": "display_data",
          "data": {
            "text/plain": [
              "<IPython.core.display.HTML object>"
            ],
            "text/html": [
              " View project at <a href='https://wandb.ai/cs23m009/DL_Assignment_1' target=\"_blank\">https://wandb.ai/cs23m009/DL_Assignment_1</a>"
            ]
          },
          "metadata": {}
        },
        {
          "output_type": "display_data",
          "data": {
            "text/plain": [
              "<IPython.core.display.HTML object>"
            ],
            "text/html": [
              " View sweep at <a href='https://wandb.ai/cs23m009/DL_Assignment_1/sweeps/1n1jt35c' target=\"_blank\">https://wandb.ai/cs23m009/DL_Assignment_1/sweeps/1n1jt35c</a>"
            ]
          },
          "metadata": {}
        },
        {
          "output_type": "display_data",
          "data": {
            "text/plain": [
              "<IPython.core.display.HTML object>"
            ],
            "text/html": [
              " View run at <a href='https://wandb.ai/cs23m009/DL_Assignment_1/runs/8vpn7c8j' target=\"_blank\">https://wandb.ai/cs23m009/DL_Assignment_1/runs/8vpn7c8j</a>"
            ]
          },
          "metadata": {}
        },
        {
          "output_type": "stream",
          "name": "stdout",
          "text": [
            "Epoch 1, Train Loss: 0.4454875820792971, Train Accuracy: 0.8422037037037037, Val Loss: 0.45174930343518943, Val Accuracy: 0.8376666666666667\n",
            "Epoch 2, Train Loss: 0.4062509955553442, Train Accuracy: 0.8565925925925926, Val Loss: 0.41468801912874953, Val Accuracy: 0.85\n",
            "Epoch 3, Train Loss: 0.3851574108726086, Train Accuracy: 0.865037037037037, Val Loss: 0.3960658490482662, Val Accuracy: 0.856\n",
            "Epoch 4, Train Loss: 0.3707072811787646, Train Accuracy: 0.8694074074074074, Val Loss: 0.3839536577557187, Val Accuracy: 0.8606666666666667\n",
            "Epoch 5, Train Loss: 0.35965236210871565, Train Accuracy: 0.8730370370370371, Val Loss: 0.3751011378459829, Val Accuracy: 0.8633333333333333\n",
            "Epoch 6, Train Loss: 0.3506282114182515, Train Accuracy: 0.8760925925925926, Val Loss: 0.36816932157943416, Val Accuracy: 0.865\n",
            "Epoch 7, Train Loss: 0.34294329200273227, Train Accuracy: 0.878462962962963, Val Loss: 0.36248815242626825, Val Accuracy: 0.8675\n",
            "Epoch 8, Train Loss: 0.3362037168044423, Train Accuracy: 0.8809814814814815, Val Loss: 0.35768079400228825, Val Accuracy: 0.8698333333333333\n",
            "Epoch 9, Train Loss: 0.33016537361208187, Train Accuracy: 0.8827962962962963, Val Loss: 0.353517123090564, Val Accuracy: 0.8713333333333333\n",
            "Epoch 10, Train Loss: 0.3246668898590076, Train Accuracy: 0.8845, Val Loss: 0.3498471977916318, Val Accuracy: 0.8716666666666667\n"
          ]
        },
        {
          "output_type": "display_data",
          "data": {
            "text/plain": [
              "VBox(children=(Label(value='0.001 MB of 0.001 MB uploaded\\r'), FloatProgress(value=1.0, max=1.0)))"
            ],
            "application/vnd.jupyter.widget-view+json": {
              "version_major": 2,
              "version_minor": 0,
              "model_id": "17d3a4b3b977453190eec7d1d21abe30"
            }
          },
          "metadata": {}
        },
        {
          "output_type": "display_data",
          "data": {
            "text/plain": [
              "<IPython.core.display.HTML object>"
            ],
            "text/html": [
              "<style>\n",
              "    table.wandb td:nth-child(1) { padding: 0 10px; text-align: left ; width: auto;} td:nth-child(2) {text-align: left ; width: 100%}\n",
              "    .wandb-row { display: flex; flex-direction: row; flex-wrap: wrap; justify-content: flex-start; width: 100% }\n",
              "    .wandb-col { display: flex; flex-direction: column; flex-basis: 100%; flex: 1; padding: 10px; }\n",
              "    </style>\n",
              "<div class=\"wandb-row\"><div class=\"wandb-col\"><h3>Run history:</h3><br/><table class=\"wandb\"><tr><td>epoch</td><td>▁▂▃▃▄▅▆▆▇█</td></tr><tr><td>train_accuracy</td><td>▁▃▅▆▆▇▇▇██</td></tr><tr><td>train_loss</td><td>█▆▅▄▃▃▂▂▁▁</td></tr><tr><td>val_accuracy</td><td>▁▄▅▆▆▇▇███</td></tr><tr><td>val_loss</td><td>█▅▄▃▃▂▂▂▁▁</td></tr></table><br/></div><div class=\"wandb-col\"><h3>Run summary:</h3><br/><table class=\"wandb\"><tr><td>epoch</td><td>10</td></tr><tr><td>train_accuracy</td><td>0.8845</td></tr><tr><td>train_loss</td><td>0.32467</td></tr><tr><td>val_accuracy</td><td>0.87167</td></tr><tr><td>val_loss</td><td>0.34985</td></tr></table><br/></div></div>"
            ]
          },
          "metadata": {}
        },
        {
          "output_type": "display_data",
          "data": {
            "text/plain": [
              "<IPython.core.display.HTML object>"
            ],
            "text/html": [
              " View run <strong style=\"color:#cdcd00\">clear-sweep-6</strong> at: <a href='https://wandb.ai/cs23m009/DL_Assignment_1/runs/8vpn7c8j' target=\"_blank\">https://wandb.ai/cs23m009/DL_Assignment_1/runs/8vpn7c8j</a><br/>Synced 5 W&B file(s), 0 media file(s), 0 artifact file(s) and 0 other file(s)"
            ]
          },
          "metadata": {}
        },
        {
          "output_type": "display_data",
          "data": {
            "text/plain": [
              "<IPython.core.display.HTML object>"
            ],
            "text/html": [
              "Find logs at: <code>./wandb/run-20240313_181628-8vpn7c8j/logs</code>"
            ]
          },
          "metadata": {}
        },
        {
          "output_type": "stream",
          "name": "stderr",
          "text": [
            "\u001b[34m\u001b[1mwandb\u001b[0m: Sweep Agent: Waiting for job.\n",
            "\u001b[34m\u001b[1mwandb\u001b[0m: Job received.\n",
            "\u001b[34m\u001b[1mwandb\u001b[0m: Agent Starting Run: 7s4o3s40 with config:\n",
            "\u001b[34m\u001b[1mwandb\u001b[0m: \tactivation: tanh\n",
            "\u001b[34m\u001b[1mwandb\u001b[0m: \tbatch_size: 32\n",
            "\u001b[34m\u001b[1mwandb\u001b[0m: \tepochs: 10\n",
            "\u001b[34m\u001b[1mwandb\u001b[0m: \thidden_layer_size: 128\n",
            "\u001b[34m\u001b[1mwandb\u001b[0m: \thidden_layers: 5\n",
            "\u001b[34m\u001b[1mwandb\u001b[0m: \tlearning_rate: 0.001\n",
            "\u001b[34m\u001b[1mwandb\u001b[0m: \toptimizer: nadam\n",
            "\u001b[34m\u001b[1mwandb\u001b[0m: \tweight_decay: 0.005\n",
            "\u001b[34m\u001b[1mwandb\u001b[0m: \tweight_init: Xavier\n"
          ]
        },
        {
          "output_type": "display_data",
          "data": {
            "text/plain": [
              "<IPython.core.display.HTML object>"
            ],
            "text/html": [
              "Tracking run with wandb version 0.16.4"
            ]
          },
          "metadata": {}
        },
        {
          "output_type": "display_data",
          "data": {
            "text/plain": [
              "<IPython.core.display.HTML object>"
            ],
            "text/html": [
              "Run data is saved locally in <code>/content/wandb/run-20240313_182107-7s4o3s40</code>"
            ]
          },
          "metadata": {}
        },
        {
          "output_type": "display_data",
          "data": {
            "text/plain": [
              "<IPython.core.display.HTML object>"
            ],
            "text/html": [
              "Syncing run <strong><a href='https://wandb.ai/cs23m009/DL_Assignment_1/runs/7s4o3s40' target=\"_blank\">fallen-sweep-7</a></strong> to <a href='https://wandb.ai/cs23m009/DL_Assignment_1' target=\"_blank\">Weights & Biases</a> (<a href='https://wandb.me/run' target=\"_blank\">docs</a>)<br/>Sweep page: <a href='https://wandb.ai/cs23m009/DL_Assignment_1/sweeps/1n1jt35c' target=\"_blank\">https://wandb.ai/cs23m009/DL_Assignment_1/sweeps/1n1jt35c</a>"
            ]
          },
          "metadata": {}
        },
        {
          "output_type": "display_data",
          "data": {
            "text/plain": [
              "<IPython.core.display.HTML object>"
            ],
            "text/html": [
              " View project at <a href='https://wandb.ai/cs23m009/DL_Assignment_1' target=\"_blank\">https://wandb.ai/cs23m009/DL_Assignment_1</a>"
            ]
          },
          "metadata": {}
        },
        {
          "output_type": "display_data",
          "data": {
            "text/plain": [
              "<IPython.core.display.HTML object>"
            ],
            "text/html": [
              " View sweep at <a href='https://wandb.ai/cs23m009/DL_Assignment_1/sweeps/1n1jt35c' target=\"_blank\">https://wandb.ai/cs23m009/DL_Assignment_1/sweeps/1n1jt35c</a>"
            ]
          },
          "metadata": {}
        },
        {
          "output_type": "display_data",
          "data": {
            "text/plain": [
              "<IPython.core.display.HTML object>"
            ],
            "text/html": [
              " View run at <a href='https://wandb.ai/cs23m009/DL_Assignment_1/runs/7s4o3s40' target=\"_blank\">https://wandb.ai/cs23m009/DL_Assignment_1/runs/7s4o3s40</a>"
            ]
          },
          "metadata": {}
        },
        {
          "output_type": "stream",
          "name": "stdout",
          "text": [
            "Epoch 1, Train Loss: 0.350836406553602, Train Accuracy: 0.8721666666666666, Val Loss: 0.3639833051988629, Val Accuracy: 0.8673333333333333\n",
            "Epoch 2, Train Loss: 0.3206417965559618, Train Accuracy: 0.8813888888888889, Val Loss: 0.34523762305650424, Val Accuracy: 0.8725\n",
            "Epoch 3, Train Loss: 0.30120202638950455, Train Accuracy: 0.8892777777777777, Val Loss: 0.33744802581084765, Val Accuracy: 0.8766666666666667\n",
            "Epoch 4, Train Loss: 0.28513927867221955, Train Accuracy: 0.8950370370370371, Val Loss: 0.3321787440632004, Val Accuracy: 0.8788333333333334\n",
            "Epoch 5, Train Loss: 0.27122291960960887, Train Accuracy: 0.8994814814814814, Val Loss: 0.3279514383942856, Val Accuracy: 0.8816666666666667\n",
            "Epoch 6, Train Loss: 0.25979304476907367, Train Accuracy: 0.9037222222222222, Val Loss: 0.32526106168985364, Val Accuracy: 0.8828333333333334\n",
            "Epoch 7, Train Loss: 0.24997905901341455, Train Accuracy: 0.9068888888888889, Val Loss: 0.32382273579552073, Val Accuracy: 0.8838333333333334\n",
            "Epoch 8, Train Loss: 0.2414820948966657, Train Accuracy: 0.9097407407407407, Val Loss: 0.3234886277497901, Val Accuracy: 0.8851666666666667\n",
            "Epoch 9, Train Loss: 0.23404407242184708, Train Accuracy: 0.9126296296296297, Val Loss: 0.3239361342189476, Val Accuracy: 0.8865\n",
            "Epoch 10, Train Loss: 0.22722610785328043, Train Accuracy: 0.9152777777777777, Val Loss: 0.3246773824267287, Val Accuracy: 0.8871666666666667\n"
          ]
        },
        {
          "output_type": "display_data",
          "data": {
            "text/plain": [
              "VBox(children=(Label(value='0.001 MB of 0.012 MB uploaded\\r'), FloatProgress(value=0.08508260834863117, max=1.…"
            ],
            "application/vnd.jupyter.widget-view+json": {
              "version_major": 2,
              "version_minor": 0,
              "model_id": "9ff9ce4ec9604021aa4a8f62abe69b79"
            }
          },
          "metadata": {}
        },
        {
          "output_type": "display_data",
          "data": {
            "text/plain": [
              "<IPython.core.display.HTML object>"
            ],
            "text/html": [
              "<style>\n",
              "    table.wandb td:nth-child(1) { padding: 0 10px; text-align: left ; width: auto;} td:nth-child(2) {text-align: left ; width: 100%}\n",
              "    .wandb-row { display: flex; flex-direction: row; flex-wrap: wrap; justify-content: flex-start; width: 100% }\n",
              "    .wandb-col { display: flex; flex-direction: column; flex-basis: 100%; flex: 1; padding: 10px; }\n",
              "    </style>\n",
              "<div class=\"wandb-row\"><div class=\"wandb-col\"><h3>Run history:</h3><br/><table class=\"wandb\"><tr><td>epoch</td><td>▁▂▃▃▄▅▆▆▇█</td></tr><tr><td>train_accuracy</td><td>▁▂▄▅▅▆▇▇██</td></tr><tr><td>train_loss</td><td>█▆▅▄▃▃▂▂▁▁</td></tr><tr><td>val_accuracy</td><td>▁▃▄▅▆▆▇▇██</td></tr><tr><td>val_loss</td><td>█▅▃▃▂▁▁▁▁▁</td></tr></table><br/></div><div class=\"wandb-col\"><h3>Run summary:</h3><br/><table class=\"wandb\"><tr><td>epoch</td><td>10</td></tr><tr><td>train_accuracy</td><td>0.91528</td></tr><tr><td>train_loss</td><td>0.22723</td></tr><tr><td>val_accuracy</td><td>0.88717</td></tr><tr><td>val_loss</td><td>0.32468</td></tr></table><br/></div></div>"
            ]
          },
          "metadata": {}
        },
        {
          "output_type": "display_data",
          "data": {
            "text/plain": [
              "<IPython.core.display.HTML object>"
            ],
            "text/html": [
              " View run <strong style=\"color:#cdcd00\">fallen-sweep-7</strong> at: <a href='https://wandb.ai/cs23m009/DL_Assignment_1/runs/7s4o3s40' target=\"_blank\">https://wandb.ai/cs23m009/DL_Assignment_1/runs/7s4o3s40</a><br/>Synced 5 W&B file(s), 0 media file(s), 0 artifact file(s) and 0 other file(s)"
            ]
          },
          "metadata": {}
        },
        {
          "output_type": "display_data",
          "data": {
            "text/plain": [
              "<IPython.core.display.HTML object>"
            ],
            "text/html": [
              "Find logs at: <code>./wandb/run-20240313_182107-7s4o3s40/logs</code>"
            ]
          },
          "metadata": {}
        },
        {
          "output_type": "stream",
          "name": "stderr",
          "text": [
            "\u001b[34m\u001b[1mwandb\u001b[0m: Agent Starting Run: g8uo0vqi with config:\n",
            "\u001b[34m\u001b[1mwandb\u001b[0m: \tactivation: tanh\n",
            "\u001b[34m\u001b[1mwandb\u001b[0m: \tbatch_size: 32\n",
            "\u001b[34m\u001b[1mwandb\u001b[0m: \tepochs: 10\n",
            "\u001b[34m\u001b[1mwandb\u001b[0m: \thidden_layer_size: 128\n",
            "\u001b[34m\u001b[1mwandb\u001b[0m: \thidden_layers: 4\n",
            "\u001b[34m\u001b[1mwandb\u001b[0m: \tlearning_rate: 0.001\n",
            "\u001b[34m\u001b[1mwandb\u001b[0m: \toptimizer: nadam\n",
            "\u001b[34m\u001b[1mwandb\u001b[0m: \tweight_decay: 0\n",
            "\u001b[34m\u001b[1mwandb\u001b[0m: \tweight_init: Xavier\n"
          ]
        },
        {
          "output_type": "display_data",
          "data": {
            "text/plain": [
              "<IPython.core.display.HTML object>"
            ],
            "text/html": [
              "Tracking run with wandb version 0.16.4"
            ]
          },
          "metadata": {}
        },
        {
          "output_type": "display_data",
          "data": {
            "text/plain": [
              "<IPython.core.display.HTML object>"
            ],
            "text/html": [
              "Run data is saved locally in <code>/content/wandb/run-20240313_182434-g8uo0vqi</code>"
            ]
          },
          "metadata": {}
        },
        {
          "output_type": "display_data",
          "data": {
            "text/plain": [
              "<IPython.core.display.HTML object>"
            ],
            "text/html": [
              "Syncing run <strong><a href='https://wandb.ai/cs23m009/DL_Assignment_1/runs/g8uo0vqi' target=\"_blank\">northern-sweep-8</a></strong> to <a href='https://wandb.ai/cs23m009/DL_Assignment_1' target=\"_blank\">Weights & Biases</a> (<a href='https://wandb.me/run' target=\"_blank\">docs</a>)<br/>Sweep page: <a href='https://wandb.ai/cs23m009/DL_Assignment_1/sweeps/1n1jt35c' target=\"_blank\">https://wandb.ai/cs23m009/DL_Assignment_1/sweeps/1n1jt35c</a>"
            ]
          },
          "metadata": {}
        },
        {
          "output_type": "display_data",
          "data": {
            "text/plain": [
              "<IPython.core.display.HTML object>"
            ],
            "text/html": [
              " View project at <a href='https://wandb.ai/cs23m009/DL_Assignment_1' target=\"_blank\">https://wandb.ai/cs23m009/DL_Assignment_1</a>"
            ]
          },
          "metadata": {}
        },
        {
          "output_type": "display_data",
          "data": {
            "text/plain": [
              "<IPython.core.display.HTML object>"
            ],
            "text/html": [
              " View sweep at <a href='https://wandb.ai/cs23m009/DL_Assignment_1/sweeps/1n1jt35c' target=\"_blank\">https://wandb.ai/cs23m009/DL_Assignment_1/sweeps/1n1jt35c</a>"
            ]
          },
          "metadata": {}
        },
        {
          "output_type": "display_data",
          "data": {
            "text/plain": [
              "<IPython.core.display.HTML object>"
            ],
            "text/html": [
              " View run at <a href='https://wandb.ai/cs23m009/DL_Assignment_1/runs/g8uo0vqi' target=\"_blank\">https://wandb.ai/cs23m009/DL_Assignment_1/runs/g8uo0vqi</a>"
            ]
          },
          "metadata": {}
        },
        {
          "output_type": "stream",
          "name": "stdout",
          "text": [
            "Epoch 1, Train Loss: 0.34742700839438956, Train Accuracy: 0.8743703703703704, Val Loss: 0.363729329369011, Val Accuracy: 0.8663333333333333\n",
            "Epoch 2, Train Loss: 0.31583847165814466, Train Accuracy: 0.8842222222222222, Val Loss: 0.3434413489136257, Val Accuracy: 0.8751666666666666\n",
            "Epoch 3, Train Loss: 0.29388657033393634, Train Accuracy: 0.892425925925926, Val Loss: 0.33202901988046796, Val Accuracy: 0.8803333333333333\n",
            "Epoch 4, Train Loss: 0.2775940150575553, Train Accuracy: 0.897962962962963, Val Loss: 0.3251040862250562, Val Accuracy: 0.8828333333333334\n",
            "Epoch 5, Train Loss: 0.2643563447335725, Train Accuracy: 0.9027222222222222, Val Loss: 0.320399517978684, Val Accuracy: 0.8828333333333334\n",
            "Epoch 6, Train Loss: 0.2527693485060952, Train Accuracy: 0.9066851851851851, Val Loss: 0.31678019260321455, Val Accuracy: 0.8838333333333334\n",
            "Epoch 7, Train Loss: 0.24248125342117588, Train Accuracy: 0.9101481481481482, Val Loss: 0.3141229777586504, Val Accuracy: 0.8856666666666667\n",
            "Epoch 8, Train Loss: 0.2333514724331145, Train Accuracy: 0.9137592592592593, Val Loss: 0.31247466545533004, Val Accuracy: 0.8858333333333334\n",
            "Epoch 9, Train Loss: 0.22524178453703605, Train Accuracy: 0.916074074074074, Val Loss: 0.31182579856884557, Val Accuracy: 0.8833333333333333\n",
            "Epoch 10, Train Loss: 0.21801130122234297, Train Accuracy: 0.9195185185185185, Val Loss: 0.3120986283102681, Val Accuracy: 0.8841666666666667\n"
          ]
        },
        {
          "output_type": "display_data",
          "data": {
            "text/plain": [
              "VBox(children=(Label(value='0.001 MB of 0.001 MB uploaded\\r'), FloatProgress(value=1.0, max=1.0)))"
            ],
            "application/vnd.jupyter.widget-view+json": {
              "version_major": 2,
              "version_minor": 0,
              "model_id": "2767cedac81b435c983ad4ac7a95880f"
            }
          },
          "metadata": {}
        },
        {
          "output_type": "display_data",
          "data": {
            "text/plain": [
              "<IPython.core.display.HTML object>"
            ],
            "text/html": [
              "<style>\n",
              "    table.wandb td:nth-child(1) { padding: 0 10px; text-align: left ; width: auto;} td:nth-child(2) {text-align: left ; width: 100%}\n",
              "    .wandb-row { display: flex; flex-direction: row; flex-wrap: wrap; justify-content: flex-start; width: 100% }\n",
              "    .wandb-col { display: flex; flex-direction: column; flex-basis: 100%; flex: 1; padding: 10px; }\n",
              "    </style>\n",
              "<div class=\"wandb-row\"><div class=\"wandb-col\"><h3>Run history:</h3><br/><table class=\"wandb\"><tr><td>epoch</td><td>▁▂▃▃▄▅▆▆▇█</td></tr><tr><td>train_accuracy</td><td>▁▃▄▅▅▆▇▇▇█</td></tr><tr><td>train_loss</td><td>█▆▅▄▄▃▂▂▁▁</td></tr><tr><td>val_accuracy</td><td>▁▄▆▇▇▇██▇▇</td></tr><tr><td>val_loss</td><td>█▅▄▃▂▂▁▁▁▁</td></tr></table><br/></div><div class=\"wandb-col\"><h3>Run summary:</h3><br/><table class=\"wandb\"><tr><td>epoch</td><td>10</td></tr><tr><td>train_accuracy</td><td>0.91952</td></tr><tr><td>train_loss</td><td>0.21801</td></tr><tr><td>val_accuracy</td><td>0.88417</td></tr><tr><td>val_loss</td><td>0.3121</td></tr></table><br/></div></div>"
            ]
          },
          "metadata": {}
        },
        {
          "output_type": "display_data",
          "data": {
            "text/plain": [
              "<IPython.core.display.HTML object>"
            ],
            "text/html": [
              " View run <strong style=\"color:#cdcd00\">northern-sweep-8</strong> at: <a href='https://wandb.ai/cs23m009/DL_Assignment_1/runs/g8uo0vqi' target=\"_blank\">https://wandb.ai/cs23m009/DL_Assignment_1/runs/g8uo0vqi</a><br/>Synced 5 W&B file(s), 0 media file(s), 0 artifact file(s) and 0 other file(s)"
            ]
          },
          "metadata": {}
        },
        {
          "output_type": "display_data",
          "data": {
            "text/plain": [
              "<IPython.core.display.HTML object>"
            ],
            "text/html": [
              "Find logs at: <code>./wandb/run-20240313_182434-g8uo0vqi/logs</code>"
            ]
          },
          "metadata": {}
        },
        {
          "output_type": "stream",
          "name": "stderr",
          "text": [
            "\u001b[34m\u001b[1mwandb\u001b[0m: Agent Starting Run: i840d5zq with config:\n",
            "\u001b[34m\u001b[1mwandb\u001b[0m: \tactivation: tanh\n",
            "\u001b[34m\u001b[1mwandb\u001b[0m: \tbatch_size: 32\n",
            "\u001b[34m\u001b[1mwandb\u001b[0m: \tepochs: 10\n",
            "\u001b[34m\u001b[1mwandb\u001b[0m: \thidden_layer_size: 128\n",
            "\u001b[34m\u001b[1mwandb\u001b[0m: \thidden_layers: 4\n",
            "\u001b[34m\u001b[1mwandb\u001b[0m: \tlearning_rate: 0.001\n",
            "\u001b[34m\u001b[1mwandb\u001b[0m: \toptimizer: nadam\n",
            "\u001b[34m\u001b[1mwandb\u001b[0m: \tweight_decay: 0.005\n",
            "\u001b[34m\u001b[1mwandb\u001b[0m: \tweight_init: Xavier\n"
          ]
        },
        {
          "output_type": "display_data",
          "data": {
            "text/plain": [
              "<IPython.core.display.HTML object>"
            ],
            "text/html": [
              "Tracking run with wandb version 0.16.4"
            ]
          },
          "metadata": {}
        },
        {
          "output_type": "display_data",
          "data": {
            "text/plain": [
              "<IPython.core.display.HTML object>"
            ],
            "text/html": [
              "Run data is saved locally in <code>/content/wandb/run-20240313_182737-i840d5zq</code>"
            ]
          },
          "metadata": {}
        },
        {
          "output_type": "display_data",
          "data": {
            "text/plain": [
              "<IPython.core.display.HTML object>"
            ],
            "text/html": [
              "Syncing run <strong><a href='https://wandb.ai/cs23m009/DL_Assignment_1/runs/i840d5zq' target=\"_blank\">trim-sweep-9</a></strong> to <a href='https://wandb.ai/cs23m009/DL_Assignment_1' target=\"_blank\">Weights & Biases</a> (<a href='https://wandb.me/run' target=\"_blank\">docs</a>)<br/>Sweep page: <a href='https://wandb.ai/cs23m009/DL_Assignment_1/sweeps/1n1jt35c' target=\"_blank\">https://wandb.ai/cs23m009/DL_Assignment_1/sweeps/1n1jt35c</a>"
            ]
          },
          "metadata": {}
        },
        {
          "output_type": "display_data",
          "data": {
            "text/plain": [
              "<IPython.core.display.HTML object>"
            ],
            "text/html": [
              " View project at <a href='https://wandb.ai/cs23m009/DL_Assignment_1' target=\"_blank\">https://wandb.ai/cs23m009/DL_Assignment_1</a>"
            ]
          },
          "metadata": {}
        },
        {
          "output_type": "display_data",
          "data": {
            "text/plain": [
              "<IPython.core.display.HTML object>"
            ],
            "text/html": [
              " View sweep at <a href='https://wandb.ai/cs23m009/DL_Assignment_1/sweeps/1n1jt35c' target=\"_blank\">https://wandb.ai/cs23m009/DL_Assignment_1/sweeps/1n1jt35c</a>"
            ]
          },
          "metadata": {}
        },
        {
          "output_type": "display_data",
          "data": {
            "text/plain": [
              "<IPython.core.display.HTML object>"
            ],
            "text/html": [
              " View run at <a href='https://wandb.ai/cs23m009/DL_Assignment_1/runs/i840d5zq' target=\"_blank\">https://wandb.ai/cs23m009/DL_Assignment_1/runs/i840d5zq</a>"
            ]
          },
          "metadata": {}
        },
        {
          "output_type": "stream",
          "name": "stdout",
          "text": [
            "Epoch 1, Train Loss: 0.35182197495232365, Train Accuracy: 0.8732407407407408, Val Loss: 0.3674077706303277, Val Accuracy: 0.8678333333333333\n",
            "Epoch 2, Train Loss: 0.31769820634454915, Train Accuracy: 0.8845925925925926, Val Loss: 0.34441558992364857, Val Accuracy: 0.8713333333333333\n",
            "Epoch 3, Train Loss: 0.2951026479291192, Train Accuracy: 0.8929074074074074, Val Loss: 0.3310277716255949, Val Accuracy: 0.8761666666666666\n",
            "Epoch 4, Train Loss: 0.2792468441357405, Train Accuracy: 0.8983888888888889, Val Loss: 0.3234116365498804, Val Accuracy: 0.879\n",
            "Epoch 5, Train Loss: 0.2667384864161168, Train Accuracy: 0.9028703703703703, Val Loss: 0.3184634484854522, Val Accuracy: 0.8816666666666667\n",
            "Epoch 6, Train Loss: 0.2562513429263629, Train Accuracy: 0.9067037037037037, Val Loss: 0.31479323883432236, Val Accuracy: 0.8845\n",
            "Epoch 7, Train Loss: 0.24706253538705036, Train Accuracy: 0.9100925925925926, Val Loss: 0.31189464043281867, Val Accuracy: 0.8846666666666667\n",
            "Epoch 8, Train Loss: 0.23881607283055276, Train Accuracy: 0.9129814814814815, Val Loss: 0.30958960985806616, Val Accuracy: 0.8875\n",
            "Epoch 9, Train Loss: 0.23127808500142563, Train Accuracy: 0.9152962962962963, Val Loss: 0.3077625886979053, Val Accuracy: 0.8883333333333333\n",
            "Epoch 10, Train Loss: 0.2242836132555762, Train Accuracy: 0.9178333333333333, Val Loss: 0.3063547683846195, Val Accuracy: 0.8898333333333334\n"
          ]
        },
        {
          "output_type": "display_data",
          "data": {
            "text/plain": [
              "VBox(children=(Label(value='0.001 MB of 0.001 MB uploaded\\r'), FloatProgress(value=1.0, max=1.0)))"
            ],
            "application/vnd.jupyter.widget-view+json": {
              "version_major": 2,
              "version_minor": 0,
              "model_id": "f694088ac9b94268a6c09b16465c6500"
            }
          },
          "metadata": {}
        },
        {
          "output_type": "display_data",
          "data": {
            "text/plain": [
              "<IPython.core.display.HTML object>"
            ],
            "text/html": [
              "<style>\n",
              "    table.wandb td:nth-child(1) { padding: 0 10px; text-align: left ; width: auto;} td:nth-child(2) {text-align: left ; width: 100%}\n",
              "    .wandb-row { display: flex; flex-direction: row; flex-wrap: wrap; justify-content: flex-start; width: 100% }\n",
              "    .wandb-col { display: flex; flex-direction: column; flex-basis: 100%; flex: 1; padding: 10px; }\n",
              "    </style>\n",
              "<div class=\"wandb-row\"><div class=\"wandb-col\"><h3>Run history:</h3><br/><table class=\"wandb\"><tr><td>epoch</td><td>▁▂▃▃▄▅▆▆▇█</td></tr><tr><td>train_accuracy</td><td>▁▃▄▅▆▆▇▇██</td></tr><tr><td>train_loss</td><td>█▆▅▄▃▃▂▂▁▁</td></tr><tr><td>val_accuracy</td><td>▁▂▄▅▅▆▆▇██</td></tr><tr><td>val_loss</td><td>█▅▄▃▂▂▂▁▁▁</td></tr></table><br/></div><div class=\"wandb-col\"><h3>Run summary:</h3><br/><table class=\"wandb\"><tr><td>epoch</td><td>10</td></tr><tr><td>train_accuracy</td><td>0.91783</td></tr><tr><td>train_loss</td><td>0.22428</td></tr><tr><td>val_accuracy</td><td>0.88983</td></tr><tr><td>val_loss</td><td>0.30635</td></tr></table><br/></div></div>"
            ]
          },
          "metadata": {}
        },
        {
          "output_type": "display_data",
          "data": {
            "text/plain": [
              "<IPython.core.display.HTML object>"
            ],
            "text/html": [
              " View run <strong style=\"color:#cdcd00\">trim-sweep-9</strong> at: <a href='https://wandb.ai/cs23m009/DL_Assignment_1/runs/i840d5zq' target=\"_blank\">https://wandb.ai/cs23m009/DL_Assignment_1/runs/i840d5zq</a><br/>Synced 5 W&B file(s), 0 media file(s), 0 artifact file(s) and 0 other file(s)"
            ]
          },
          "metadata": {}
        },
        {
          "output_type": "display_data",
          "data": {
            "text/plain": [
              "<IPython.core.display.HTML object>"
            ],
            "text/html": [
              "Find logs at: <code>./wandb/run-20240313_182737-i840d5zq/logs</code>"
            ]
          },
          "metadata": {}
        },
        {
          "output_type": "stream",
          "name": "stderr",
          "text": [
            "\u001b[34m\u001b[1mwandb\u001b[0m: Agent Starting Run: 91lxjdvc with config:\n",
            "\u001b[34m\u001b[1mwandb\u001b[0m: \tactivation: tanh\n",
            "\u001b[34m\u001b[1mwandb\u001b[0m: \tbatch_size: 16\n",
            "\u001b[34m\u001b[1mwandb\u001b[0m: \tepochs: 10\n",
            "\u001b[34m\u001b[1mwandb\u001b[0m: \thidden_layer_size: 128\n",
            "\u001b[34m\u001b[1mwandb\u001b[0m: \thidden_layers: 3\n",
            "\u001b[34m\u001b[1mwandb\u001b[0m: \tlearning_rate: 0.001\n",
            "\u001b[34m\u001b[1mwandb\u001b[0m: \toptimizer: adam\n",
            "\u001b[34m\u001b[1mwandb\u001b[0m: \tweight_decay: 0\n",
            "\u001b[34m\u001b[1mwandb\u001b[0m: \tweight_init: random\n"
          ]
        },
        {
          "output_type": "display_data",
          "data": {
            "text/plain": [
              "<IPython.core.display.HTML object>"
            ],
            "text/html": [
              "Tracking run with wandb version 0.16.4"
            ]
          },
          "metadata": {}
        },
        {
          "output_type": "display_data",
          "data": {
            "text/plain": [
              "<IPython.core.display.HTML object>"
            ],
            "text/html": [
              "Run data is saved locally in <code>/content/wandb/run-20240313_183037-91lxjdvc</code>"
            ]
          },
          "metadata": {}
        },
        {
          "output_type": "display_data",
          "data": {
            "text/plain": [
              "<IPython.core.display.HTML object>"
            ],
            "text/html": [
              "Syncing run <strong><a href='https://wandb.ai/cs23m009/DL_Assignment_1/runs/91lxjdvc' target=\"_blank\">classic-sweep-10</a></strong> to <a href='https://wandb.ai/cs23m009/DL_Assignment_1' target=\"_blank\">Weights & Biases</a> (<a href='https://wandb.me/run' target=\"_blank\">docs</a>)<br/>Sweep page: <a href='https://wandb.ai/cs23m009/DL_Assignment_1/sweeps/1n1jt35c' target=\"_blank\">https://wandb.ai/cs23m009/DL_Assignment_1/sweeps/1n1jt35c</a>"
            ]
          },
          "metadata": {}
        },
        {
          "output_type": "display_data",
          "data": {
            "text/plain": [
              "<IPython.core.display.HTML object>"
            ],
            "text/html": [
              " View project at <a href='https://wandb.ai/cs23m009/DL_Assignment_1' target=\"_blank\">https://wandb.ai/cs23m009/DL_Assignment_1</a>"
            ]
          },
          "metadata": {}
        },
        {
          "output_type": "display_data",
          "data": {
            "text/plain": [
              "<IPython.core.display.HTML object>"
            ],
            "text/html": [
              " View sweep at <a href='https://wandb.ai/cs23m009/DL_Assignment_1/sweeps/1n1jt35c' target=\"_blank\">https://wandb.ai/cs23m009/DL_Assignment_1/sweeps/1n1jt35c</a>"
            ]
          },
          "metadata": {}
        },
        {
          "output_type": "display_data",
          "data": {
            "text/plain": [
              "<IPython.core.display.HTML object>"
            ],
            "text/html": [
              " View run at <a href='https://wandb.ai/cs23m009/DL_Assignment_1/runs/91lxjdvc' target=\"_blank\">https://wandb.ai/cs23m009/DL_Assignment_1/runs/91lxjdvc</a>"
            ]
          },
          "metadata": {}
        },
        {
          "output_type": "stream",
          "name": "stdout",
          "text": [
            "Epoch 1, Train Loss: 2.5111541393844905, Train Accuracy: 0.5938333333333333, Val Loss: 2.5977133970588007, Val Accuracy: 0.5838333333333333\n",
            "Epoch 2, Train Loss: 1.8323498725767486, Train Accuracy: 0.6381111111111111, Val Loss: 1.8702929764884544, Val Accuracy: 0.6248333333333334\n",
            "Epoch 3, Train Loss: 1.4637001867729602, Train Accuracy: 0.6529444444444444, Val Loss: 1.5606435605216917, Val Accuracy: 0.6386666666666667\n",
            "Epoch 4, Train Loss: 1.2289078668081128, Train Accuracy: 0.6727777777777778, Val Loss: 1.3048553755069368, Val Accuracy: 0.6561666666666667\n",
            "Epoch 5, Train Loss: 1.0747716200554973, Train Accuracy: 0.6870185185185185, Val Loss: 1.1946758874445222, Val Accuracy: 0.6633333333333333\n",
            "Epoch 6, Train Loss: 0.9739311388845335, Train Accuracy: 0.7056851851851852, Val Loss: 1.1023490644407874, Val Accuracy: 0.6736666666666666\n",
            "Epoch 7, Train Loss: 0.8858698975546414, Train Accuracy: 0.719037037037037, Val Loss: 1.0264648287153955, Val Accuracy: 0.6878333333333333\n",
            "Epoch 8, Train Loss: 0.8402773414738858, Train Accuracy: 0.7290925925925926, Val Loss: 0.9705349810361601, Val Accuracy: 0.6965\n",
            "Epoch 9, Train Loss: 0.7744407381745637, Train Accuracy: 0.7413888888888889, Val Loss: 0.9210729103991002, Val Accuracy: 0.7041666666666667\n",
            "Epoch 10, Train Loss: 0.7322804609139613, Train Accuracy: 0.7498888888888889, Val Loss: 0.8995065921315275, Val Accuracy: 0.7101666666666666\n"
          ]
        },
        {
          "output_type": "display_data",
          "data": {
            "text/plain": [
              "VBox(children=(Label(value='0.001 MB of 0.001 MB uploaded\\r'), FloatProgress(value=1.0, max=1.0)))"
            ],
            "application/vnd.jupyter.widget-view+json": {
              "version_major": 2,
              "version_minor": 0,
              "model_id": "5eef24d7759b48ac95d842ba603ae351"
            }
          },
          "metadata": {}
        },
        {
          "output_type": "display_data",
          "data": {
            "text/plain": [
              "<IPython.core.display.HTML object>"
            ],
            "text/html": [
              "<style>\n",
              "    table.wandb td:nth-child(1) { padding: 0 10px; text-align: left ; width: auto;} td:nth-child(2) {text-align: left ; width: 100%}\n",
              "    .wandb-row { display: flex; flex-direction: row; flex-wrap: wrap; justify-content: flex-start; width: 100% }\n",
              "    .wandb-col { display: flex; flex-direction: column; flex-basis: 100%; flex: 1; padding: 10px; }\n",
              "    </style>\n",
              "<div class=\"wandb-row\"><div class=\"wandb-col\"><h3>Run history:</h3><br/><table class=\"wandb\"><tr><td>epoch</td><td>▁▂▃▃▄▅▆▆▇█</td></tr><tr><td>train_accuracy</td><td>▁▃▄▅▅▆▇▇██</td></tr><tr><td>train_loss</td><td>█▅▄▃▂▂▂▁▁▁</td></tr><tr><td>val_accuracy</td><td>▁▃▄▅▅▆▇▇██</td></tr><tr><td>val_loss</td><td>█▅▄▃▂▂▂▁▁▁</td></tr></table><br/></div><div class=\"wandb-col\"><h3>Run summary:</h3><br/><table class=\"wandb\"><tr><td>epoch</td><td>10</td></tr><tr><td>train_accuracy</td><td>0.74989</td></tr><tr><td>train_loss</td><td>0.73228</td></tr><tr><td>val_accuracy</td><td>0.71017</td></tr><tr><td>val_loss</td><td>0.89951</td></tr></table><br/></div></div>"
            ]
          },
          "metadata": {}
        },
        {
          "output_type": "display_data",
          "data": {
            "text/plain": [
              "<IPython.core.display.HTML object>"
            ],
            "text/html": [
              " View run <strong style=\"color:#cdcd00\">classic-sweep-10</strong> at: <a href='https://wandb.ai/cs23m009/DL_Assignment_1/runs/91lxjdvc' target=\"_blank\">https://wandb.ai/cs23m009/DL_Assignment_1/runs/91lxjdvc</a><br/>Synced 5 W&B file(s), 0 media file(s), 0 artifact file(s) and 0 other file(s)"
            ]
          },
          "metadata": {}
        },
        {
          "output_type": "display_data",
          "data": {
            "text/plain": [
              "<IPython.core.display.HTML object>"
            ],
            "text/html": [
              "Find logs at: <code>./wandb/run-20240313_183037-91lxjdvc/logs</code>"
            ]
          },
          "metadata": {}
        }
      ]
    },
    {
      "cell_type": "code",
      "source": [
        "def train():\n",
        "  input_neurons = X_train.shape[1]\n",
        "  hidden_neurons = wandb.config[\"hidden_layer_size\"] #[16]\n",
        "  num_layers = wandb.config[\"hidden_layers\"] #3\n",
        "  hidden_layer = [hidden_neurons] * num_layers\n",
        "  output_neurons = 10\n",
        "  layers = [input_neurons] + hidden_layer + [output_neurons]\n",
        "  #print(layers)\n",
        "  y_train_onehot = np.eye(10)[y_train]\n",
        "  y_val_onehot = np.eye(10)[y_val]\n",
        "  loss_function = \"cross_entropy\"\n",
        "  activation = wandb.config[\"activation\"] #\"sigmoid\"\n",
        "  weight_init = wandb.config[\"weight_init\"] #\"random\"\n",
        "\n",
        "  params = initializeParam(layers, activation, weight_init)\n",
        "  eta = wandb.config[\"learning_rate\"] #1e-3\n",
        "  max_epochs = wandb.config[\"epochs\"] #10\n",
        "  momentum = 0.5\n",
        "  beta = 0.9\n",
        "  beta1 = 0.9\n",
        "  beta2 = 0.999\n",
        "  eps = 0.000001\n",
        "  batch_size= wandb.config[\"batch_size\"] #32\n",
        "  optimizer = wandb.config[\"optimizer\"] #\"sgd\"\n",
        "  decay = wandb.config[\"weight_decay\"]\n",
        "  final_res = []\n",
        "  history = {}\n",
        "  moment = {}\n",
        "\n",
        "  for epoch in range(max_epochs):\n",
        "    for i in range(0, X_train.shape[0], batch_size):\n",
        "      X_batch = X_train[i : i + batch_size]\n",
        "      y_batch = y_train_onehot[i : i + batch_size]\n",
        "\n",
        "      output, func = forward_prop(X_batch, layers, params, activation)\n",
        "      if(optimizer == \"nesterov\"):\n",
        "        lookahead(params, history, momentum)\n",
        "      gradients = back_prop(func, params, y_batch, output, len(hidden_layer), loss_function, activation)\n",
        "      match optimizer:\n",
        "        case \"sgd\":\n",
        "          sgd(params, gradients, eta, len(hidden_layer)+2, decay)\n",
        "        case \"momentum\":\n",
        "          mgd(params, gradients, history, max_epochs, momentum, eta, len(hidden_layer)+2, decay)\n",
        "        case \"nesterov\":\n",
        "          nag(params, gradients, history, max_epochs, momentum, eta, len(hidden_layer)+2, decay)\n",
        "        case \"rmsprop\":\n",
        "          rmsprop(params, gradients, history, max_epochs, beta, eta, eps, len(hidden_layer)+2, decay)\n",
        "        case \"adam\":\n",
        "          adam(params, gradients, history, moment, max_epochs, beta1, beta2, eta, eps, len(hidden_layer)+2, epoch+1, decay)\n",
        "        case \"nadam\":\n",
        "          nadam(params, gradients, history, moment, max_epochs, beta1, beta2, eta, eps, len(hidden_layer)+2, epoch+1, decay)\n",
        "        case default:\n",
        "          sgd(params, gradients, eta, len(hidden_layer)+2, decay)\n",
        "\n",
        "    y_predict, func = forward_prop(X_train, layers, params, activation)\n",
        "    train_loss = compute_loss(y_train_onehot, y_predict.T, loss_function)\n",
        "    train_accuracy = get_accuracy(get_prediction(y_predict), y_train)\n",
        "\n",
        "    y_val_predict, _ = forward_prop(X_val, layers, params, activation)\n",
        "    val_loss = compute_loss(y_val_onehot, y_val_predict.T, loss_function)\n",
        "    val_accuracy = get_accuracy(get_prediction(y_val_predict), y_val)\n",
        "\n",
        "    #final_res = get_prediction(y_predict)\n",
        "    print(f'Epoch {epoch+1}, Train Loss: {train_loss}, Train Accuracy: {train_accuracy}, Val Loss: {val_loss}, Val Accuracy: {val_accuracy}')\n",
        "    wandb.log({'train_loss': train_loss, 'train_accuracy': train_accuracy, 'val_loss' : val_loss, 'val_accuracy' : val_accuracy, 'epoch': epoch+1})"
      ],
      "metadata": {
        "id": "canGjBNbz4hM"
      },
      "execution_count": 59,
      "outputs": []
    },
    {
      "cell_type": "code",
      "source": [
        "def confusion_matrix(X_test, y_test, hidden_layer_size, hidden_layers, loss_func, activation_func, wt_init, learning_rate, epochs, batch, opt_func, wt_decay):\n",
        "  wandb.init(project = 'DL_Assignment_1', entity = 'cs23m009')\n",
        "  input_neurons = X_test.shape[1]\n",
        "  hidden_neurons = hidden_layer_size\n",
        "  num_layers = hidden_layers\n",
        "  hidden_layer = [hidden_neurons] * num_layers\n",
        "  output_neurons = 10\n",
        "  layers = [input_neurons] + hidden_layer + [output_neurons]\n",
        "  y_test_onehot = np.eye(10)[y_test]\n",
        "  loss_function = loss_func\n",
        "  activation = activation_func\n",
        "  weight_init = wt_init\n",
        "\n",
        "\n",
        "  params = initializeParam(layers, activation, weight_init)\n",
        "  eta = learning_rate\n",
        "  max_epochs = epochs\n",
        "  momentum = 0.5\n",
        "  beta = 0.9\n",
        "  beta1 = 0.9\n",
        "  beta2 = 0.999\n",
        "  eps = 0.000001\n",
        "  batch_size= batch\n",
        "  optimizer = opt_func\n",
        "  decay = wt_decay\n",
        "  final_res = []\n",
        "  history = {}\n",
        "  moment = {}\n",
        "  print(layers)\n",
        "\n",
        "  for epoch in range(epochs):\n",
        "    for i in range(0, X_train.shape[0], batch_size):\n",
        "      X_batch = X_test[i : i + batch_size]\n",
        "      y_batch = y_test_onehot[i : i + batch_size]\n",
        "\n",
        "      output, func = forward_prop(X_batch, layers, params, activation)\n",
        "      if(optimizer == \"nesterov\"):\n",
        "        lookahead(params, history, momentum)\n",
        "      gradients = back_prop(func, params, y_batch, output, len(hidden_layer), loss_function, activation)\n",
        "      match optimizer:\n",
        "        case \"sgd\":\n",
        "          sgd(params, gradients, eta, len(hidden_layer)+2, decay)\n",
        "        case \"momentum\":\n",
        "          mgd(params, gradients, history, max_epochs, momentum, eta, len(hidden_layer)+2, decay)\n",
        "        case \"nesterov\":\n",
        "          nag(params, gradients, history, max_epochs, momentum, eta, len(hidden_layer)+2, decay)\n",
        "        case \"rmsprop\":\n",
        "          rmsprop(params, gradients, history, max_epochs, beta, eta, eps, len(hidden_layer)+2, decay)\n",
        "        case \"adam\":\n",
        "          adam(params, gradients, history, moment, max_epochs, beta1, beta2, eta, eps, len(hidden_layer)+2, epoch+1, decay)\n",
        "        case \"nadam\":\n",
        "          nadam(params, gradients, history, moment, max_epochs, beta1, beta2, eta, eps, len(hidden_layer)+2, epoch+1, decay)\n",
        "        case default:\n",
        "          sgd(params, gradients, eta, len(hidden_layer)+2, decay)\n",
        "\n",
        "  y_predict, func = forward_prop(X_test, layers, params, activation)\n",
        "  test_loss = compute_loss(y_test_onehot, y_predict.T, loss_function)\n",
        "  test_accuracy = get_accuracy(get_prediction(y_predict), y_test)\n",
        "  cal_confusion(get_prediction(y_predict), y_test)\n",
        "  wandb.log({\"Confusion Matrix \" : wandb.sklearn.plot_confusion_matrix(y_test, get_prediction(y_predict), class_labels)})\n",
        "  print(test_accuracy, test_loss)\n",
        "  wandb.finish()"
      ],
      "metadata": {
        "id": "JnSx49re0I-9"
      },
      "execution_count": 32,
      "outputs": []
    },
    {
      "cell_type": "code",
      "source": [
        "confusion_matrix(X_test, y_test, 128, 3, \"cross_entropy\", \"tanh\", \"Xavier\", 0.001, 10, 64, \"nadam\", 0)"
      ],
      "metadata": {
        "colab": {
          "base_uri": "https://localhost:8080/",
          "height": 451,
          "referenced_widgets": [
            "dc962feaca054611a680c9753940ee24",
            "8e1dff1ae9284cebb2fb513124eca7bb",
            "5ff8e64750a1479e9617e040e1eff240",
            "1aa55aa79d65415e9c29169339d539ba",
            "874225dc9d6b46ddb1ab56cc5401d71a",
            "e8a244c082eb46899cf01f332b33dfa1",
            "846cbbe3208e404fb5d51d673f42a10f",
            "f4d68fee96784cc8bae7b52ac3204a87",
            "ee614167189c46c9ab13cb6c403a9ddd",
            "b433eaeb63d64b939558169c8ba8932c",
            "d722cb1e88014dccb0d00cf4e6d54260",
            "f3fa40a45193485aa0017e27cb744c43",
            "fee8f07453f9443292bf8c5fe905c7be",
            "7ac9385be1664e888be3763570cebdf5",
            "17b44b0e798c44a192faf2d256df428c",
            "b79aa14e3d5d4b1c8bef46d3de97ca89"
          ]
        },
        "id": "DCl43p1_dqBp",
        "outputId": "ab3bb7f2-4bde-455b-afa3-5b150c6bc8ba"
      },
      "execution_count": 33,
      "outputs": [
        {
          "output_type": "display_data",
          "data": {
            "text/plain": [
              "<IPython.core.display.HTML object>"
            ],
            "text/html": [
              "Finishing last run (ID:3125q43b) before initializing another..."
            ]
          },
          "metadata": {}
        },
        {
          "output_type": "display_data",
          "data": {
            "text/plain": [
              "VBox(children=(Label(value='0.001 MB of 0.010 MB uploaded\\r'), FloatProgress(value=0.10051862329090051, max=1.…"
            ],
            "application/vnd.jupyter.widget-view+json": {
              "version_major": 2,
              "version_minor": 0,
              "model_id": "dc962feaca054611a680c9753940ee24"
            }
          },
          "metadata": {}
        },
        {
          "output_type": "display_data",
          "data": {
            "text/plain": [
              "<IPython.core.display.HTML object>"
            ],
            "text/html": [
              " View run <strong style=\"color:#cdcd00\">celestial-morning-529</strong> at: <a href='https://wandb.ai/cs23m009/DL_Assignment_1/runs/3125q43b' target=\"_blank\">https://wandb.ai/cs23m009/DL_Assignment_1/runs/3125q43b</a><br/>Synced 5 W&B file(s), 0 media file(s), 0 artifact file(s) and 0 other file(s)"
            ]
          },
          "metadata": {}
        },
        {
          "output_type": "display_data",
          "data": {
            "text/plain": [
              "<IPython.core.display.HTML object>"
            ],
            "text/html": [
              "Find logs at: <code>./wandb/run-20240313_165029-3125q43b/logs</code>"
            ]
          },
          "metadata": {}
        },
        {
          "output_type": "display_data",
          "data": {
            "text/plain": [
              "<IPython.core.display.HTML object>"
            ],
            "text/html": [
              "Successfully finished last run (ID:3125q43b). Initializing new run:<br/>"
            ]
          },
          "metadata": {}
        },
        {
          "output_type": "display_data",
          "data": {
            "text/plain": [
              "<IPython.core.display.HTML object>"
            ],
            "text/html": [
              "Tracking run with wandb version 0.16.4"
            ]
          },
          "metadata": {}
        },
        {
          "output_type": "display_data",
          "data": {
            "text/plain": [
              "<IPython.core.display.HTML object>"
            ],
            "text/html": [
              "Run data is saved locally in <code>/content/wandb/run-20240313_165246-8dby8ev9</code>"
            ]
          },
          "metadata": {}
        },
        {
          "output_type": "display_data",
          "data": {
            "text/plain": [
              "<IPython.core.display.HTML object>"
            ],
            "text/html": [
              "Syncing run <strong><a href='https://wandb.ai/cs23m009/DL_Assignment_1/runs/8dby8ev9' target=\"_blank\">glamorous-gorge-530</a></strong> to <a href='https://wandb.ai/cs23m009/DL_Assignment_1' target=\"_blank\">Weights & Biases</a> (<a href='https://wandb.me/run' target=\"_blank\">docs</a>)<br/>"
            ]
          },
          "metadata": {}
        },
        {
          "output_type": "display_data",
          "data": {
            "text/plain": [
              "<IPython.core.display.HTML object>"
            ],
            "text/html": [
              " View project at <a href='https://wandb.ai/cs23m009/DL_Assignment_1' target=\"_blank\">https://wandb.ai/cs23m009/DL_Assignment_1</a>"
            ]
          },
          "metadata": {}
        },
        {
          "output_type": "display_data",
          "data": {
            "text/plain": [
              "<IPython.core.display.HTML object>"
            ],
            "text/html": [
              " View run at <a href='https://wandb.ai/cs23m009/DL_Assignment_1/runs/8dby8ev9' target=\"_blank\">https://wandb.ai/cs23m009/DL_Assignment_1/runs/8dby8ev9</a>"
            ]
          },
          "metadata": {}
        },
        {
          "output_type": "stream",
          "name": "stdout",
          "text": [
            "[784, 128, 128, 128, 10]\n",
            "[[838.   2.  10.  34.   0.   0.  79.   0.   2.   0.]\n",
            " [  1. 981.   2.   8.   1.   0.   1.   0.   1.   0.]\n",
            " [  6.   0. 644.  10.  21.   0.  51.   0.   0.   0.]\n",
            " [  7.  12.   4. 814.   2.   0.   9.   0.   0.   0.]\n",
            " [  7.   4. 302.  84. 961.   0. 207.   0.   5.   0.]\n",
            " [  0.   0.   0.   1.   0. 994.   0.  39.   0.   5.]\n",
            " [131.   1.  33.  47.  14.   0. 641.   0.   0.   0.]\n",
            " [  0.   0.   0.   0.   0.   5.   0. 935.   1.  27.]\n",
            " [ 10.   0.   5.   2.   1.   1.  12.   5. 991.   1.]\n",
            " [  0.   0.   0.   0.   0.   0.   0.  21.   0. 967.]]\n",
            "0.8766 0.32944547957156234\n"
          ]
        },
        {
          "output_type": "display_data",
          "data": {
            "text/plain": [
              "VBox(children=(Label(value='0.004 MB of 0.007 MB uploaded\\r'), FloatProgress(value=0.6126870990734141, max=1.0…"
            ],
            "application/vnd.jupyter.widget-view+json": {
              "version_major": 2,
              "version_minor": 0,
              "model_id": "ee614167189c46c9ab13cb6c403a9ddd"
            }
          },
          "metadata": {}
        },
        {
          "output_type": "display_data",
          "data": {
            "text/plain": [
              "<IPython.core.display.HTML object>"
            ],
            "text/html": [
              " View run <strong style=\"color:#cdcd00\">glamorous-gorge-530</strong> at: <a href='https://wandb.ai/cs23m009/DL_Assignment_1/runs/8dby8ev9' target=\"_blank\">https://wandb.ai/cs23m009/DL_Assignment_1/runs/8dby8ev9</a><br/>Synced 5 W&B file(s), 1 media file(s), 1 artifact file(s) and 0 other file(s)"
            ]
          },
          "metadata": {}
        },
        {
          "output_type": "display_data",
          "data": {
            "text/plain": [
              "<IPython.core.display.HTML object>"
            ],
            "text/html": [
              "Find logs at: <code>./wandb/run-20240313_165246-8dby8ev9/logs</code>"
            ]
          },
          "metadata": {}
        }
      ]
    },
    {
      "cell_type": "code",
      "source": [],
      "metadata": {
        "id": "hkPgaIh1kb5G"
      },
      "execution_count": 94,
      "outputs": []
    },
    {
      "cell_type": "code",
      "source": [
        "confusion_matrix(X_test, y_test, 128, 5, \"cross_entropy\", \"tanh\", \"Xavier\", 0.001, 10, 64, \"nadam\", 0)"
      ],
      "metadata": {
        "colab": {
          "base_uri": "https://localhost:8080/"
        },
        "id": "UWS_8dOorX-7",
        "outputId": "d4555005-9324-40ee-f6c3-1e2b43e78654"
      },
      "execution_count": 89,
      "outputs": [
        {
          "output_type": "stream",
          "name": "stdout",
          "text": [
            "[784, 128, 128, 128, 128, 128, 10]\n",
            "[[688.   2.   6.  10.   0.   0.  44.   0.   0.   0.]\n",
            " [  0. 979.   2.   6.   1.   0.   3.   0.   0.   0.]\n",
            " [  9.   0. 590.   1.  10.   0.  39.   0.   1.   0.]\n",
            " [  8.  15.   6. 857.   4.   0.   6.   0.   1.   0.]\n",
            " [  3.   3. 328.  68. 969.   0. 183.   0.   4.   0.]\n",
            " [  0.   0.   0.   0.   0. 997.   0.  36.   0.   3.]\n",
            " [283.   1.  65.  55.  16.   0. 717.   0.   1.   0.]\n",
            " [  0.   0.   0.   0.   0.   1.   0. 945.   1.  30.]\n",
            " [  9.   0.   3.   3.   0.   0.   8.   3. 992.   1.]\n",
            " [  0.   0.   0.   0.   0.   2.   0.  16.   0. 966.]]\n",
            "0.87 0.3321365156611811\n"
          ]
        }
      ]
    },
    {
      "cell_type": "code",
      "source": [],
      "metadata": {
        "id": "H-dl2iThrYeL"
      },
      "execution_count": null,
      "outputs": []
    }
  ]
}